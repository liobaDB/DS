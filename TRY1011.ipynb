{
  "nbformat": 4,
  "nbformat_minor": 0,
  "metadata": {
    "colab": {
      "provenance": [],
      "mount_file_id": "1lPs2klhq-fl-uzeFJpwwZuWRHErJygme",
      "authorship_tag": "ABX9TyMdnqe/8QwA3ghJvACiwco9",
      "include_colab_link": true
    },
    "kernelspec": {
      "name": "python3",
      "display_name": "Python 3"
    },
    "language_info": {
      "name": "python"
    }
  },
  "cells": [
    {
      "cell_type": "markdown",
      "metadata": {
        "id": "view-in-github",
        "colab_type": "text"
      },
      "source": [
        "<a href=\"https://colab.research.google.com/github/liobaDB/DS/blob/main/TRY1011.ipynb\" target=\"_parent\"><img src=\"https://colab.research.google.com/assets/colab-badge.svg\" alt=\"Open In Colab\"/></a>"
      ]
    },
    {
      "cell_type": "code",
      "execution_count": null,
      "metadata": {
        "colab": {
          "base_uri": "https://localhost:8080/",
          "height": 237
        },
        "id": "FBBvS_-XTJV6",
        "outputId": "3b7fee8a-d3f6-45fe-ff9f-808612dba496"
      },
      "outputs": [
        {
          "output_type": "execute_result",
          "data": {
            "text/plain": [
              "               Open     High      Low    Close  Adj Close  Volume\n",
              "Date                                                             \n",
              "2012-10-10  1.82573  1.82590  1.81061  1.82573    1.82573       0\n",
              "2012-10-11  1.81880  1.81917  1.80800  1.81868    1.81868       0\n",
              "2012-10-12  1.80648  1.80993  1.80100  1.80650    1.80650       0\n",
              "2012-10-15  1.80977  1.81290  1.80706  1.81079    1.81079       0\n",
              "2012-10-16  1.81035  1.81120  1.80430  1.80969    1.80969       0"
            ],
            "text/html": [
              "\n",
              "  <div id=\"df-c8f65c9c-5c07-483e-ab8e-c21595735545\">\n",
              "    <div class=\"colab-df-container\">\n",
              "      <div>\n",
              "<style scoped>\n",
              "    .dataframe tbody tr th:only-of-type {\n",
              "        vertical-align: middle;\n",
              "    }\n",
              "\n",
              "    .dataframe tbody tr th {\n",
              "        vertical-align: top;\n",
              "    }\n",
              "\n",
              "    .dataframe thead th {\n",
              "        text-align: right;\n",
              "    }\n",
              "</style>\n",
              "<table border=\"1\" class=\"dataframe\">\n",
              "  <thead>\n",
              "    <tr style=\"text-align: right;\">\n",
              "      <th></th>\n",
              "      <th>Open</th>\n",
              "      <th>High</th>\n",
              "      <th>Low</th>\n",
              "      <th>Close</th>\n",
              "      <th>Adj Close</th>\n",
              "      <th>Volume</th>\n",
              "    </tr>\n",
              "    <tr>\n",
              "      <th>Date</th>\n",
              "      <th></th>\n",
              "      <th></th>\n",
              "      <th></th>\n",
              "      <th></th>\n",
              "      <th></th>\n",
              "      <th></th>\n",
              "    </tr>\n",
              "  </thead>\n",
              "  <tbody>\n",
              "    <tr>\n",
              "      <th>2012-10-10</th>\n",
              "      <td>1.82573</td>\n",
              "      <td>1.82590</td>\n",
              "      <td>1.81061</td>\n",
              "      <td>1.82573</td>\n",
              "      <td>1.82573</td>\n",
              "      <td>0</td>\n",
              "    </tr>\n",
              "    <tr>\n",
              "      <th>2012-10-11</th>\n",
              "      <td>1.81880</td>\n",
              "      <td>1.81917</td>\n",
              "      <td>1.80800</td>\n",
              "      <td>1.81868</td>\n",
              "      <td>1.81868</td>\n",
              "      <td>0</td>\n",
              "    </tr>\n",
              "    <tr>\n",
              "      <th>2012-10-12</th>\n",
              "      <td>1.80648</td>\n",
              "      <td>1.80993</td>\n",
              "      <td>1.80100</td>\n",
              "      <td>1.80650</td>\n",
              "      <td>1.80650</td>\n",
              "      <td>0</td>\n",
              "    </tr>\n",
              "    <tr>\n",
              "      <th>2012-10-15</th>\n",
              "      <td>1.80977</td>\n",
              "      <td>1.81290</td>\n",
              "      <td>1.80706</td>\n",
              "      <td>1.81079</td>\n",
              "      <td>1.81079</td>\n",
              "      <td>0</td>\n",
              "    </tr>\n",
              "    <tr>\n",
              "      <th>2012-10-16</th>\n",
              "      <td>1.81035</td>\n",
              "      <td>1.81120</td>\n",
              "      <td>1.80430</td>\n",
              "      <td>1.80969</td>\n",
              "      <td>1.80969</td>\n",
              "      <td>0</td>\n",
              "    </tr>\n",
              "  </tbody>\n",
              "</table>\n",
              "</div>\n",
              "      <button class=\"colab-df-convert\" onclick=\"convertToInteractive('df-c8f65c9c-5c07-483e-ab8e-c21595735545')\"\n",
              "              title=\"Convert this dataframe to an interactive table.\"\n",
              "              style=\"display:none;\">\n",
              "        \n",
              "  <svg xmlns=\"http://www.w3.org/2000/svg\" height=\"24px\"viewBox=\"0 0 24 24\"\n",
              "       width=\"24px\">\n",
              "    <path d=\"M0 0h24v24H0V0z\" fill=\"none\"/>\n",
              "    <path d=\"M18.56 5.44l.94 2.06.94-2.06 2.06-.94-2.06-.94-.94-2.06-.94 2.06-2.06.94zm-11 1L8.5 8.5l.94-2.06 2.06-.94-2.06-.94L8.5 2.5l-.94 2.06-2.06.94zm10 10l.94 2.06.94-2.06 2.06-.94-2.06-.94-.94-2.06-.94 2.06-2.06.94z\"/><path d=\"M17.41 7.96l-1.37-1.37c-.4-.4-.92-.59-1.43-.59-.52 0-1.04.2-1.43.59L10.3 9.45l-7.72 7.72c-.78.78-.78 2.05 0 2.83L4 21.41c.39.39.9.59 1.41.59.51 0 1.02-.2 1.41-.59l7.78-7.78 2.81-2.81c.8-.78.8-2.07 0-2.86zM5.41 20L4 18.59l7.72-7.72 1.47 1.35L5.41 20z\"/>\n",
              "  </svg>\n",
              "      </button>\n",
              "      \n",
              "  <style>\n",
              "    .colab-df-container {\n",
              "      display:flex;\n",
              "      flex-wrap:wrap;\n",
              "      gap: 12px;\n",
              "    }\n",
              "\n",
              "    .colab-df-convert {\n",
              "      background-color: #E8F0FE;\n",
              "      border: none;\n",
              "      border-radius: 50%;\n",
              "      cursor: pointer;\n",
              "      display: none;\n",
              "      fill: #1967D2;\n",
              "      height: 32px;\n",
              "      padding: 0 0 0 0;\n",
              "      width: 32px;\n",
              "    }\n",
              "\n",
              "    .colab-df-convert:hover {\n",
              "      background-color: #E2EBFA;\n",
              "      box-shadow: 0px 1px 2px rgba(60, 64, 67, 0.3), 0px 1px 3px 1px rgba(60, 64, 67, 0.15);\n",
              "      fill: #174EA6;\n",
              "    }\n",
              "\n",
              "    [theme=dark] .colab-df-convert {\n",
              "      background-color: #3B4455;\n",
              "      fill: #D2E3FC;\n",
              "    }\n",
              "\n",
              "    [theme=dark] .colab-df-convert:hover {\n",
              "      background-color: #434B5C;\n",
              "      box-shadow: 0px 1px 3px 1px rgba(0, 0, 0, 0.15);\n",
              "      filter: drop-shadow(0px 1px 2px rgba(0, 0, 0, 0.3));\n",
              "      fill: #FFFFFF;\n",
              "    }\n",
              "  </style>\n",
              "\n",
              "      <script>\n",
              "        const buttonEl =\n",
              "          document.querySelector('#df-c8f65c9c-5c07-483e-ab8e-c21595735545 button.colab-df-convert');\n",
              "        buttonEl.style.display =\n",
              "          google.colab.kernel.accessAllowed ? 'block' : 'none';\n",
              "\n",
              "        async function convertToInteractive(key) {\n",
              "          const element = document.querySelector('#df-c8f65c9c-5c07-483e-ab8e-c21595735545');\n",
              "          const dataTable =\n",
              "            await google.colab.kernel.invokeFunction('convertToInteractive',\n",
              "                                                     [key], {});\n",
              "          if (!dataTable) return;\n",
              "\n",
              "          const docLinkHtml = 'Like what you see? Visit the ' +\n",
              "            '<a target=\"_blank\" href=https://colab.research.google.com/notebooks/data_table.ipynb>data table notebook</a>'\n",
              "            + ' to learn more about interactive tables.';\n",
              "          element.innerHTML = '';\n",
              "          dataTable['output_type'] = 'display_data';\n",
              "          await google.colab.output.renderOutput(dataTable, element);\n",
              "          const docLink = document.createElement('div');\n",
              "          docLink.innerHTML = docLinkHtml;\n",
              "          element.appendChild(docLink);\n",
              "        }\n",
              "      </script>\n",
              "    </div>\n",
              "  </div>\n",
              "  "
            ]
          },
          "metadata": {},
          "execution_count": 44
        }
      ],
      "source": [
        "#import numpy as np  # useful for many scientific computing in Python\n",
        "##import pandas as pd # primary data structure library\n",
        "##from google.colab import files\n",
        "#files.download('bitcoins.xlsx')\n",
        "\n",
        "import pandas as pd\n",
        "\n",
        "df = pd.read_csv(\"/content/drive/MyDrive/Colab Notebooks/TRY2012.csv\", \n",
        "                 parse_dates=[\"Date\"], \n",
        "                 index_col=[\"Date\"]) # parse the date column (tell pandas column 1 is a datetime)\n",
        "#path = \"/content/drive/MyDrive/Colab Notebooks/BTCfrom2015.csv\"\n",
        "#df = pd.read_csv(path)\n",
        "\n",
        "df.head()"
      ]
    },
    {
      "cell_type": "code",
      "source": [
        "df.info()"
      ],
      "metadata": {
        "colab": {
          "base_uri": "https://localhost:8080/"
        },
        "id": "I2EZ5_LFThiS",
        "outputId": "dfc83330-87c1-4f63-e905-d98562c1361d"
      },
      "execution_count": null,
      "outputs": [
        {
          "output_type": "stream",
          "name": "stdout",
          "text": [
            "<class 'pandas.core.frame.DataFrame'>\n",
            "DatetimeIndex: 2605 entries, 2012-10-10 to 2022-10-10\n",
            "Data columns (total 6 columns):\n",
            " #   Column     Non-Null Count  Dtype  \n",
            "---  ------     --------------  -----  \n",
            " 0   Open       2605 non-null   float64\n",
            " 1   High       2605 non-null   float64\n",
            " 2   Low        2605 non-null   float64\n",
            " 3   Close      2605 non-null   float64\n",
            " 4   Adj Close  2605 non-null   float64\n",
            " 5   Volume     2605 non-null   int64  \n",
            "dtypes: float64(5), int64(1)\n",
            "memory usage: 142.5 KB\n"
          ]
        }
      ]
    },
    {
      "cell_type": "code",
      "source": [
        "len(df)"
      ],
      "metadata": {
        "colab": {
          "base_uri": "https://localhost:8080/"
        },
        "id": "n5UNL_ZdTk94",
        "outputId": "0ac4d495-a84b-4423-e96c-1925cf57b9af"
      },
      "execution_count": null,
      "outputs": [
        {
          "output_type": "execute_result",
          "data": {
            "text/plain": [
              "2605"
            ]
          },
          "metadata": {},
          "execution_count": 46
        }
      ]
    },
    {
      "cell_type": "code",
      "source": [
        "# Only want closing price for each day \n",
        "bitcoin_prices = pd.DataFrame(df[\"Close\"]).rename(columns={\"Close\": \"Price\"})\n",
        "bitcoin_prices.head()"
      ],
      "metadata": {
        "colab": {
          "base_uri": "https://localhost:8080/",
          "height": 237
        },
        "id": "HzCAR2ikTnXQ",
        "outputId": "f3198cfe-5c8d-4da8-c726-005c8c0f526b"
      },
      "execution_count": null,
      "outputs": [
        {
          "output_type": "execute_result",
          "data": {
            "text/plain": [
              "              Price\n",
              "Date               \n",
              "2012-10-10  1.82573\n",
              "2012-10-11  1.81868\n",
              "2012-10-12  1.80650\n",
              "2012-10-15  1.81079\n",
              "2012-10-16  1.80969"
            ],
            "text/html": [
              "\n",
              "  <div id=\"df-7c0fa1fb-327b-4bee-b9e0-a8643384db2d\">\n",
              "    <div class=\"colab-df-container\">\n",
              "      <div>\n",
              "<style scoped>\n",
              "    .dataframe tbody tr th:only-of-type {\n",
              "        vertical-align: middle;\n",
              "    }\n",
              "\n",
              "    .dataframe tbody tr th {\n",
              "        vertical-align: top;\n",
              "    }\n",
              "\n",
              "    .dataframe thead th {\n",
              "        text-align: right;\n",
              "    }\n",
              "</style>\n",
              "<table border=\"1\" class=\"dataframe\">\n",
              "  <thead>\n",
              "    <tr style=\"text-align: right;\">\n",
              "      <th></th>\n",
              "      <th>Price</th>\n",
              "    </tr>\n",
              "    <tr>\n",
              "      <th>Date</th>\n",
              "      <th></th>\n",
              "    </tr>\n",
              "  </thead>\n",
              "  <tbody>\n",
              "    <tr>\n",
              "      <th>2012-10-10</th>\n",
              "      <td>1.82573</td>\n",
              "    </tr>\n",
              "    <tr>\n",
              "      <th>2012-10-11</th>\n",
              "      <td>1.81868</td>\n",
              "    </tr>\n",
              "    <tr>\n",
              "      <th>2012-10-12</th>\n",
              "      <td>1.80650</td>\n",
              "    </tr>\n",
              "    <tr>\n",
              "      <th>2012-10-15</th>\n",
              "      <td>1.81079</td>\n",
              "    </tr>\n",
              "    <tr>\n",
              "      <th>2012-10-16</th>\n",
              "      <td>1.80969</td>\n",
              "    </tr>\n",
              "  </tbody>\n",
              "</table>\n",
              "</div>\n",
              "      <button class=\"colab-df-convert\" onclick=\"convertToInteractive('df-7c0fa1fb-327b-4bee-b9e0-a8643384db2d')\"\n",
              "              title=\"Convert this dataframe to an interactive table.\"\n",
              "              style=\"display:none;\">\n",
              "        \n",
              "  <svg xmlns=\"http://www.w3.org/2000/svg\" height=\"24px\"viewBox=\"0 0 24 24\"\n",
              "       width=\"24px\">\n",
              "    <path d=\"M0 0h24v24H0V0z\" fill=\"none\"/>\n",
              "    <path d=\"M18.56 5.44l.94 2.06.94-2.06 2.06-.94-2.06-.94-.94-2.06-.94 2.06-2.06.94zm-11 1L8.5 8.5l.94-2.06 2.06-.94-2.06-.94L8.5 2.5l-.94 2.06-2.06.94zm10 10l.94 2.06.94-2.06 2.06-.94-2.06-.94-.94-2.06-.94 2.06-2.06.94z\"/><path d=\"M17.41 7.96l-1.37-1.37c-.4-.4-.92-.59-1.43-.59-.52 0-1.04.2-1.43.59L10.3 9.45l-7.72 7.72c-.78.78-.78 2.05 0 2.83L4 21.41c.39.39.9.59 1.41.59.51 0 1.02-.2 1.41-.59l7.78-7.78 2.81-2.81c.8-.78.8-2.07 0-2.86zM5.41 20L4 18.59l7.72-7.72 1.47 1.35L5.41 20z\"/>\n",
              "  </svg>\n",
              "      </button>\n",
              "      \n",
              "  <style>\n",
              "    .colab-df-container {\n",
              "      display:flex;\n",
              "      flex-wrap:wrap;\n",
              "      gap: 12px;\n",
              "    }\n",
              "\n",
              "    .colab-df-convert {\n",
              "      background-color: #E8F0FE;\n",
              "      border: none;\n",
              "      border-radius: 50%;\n",
              "      cursor: pointer;\n",
              "      display: none;\n",
              "      fill: #1967D2;\n",
              "      height: 32px;\n",
              "      padding: 0 0 0 0;\n",
              "      width: 32px;\n",
              "    }\n",
              "\n",
              "    .colab-df-convert:hover {\n",
              "      background-color: #E2EBFA;\n",
              "      box-shadow: 0px 1px 2px rgba(60, 64, 67, 0.3), 0px 1px 3px 1px rgba(60, 64, 67, 0.15);\n",
              "      fill: #174EA6;\n",
              "    }\n",
              "\n",
              "    [theme=dark] .colab-df-convert {\n",
              "      background-color: #3B4455;\n",
              "      fill: #D2E3FC;\n",
              "    }\n",
              "\n",
              "    [theme=dark] .colab-df-convert:hover {\n",
              "      background-color: #434B5C;\n",
              "      box-shadow: 0px 1px 3px 1px rgba(0, 0, 0, 0.15);\n",
              "      filter: drop-shadow(0px 1px 2px rgba(0, 0, 0, 0.3));\n",
              "      fill: #FFFFFF;\n",
              "    }\n",
              "  </style>\n",
              "\n",
              "      <script>\n",
              "        const buttonEl =\n",
              "          document.querySelector('#df-7c0fa1fb-327b-4bee-b9e0-a8643384db2d button.colab-df-convert');\n",
              "        buttonEl.style.display =\n",
              "          google.colab.kernel.accessAllowed ? 'block' : 'none';\n",
              "\n",
              "        async function convertToInteractive(key) {\n",
              "          const element = document.querySelector('#df-7c0fa1fb-327b-4bee-b9e0-a8643384db2d');\n",
              "          const dataTable =\n",
              "            await google.colab.kernel.invokeFunction('convertToInteractive',\n",
              "                                                     [key], {});\n",
              "          if (!dataTable) return;\n",
              "\n",
              "          const docLinkHtml = 'Like what you see? Visit the ' +\n",
              "            '<a target=\"_blank\" href=https://colab.research.google.com/notebooks/data_table.ipynb>data table notebook</a>'\n",
              "            + ' to learn more about interactive tables.';\n",
              "          element.innerHTML = '';\n",
              "          dataTable['output_type'] = 'display_data';\n",
              "          await google.colab.output.renderOutput(dataTable, element);\n",
              "          const docLink = document.createElement('div');\n",
              "          docLink.innerHTML = docLinkHtml;\n",
              "          element.appendChild(docLink);\n",
              "        }\n",
              "      </script>\n",
              "    </div>\n",
              "  </div>\n",
              "  "
            ]
          },
          "metadata": {},
          "execution_count": 47
        }
      ]
    },
    {
      "cell_type": "code",
      "source": [
        "import matplotlib.pyplot as plt\n",
        "\n",
        "bitcoin_prices.plot(figsize=(10, 7))\n",
        "plt.ylabel(\"TRY Price\")\n",
        "plt.title(\"Price of Bitcoin from 1 Oct 2012 to October 2022\", fontsize=16)\n",
        "plt.legend(fontsize=14);\n",
        "plt.xticks(rotation=90)"
      ],
      "metadata": {
        "colab": {
          "base_uri": "https://localhost:8080/",
          "height": 474
        },
        "id": "NyaKaiI1TsRA",
        "outputId": "fd245b30-97d3-4f47-fd8d-30fb798fe6eb"
      },
      "execution_count": null,
      "outputs": [
        {
          "output_type": "execute_result",
          "data": {
            "text/plain": [
              "(array([734503., 735234., 735964., 736695., 737425., 738156., 738886.]),\n",
              " <a list of 7 Text major ticklabel objects>)"
            ]
          },
          "metadata": {},
          "execution_count": 48
        },
        {
          "output_type": "display_data",
          "data": {
            "text/plain": [
              "<Figure size 720x504 with 1 Axes>"
            ],
            "image/png": "[encoded data removed]"
          },
          "metadata": {
            "needs_background": "light"
          }
        }
      ]
    },
    {
      "cell_type": "code",
      "source": [
        "# Check for GPU\n",
        "!nvidia-smi -L"
      ],
      "metadata": {
        "colab": {
          "base_uri": "https://localhost:8080/"
        },
        "id": "pDU7jQV9T25J",
        "outputId": "613196dc-f5c9-47bc-f773-fe6bb8058b6c"
      },
      "execution_count": null,
      "outputs": [
        {
          "output_type": "stream",
          "name": "stdout",
          "text": [
            "NVIDIA-SMI has failed because it couldn't communicate with the NVIDIA driver. Make sure that the latest NVIDIA driver is installed and running.\n",
            "\n"
          ]
        }
      ]
    },
    {
      "cell_type": "code",
      "source": [
        "# Importing and formatting historical Bitcoin data with Python\n",
        "import csv\n",
        "from datetime import datetime\n",
        "\n",
        "\n",
        "\n",
        "timesteps = []\n",
        "btc_price = []\n",
        "with open(\"/content/drive/MyDrive/Colab Notebooks/TRY2012.csv\", \"r\") as f:\n",
        "  csv_reader = csv.reader(f, delimiter=\",\") # read in the target CSV\n",
        "  next(csv_reader) # skip first line (this gets rid of the column titles)\n",
        "\n",
        "\n",
        "  for line in csv_reader:\n",
        "      timesteps.append(datetime.strptime(line[0], \"%m/%d/%Y\")) # get the dates as dates (not strings), strptime = string parse time\n",
        "      btc_price.append(float(line[2])) # get the closing price as float\n",
        "    \n",
        "    \n",
        "# View first 10 of each\n",
        "#timesteps[:10], btc_price[:10]\n",
        "timesteps[:10], btc_price[:10]"
      ],
      "metadata": {
        "colab": {
          "base_uri": "https://localhost:8080/"
        },
        "id": "KESXsoi5T6gY",
        "outputId": "1bf27710-4d3d-44eb-aa44-014d1597c62e"
      },
      "execution_count": null,
      "outputs": [
        {
          "output_type": "execute_result",
          "data": {
            "text/plain": [
              "([datetime.datetime(2012, 10, 10, 0, 0),\n",
              "  datetime.datetime(2012, 10, 11, 0, 0),\n",
              "  datetime.datetime(2012, 10, 12, 0, 0),\n",
              "  datetime.datetime(2012, 10, 15, 0, 0),\n",
              "  datetime.datetime(2012, 10, 16, 0, 0),\n",
              "  datetime.datetime(2012, 10, 17, 0, 0),\n",
              "  datetime.datetime(2012, 10, 18, 0, 0),\n",
              "  datetime.datetime(2012, 10, 19, 0, 0),\n",
              "  datetime.datetime(2012, 10, 22, 0, 0),\n",
              "  datetime.datetime(2012, 10, 23, 0, 0)],\n",
              " [1.8259,\n",
              "  1.81917,\n",
              "  1.80993,\n",
              "  1.8129,\n",
              "  1.8112,\n",
              "  1.80317,\n",
              "  1.80246,\n",
              "  1.79917,\n",
              "  1.79599,\n",
              "  1.80706])"
            ]
          },
          "metadata": {},
          "execution_count": 50
        }
      ]
    },
    {
      "cell_type": "code",
      "source": [
        "# Import with pandas \n",
        "import pandas as pd\n",
        "# Parse dates and set date column to index\n",
        "df = pd.read_csv(\"/content/drive/MyDrive/Colab Notebooks/TRY2012.csv\", \n",
        "                 parse_dates=[\"Date\"], \n",
        "                 index_col=[\"Date\"]) # parse the date column (tell pandas column 1 is a datetime)\n",
        "df.head()"
      ],
      "metadata": {
        "colab": {
          "base_uri": "https://localhost:8080/",
          "height": 237
        },
        "id": "5eVR3vfhT-zp",
        "outputId": "fdc37669-f9d2-4151-f934-5ebfb498d0ed"
      },
      "execution_count": null,
      "outputs": [
        {
          "output_type": "execute_result",
          "data": {
            "text/plain": [
              "               Open     High      Low    Close  Adj Close  Volume\n",
              "Date                                                             \n",
              "2012-10-10  1.82573  1.82590  1.81061  1.82573    1.82573       0\n",
              "2012-10-11  1.81880  1.81917  1.80800  1.81868    1.81868       0\n",
              "2012-10-12  1.80648  1.80993  1.80100  1.80650    1.80650       0\n",
              "2012-10-15  1.80977  1.81290  1.80706  1.81079    1.81079       0\n",
              "2012-10-16  1.81035  1.81120  1.80430  1.80969    1.80969       0"
            ],
            "text/html": [
              "\n",
              "  <div id=\"df-15f63c06-6b49-40ad-9d68-74139d96e29b\">\n",
              "    <div class=\"colab-df-container\">\n",
              "      <div>\n",
              "<style scoped>\n",
              "    .dataframe tbody tr th:only-of-type {\n",
              "        vertical-align: middle;\n",
              "    }\n",
              "\n",
              "    .dataframe tbody tr th {\n",
              "        vertical-align: top;\n",
              "    }\n",
              "\n",
              "    .dataframe thead th {\n",
              "        text-align: right;\n",
              "    }\n",
              "</style>\n",
              "<table border=\"1\" class=\"dataframe\">\n",
              "  <thead>\n",
              "    <tr style=\"text-align: right;\">\n",
              "      <th></th>\n",
              "      <th>Open</th>\n",
              "      <th>High</th>\n",
              "      <th>Low</th>\n",
              "      <th>Close</th>\n",
              "      <th>Adj Close</th>\n",
              "      <th>Volume</th>\n",
              "    </tr>\n",
              "    <tr>\n",
              "      <th>Date</th>\n",
              "      <th></th>\n",
              "      <th></th>\n",
              "      <th></th>\n",
              "      <th></th>\n",
              "      <th></th>\n",
              "      <th></th>\n",
              "    </tr>\n",
              "  </thead>\n",
              "  <tbody>\n",
              "    <tr>\n",
              "      <th>2012-10-10</th>\n",
              "      <td>1.82573</td>\n",
              "      <td>1.82590</td>\n",
              "      <td>1.81061</td>\n",
              "      <td>1.82573</td>\n",
              "      <td>1.82573</td>\n",
              "      <td>0</td>\n",
              "    </tr>\n",
              "    <tr>\n",
              "      <th>2012-10-11</th>\n",
              "      <td>1.81880</td>\n",
              "      <td>1.81917</td>\n",
              "      <td>1.80800</td>\n",
              "      <td>1.81868</td>\n",
              "      <td>1.81868</td>\n",
              "      <td>0</td>\n",
              "    </tr>\n",
              "    <tr>\n",
              "      <th>2012-10-12</th>\n",
              "      <td>1.80648</td>\n",
              "      <td>1.80993</td>\n",
              "      <td>1.80100</td>\n",
              "      <td>1.80650</td>\n",
              "      <td>1.80650</td>\n",
              "      <td>0</td>\n",
              "    </tr>\n",
              "    <tr>\n",
              "      <th>2012-10-15</th>\n",
              "      <td>1.80977</td>\n",
              "      <td>1.81290</td>\n",
              "      <td>1.80706</td>\n",
              "      <td>1.81079</td>\n",
              "      <td>1.81079</td>\n",
              "      <td>0</td>\n",
              "    </tr>\n",
              "    <tr>\n",
              "      <th>2012-10-16</th>\n",
              "      <td>1.81035</td>\n",
              "      <td>1.81120</td>\n",
              "      <td>1.80430</td>\n",
              "      <td>1.80969</td>\n",
              "      <td>1.80969</td>\n",
              "      <td>0</td>\n",
              "    </tr>\n",
              "  </tbody>\n",
              "</table>\n",
              "</div>\n",
              "      <button class=\"colab-df-convert\" onclick=\"convertToInteractive('df-15f63c06-6b49-40ad-9d68-74139d96e29b')\"\n",
              "              title=\"Convert this dataframe to an interactive table.\"\n",
              "              style=\"display:none;\">\n",
              "        \n",
              "  <svg xmlns=\"http://www.w3.org/2000/svg\" height=\"24px\"viewBox=\"0 0 24 24\"\n",
              "       width=\"24px\">\n",
              "    <path d=\"M0 0h24v24H0V0z\" fill=\"none\"/>\n",
              "    <path d=\"M18.56 5.44l.94 2.06.94-2.06 2.06-.94-2.06-.94-.94-2.06-.94 2.06-2.06.94zm-11 1L8.5 8.5l.94-2.06 2.06-.94-2.06-.94L8.5 2.5l-.94 2.06-2.06.94zm10 10l.94 2.06.94-2.06 2.06-.94-2.06-.94-.94-2.06-.94 2.06-2.06.94z\"/><path d=\"M17.41 7.96l-1.37-1.37c-.4-.4-.92-.59-1.43-.59-.52 0-1.04.2-1.43.59L10.3 9.45l-7.72 7.72c-.78.78-.78 2.05 0 2.83L4 21.41c.39.39.9.59 1.41.59.51 0 1.02-.2 1.41-.59l7.78-7.78 2.81-2.81c.8-.78.8-2.07 0-2.86zM5.41 20L4 18.59l7.72-7.72 1.47 1.35L5.41 20z\"/>\n",
              "  </svg>\n",
              "      </button>\n",
              "      \n",
              "  <style>\n",
              "    .colab-df-container {\n",
              "      display:flex;\n",
              "      flex-wrap:wrap;\n",
              "      gap: 12px;\n",
              "    }\n",
              "\n",
              "    .colab-df-convert {\n",
              "      background-color: #E8F0FE;\n",
              "      border: none;\n",
              "      border-radius: 50%;\n",
              "      cursor: pointer;\n",
              "      display: none;\n",
              "      fill: #1967D2;\n",
              "      height: 32px;\n",
              "      padding: 0 0 0 0;\n",
              "      width: 32px;\n",
              "    }\n",
              "\n",
              "    .colab-df-convert:hover {\n",
              "      background-color: #E2EBFA;\n",
              "      box-shadow: 0px 1px 2px rgba(60, 64, 67, 0.3), 0px 1px 3px 1px rgba(60, 64, 67, 0.15);\n",
              "      fill: #174EA6;\n",
              "    }\n",
              "\n",
              "    [theme=dark] .colab-df-convert {\n",
              "      background-color: #3B4455;\n",
              "      fill: #D2E3FC;\n",
              "    }\n",
              "\n",
              "    [theme=dark] .colab-df-convert:hover {\n",
              "      background-color: #434B5C;\n",
              "      box-shadow: 0px 1px 3px 1px rgba(0, 0, 0, 0.15);\n",
              "      filter: drop-shadow(0px 1px 2px rgba(0, 0, 0, 0.3));\n",
              "      fill: #FFFFFF;\n",
              "    }\n",
              "  </style>\n",
              "\n",
              "      <script>\n",
              "        const buttonEl =\n",
              "          document.querySelector('#df-15f63c06-6b49-40ad-9d68-74139d96e29b button.colab-df-convert');\n",
              "        buttonEl.style.display =\n",
              "          google.colab.kernel.accessAllowed ? 'block' : 'none';\n",
              "\n",
              "        async function convertToInteractive(key) {\n",
              "          const element = document.querySelector('#df-15f63c06-6b49-40ad-9d68-74139d96e29b');\n",
              "          const dataTable =\n",
              "            await google.colab.kernel.invokeFunction('convertToInteractive',\n",
              "                                                     [key], {});\n",
              "          if (!dataTable) return;\n",
              "\n",
              "          const docLinkHtml = 'Like what you see? Visit the ' +\n",
              "            '<a target=\"_blank\" href=https://colab.research.google.com/notebooks/data_table.ipynb>data table notebook</a>'\n",
              "            + ' to learn more about interactive tables.';\n",
              "          element.innerHTML = '';\n",
              "          dataTable['output_type'] = 'display_data';\n",
              "          await google.colab.output.renderOutput(dataTable, element);\n",
              "          const docLink = document.createElement('div');\n",
              "          docLink.innerHTML = docLinkHtml;\n",
              "          element.appendChild(docLink);\n",
              "        }\n",
              "      </script>\n",
              "    </div>\n",
              "  </div>\n",
              "  "
            ]
          },
          "metadata": {},
          "execution_count": 51
        }
      ]
    },
    {
      "cell_type": "code",
      "source": [
        "df.info()"
      ],
      "metadata": {
        "colab": {
          "base_uri": "https://localhost:8080/"
        },
        "id": "BTZEUg1BaVOe",
        "outputId": "7540e6a0-8b50-4c19-9bed-959d56fe6961"
      },
      "execution_count": null,
      "outputs": [
        {
          "output_type": "stream",
          "name": "stdout",
          "text": [
            "<class 'pandas.core.frame.DataFrame'>\n",
            "DatetimeIndex: 2605 entries, 2012-10-10 to 2022-10-10\n",
            "Data columns (total 6 columns):\n",
            " #   Column     Non-Null Count  Dtype  \n",
            "---  ------     --------------  -----  \n",
            " 0   Open       2605 non-null   float64\n",
            " 1   High       2605 non-null   float64\n",
            " 2   Low        2605 non-null   float64\n",
            " 3   Close      2605 non-null   float64\n",
            " 4   Adj Close  2605 non-null   float64\n",
            " 5   Volume     2605 non-null   int64  \n",
            "dtypes: float64(5), int64(1)\n",
            "memory usage: 142.5 KB\n"
          ]
        }
      ]
    },
    {
      "cell_type": "code",
      "source": [
        "# How many samples do we have?\n",
        "len(df)"
      ],
      "metadata": {
        "colab": {
          "base_uri": "https://localhost:8080/"
        },
        "id": "XrgRTE_PaXDW",
        "outputId": "d04566b3-9a13-4388-cef6-d4e88873c4c0"
      },
      "execution_count": null,
      "outputs": [
        {
          "output_type": "execute_result",
          "data": {
            "text/plain": [
              "2605"
            ]
          },
          "metadata": {},
          "execution_count": 53
        }
      ]
    },
    {
      "cell_type": "code",
      "source": [
        "# Only want closing price for each day \n",
        "bitcoin_prices = pd.DataFrame(df[\"Close\"]).rename(columns={\"Close\": \"Price\"})\n",
        "bitcoin_prices.head()"
      ],
      "metadata": {
        "colab": {
          "base_uri": "https://localhost:8080/",
          "height": 237
        },
        "id": "i9SdBfVAaZ3-",
        "outputId": "197dba54-93ba-4755-8b9d-810500eb0601"
      },
      "execution_count": null,
      "outputs": [
        {
          "output_type": "execute_result",
          "data": {
            "text/plain": [
              "              Price\n",
              "Date               \n",
              "2012-10-10  1.82573\n",
              "2012-10-11  1.81868\n",
              "2012-10-12  1.80650\n",
              "2012-10-15  1.81079\n",
              "2012-10-16  1.80969"
            ],
            "text/html": [
              "\n",
              "  <div id=\"df-ece23f48-8935-4607-9cbc-b79c83186ee3\">\n",
              "    <div class=\"colab-df-container\">\n",
              "      <div>\n",
              "<style scoped>\n",
              "    .dataframe tbody tr th:only-of-type {\n",
              "        vertical-align: middle;\n",
              "    }\n",
              "\n",
              "    .dataframe tbody tr th {\n",
              "        vertical-align: top;\n",
              "    }\n",
              "\n",
              "    .dataframe thead th {\n",
              "        text-align: right;\n",
              "    }\n",
              "</style>\n",
              "<table border=\"1\" class=\"dataframe\">\n",
              "  <thead>\n",
              "    <tr style=\"text-align: right;\">\n",
              "      <th></th>\n",
              "      <th>Price</th>\n",
              "    </tr>\n",
              "    <tr>\n",
              "      <th>Date</th>\n",
              "      <th></th>\n",
              "    </tr>\n",
              "  </thead>\n",
              "  <tbody>\n",
              "    <tr>\n",
              "      <th>2012-10-10</th>\n",
              "      <td>1.82573</td>\n",
              "    </tr>\n",
              "    <tr>\n",
              "      <th>2012-10-11</th>\n",
              "      <td>1.81868</td>\n",
              "    </tr>\n",
              "    <tr>\n",
              "      <th>2012-10-12</th>\n",
              "      <td>1.80650</td>\n",
              "    </tr>\n",
              "    <tr>\n",
              "      <th>2012-10-15</th>\n",
              "      <td>1.81079</td>\n",
              "    </tr>\n",
              "    <tr>\n",
              "      <th>2012-10-16</th>\n",
              "      <td>1.80969</td>\n",
              "    </tr>\n",
              "  </tbody>\n",
              "</table>\n",
              "</div>\n",
              "      <button class=\"colab-df-convert\" onclick=\"convertToInteractive('df-ece23f48-8935-4607-9cbc-b79c83186ee3')\"\n",
              "              title=\"Convert this dataframe to an interactive table.\"\n",
              "              style=\"display:none;\">\n",
              "        \n",
              "  <svg xmlns=\"http://www.w3.org/2000/svg\" height=\"24px\"viewBox=\"0 0 24 24\"\n",
              "       width=\"24px\">\n",
              "    <path d=\"M0 0h24v24H0V0z\" fill=\"none\"/>\n",
              "    <path d=\"M18.56 5.44l.94 2.06.94-2.06 2.06-.94-2.06-.94-.94-2.06-.94 2.06-2.06.94zm-11 1L8.5 8.5l.94-2.06 2.06-.94-2.06-.94L8.5 2.5l-.94 2.06-2.06.94zm10 10l.94 2.06.94-2.06 2.06-.94-2.06-.94-.94-2.06-.94 2.06-2.06.94z\"/><path d=\"M17.41 7.96l-1.37-1.37c-.4-.4-.92-.59-1.43-.59-.52 0-1.04.2-1.43.59L10.3 9.45l-7.72 7.72c-.78.78-.78 2.05 0 2.83L4 21.41c.39.39.9.59 1.41.59.51 0 1.02-.2 1.41-.59l7.78-7.78 2.81-2.81c.8-.78.8-2.07 0-2.86zM5.41 20L4 18.59l7.72-7.72 1.47 1.35L5.41 20z\"/>\n",
              "  </svg>\n",
              "      </button>\n",
              "      \n",
              "  <style>\n",
              "    .colab-df-container {\n",
              "      display:flex;\n",
              "      flex-wrap:wrap;\n",
              "      gap: 12px;\n",
              "    }\n",
              "\n",
              "    .colab-df-convert {\n",
              "      background-color: #E8F0FE;\n",
              "      border: none;\n",
              "      border-radius: 50%;\n",
              "      cursor: pointer;\n",
              "      display: none;\n",
              "      fill: #1967D2;\n",
              "      height: 32px;\n",
              "      padding: 0 0 0 0;\n",
              "      width: 32px;\n",
              "    }\n",
              "\n",
              "    .colab-df-convert:hover {\n",
              "      background-color: #E2EBFA;\n",
              "      box-shadow: 0px 1px 2px rgba(60, 64, 67, 0.3), 0px 1px 3px 1px rgba(60, 64, 67, 0.15);\n",
              "      fill: #174EA6;\n",
              "    }\n",
              "\n",
              "    [theme=dark] .colab-df-convert {\n",
              "      background-color: #3B4455;\n",
              "      fill: #D2E3FC;\n",
              "    }\n",
              "\n",
              "    [theme=dark] .colab-df-convert:hover {\n",
              "      background-color: #434B5C;\n",
              "      box-shadow: 0px 1px 3px 1px rgba(0, 0, 0, 0.15);\n",
              "      filter: drop-shadow(0px 1px 2px rgba(0, 0, 0, 0.3));\n",
              "      fill: #FFFFFF;\n",
              "    }\n",
              "  </style>\n",
              "\n",
              "      <script>\n",
              "        const buttonEl =\n",
              "          document.querySelector('#df-ece23f48-8935-4607-9cbc-b79c83186ee3 button.colab-df-convert');\n",
              "        buttonEl.style.display =\n",
              "          google.colab.kernel.accessAllowed ? 'block' : 'none';\n",
              "\n",
              "        async function convertToInteractive(key) {\n",
              "          const element = document.querySelector('#df-ece23f48-8935-4607-9cbc-b79c83186ee3');\n",
              "          const dataTable =\n",
              "            await google.colab.kernel.invokeFunction('convertToInteractive',\n",
              "                                                     [key], {});\n",
              "          if (!dataTable) return;\n",
              "\n",
              "          const docLinkHtml = 'Like what you see? Visit the ' +\n",
              "            '<a target=\"_blank\" href=https://colab.research.google.com/notebooks/data_table.ipynb>data table notebook</a>'\n",
              "            + ' to learn more about interactive tables.';\n",
              "          element.innerHTML = '';\n",
              "          dataTable['output_type'] = 'display_data';\n",
              "          await google.colab.output.renderOutput(dataTable, element);\n",
              "          const docLink = document.createElement('div');\n",
              "          docLink.innerHTML = docLinkHtml;\n",
              "          element.appendChild(docLink);\n",
              "        }\n",
              "      </script>\n",
              "    </div>\n",
              "  </div>\n",
              "  "
            ]
          },
          "metadata": {},
          "execution_count": 54
        }
      ]
    },
    {
      "cell_type": "code",
      "source": [
        "import matplotlib.pyplot as plt\n",
        "bitcoin_prices.plot(figsize=(10, 7))\n",
        "plt.ylabel(\"TRY Price\")\n",
        "plt.title(\"Price of TRY Coin from 1 Oct 2012 to 18 May 2021\", fontsize=16)\n",
        "plt.legend(fontsize=14);"
      ],
      "metadata": {
        "colab": {
          "base_uri": "https://localhost:8080/",
          "height": 434
        },
        "id": "jrm5Qhylac9W",
        "outputId": "e9729fef-23f6-4940-9179-a7bd257bfa92"
      },
      "execution_count": null,
      "outputs": [
        {
          "output_type": "display_data",
          "data": {
            "text/plain": [
              "<Figure size 720x504 with 1 Axes>"
            ],
            "image/png": "[encoded data removed]"
          },
          "metadata": {
            "needs_background": "light"
          }
        }
      ]
    },
    {
      "cell_type": "code",
      "source": [
        "# Importing and formatting historical Bitcoin data with Python\n",
        "import csv\n",
        "from datetime import datetime\n",
        "\n",
        "timesteps = []\n",
        "btc_price = []\n",
        "with open(\"/content/drive/MyDrive/Colab Notebooks/TRY2012.csv\", \"r\") as f:\n",
        "  csv_reader = csv.reader(f, delimiter=\",\") # read in the target CSV\n",
        "  next(csv_reader) # skip first line (this gets rid of the column titles)\n",
        "  for line in csv_reader:\n",
        "    timesteps.append(datetime.strptime(line[0], \"%m/%d/%Y\")) # get the dates as dates (not strings), strptime = string parse time\n",
        "    btc_price.append(float(line[2])) # get the closing price as float\n",
        "\n",
        "# View first 10 of each\n",
        "timesteps[:10], btc_price[:10]"
      ],
      "metadata": {
        "colab": {
          "base_uri": "https://localhost:8080/"
        },
        "id": "XgJDCdvpalWG",
        "outputId": "809ba8c9-7778-48b2-8e75-42d4482523d5"
      },
      "execution_count": null,
      "outputs": [
        {
          "output_type": "execute_result",
          "data": {
            "text/plain": [
              "([datetime.datetime(2012, 10, 10, 0, 0),\n",
              "  datetime.datetime(2012, 10, 11, 0, 0),\n",
              "  datetime.datetime(2012, 10, 12, 0, 0),\n",
              "  datetime.datetime(2012, 10, 15, 0, 0),\n",
              "  datetime.datetime(2012, 10, 16, 0, 0),\n",
              "  datetime.datetime(2012, 10, 17, 0, 0),\n",
              "  datetime.datetime(2012, 10, 18, 0, 0),\n",
              "  datetime.datetime(2012, 10, 19, 0, 0),\n",
              "  datetime.datetime(2012, 10, 22, 0, 0),\n",
              "  datetime.datetime(2012, 10, 23, 0, 0)],\n",
              " [1.8259,\n",
              "  1.81917,\n",
              "  1.80993,\n",
              "  1.8129,\n",
              "  1.8112,\n",
              "  1.80317,\n",
              "  1.80246,\n",
              "  1.79917,\n",
              "  1.79599,\n",
              "  1.80706])"
            ]
          },
          "metadata": {},
          "execution_count": 59
        }
      ]
    },
    {
      "cell_type": "code",
      "source": [
        "# Plot from CSV\n",
        "import matplotlib.pyplot as plt\n",
        "import numpy as np\n",
        "plt.figure(figsize=(10, 7))\n",
        "plt.plot(timesteps, btc_price)\n",
        "plt.title(\"Price of TRY coin from 1 Oct 2012 to 18 May 2021\", fontsize=16)\n",
        "plt.xlabel(\"Date\")\n",
        "plt.ylabel(\"TRY Coin Price\")"
      ],
      "metadata": {
        "colab": {
          "base_uri": "https://localhost:8080/",
          "height": 478
        },
        "id": "dIFII1ESao81",
        "outputId": "459cbf88-21f8-45fc-8d14-63dcde6f2266"
      },
      "execution_count": null,
      "outputs": [
        {
          "output_type": "execute_result",
          "data": {
            "text/plain": [
              "Text(0, 0.5, 'TRY Coin Price')"
            ]
          },
          "metadata": {},
          "execution_count": 60
        },
        {
          "output_type": "display_data",
          "data": {
            "text/plain": [
              "<Figure size 720x504 with 1 Axes>"
            ],
            "image/png": "[encoded data removed]"
          },
          "metadata": {
            "needs_background": "light"
          }
        }
      ]
    },
    {
      "cell_type": "code",
      "source": [
        "# Get bitcoin date array\n",
        "timesteps = bitcoin_prices.index.to_numpy()\n",
        "prices = bitcoin_prices[\"Price\"].to_numpy()\n",
        "\n",
        "timesteps[:10], prices[:10]"
      ],
      "metadata": {
        "colab": {
          "base_uri": "https://localhost:8080/"
        },
        "id": "RBvka0Iea5o-",
        "outputId": "a6f14f8e-c9d5-4e68-8f8d-b2ff2fc21cc3"
      },
      "execution_count": null,
      "outputs": [
        {
          "output_type": "execute_result",
          "data": {
            "text/plain": [
              "(array(['2012-10-10T00:00:00.000000000', '2012-10-11T00:00:00.000000000',\n",
              "        '2012-10-12T00:00:00.000000000', '2012-10-15T00:00:00.000000000',\n",
              "        '2012-10-16T00:00:00.000000000', '2012-10-17T00:00:00.000000000',\n",
              "        '2012-10-18T00:00:00.000000000', '2012-10-19T00:00:00.000000000',\n",
              "        '2012-10-22T00:00:00.000000000', '2012-10-23T00:00:00.000000000'],\n",
              "       dtype='datetime64[ns]'),\n",
              " array([1.82573, 1.81868, 1.8065 , 1.81079, 1.80969, 1.80036, 1.79826,\n",
              "        1.79726, 1.79428, 1.7927 ]))"
            ]
          },
          "metadata": {},
          "execution_count": 61
        }
      ]
    },
    {
      "cell_type": "code",
      "source": [
        "# Wrong way to make train/test sets for time series\n",
        "from sklearn.model_selection import train_test_split \n",
        "\n",
        "X_train, X_test, y_train, y_test = train_test_split(timesteps, # dates\n",
        "                                                    prices, # prices\n",
        "                                                    test_size=0.2,\n",
        "                                                    random_state=42)\n",
        "X_train.shape, X_test.shape, y_train.shape, y_test.shape "
      ],
      "metadata": {
        "colab": {
          "base_uri": "https://localhost:8080/"
        },
        "id": "u9eibf5ba9bI",
        "outputId": "06c99ffa-d441-4ba1-f013-277f339f9a2e"
      },
      "execution_count": null,
      "outputs": [
        {
          "output_type": "execute_result",
          "data": {
            "text/plain": [
              "((2084,), (521,), (2084,), (521,))"
            ]
          },
          "metadata": {},
          "execution_count": 62
        }
      ]
    },
    {
      "cell_type": "code",
      "source": [
        "# Let's plot wrong train and test splits\n",
        "plt.figure(figsize=(10, 7))\n",
        "plt.scatter(X_train, y_train, s=5, label=\"Train data\")\n",
        "plt.scatter(X_test, y_test, s=5, label=\"Test data\")\n",
        "plt.xlabel(\"Date\")\n",
        "plt.ylabel(\"TRY Price\")\n",
        "plt.legend(fontsize=14)\n",
        "plt.show();"
      ],
      "metadata": {
        "colab": {
          "base_uri": "https://localhost:8080/",
          "height": 442
        },
        "id": "QYj1Sfgra_dd",
        "outputId": "9f3a7198-a02a-4a0a-de9c-21de4426138d"
      },
      "execution_count": null,
      "outputs": [
        {
          "output_type": "display_data",
          "data": {
            "text/plain": [
              "<Figure size 720x504 with 1 Axes>"
            ],
            "image/png": "[encoded data removed]"
          },
          "metadata": {
            "needs_background": "light"
          }
        }
      ]
    },
    {
      "cell_type": "code",
      "source": [
        "# Create train and test splits the right way for time series data\n",
        "split_size = int(0.8 * len(prices)) # 80% train, 20% test\n",
        "\n",
        "# Create train data splits (everything before the split)\n",
        "X_train, y_train = timesteps[:split_size], prices[:split_size]\n",
        "\n",
        "# Create test data splits (everything after the split)\n",
        "X_test, y_test = timesteps[split_size:], prices[split_size:]\n",
        "\n",
        "len(X_train), len(X_test), len(y_train), len(y_test)"
      ],
      "metadata": {
        "colab": {
          "base_uri": "https://localhost:8080/"
        },
        "id": "rScSahUzbKLG",
        "outputId": "f944b114-35b6-470b-949a-3740a7c8b834"
      },
      "execution_count": null,
      "outputs": [
        {
          "output_type": "execute_result",
          "data": {
            "text/plain": [
              "(2084, 521, 2084, 521)"
            ]
          },
          "metadata": {},
          "execution_count": 65
        }
      ]
    },
    {
      "cell_type": "code",
      "source": [
        "# Plot correctly made splits\n",
        "plt.figure(figsize=(10, 7))\n",
        "plt.scatter(X_train, y_train, s=5, label=\"Train data\")\n",
        "plt.scatter(X_test, y_test, s=5, label=\"Test data\")\n",
        "plt.xlabel(\"Date\")\n",
        "plt.ylabel(\"TRY Price\")\n",
        "plt.legend(fontsize=14)\n",
        "plt.show();"
      ],
      "metadata": {
        "colab": {
          "base_uri": "https://localhost:8080/",
          "height": 442
        },
        "id": "Ky5lbLVNbMbV",
        "outputId": "605e7944-3329-4721-d448-3fe3735fdf5c"
      },
      "execution_count": null,
      "outputs": [
        {
          "output_type": "display_data",
          "data": {
            "text/plain": [
              "<Figure size 720x504 with 1 Axes>"
            ],
            "image/png": "[encoded data removed]"
          },
          "metadata": {
            "needs_background": "light"
          }
        }
      ]
    },
    {
      "cell_type": "code",
      "source": [
        "# Create a function to plot time series data\n",
        "def plot_time_series(timesteps, values, format='.', start=0, end=None, label=None):\n",
        "  \"\"\"\n",
        "  Plots a timesteps (a series of points in time) against values (a series of values across timesteps).\n",
        "  \n",
        "  Parameters\n",
        "  ---------\n",
        "  timesteps : array of timesteps\n",
        "  values : array of values across time\n",
        "  format : style of plot, default \".\"\n",
        "  start : where to start the plot (setting a value will index from start of timesteps & values)\n",
        "  end : where to end the plot (setting a value will index from end of timesteps & values)\n",
        "  label : label to show on plot of values\n",
        "  \"\"\"\n",
        "  # Plot the series\n",
        "  plt.plot(timesteps[start:end], values[start:end], format, label=label)\n",
        "  plt.xlabel(\"Time\")\n",
        "  plt.ylabel(\"TRY Price\")\n",
        "  if label:\n",
        "    plt.legend(fontsize=14) # make label bigger\n",
        "  plt.grid(True)"
      ],
      "metadata": {
        "id": "gHEy4MmqbVd-"
      },
      "execution_count": null,
      "outputs": []
    },
    {
      "cell_type": "code",
      "source": [
        "# Try out our plotting function\n",
        "plt.figure(figsize=(10, 7))\n",
        "plot_time_series(timesteps=X_train, values=y_train, label=\"Train data\")\n",
        "plot_time_series(timesteps=X_test, values=y_test, label=\"Test data\")"
      ],
      "metadata": {
        "colab": {
          "base_uri": "https://localhost:8080/",
          "height": 442
        },
        "id": "DCdXvPjIbcV_",
        "outputId": "7e61aac9-945b-4e41-e4e7-878958845691"
      },
      "execution_count": null,
      "outputs": [
        {
          "output_type": "display_data",
          "data": {
            "text/plain": [
              "<Figure size 720x504 with 1 Axes>"
            ],
            "image/png": "[encoded data removed]"
          },
          "metadata": {
            "needs_background": "light"
          }
        }
      ]
    },
    {
      "cell_type": "code",
      "source": [
        "# Create a naïve forecast\n",
        "naive_forecast = y_test[:-1] # Naïve forecast equals every value excluding the last value\n",
        "naive_forecast[:10], naive_forecast[-10:] # View frist 10 and last 10 "
      ],
      "metadata": {
        "colab": {
          "base_uri": "https://localhost:8080/"
        },
        "id": "6z6MI--Hbjp9",
        "outputId": "6e20c8b6-9aa0-4664-dcfa-1e93328812a6"
      },
      "execution_count": null,
      "outputs": [
        {
          "output_type": "execute_result",
          "data": {
            "text/plain": [
              "(array([7.84525, 7.8854 , 7.9207 , 7.9062 , 7.9309 , 7.9123 , 7.87264,\n",
              "        7.858  , 7.80804, 7.9412 ]),\n",
              " array([18.432501, 18.449499, 18.4429  , 18.5233  , 18.497499, 18.516199,\n",
              "        18.523701, 18.5697  , 18.54834 , 18.5753  ]))"
            ]
          },
          "metadata": {},
          "execution_count": 73
        }
      ]
    },
    {
      "cell_type": "code",
      "source": [
        "# Plot naive forecast\n",
        "plt.figure(figsize=(10, 7))\n",
        "plot_time_series(timesteps=X_train, values=y_train, label=\"Train data\")\n",
        "plot_time_series(timesteps=X_test, values=y_test, label=\"Test data\")\n",
        "plot_time_series(timesteps=X_test[1:], values=naive_forecast, format=\"-\", label=\"Naive forecast\");"
      ],
      "metadata": {
        "colab": {
          "base_uri": "https://localhost:8080/",
          "height": 442
        },
        "id": "aBqRVJsbbqZt",
        "outputId": "0512ad91-1388-410d-95b9-6107187d2f9f"
      },
      "execution_count": null,
      "outputs": [
        {
          "output_type": "display_data",
          "data": {
            "text/plain": [
              "<Figure size 720x504 with 1 Axes>"
            ],
            "image/png": "[encoded data removed]"
          },
          "metadata": {
            "needs_background": "light"
          }
        }
      ]
    },
    {
      "cell_type": "code",
      "source": [
        "plt.figure(figsize=(10, 7))\n",
        "offset = 300 # offset the values by 300 timesteps \n",
        "plot_time_series(timesteps=X_test, values=y_test, start=offset, label=\"Test data\")\n",
        "plot_time_series(timesteps=X_test[1:], values=naive_forecast, format=\"-\", start=offset, label=\"Naive forecast\");"
      ],
      "metadata": {
        "colab": {
          "base_uri": "https://localhost:8080/",
          "height": 442
        },
        "id": "BvaOybi2bvim",
        "outputId": "39273af4-3204-4530-e8bd-247389013ca8"
      },
      "execution_count": null,
      "outputs": [
        {
          "output_type": "display_data",
          "data": {
            "text/plain": [
              "<Figure size 720x504 with 1 Axes>"
            ],
            "image/png": "[encoded data removed]"
          },
          "metadata": {
            "needs_background": "light"
          }
        }
      ]
    },
    {
      "cell_type": "code",
      "source": [
        "# Let's get TensorFlow! \n",
        "import tensorflow as tf"
      ],
      "metadata": {
        "id": "-oel-iyAbzMW"
      },
      "execution_count": null,
      "outputs": []
    },
    {
      "cell_type": "code",
      "source": [
        "# MASE implemented courtesy of sktime - https://github.com/alan-turing-institute/sktime/blob/ee7a06843a44f4aaec7582d847e36073a9ab0566/sktime/performance_metrics/forecasting/_functions.py#L16\n",
        "def mean_absolute_scaled_error(y_true, y_pred):\n",
        "  \"\"\"\n",
        "  Implement MASE (assuming no seasonality of data).\n",
        "  \"\"\"\n",
        "  mae = tf.reduce_mean(tf.abs(y_true - y_pred))\n",
        "\n",
        "  # Find MAE of naive forecast (no seasonality)\n",
        "  mae_naive_no_season = tf.reduce_mean(tf.abs(y_true[1:] - y_true[:-1])) # our seasonality is 1 day (hence the shifting of 1 day)\n",
        "\n",
        "  return mae / mae_naive_no_season"
      ],
      "metadata": {
        "id": "KC8unc8Ab2VG"
      },
      "execution_count": null,
      "outputs": []
    },
    {
      "cell_type": "code",
      "source": [
        "def evaluate_preds(y_true, y_pred):\n",
        "  # Make sure float32 (for metric calculations)\n",
        "  y_true = tf.cast(y_true, dtype=tf.float32)\n",
        "  y_pred = tf.cast(y_pred, dtype=tf.float32)\n",
        "\n",
        "  # Calculate various metrics\n",
        "  mae = tf.keras.metrics.mean_absolute_error(y_true, y_pred)\n",
        "  mse = tf.keras.metrics.mean_squared_error(y_true, y_pred) # puts and emphasis on outliers (all errors get squared)\n",
        "  rmse = tf.sqrt(mse)\n",
        "  mape = tf.keras.metrics.mean_absolute_percentage_error(y_true, y_pred)\n",
        "  mase = mean_absolute_scaled_error(y_true, y_pred)\n",
        "  \n",
        "  return {\"mae\": mae.numpy(),\n",
        "          \"mse\": mse.numpy(),\n",
        "          \"rmse\": rmse.numpy(),\n",
        "          \"mape\": mape.numpy(),\n",
        "          \"mase\": mase.numpy()}"
      ],
      "metadata": {
        "id": "T5Sr96Vqb5Lt"
      },
      "execution_count": null,
      "outputs": []
    },
    {
      "cell_type": "code",
      "source": [
        "naive_results = evaluate_preds(y_true=y_test[1:],\n",
        "                               y_pred=naive_forecast)\n",
        "naive_results"
      ],
      "metadata": {
        "colab": {
          "base_uri": "https://localhost:8080/"
        },
        "id": "3wXTYYlOb8Al",
        "outputId": "33afda77-a78e-4e23-9118-d8bb61bf82a6"
      },
      "execution_count": null,
      "outputs": [
        {
          "output_type": "execute_result",
          "data": {
            "text/plain": [
              "{'mae': 0.09277026,\n",
              " 'mse': 0.04834302,\n",
              " 'rmse': 0.21987046,\n",
              " 'mape': 0.8305674,\n",
              " 'mase': 0.9989083}"
            ]
          },
          "metadata": {},
          "execution_count": 79
        }
      ]
    },
    {
      "cell_type": "code",
      "source": [
        "# Find average price of Bitcoin in test dataset\n",
        "tf.reduce_mean(y_test).numpy()"
      ],
      "metadata": {
        "colab": {
          "base_uri": "https://localhost:8080/"
        },
        "id": "yCR_3AAYb-DV",
        "outputId": "ac91f799-c737-4150-a763-ee73778ef3cc"
      },
      "execution_count": null,
      "outputs": [
        {
          "output_type": "execute_result",
          "data": {
            "text/plain": [
              "11.494984491362763"
            ]
          },
          "metadata": {},
          "execution_count": 80
        }
      ]
    },
    {
      "cell_type": "code",
      "source": [
        "HORIZON = 1 # predict 1 step at a time\n",
        "WINDOW_SIZE = 7 # use a week worth of timesteps to predict the horizon"
      ],
      "metadata": {
        "id": "jGL_dbWAcAUG"
      },
      "execution_count": null,
      "outputs": []
    },
    {
      "cell_type": "code",
      "source": [
        "# Create function to label windowed data\n",
        "def get_labelled_windows(x, horizon=1):\n",
        "  \"\"\"\n",
        "  Creates labels for windowed dataset.\n",
        "\n",
        "  E.g. if horizon=1 (default)\n",
        "  Input: [1, 2, 3, 4, 5, 6] -> Output: ([1, 2, 3, 4, 5], [6])\n",
        "  \"\"\"\n",
        "  return x[:, :-horizon], x[:, -horizon:]"
      ],
      "metadata": {
        "id": "fdZBOn5acDYl"
      },
      "execution_count": null,
      "outputs": []
    },
    {
      "cell_type": "code",
      "source": [
        "# Test out the window labelling function\n",
        "test_window, test_label = get_labelled_windows(tf.expand_dims(tf.range(8)+1, axis=0), horizon=HORIZON)\n",
        "print(f\"Window: {tf.squeeze(test_window).numpy()} -> Label: {tf.squeeze(test_label).numpy()}\")"
      ],
      "metadata": {
        "colab": {
          "base_uri": "https://localhost:8080/"
        },
        "id": "4ORdQ-IscHbG",
        "outputId": "7ff142b6-615b-4286-fd03-9b37394bc4b2"
      },
      "execution_count": null,
      "outputs": [
        {
          "output_type": "stream",
          "name": "stdout",
          "text": [
            "Window: [1 2 3 4 5 6 7] -> Label: 8\n"
          ]
        }
      ]
    },
    {
      "cell_type": "code",
      "source": [
        "# Create function to view NumPy arrays as windows \n",
        "def make_windows(x, window_size=7, horizon=1):\n",
        "  \"\"\"\n",
        "  Turns a 1D array into a 2D array of sequential windows of window_size.\n",
        "  \"\"\"\n",
        "  # 1. Create a window of specific window_size (add the horizon on the end for later labelling)\n",
        "  window_step = np.expand_dims(np.arange(window_size+horizon), axis=0)\n",
        "  # print(f\"Window step:\\n {window_step}\")\n",
        "\n",
        "  # 2. Create a 2D array of multiple window steps (minus 1 to account for 0 indexing)\n",
        "  window_indexes = window_step + np.expand_dims(np.arange(len(x)-(window_size+horizon-1)), axis=0).T # create 2D array of windows of size window_size\n",
        "  # print(f\"Window indexes:\\n {window_indexes[:3], window_indexes[-3:], window_indexes.shape}\")\n",
        "\n",
        "  # 3. Index on the target array (time series) with 2D array of multiple window steps\n",
        "  windowed_array = x[window_indexes]\n",
        "\n",
        "  # 4. Get the labelled windows\n",
        "  windows, labels = get_labelled_windows(windowed_array, horizon=horizon)\n",
        "\n",
        "  return windows, labels"
      ],
      "metadata": {
        "id": "rJpmceezcKct"
      },
      "execution_count": null,
      "outputs": []
    },
    {
      "cell_type": "code",
      "source": [
        "full_windows, full_labels = make_windows(prices, window_size=WINDOW_SIZE, horizon=HORIZON)\n",
        "len(full_windows), len(full_labels)"
      ],
      "metadata": {
        "colab": {
          "base_uri": "https://localhost:8080/"
        },
        "id": "mAXxdjv5cN69",
        "outputId": "6bfc1f10-846f-425b-92f8-1d06732c1088"
      },
      "execution_count": null,
      "outputs": [
        {
          "output_type": "execute_result",
          "data": {
            "text/plain": [
              "(2598, 2598)"
            ]
          },
          "metadata": {},
          "execution_count": 85
        }
      ]
    },
    {
      "cell_type": "code",
      "source": [
        "# View the first 3 windows/labels\n",
        "for i in range(3):\n",
        "  print(f\"Window: {full_windows[i]} -> Label: {full_labels[i]}\")"
      ],
      "metadata": {
        "colab": {
          "base_uri": "https://localhost:8080/"
        },
        "id": "ytseuruecQZF",
        "outputId": "6624390a-fe36-42ed-f43e-9cc1ee5c81dc"
      },
      "execution_count": null,
      "outputs": [
        {
          "output_type": "stream",
          "name": "stdout",
          "text": [
            "Window: [1.82573 1.81868 1.8065  1.81079 1.80969 1.80036 1.79826] -> Label: [1.79726]\n",
            "Window: [1.81868 1.8065  1.81079 1.80969 1.80036 1.79826 1.79726] -> Label: [1.79428]\n",
            "Window: [1.8065  1.81079 1.80969 1.80036 1.79826 1.79726 1.79428] -> Label: [1.7927]\n"
          ]
        }
      ]
    },
    {
      "cell_type": "code",
      "source": [
        "# View the last 3 windows/labels\n",
        "for i in range(3):\n",
        "  print(f\"Window: {full_windows[i-3]} -> Label: {full_labels[i-3]}\")"
      ],
      "metadata": {
        "colab": {
          "base_uri": "https://localhost:8080/"
        },
        "id": "zHBZi_dAcTIV",
        "outputId": "37162b1e-d9c3-417e-d671-302da474a12c"
      },
      "execution_count": null,
      "outputs": [
        {
          "output_type": "stream",
          "name": "stdout",
          "text": [
            "Window: [18.449499 18.4429   18.5233   18.497499 18.516199 18.523701 18.5697  ] -> Label: [18.54834]\n",
            "Window: [18.4429   18.5233   18.497499 18.516199 18.523701 18.5697   18.54834 ] -> Label: [18.5753]\n",
            "Window: [18.5233   18.497499 18.516199 18.523701 18.5697   18.54834  18.5753  ] -> Label: [18.5606]\n"
          ]
        }
      ]
    },
    {
      "cell_type": "code",
      "source": [
        "# Make the train/test splits\n",
        "def make_train_test_splits(windows, labels, test_split=0.2):\n",
        "  \"\"\"\n",
        "  Splits matching pairs of windows and labels into train and test splits.\n",
        "  \"\"\"\n",
        "  split_size = int(len(windows) * (1-test_split)) # this will default to 80% train/20% test\n",
        "  train_windows = windows[:split_size]\n",
        "  train_labels = labels[:split_size]\n",
        "  test_windows = windows[split_size:]\n",
        "  test_labels = labels[split_size:]\n",
        "  return train_windows, test_windows, train_labels, test_labels"
      ],
      "metadata": {
        "id": "Nks7PSDpcXC-"
      },
      "execution_count": null,
      "outputs": []
    },
    {
      "cell_type": "code",
      "source": [
        "train_windows, test_windows, train_labels, test_labels = make_train_test_splits(full_windows, full_labels)\n",
        "len(train_windows), len(test_windows), len(train_labels), len(test_labels)"
      ],
      "metadata": {
        "colab": {
          "base_uri": "https://localhost:8080/"
        },
        "id": "6S1nKqJScZQl",
        "outputId": "a0079a0d-08d5-4ae9-c904-d7dc58ef366c"
      },
      "execution_count": null,
      "outputs": [
        {
          "output_type": "execute_result",
          "data": {
            "text/plain": [
              "(2078, 520, 2078, 520)"
            ]
          },
          "metadata": {},
          "execution_count": 89
        }
      ]
    },
    {
      "cell_type": "code",
      "source": [
        "train_windows[:5], train_labels[:5]"
      ],
      "metadata": {
        "colab": {
          "base_uri": "https://localhost:8080/"
        },
        "id": "peP5pJZ6caze",
        "outputId": "8a8c1696-e92e-4094-b74b-2986fd6d4fdf"
      },
      "execution_count": null,
      "outputs": [
        {
          "output_type": "execute_result",
          "data": {
            "text/plain": [
              "(array([[1.82573, 1.81868, 1.8065 , 1.81079, 1.80969, 1.80036, 1.79826],\n",
              "        [1.81868, 1.8065 , 1.81079, 1.80969, 1.80036, 1.79826, 1.79726],\n",
              "        [1.8065 , 1.81079, 1.80969, 1.80036, 1.79826, 1.79726, 1.79428],\n",
              "        [1.81079, 1.80969, 1.80036, 1.79826, 1.79726, 1.79428, 1.7927 ],\n",
              "        [1.80969, 1.80036, 1.79826, 1.79726, 1.79428, 1.7927 , 1.8011 ]]),\n",
              " array([[1.79726],\n",
              "        [1.79428],\n",
              "        [1.7927 ],\n",
              "        [1.8011 ],\n",
              "        [1.80227]]))"
            ]
          },
          "metadata": {},
          "execution_count": 90
        }
      ]
    },
    {
      "cell_type": "code",
      "source": [
        "# Check to see if same (accounting for horizon and window size)\n",
        "np.array_equal(np.squeeze(train_labels[:-HORIZON-1]), y_train[WINDOW_SIZE:])"
      ],
      "metadata": {
        "colab": {
          "base_uri": "https://localhost:8080/"
        },
        "id": "0iKfvua4ceOO",
        "outputId": "4bc279aa-4c12-48e2-9392-41819e43ceb0"
      },
      "execution_count": null,
      "outputs": [
        {
          "output_type": "execute_result",
          "data": {
            "text/plain": [
              "False"
            ]
          },
          "metadata": {},
          "execution_count": 91
        }
      ]
    },
    {
      "cell_type": "code",
      "source": [
        "import os\n",
        "\n",
        "# Create a function to implement a ModelCheckpoint callback with a specific filename \n",
        "def create_model_checkpoint(model_name, save_path=\"model_experiments\"):\n",
        "  return tf.keras.callbacks.ModelCheckpoint(filepath=os.path.join(save_path, model_name), # create filepath to save model\n",
        "                                            verbose=0, # only output a limited amount of text\n",
        "                                            save_best_only=True) # save only the best model to file"
      ],
      "metadata": {
        "id": "M755l1XAcgLd"
      },
      "execution_count": null,
      "outputs": []
    },
    {
      "cell_type": "markdown",
      "source": [
        "## Model 1: Dense model (window = 7, horizon = 1)"
      ],
      "metadata": {
        "id": "LtU6ND3Qciil"
      }
    },
    {
      "cell_type": "code",
      "source": [
        "import tensorflow as tf\n",
        "from tensorflow.keras import layers\n",
        "\n",
        "# Set random seed for as reproducible results as possible\n",
        "tf.random.set_seed(42)\n",
        "\n",
        "# Construct model\n",
        "model_1 = tf.keras.Sequential([\n",
        "  layers.Dense(128, activation=\"relu\"),\n",
        "  layers.Dense(HORIZON, activation=\"linear\") # linear activation is the same as having no activation                        \n",
        "], name=\"model_1_dense\") # give the model a name so we can save it\n",
        "\n",
        "# Compile model\n",
        "model_1.compile(loss=\"mae\",\n",
        "                optimizer=tf.keras.optimizers.Adam(),\n",
        "                metrics=[\"mae\"]) # we don't necessarily need this when the loss function is already MAE\n",
        "\n",
        "# Fit model\n",
        "model_1.fit(x=train_windows, # train windows of 7 timesteps of Bitcoin prices\n",
        "            y=train_labels, # horizon value of 1 (using the previous 7 timesteps to predict next day)\n",
        "            epochs=100,\n",
        "            verbose=1,\n",
        "            batch_size=128,\n",
        "            validation_data=(test_windows, test_labels),\n",
        "            callbacks=[create_model_checkpoint(model_name=model_1.name)]) # create ModelCheckpoint callback to save best model"
      ],
      "metadata": {
        "colab": {
          "base_uri": "https://localhost:8080/"
        },
        "id": "_-OiV2T8cjkF",
        "outputId": "c2ee35c9-6a78-487c-9555-2a8cc0475a7b"
      },
      "execution_count": null,
      "outputs": [
        {
          "output_type": "stream",
          "name": "stdout",
          "text": [
            "Epoch 1/100\n",
            "17/17 [==============================] - 2s 54ms/step - loss: 0.9049 - mae: 0.9049 - val_loss: 1.0859 - val_mae: 1.0859\n",
            "Epoch 2/100\n",
            "17/17 [==============================] - 1s 32ms/step - loss: 0.1765 - mae: 0.1765 - val_loss: 0.3091 - val_mae: 0.3091\n",
            "Epoch 3/100\n",
            "17/17 [==============================] - 0s 4ms/step - loss: 0.0794 - mae: 0.0794 - val_loss: 0.3117 - val_mae: 0.3117\n",
            "Epoch 4/100\n",
            "17/17 [==============================] - 1s 33ms/step - loss: 0.0581 - mae: 0.0581 - val_loss: 0.1882 - val_mae: 0.1882\n",
            "Epoch 5/100\n",
            "17/17 [==============================] - 0s 4ms/step - loss: 0.0486 - mae: 0.0486 - val_loss: 0.2532 - val_mae: 0.2532\n",
            "Epoch 6/100\n",
            "17/17 [==============================] - 0s 4ms/step - loss: 0.0419 - mae: 0.0419 - val_loss: 0.2060 - val_mae: 0.2060\n",
            "Epoch 7/100\n",
            "17/17 [==============================] - 1s 32ms/step - loss: 0.0402 - mae: 0.0402 - val_loss: 0.1864 - val_mae: 0.1864\n",
            "Epoch 8/100\n",
            "17/17 [==============================] - 1s 31ms/step - loss: 0.0419 - mae: 0.0419 - val_loss: 0.1844 - val_mae: 0.1844\n",
            "Epoch 9/100\n",
            "17/17 [==============================] - 1s 32ms/step - loss: 0.0422 - mae: 0.0422 - val_loss: 0.1842 - val_mae: 0.1842\n",
            "Epoch 10/100\n",
            "17/17 [==============================] - 1s 33ms/step - loss: 0.0393 - mae: 0.0393 - val_loss: 0.1837 - val_mae: 0.1837\n",
            "Epoch 11/100\n",
            "17/17 [==============================] - 1s 31ms/step - loss: 0.0407 - mae: 0.0407 - val_loss: 0.1827 - val_mae: 0.1827\n",
            "Epoch 12/100\n",
            "17/17 [==============================] - 0s 3ms/step - loss: 0.0403 - mae: 0.0403 - val_loss: 0.1830 - val_mae: 0.1830\n",
            "Epoch 13/100\n",
            "17/17 [==============================] - 1s 31ms/step - loss: 0.0393 - mae: 0.0393 - val_loss: 0.1816 - val_mae: 0.1816\n",
            "Epoch 14/100\n",
            "17/17 [==============================] - 1s 33ms/step - loss: 0.0392 - mae: 0.0392 - val_loss: 0.1811 - val_mae: 0.1811\n",
            "Epoch 15/100\n",
            "17/17 [==============================] - 0s 3ms/step - loss: 0.0407 - mae: 0.0407 - val_loss: 0.1827 - val_mae: 0.1827\n",
            "Epoch 16/100\n",
            "17/17 [==============================] - 1s 33ms/step - loss: 0.0386 - mae: 0.0386 - val_loss: 0.1799 - val_mae: 0.1799\n",
            "Epoch 17/100\n",
            "17/17 [==============================] - 0s 4ms/step - loss: 0.0405 - mae: 0.0405 - val_loss: 0.1864 - val_mae: 0.1864\n",
            "Epoch 18/100\n",
            "17/17 [==============================] - 0s 31ms/step - loss: 0.0391 - mae: 0.0391 - val_loss: 0.1787 - val_mae: 0.1787\n",
            "Epoch 19/100\n",
            "17/17 [==============================] - 0s 4ms/step - loss: 0.0392 - mae: 0.0392 - val_loss: 0.1858 - val_mae: 0.1858\n",
            "Epoch 20/100\n",
            "17/17 [==============================] - 1s 48ms/step - loss: 0.0386 - mae: 0.0386 - val_loss: 0.1768 - val_mae: 0.1768\n",
            "Epoch 21/100\n",
            "17/17 [==============================] - 0s 4ms/step - loss: 0.0385 - mae: 0.0385 - val_loss: 0.1936 - val_mae: 0.1936\n",
            "Epoch 22/100\n",
            "17/17 [==============================] - 1s 32ms/step - loss: 0.0396 - mae: 0.0396 - val_loss: 0.1756 - val_mae: 0.1756\n",
            "Epoch 23/100\n",
            "17/17 [==============================] - 0s 4ms/step - loss: 0.0380 - mae: 0.0380 - val_loss: 0.1941 - val_mae: 0.1941\n",
            "Epoch 24/100\n",
            "17/17 [==============================] - 0s 3ms/step - loss: 0.0383 - mae: 0.0383 - val_loss: 0.1760 - val_mae: 0.1760\n",
            "Epoch 25/100\n",
            "17/17 [==============================] - 0s 4ms/step - loss: 0.0392 - mae: 0.0392 - val_loss: 0.1840 - val_mae: 0.1840\n",
            "Epoch 26/100\n",
            "17/17 [==============================] - 0s 4ms/step - loss: 0.0401 - mae: 0.0401 - val_loss: 0.2045 - val_mae: 0.2045\n",
            "Epoch 27/100\n",
            "17/17 [==============================] - 0s 5ms/step - loss: 0.0413 - mae: 0.0413 - val_loss: 0.2110 - val_mae: 0.2110\n",
            "Epoch 28/100\n",
            "17/17 [==============================] - 1s 32ms/step - loss: 0.0423 - mae: 0.0423 - val_loss: 0.1722 - val_mae: 0.1722\n",
            "Epoch 29/100\n",
            "17/17 [==============================] - 0s 4ms/step - loss: 0.0405 - mae: 0.0405 - val_loss: 0.1768 - val_mae: 0.1768\n",
            "Epoch 30/100\n",
            "17/17 [==============================] - 1s 32ms/step - loss: 0.0389 - mae: 0.0389 - val_loss: 0.1696 - val_mae: 0.1696\n",
            "Epoch 31/100\n",
            "17/17 [==============================] - 0s 3ms/step - loss: 0.0374 - mae: 0.0374 - val_loss: 0.1721 - val_mae: 0.1721\n",
            "Epoch 32/100\n",
            "17/17 [==============================] - 0s 3ms/step - loss: 0.0382 - mae: 0.0382 - val_loss: 0.1995 - val_mae: 0.1995\n",
            "Epoch 33/100\n",
            "17/17 [==============================] - 0s 4ms/step - loss: 0.0409 - mae: 0.0409 - val_loss: 0.2018 - val_mae: 0.2018\n",
            "Epoch 34/100\n",
            "17/17 [==============================] - 1s 32ms/step - loss: 0.0391 - mae: 0.0391 - val_loss: 0.1692 - val_mae: 0.1692\n",
            "Epoch 35/100\n",
            "17/17 [==============================] - 1s 32ms/step - loss: 0.0419 - mae: 0.0419 - val_loss: 0.1661 - val_mae: 0.1661\n",
            "Epoch 36/100\n",
            "17/17 [==============================] - 0s 3ms/step - loss: 0.0393 - mae: 0.0393 - val_loss: 0.1678 - val_mae: 0.1678\n",
            "Epoch 37/100\n",
            "17/17 [==============================] - 1s 32ms/step - loss: 0.0366 - mae: 0.0366 - val_loss: 0.1649 - val_mae: 0.1649\n",
            "Epoch 38/100\n",
            "17/17 [==============================] - 0s 3ms/step - loss: 0.0365 - mae: 0.0365 - val_loss: 0.1654 - val_mae: 0.1654\n",
            "Epoch 39/100\n",
            "17/17 [==============================] - 1s 32ms/step - loss: 0.0364 - mae: 0.0364 - val_loss: 0.1636 - val_mae: 0.1636\n",
            "Epoch 40/100\n",
            "17/17 [==============================] - 1s 71ms/step - loss: 0.0367 - mae: 0.0367 - val_loss: 0.1627 - val_mae: 0.1627\n",
            "Epoch 41/100\n",
            "17/17 [==============================] - 0s 4ms/step - loss: 0.0362 - mae: 0.0362 - val_loss: 0.1634 - val_mae: 0.1634\n",
            "Epoch 42/100\n",
            "17/17 [==============================] - 0s 4ms/step - loss: 0.0375 - mae: 0.0375 - val_loss: 0.2196 - val_mae: 0.2196\n",
            "Epoch 43/100\n",
            "17/17 [==============================] - 0s 3ms/step - loss: 0.0404 - mae: 0.0404 - val_loss: 0.1931 - val_mae: 0.1931\n",
            "Epoch 44/100\n",
            "17/17 [==============================] - 0s 4ms/step - loss: 0.0390 - mae: 0.0390 - val_loss: 0.2001 - val_mae: 0.2001\n",
            "Epoch 45/100\n",
            "17/17 [==============================] - 0s 4ms/step - loss: 0.0382 - mae: 0.0382 - val_loss: 0.1709 - val_mae: 0.1709\n",
            "Epoch 46/100\n",
            "17/17 [==============================] - 1s 32ms/step - loss: 0.0388 - mae: 0.0388 - val_loss: 0.1601 - val_mae: 0.1601\n",
            "Epoch 47/100\n",
            "17/17 [==============================] - 0s 4ms/step - loss: 0.0365 - mae: 0.0365 - val_loss: 0.1796 - val_mae: 0.1796\n",
            "Epoch 48/100\n",
            "17/17 [==============================] - 0s 5ms/step - loss: 0.0432 - mae: 0.0432 - val_loss: 0.1624 - val_mae: 0.1624\n",
            "Epoch 49/100\n",
            "17/17 [==============================] - 1s 32ms/step - loss: 0.0364 - mae: 0.0364 - val_loss: 0.1567 - val_mae: 0.1567\n",
            "Epoch 50/100\n",
            "17/17 [==============================] - 0s 4ms/step - loss: 0.0376 - mae: 0.0376 - val_loss: 0.1788 - val_mae: 0.1788\n",
            "Epoch 51/100\n",
            "17/17 [==============================] - 0s 3ms/step - loss: 0.0360 - mae: 0.0360 - val_loss: 0.1655 - val_mae: 0.1655\n",
            "Epoch 52/100\n",
            "17/17 [==============================] - 0s 4ms/step - loss: 0.0347 - mae: 0.0347 - val_loss: 0.1740 - val_mae: 0.1740\n",
            "Epoch 53/100\n",
            "17/17 [==============================] - 0s 4ms/step - loss: 0.0362 - mae: 0.0362 - val_loss: 0.1803 - val_mae: 0.1803\n",
            "Epoch 54/100\n",
            "17/17 [==============================] - 1s 34ms/step - loss: 0.0398 - mae: 0.0398 - val_loss: 0.1565 - val_mae: 0.1565\n",
            "Epoch 55/100\n",
            "17/17 [==============================] - 1s 33ms/step - loss: 0.0366 - mae: 0.0366 - val_loss: 0.1535 - val_mae: 0.1535\n",
            "Epoch 56/100\n",
            "17/17 [==============================] - 0s 4ms/step - loss: 0.0351 - mae: 0.0351 - val_loss: 0.1934 - val_mae: 0.1934\n",
            "Epoch 57/100\n",
            "17/17 [==============================] - 0s 3ms/step - loss: 0.0367 - mae: 0.0367 - val_loss: 0.1789 - val_mae: 0.1789\n",
            "Epoch 58/100\n",
            "17/17 [==============================] - 0s 3ms/step - loss: 0.0361 - mae: 0.0361 - val_loss: 0.1563 - val_mae: 0.1563\n",
            "Epoch 59/100\n",
            "17/17 [==============================] - 0s 3ms/step - loss: 0.0349 - mae: 0.0349 - val_loss: 0.1536 - val_mae: 0.1536\n",
            "Epoch 60/100\n",
            "17/17 [==============================] - 0s 3ms/step - loss: 0.0343 - mae: 0.0343 - val_loss: 0.1668 - val_mae: 0.1668\n",
            "Epoch 61/100\n",
            "17/17 [==============================] - 1s 31ms/step - loss: 0.0347 - mae: 0.0347 - val_loss: 0.1491 - val_mae: 0.1491\n",
            "Epoch 62/100\n",
            "17/17 [==============================] - 0s 3ms/step - loss: 0.0340 - mae: 0.0340 - val_loss: 0.1521 - val_mae: 0.1521\n",
            "Epoch 63/100\n",
            "17/17 [==============================] - 0s 5ms/step - loss: 0.0348 - mae: 0.0348 - val_loss: 0.1508 - val_mae: 0.1508\n",
            "Epoch 64/100\n",
            "17/17 [==============================] - 1s 51ms/step - loss: 0.0343 - mae: 0.0343 - val_loss: 0.1470 - val_mae: 0.1470\n",
            "Epoch 65/100\n",
            "17/17 [==============================] - 0s 4ms/step - loss: 0.0361 - mae: 0.0361 - val_loss: 0.1477 - val_mae: 0.1477\n",
            "Epoch 66/100\n",
            "17/17 [==============================] - 0s 5ms/step - loss: 0.0337 - mae: 0.0337 - val_loss: 0.1929 - val_mae: 0.1929\n",
            "Epoch 67/100\n",
            "17/17 [==============================] - 1s 33ms/step - loss: 0.0399 - mae: 0.0399 - val_loss: 0.1453 - val_mae: 0.1453\n",
            "Epoch 68/100\n",
            "17/17 [==============================] - 0s 4ms/step - loss: 0.0330 - mae: 0.0330 - val_loss: 0.1557 - val_mae: 0.1557\n",
            "Epoch 69/100\n",
            "17/17 [==============================] - 1s 32ms/step - loss: 0.0345 - mae: 0.0345 - val_loss: 0.1449 - val_mae: 0.1449\n",
            "Epoch 70/100\n",
            "17/17 [==============================] - 0s 3ms/step - loss: 0.0344 - mae: 0.0344 - val_loss: 0.1721 - val_mae: 0.1721\n",
            "Epoch 71/100\n",
            "17/17 [==============================] - 1s 32ms/step - loss: 0.0356 - mae: 0.0356 - val_loss: 0.1430 - val_mae: 0.1430\n",
            "Epoch 72/100\n",
            "17/17 [==============================] - 0s 4ms/step - loss: 0.0329 - mae: 0.0329 - val_loss: 0.1938 - val_mae: 0.1938\n",
            "Epoch 73/100\n",
            "17/17 [==============================] - 1s 32ms/step - loss: 0.0376 - mae: 0.0376 - val_loss: 0.1419 - val_mae: 0.1419\n",
            "Epoch 74/100\n",
            "17/17 [==============================] - 0s 3ms/step - loss: 0.0329 - mae: 0.0329 - val_loss: 0.1722 - val_mae: 0.1722\n",
            "Epoch 75/100\n",
            "17/17 [==============================] - 0s 3ms/step - loss: 0.0350 - mae: 0.0350 - val_loss: 0.1617 - val_mae: 0.1617\n",
            "Epoch 76/100\n",
            "17/17 [==============================] - 1s 33ms/step - loss: 0.0358 - mae: 0.0358 - val_loss: 0.1416 - val_mae: 0.1416\n",
            "Epoch 77/100\n",
            "17/17 [==============================] - 0s 4ms/step - loss: 0.0320 - mae: 0.0320 - val_loss: 0.1447 - val_mae: 0.1447\n",
            "Epoch 78/100\n",
            "17/17 [==============================] - 0s 4ms/step - loss: 0.0325 - mae: 0.0325 - val_loss: 0.1981 - val_mae: 0.1981\n",
            "Epoch 79/100\n",
            "17/17 [==============================] - 1s 32ms/step - loss: 0.0370 - mae: 0.0370 - val_loss: 0.1395 - val_mae: 0.1395\n",
            "Epoch 80/100\n",
            "17/17 [==============================] - 0s 3ms/step - loss: 0.0334 - mae: 0.0334 - val_loss: 0.1635 - val_mae: 0.1635\n",
            "Epoch 81/100\n",
            "17/17 [==============================] - 0s 3ms/step - loss: 0.0330 - mae: 0.0330 - val_loss: 0.1723 - val_mae: 0.1723\n",
            "Epoch 82/100\n",
            "17/17 [==============================] - 0s 4ms/step - loss: 0.0351 - mae: 0.0351 - val_loss: 0.1510 - val_mae: 0.1510\n",
            "Epoch 83/100\n",
            "17/17 [==============================] - 1s 32ms/step - loss: 0.0313 - mae: 0.0313 - val_loss: 0.1371 - val_mae: 0.1371\n",
            "Epoch 84/100\n",
            "17/17 [==============================] - 0s 3ms/step - loss: 0.0333 - mae: 0.0333 - val_loss: 0.1459 - val_mae: 0.1459\n",
            "Epoch 85/100\n",
            "17/17 [==============================] - 0s 3ms/step - loss: 0.0311 - mae: 0.0311 - val_loss: 0.1455 - val_mae: 0.1455\n",
            "Epoch 86/100\n",
            "17/17 [==============================] - 1s 32ms/step - loss: 0.0338 - mae: 0.0338 - val_loss: 0.1348 - val_mae: 0.1348\n",
            "Epoch 87/100\n",
            "17/17 [==============================] - 1s 32ms/step - loss: 0.0312 - mae: 0.0312 - val_loss: 0.1342 - val_mae: 0.1342\n",
            "Epoch 88/100\n",
            "17/17 [==============================] - 0s 4ms/step - loss: 0.0322 - mae: 0.0322 - val_loss: 0.1495 - val_mae: 0.1495\n",
            "Epoch 89/100\n",
            "17/17 [==============================] - 1s 32ms/step - loss: 0.0309 - mae: 0.0309 - val_loss: 0.1337 - val_mae: 0.1337\n",
            "Epoch 90/100\n",
            "17/17 [==============================] - 0s 4ms/step - loss: 0.0316 - mae: 0.0316 - val_loss: 0.1641 - val_mae: 0.1641\n",
            "Epoch 91/100\n",
            "17/17 [==============================] - 0s 4ms/step - loss: 0.0346 - mae: 0.0346 - val_loss: 0.1568 - val_mae: 0.1568\n",
            "Epoch 92/100\n",
            "17/17 [==============================] - 0s 3ms/step - loss: 0.0320 - mae: 0.0320 - val_loss: 0.1601 - val_mae: 0.1601\n",
            "Epoch 93/100\n",
            "17/17 [==============================] - 1s 32ms/step - loss: 0.0321 - mae: 0.0321 - val_loss: 0.1324 - val_mae: 0.1324\n",
            "Epoch 94/100\n",
            "17/17 [==============================] - 0s 4ms/step - loss: 0.0320 - mae: 0.0320 - val_loss: 0.1503 - val_mae: 0.1503\n",
            "Epoch 95/100\n",
            "17/17 [==============================] - 0s 3ms/step - loss: 0.0310 - mae: 0.0310 - val_loss: 0.1342 - val_mae: 0.1342\n",
            "Epoch 96/100\n",
            "17/17 [==============================] - 0s 3ms/step - loss: 0.0298 - mae: 0.0298 - val_loss: 0.1396 - val_mae: 0.1396\n",
            "Epoch 97/100\n",
            "17/17 [==============================] - 0s 3ms/step - loss: 0.0306 - mae: 0.0306 - val_loss: 0.1506 - val_mae: 0.1506\n",
            "Epoch 98/100\n",
            "17/17 [==============================] - 0s 3ms/step - loss: 0.0308 - mae: 0.0308 - val_loss: 0.1403 - val_mae: 0.1403\n",
            "Epoch 99/100\n",
            "17/17 [==============================] - 0s 5ms/step - loss: 0.0305 - mae: 0.0305 - val_loss: 0.1429 - val_mae: 0.1429\n",
            "Epoch 100/100\n",
            "17/17 [==============================] - 1s 33ms/step - loss: 0.0306 - mae: 0.0306 - val_loss: 0.1280 - val_mae: 0.1280\n"
          ]
        },
        {
          "output_type": "execute_result",
          "data": {
            "text/plain": [
              "<keras.callbacks.History at 0x7fe5ec84e590>"
            ]
          },
          "metadata": {},
          "execution_count": 94
        }
      ]
    },
    {
      "cell_type": "code",
      "source": [
        "# Evaluate model on test data\n",
        "model_1.evaluate(test_windows, test_labels)"
      ],
      "metadata": {
        "colab": {
          "base_uri": "https://localhost:8080/"
        },
        "id": "SznLPuf2c-E1",
        "outputId": "3f2526f1-2d00-496d-f641-d033727f5ba9"
      },
      "execution_count": null,
      "outputs": [
        {
          "output_type": "stream",
          "name": "stdout",
          "text": [
            "17/17 [==============================] - 0s 4ms/step - loss: 0.1280 - mae: 0.1280\n"
          ]
        },
        {
          "output_type": "execute_result",
          "data": {
            "text/plain": [
              "[0.12800249457359314, 0.12800249457359314]"
            ]
          },
          "metadata": {},
          "execution_count": 95
        }
      ]
    },
    {
      "cell_type": "code",
      "source": [
        "# Load in saved best performing model_1 and evaluate on test data\n",
        "model_1 = tf.keras.models.load_model(\"model_experiments/model_1_dense\")\n",
        "model_1.evaluate(test_windows, test_labels)"
      ],
      "metadata": {
        "colab": {
          "base_uri": "https://localhost:8080/"
        },
        "id": "fNuhqj34dAOk",
        "outputId": "5df98c87-ae72-46a3-8c83-ae457177804a"
      },
      "execution_count": null,
      "outputs": [
        {
          "output_type": "stream",
          "name": "stdout",
          "text": [
            "17/17 [==============================] - 0s 1ms/step - loss: 0.1280 - mae: 0.1280\n"
          ]
        },
        {
          "output_type": "execute_result",
          "data": {
            "text/plain": [
              "[0.12800249457359314, 0.12800249457359314]"
            ]
          },
          "metadata": {},
          "execution_count": 97
        }
      ]
    },
    {
      "cell_type": "code",
      "source": [
        "def make_preds(model, input_data):\n",
        "  \"\"\"\n",
        "  Uses model to make predictions on input_data.\n",
        "\n",
        "  Parameters\n",
        "  ----------\n",
        "  model: trained model \n",
        "  input_data: windowed input data (same kind of data model was trained on)\n",
        "\n",
        "  Returns model predictions on input_data.\n",
        "  \"\"\"\n",
        "  forecast = model.predict(input_data)\n",
        "  return tf.squeeze(forecast) # return 1D array of predictions"
      ],
      "metadata": {
        "id": "guWH6fgcdI7F"
      },
      "execution_count": null,
      "outputs": []
    },
    {
      "cell_type": "code",
      "source": [
        "# Make predictions using model_1 on the test dataset and view the results\n",
        "model_1_preds = make_preds(model_1, test_windows)\n",
        "len(model_1_preds), model_1_preds[:10]"
      ],
      "metadata": {
        "colab": {
          "base_uri": "https://localhost:8080/"
        },
        "id": "uP1B65RqdL9m",
        "outputId": "f5601cd2-97bb-4c74-97f7-e41e6c3fbfec"
      },
      "execution_count": null,
      "outputs": [
        {
          "output_type": "execute_result",
          "data": {
            "text/plain": [
              "(520, <tf.Tensor: shape=(10,), dtype=float32, numpy=\n",
              " array([7.8725348, 7.8799944, 7.903251 , 7.9052477, 7.9248586, 7.9359503,\n",
              "        7.905311 , 7.8919063, 7.865353 , 7.9007883], dtype=float32)>)"
            ]
          },
          "metadata": {},
          "execution_count": 99
        }
      ]
    },
    {
      "cell_type": "code",
      "source": [
        "# Evaluate preds\n",
        "model_1_results = evaluate_preds(y_true=tf.squeeze(test_labels), # reduce to right shape\n",
        "                                 y_pred=model_1_preds)\n",
        "model_1_results"
      ],
      "metadata": {
        "colab": {
          "base_uri": "https://localhost:8080/"
        },
        "id": "m4-OFxLTdO7u",
        "outputId": "6d9e570e-b1ac-4e55-bff5-ce1f76e7c19c"
      },
      "execution_count": null,
      "outputs": [
        {
          "output_type": "execute_result",
          "data": {
            "text/plain": [
              "{'mae': 0.12800246,\n",
              " 'mse': 0.08003816,\n",
              " 'rmse': 0.28291017,\n",
              " 'mape': 1.1383669,\n",
              " 'mase': 1.3782728}"
            ]
          },
          "metadata": {},
          "execution_count": 100
        }
      ]
    },
    {
      "cell_type": "code",
      "source": [
        "naive_results"
      ],
      "metadata": {
        "colab": {
          "base_uri": "https://localhost:8080/"
        },
        "id": "NJD0leOXdRvt",
        "outputId": "1cbb6f24-e9f0-4157-fe3f-33b9e3a94ab3"
      },
      "execution_count": null,
      "outputs": [
        {
          "output_type": "execute_result",
          "data": {
            "text/plain": [
              "{'mae': 0.09277026,\n",
              " 'mse': 0.04834302,\n",
              " 'rmse': 0.21987046,\n",
              " 'mape': 0.8305674,\n",
              " 'mase': 0.9989083}"
            ]
          },
          "metadata": {},
          "execution_count": 101
        }
      ]
    },
    {
      "cell_type": "code",
      "source": [
        "offset = 300\n",
        "plt.figure(figsize=(10, 7))\n",
        "# Account for the test_window offset and index into test_labels to ensure correct plotting\n",
        "plot_time_series(timesteps=X_test[-len(test_windows):], values=test_labels[:, 0], start=offset, label=\"Test_data\")\n",
        "plot_time_series(timesteps=X_test[-len(test_windows):], values=model_1_preds, start=offset, format=\"-\", label=\"model_1_preds\")"
      ],
      "metadata": {
        "colab": {
          "base_uri": "https://localhost:8080/",
          "height": 442
        },
        "id": "tmjjpw1AdU9l",
        "outputId": "56716967-89b0-4625-efb2-44941088a59e"
      },
      "execution_count": null,
      "outputs": [
        {
          "output_type": "display_data",
          "data": {
            "text/plain": [
              "<Figure size 720x504 with 1 Axes>"
            ],
            "image/png": "[encoded data removed]"
          },
          "metadata": {
            "needs_background": "light"
          }
        }
      ]
    },
    {
      "cell_type": "markdown",
      "source": [
        "# Model 2: Dense (window = 30, horizon = 1"
      ],
      "metadata": {
        "id": "TRAeb0s9dbQc"
      }
    },
    {
      "cell_type": "code",
      "source": [
        "HORIZON = 1 # predict one step at a time\n",
        "WINDOW_SIZE = 30 # use 30 timesteps in the past"
      ],
      "metadata": {
        "id": "YB6NebJJdcyl"
      },
      "execution_count": null,
      "outputs": []
    },
    {
      "cell_type": "code",
      "source": [
        "# Make windowed data with appropriate horizon and window sizes\n",
        "full_windows, full_labels = make_windows(prices, window_size=WINDOW_SIZE, horizon=HORIZON)\n",
        "len(full_windows), len(full_labels)"
      ],
      "metadata": {
        "colab": {
          "base_uri": "https://localhost:8080/"
        },
        "id": "_iI0FmUmdhZl",
        "outputId": "e69900c0-25b5-4870-cad5-db57c9bf2cc1"
      },
      "execution_count": null,
      "outputs": [
        {
          "output_type": "execute_result",
          "data": {
            "text/plain": [
              "(2575, 2575)"
            ]
          },
          "metadata": {},
          "execution_count": 104
        }
      ]
    },
    {
      "cell_type": "code",
      "source": [
        "# Make train and testing windows\n",
        "train_windows, test_windows, train_labels, test_labels = make_train_test_splits(windows=full_windows, labels=full_labels)\n",
        "len(train_windows), len(test_windows), len(train_labels), len(test_labels)"
      ],
      "metadata": {
        "colab": {
          "base_uri": "https://localhost:8080/"
        },
        "id": "8RAp8P2odkQV",
        "outputId": "7a580c52-577e-493b-d956-d7c392243d52"
      },
      "execution_count": null,
      "outputs": [
        {
          "output_type": "execute_result",
          "data": {
            "text/plain": [
              "(2060, 515, 2060, 515)"
            ]
          },
          "metadata": {},
          "execution_count": 105
        }
      ]
    },
    {
      "cell_type": "code",
      "source": [
        "tf.random.set_seed(42)\n",
        "\n",
        "# Create model (same model as model 1 but data input will be different)\n",
        "model_2 = tf.keras.Sequential([\n",
        "  layers.Dense(128, activation=\"relu\"),\n",
        "  layers.Dense(HORIZON) # need to predict horizon number of steps into the future\n",
        "], name=\"model_2_dense\")\n",
        "\n",
        "model_2.compile(loss=\"mae\",\n",
        "                optimizer=tf.keras.optimizers.Adam())\n",
        "\n",
        "model_2.fit(train_windows,\n",
        "            train_labels,\n",
        "            epochs=100,\n",
        "            batch_size=128,\n",
        "            verbose=0,\n",
        "            validation_data=(test_windows, test_labels),\n",
        "            callbacks=[create_model_checkpoint(model_name=model_2.name)])"
      ],
      "metadata": {
        "colab": {
          "base_uri": "https://localhost:8080/"
        },
        "id": "zBy9MkPsdoWE",
        "outputId": "189ea0d8-d6a8-4e95-8489-b29a893f3ccb"
      },
      "execution_count": null,
      "outputs": [
        {
          "output_type": "execute_result",
          "data": {
            "text/plain": [
              "<keras.callbacks.History at 0x7fe5e8aba8d0>"
            ]
          },
          "metadata": {},
          "execution_count": 106
        }
      ]
    },
    {
      "cell_type": "code",
      "source": [
        "# Evaluate model 2 preds\n",
        "model_2.evaluate(test_windows, test_labels)"
      ],
      "metadata": {
        "colab": {
          "base_uri": "https://localhost:8080/"
        },
        "id": "Bzr2OHoId43W",
        "outputId": "5cb59fad-48bc-44da-887a-111a0186bc63"
      },
      "execution_count": null,
      "outputs": [
        {
          "output_type": "stream",
          "name": "stdout",
          "text": [
            "17/17 [==============================] - 0s 3ms/step - loss: 0.1804\n"
          ]
        },
        {
          "output_type": "execute_result",
          "data": {
            "text/plain": [
              "0.18042631447315216"
            ]
          },
          "metadata": {},
          "execution_count": 107
        }
      ]
    },
    {
      "cell_type": "code",
      "source": [
        "# Load in best performing model\n",
        "model_2 = tf.keras.models.load_model(\"model_experiments/model_2_dense/\")\n",
        "model_2.evaluate(test_windows, test_labels)"
      ],
      "metadata": {
        "colab": {
          "base_uri": "https://localhost:8080/"
        },
        "id": "h_l7qhFid6-v",
        "outputId": "85f1a94d-65aa-43f4-8821-7b02cb5320ae"
      },
      "execution_count": null,
      "outputs": [
        {
          "output_type": "stream",
          "name": "stdout",
          "text": [
            "17/17 [==============================] - 0s 3ms/step - loss: 0.1721\n"
          ]
        },
        {
          "output_type": "execute_result",
          "data": {
            "text/plain": [
              "0.1721181422472"
            ]
          },
          "metadata": {},
          "execution_count": 108
        }
      ]
    },
    {
      "cell_type": "code",
      "source": [
        "# Get forecast predictions\n",
        "model_2_preds = make_preds(model_2,\n",
        "                           input_data=test_windows)"
      ],
      "metadata": {
        "id": "BuJptSVJd8y1"
      },
      "execution_count": null,
      "outputs": []
    },
    {
      "cell_type": "code",
      "source": [
        "# Evaluate results for model 2 predictions\n",
        "model_2_results = evaluate_preds(y_true=tf.squeeze(test_labels), # remove 1 dimension of test labels\n",
        "                                 y_pred=model_2_preds)\n",
        "model_2_results"
      ],
      "metadata": {
        "colab": {
          "base_uri": "https://localhost:8080/"
        },
        "id": "3QJIZKzxd_IF",
        "outputId": "b9886413-3ac7-4cb1-ed24-74146be508b5"
      },
      "execution_count": null,
      "outputs": [
        {
          "output_type": "execute_result",
          "data": {
            "text/plain": [
              "{'mae': 0.1721181,\n",
              " 'mse': 0.1244071,\n",
              " 'rmse': 0.3527139,\n",
              " 'mape': 1.534336,\n",
              " 'mase': 1.8405051}"
            ]
          },
          "metadata": {},
          "execution_count": 110
        }
      ]
    },
    {
      "cell_type": "code",
      "source": [
        "offset = 300\n",
        "plt.figure(figsize=(10, 7))\n",
        "# Account for the test_window offset\n",
        "plot_time_series(timesteps=X_test[-len(test_windows):], values=test_labels[:, 0], start=offset, label=\"test_data\")\n",
        "plot_time_series(timesteps=X_test[-len(test_windows):], values=model_2_preds, start=offset, format=\"-\", label=\"model_2_preds\") "
      ],
      "metadata": {
        "colab": {
          "base_uri": "https://localhost:8080/",
          "height": 446
        },
        "id": "r5Bw5zGveDaG",
        "outputId": "c9aa0020-b5e7-44d4-a6aa-f1057d6a4998"
      },
      "execution_count": null,
      "outputs": [
        {
          "output_type": "display_data",
          "data": {
            "text/plain": [
              "<Figure size 720x504 with 1 Axes>"
            ],
            "image/png": "[encoded data removed]"
          },
          "metadata": {
            "needs_background": "light"
          }
        }
      ]
    },
    {
      "cell_type": "markdown",
      "source": [
        "# Model 3: Dense (window = 30, horizon = 7)"
      ],
      "metadata": {
        "id": "ISDT0tP9eSf8"
      }
    },
    {
      "cell_type": "code",
      "source": [
        "HORIZON = 7\n",
        "WINDOW_SIZE = 30\n",
        "\n",
        "full_windows, full_labels = make_windows(prices, window_size=WINDOW_SIZE, horizon=HORIZON)\n",
        "len(full_windows), len(full_labels)"
      ],
      "metadata": {
        "colab": {
          "base_uri": "https://localhost:8080/"
        },
        "id": "Es7R40PAeVuM",
        "outputId": "f12daac0-603e-46c7-d126-f9325fef10fb"
      },
      "execution_count": 112,
      "outputs": [
        {
          "output_type": "execute_result",
          "data": {
            "text/plain": [
              "(2569, 2569)"
            ]
          },
          "metadata": {},
          "execution_count": 112
        }
      ]
    },
    {
      "cell_type": "code",
      "source": [
        "train_windows, test_windows, train_labels, test_labels = make_train_test_splits(windows=full_windows, labels=full_labels, test_split=0.2)\n",
        "len(train_windows), len(test_windows), len(train_labels), len(test_labels)"
      ],
      "metadata": {
        "colab": {
          "base_uri": "https://localhost:8080/"
        },
        "id": "GZRzogeXecD1",
        "outputId": "2364f189-88c8-4fff-ec7f-8015495d2d6b"
      },
      "execution_count": 113,
      "outputs": [
        {
          "output_type": "execute_result",
          "data": {
            "text/plain": [
              "(2055, 514, 2055, 514)"
            ]
          },
          "metadata": {},
          "execution_count": 113
        }
      ]
    },
    {
      "cell_type": "code",
      "source": [
        "tf.random.set_seed(42)\n",
        "\n",
        "# Create model (same as model_1 except with different data input size)\n",
        "model_3 = tf.keras.Sequential([\n",
        "  layers.Dense(128, activation=\"relu\"),\n",
        "  layers.Dense(HORIZON)\n",
        "], name=\"model_3_dense\")\n",
        "\n",
        "model_3.compile(loss=\"mae\",\n",
        "                optimizer=tf.keras.optimizers.Adam())\n",
        "\n",
        "model_3.fit(train_windows,\n",
        "            train_labels,\n",
        "            batch_size=128,\n",
        "            epochs=100,\n",
        "            verbose=0,\n",
        "            validation_data=(test_windows, test_labels),\n",
        "            callbacks=[create_model_checkpoint(model_name=model_3.name)])"
      ],
      "metadata": {
        "colab": {
          "base_uri": "https://localhost:8080/"
        },
        "id": "gtgBLHW_ehKs",
        "outputId": "32abdf25-53eb-4111-ea1a-caf87c75b837"
      },
      "execution_count": 114,
      "outputs": [
        {
          "output_type": "execute_result",
          "data": {
            "text/plain": [
              "<keras.callbacks.History at 0x7fe5e8e0b590>"
            ]
          },
          "metadata": {},
          "execution_count": 114
        }
      ]
    },
    {
      "cell_type": "code",
      "source": [
        "# How did our model with a larger window size and horizon go?\n",
        "model_3.evaluate(test_windows, test_labels)"
      ],
      "metadata": {
        "colab": {
          "base_uri": "https://localhost:8080/"
        },
        "id": "_Db1QPUUeqwU",
        "outputId": "40dd3968-c40f-4c6e-ab5c-1b07cad7b93b"
      },
      "execution_count": 115,
      "outputs": [
        {
          "output_type": "stream",
          "name": "stdout",
          "text": [
            "17/17 [==============================] - 0s 5ms/step - loss: 0.3391\n"
          ]
        },
        {
          "output_type": "execute_result",
          "data": {
            "text/plain": [
              "0.3390684127807617"
            ]
          },
          "metadata": {},
          "execution_count": 115
        }
      ]
    },
    {
      "cell_type": "code",
      "source": [
        "# Load in best version of model_3 and evaluate\n",
        "model_3 = tf.keras.models.load_model(\"model_experiments/model_3_dense/\")\n",
        "model_3.evaluate(test_windows, test_labels)"
      ],
      "metadata": {
        "colab": {
          "base_uri": "https://localhost:8080/"
        },
        "id": "AV8ysKCmetid",
        "outputId": "1a85f899-cc68-400a-8894-ff685b11656e"
      },
      "execution_count": 116,
      "outputs": [
        {
          "output_type": "stream",
          "name": "stdout",
          "text": [
            "17/17 [==============================] - 0s 2ms/step - loss: 0.2914\n"
          ]
        },
        {
          "output_type": "execute_result",
          "data": {
            "text/plain": [
              "0.2914254069328308"
            ]
          },
          "metadata": {},
          "execution_count": 116
        }
      ]
    },
    {
      "cell_type": "code",
      "source": [
        "# The predictions are going to be 7 steps at a time (this is the HORIZON size)\n",
        "model_3_preds = make_preds(model_3,\n",
        "                           input_data=test_windows)\n",
        "model_3_preds[:5]"
      ],
      "metadata": {
        "colab": {
          "base_uri": "https://localhost:8080/"
        },
        "id": "FA57oPwmexoU",
        "outputId": "3c0b9ddc-a788-41e9-ef2f-c122fe62e0bc"
      },
      "execution_count": 117,
      "outputs": [
        {
          "output_type": "execute_result",
          "data": {
            "text/plain": [
              "<tf.Tensor: shape=(5, 7), dtype=float32, numpy=\n",
              "array([[7.858495 , 7.881354 , 7.9014277, 7.899372 , 7.913673 , 7.860664 ,\n",
              "        7.9161234],\n",
              "       [7.890232 , 7.9325957, 7.951979 , 7.9337435, 7.9068537, 7.8868785,\n",
              "        7.9658704],\n",
              "       [7.9172487, 7.9146657, 7.9728346, 7.9418736, 7.9149632, 7.9138913,\n",
              "        7.9704294],\n",
              "       [7.882699 , 7.878733 , 7.9678726, 7.8980603, 7.9522643, 7.927462 ,\n",
              "        7.959831 ],\n",
              "       [7.9226694, 7.927085 , 8.040891 , 7.978858 , 7.975647 , 7.9815245,\n",
              "        7.992833 ]], dtype=float32)>"
            ]
          },
          "metadata": {},
          "execution_count": 117
        }
      ]
    },
    {
      "cell_type": "code",
      "source": [
        "# Calculate model_3 results - these are going to be multi-dimensional because\n",
        "# we're trying to predict more than one step at a time.\n",
        "model_3_results = evaluate_preds(y_true=tf.squeeze(test_labels),\n",
        "                                 y_pred=model_3_preds)\n",
        "model_3_results"
      ],
      "metadata": {
        "colab": {
          "base_uri": "https://localhost:8080/"
        },
        "id": "RXBwgCdee1d0",
        "outputId": "b2b3f84f-014f-4ec4-95ad-9b06203aa51a"
      },
      "execution_count": 118,
      "outputs": [
        {
          "output_type": "execute_result",
          "data": {
            "text/plain": [
              "{'mae': array([0.02486052, 0.04575839, 0.04987076, 0.05553307, 0.07976314,\n",
              "        0.1160403 , 0.13647556, 0.15689285, 0.19737442, 0.24786384,\n",
              "        0.32703856, 0.35973686, 0.2912152 , 0.27930042, 0.22317764,\n",
              "        0.18607275, 0.20656422, 0.27598423, 0.40892035, 0.5704013 ,\n",
              "        0.6951438 , 0.6790653 , 0.7395921 , 0.6455701 , 0.49933386,\n",
              "        0.3460066 , 0.20445307, 0.14510652, 0.10073389, 0.11401946,\n",
              "        0.16264534, 0.13844585, 0.09528208, 0.07693168, 0.11522599,\n",
              "        0.12420327, 0.08234889, 0.07789625, 0.09424032, 0.09871667,\n",
              "        0.09776653, 0.11583062, 0.10577079, 0.13417448, 0.05765683,\n",
              "        0.05907672, 0.10491671, 0.1415504 , 0.19822195, 0.2368211 ,\n",
              "        0.26785374, 0.25634772, 0.29761213, 0.33043724, 0.30161768,\n",
              "        0.26026216, 0.214309  , 0.17110014, 0.16130856, 0.12318039,\n",
              "        0.0964487 , 0.08786767, 0.08080176, 0.03272969, 0.05361925,\n",
              "        0.09286343, 0.07103702, 0.04862547, 0.03593622, 0.04387038,\n",
              "        0.04518121, 0.06099967, 0.04078899, 0.06560694, 0.07246596,\n",
              "        0.09770911, 0.11300407, 0.15020868, 0.18794481, 0.2315353 ,\n",
              "        0.25049216, 0.23401642, 0.21758577, 0.20574869, 0.21565273,\n",
              "        0.19301046, 0.18092802, 0.15603487, 0.14794977, 0.11962461,\n",
              "        0.07627337, 0.07513169, 0.12327337, 0.16190577, 0.18789747,\n",
              "        0.25696325, 0.31295252, 0.3493339 , 0.39132214, 0.4125845 ,\n",
              "        0.354421  , 0.35981008, 0.3243896 , 0.28400272, 0.23093374,\n",
              "        0.15192679, 0.05657618, 0.08310325, 0.11669656, 0.17648499,\n",
              "        0.23688467, 0.28657982, 0.2767396 , 0.34061798, 0.44227123,\n",
              "        0.38124186, 0.42085853, 0.32084677, 0.26737615, 0.29562744,\n",
              "        0.16456692, 0.10927037, 0.0950489 , 0.12455409, 0.18402468,\n",
              "        0.16469328, 0.14166138, 0.09220628, 0.21570341, 0.14933737,\n",
              "        0.16439997, 0.13656656, 0.10931669, 0.1296166 , 0.09953826,\n",
              "        0.12842274, 0.09815339, 0.12050492, 0.10234588, 0.11254065,\n",
              "        0.10546303, 0.08697673, 0.09861673, 0.11416558, 0.05484513,\n",
              "        0.03195327, 0.06341226, 0.10693645, 0.10304097, 0.09274401,\n",
              "        0.09330845, 0.12648432, 0.11340223, 0.06808703, 0.04047067,\n",
              "        0.05479036, 0.03936781, 0.05250222, 0.05477101, 0.06457888,\n",
              "        0.08057185, 0.06862558, 0.08780371, 0.12519482, 0.15286268,\n",
              "        0.10552979, 0.10296889, 0.07032081, 0.09193639, 0.11021614,\n",
              "        0.13869108, 0.16710922, 0.16531467, 0.1604147 , 0.13963617,\n",
              "        0.10834394, 0.08734608, 0.140116  , 0.12656593, 0.1064757 ,\n",
              "        0.05109596, 0.03563731, 0.03841795, 0.07121631, 0.06224278,\n",
              "        0.1081344 , 0.12870148, 0.15777029, 0.09692955, 0.06474427,\n",
              "        0.08580004, 0.07845116, 0.0794908 , 0.10907255, 0.15432917,\n",
              "        0.15920965, 0.1246075 , 0.14838682, 0.15960012, 0.14221668,\n",
              "        0.10478919, 0.11213316, 0.10742978, 0.11255605, 0.11082649,\n",
              "        0.1349095 , 0.13889231, 0.136393  , 0.12320777, 0.10942473,\n",
              "        0.10742732, 0.098032  , 0.09476348, 0.11514378, 0.10200814,\n",
              "        0.05868721, 0.0522168 , 0.05832754, 0.08413152, 0.10757188,\n",
              "        0.12782805, 0.15281282, 0.14008209, 0.14325468, 0.1386874 ,\n",
              "        0.14008985, 0.14224625, 0.13015448, 0.12073135, 0.12503406,\n",
              "        0.12614687, 0.11647388, 0.09922082, 0.08648654, 0.07133579,\n",
              "        0.07877268, 0.08843871, 0.1063385 , 0.1031644 , 0.14737879,\n",
              "        0.13026823, 0.16135693, 0.19303472, 0.253582  , 0.26067272,\n",
              "        0.23640428, 0.23003523, 0.25253662, 0.25830337, 0.23808725,\n",
              "        0.20034654, 0.12314755, 0.0639079 , 0.04150377, 0.04941246,\n",
              "        0.06293447, 0.08559786, 0.10788318, 0.14021601, 0.16367409,\n",
              "        0.19250897, 0.22878687, 0.25977066, 0.26836124, 0.29454353,\n",
              "        0.2814808 , 0.2121924 , 0.203981  , 0.22244427, 0.16891262,\n",
              "        0.07433237, 0.07013921, 0.06401648, 0.05652101, 0.07551602,\n",
              "        0.06191267, 0.06340586, 0.07840852, 0.10325309, 0.13584287,\n",
              "        0.21553925, 0.36567035, 0.5132746 , 0.6163608 , 0.7578088 ,\n",
              "        1.1033247 , 1.3238491 , 1.4219666 , 1.5058906 , 1.6046683 ,\n",
              "        1.7393656 , 1.7570317 , 1.4657861 , 1.5804269 , 1.532666  ,\n",
              "        1.4066421 , 1.4670522 , 1.0797542 , 0.8636627 , 0.5613541 ,\n",
              "        0.49931908, 0.50130665, 0.6445851 , 0.9764756 , 1.0390111 ,\n",
              "        1.123917  , 1.3827785 , 1.9302384 , 2.3074238 , 2.776668  ,\n",
              "        3.5060768 , 3.3298094 , 3.0838394 , 2.460467  , 1.5428641 ,\n",
              "        0.7410811 , 0.49624744, 0.6936489 , 1.0689819 , 1.207222  ,\n",
              "        1.3818594 , 1.3302897 , 0.9512491 , 0.31137535, 0.09811483,\n",
              "        0.4224408 , 0.49825016, 0.587021  , 0.3525065 , 0.36245292,\n",
              "        0.4760659 , 0.37734658, 0.34740528, 0.57962745, 0.38928673,\n",
              "        0.21708734, 0.23256138, 0.37013736, 0.50583076, 0.37007114,\n",
              "        0.42337623, 0.35041305, 0.23486696, 0.1937779 , 0.26407692,\n",
              "        0.22754288, 0.17567171, 0.13080202, 0.05750888, 0.08353151,\n",
              "        0.10653414, 0.125994  , 0.18507563, 0.20584393, 0.19109304,\n",
              "        0.26398617, 0.28888172, 0.228899  , 0.29563808, 0.25237697,\n",
              "        0.26400676, 0.3277844 , 0.4529555 , 0.55966866, 0.56979   ,\n",
              "        0.50963974, 0.4424538 , 0.43568176, 0.37627968, 0.23983492,\n",
              "        0.17607525, 0.12131064, 0.09760802, 0.09909017, 0.05731678,\n",
              "        0.10394233, 0.13736998, 0.23821749, 0.23751245, 0.22384262,\n",
              "        0.26307827, 0.33096328, 0.28868702, 0.257188  , 0.27103668,\n",
              "        0.27067715, 0.26576152, 0.25840637, 0.21614075, 0.23503998,\n",
              "        0.24809988, 0.22399876, 0.18977642, 0.14125279, 0.12039661,\n",
              "        0.07662841, 0.06534672, 0.05830806, 0.0911041 , 0.11364719,\n",
              "        0.1318433 , 0.08834294, 0.04707078, 0.05477783, 0.12427057,\n",
              "        0.16994177, 0.22016566, 0.26430362, 0.31518623, 0.41704056,\n",
              "        0.5595331 , 0.59839123, 0.5906156 , 0.63199985, 0.61021435,\n",
              "        0.60330665, 0.6159762 , 0.5181304 , 0.4279969 , 0.35935608,\n",
              "        0.32211754, 0.3736763 , 0.36306748, 0.26329368, 0.19505283,\n",
              "        0.1708404 , 0.22800772, 0.3029401 , 0.37951332, 0.42944935,\n",
              "        0.42785782, 0.43676296, 0.41192517, 0.32243946, 0.21637808,\n",
              "        0.11682101, 0.08101817, 0.0886037 , 0.19707544, 0.39715847,\n",
              "        0.5431047 , 0.6463462 , 0.75082016, 0.81116295, 0.87819916,\n",
              "        0.7022492 , 0.50012124, 0.30732647, 0.19645855, 0.16078813,\n",
              "        0.17644556, 0.25335747, 0.38892227, 0.35296112, 0.27420372,\n",
              "        0.19741575, 0.1519541 , 0.17095076, 0.19280243, 0.1830022 ,\n",
              "        0.2423717 , 0.2534177 , 0.3157267 , 0.4412907 , 0.35456848,\n",
              "        0.32025936, 0.26121548, 0.23409162, 0.16705704, 0.06841578,\n",
              "        0.09394509, 0.1459762 , 0.17877851, 0.16047642, 0.2379619 ,\n",
              "        0.2405608 , 0.22780037, 0.18790436, 0.13544546, 0.127997  ,\n",
              "        0.11022377, 0.07881518, 0.05480793, 0.05902018, 0.0379576 ,\n",
              "        0.02795247, 0.03310094, 0.05040768, 0.05010196, 0.0698501 ,\n",
              "        0.07012367, 0.07897241, 0.07589177, 0.07405717, 0.08622987,\n",
              "        0.0648158 , 0.05854579, 0.07727269, 0.0814743 , 0.07227789,\n",
              "        0.06642287, 0.07485635, 0.07909747, 0.0465731 , 0.06650189,\n",
              "        0.07154492, 0.07791301, 0.06662805, 0.07953099, 0.09069334,\n",
              "        0.06881578, 0.06388064, 0.05761337, 0.04932104], dtype=float32),\n",
              " 'mse': array([9.73205199e-04, 4.20630164e-03, 3.44957109e-03, 5.04305959e-03,\n",
              "        1.09191760e-02, 1.89081673e-02, 2.30837427e-02, 3.67801897e-02,\n",
              "        5.65513298e-02, 7.82932192e-02, 1.17129400e-01, 1.36373535e-01,\n",
              "        8.95016864e-02, 8.13995823e-02, 5.46889938e-02, 3.87496538e-02,\n",
              "        6.71745613e-02, 1.37605295e-01, 2.66236603e-01, 4.04610366e-01,\n",
              "        5.27233243e-01, 4.93443489e-01, 5.62495589e-01, 4.23597038e-01,\n",
              "        2.54498482e-01, 1.41368553e-01, 7.36920089e-02, 3.23891342e-02,\n",
              "        1.69184711e-02, 2.05274690e-02, 4.01536822e-02, 3.26649882e-02,\n",
              "        1.48466164e-02, 1.04258256e-02, 1.47418827e-02, 1.90087166e-02,\n",
              "        9.36071295e-03, 1.02019683e-02, 1.12043498e-02, 1.29707744e-02,\n",
              "        1.36873061e-02, 1.95661280e-02, 1.63667109e-02, 2.22610328e-02,\n",
              "        5.92654524e-03, 4.88888239e-03, 1.67883895e-02, 2.87247282e-02,\n",
              "        4.62107658e-02, 7.22539574e-02, 9.81785432e-02, 8.82115290e-02,\n",
              "        9.72338840e-02, 1.15311064e-01, 9.35709849e-02, 7.06801564e-02,\n",
              "        5.04314937e-02, 3.16240489e-02, 2.80500781e-02, 2.10497696e-02,\n",
              "        1.61728542e-02, 1.06999278e-02, 9.16774385e-03, 1.26781163e-03,\n",
              "        5.19534433e-03, 1.01305647e-02, 6.31926721e-03, 3.91075434e-03,\n",
              "        1.85491610e-03, 3.13504948e-03, 3.86359845e-03, 4.87603340e-03,\n",
              "        2.03801622e-03, 6.97674183e-03, 1.18079903e-02, 1.37175918e-02,\n",
              "        1.69431288e-02, 2.91379672e-02, 4.53555062e-02, 5.83205484e-02,\n",
              "        6.59413263e-02, 5.80438115e-02, 5.24492860e-02, 4.62316386e-02,\n",
              "        5.09702228e-02, 4.10464294e-02, 3.49731483e-02, 2.64965277e-02,\n",
              "        2.43787635e-02, 1.57476105e-02, 8.39897059e-03, 7.07783084e-03,\n",
              "        2.15603206e-02, 4.20042612e-02, 5.99570870e-02, 8.58408809e-02,\n",
              "        1.15107790e-01, 1.39314339e-01, 1.67273045e-01, 2.01906368e-01,\n",
              "        1.58152789e-01, 1.46532908e-01, 1.20271780e-01, 8.67129341e-02,\n",
              "        6.09327331e-02, 3.19929309e-02, 4.05598851e-03, 1.10752210e-02,\n",
              "        3.60728316e-02, 6.79828674e-02, 8.69676843e-02, 1.18334673e-01,\n",
              "        8.80097151e-02, 1.27240852e-01, 2.06763759e-01, 1.73716441e-01,\n",
              "        1.98473558e-01, 1.17777906e-01, 8.02074820e-02, 9.52352509e-02,\n",
              "        3.28298621e-02, 1.94320176e-02, 9.82397050e-03, 1.95053723e-02,\n",
              "        4.41788808e-02, 3.37381177e-02, 2.37140227e-02, 1.13733327e-02,\n",
              "        5.29031940e-02, 2.55170334e-02, 3.03178262e-02, 2.22966690e-02,\n",
              "        1.27720172e-02, 2.27165986e-02, 1.54863624e-02, 2.39147227e-02,\n",
              "        1.34192919e-02, 1.65384542e-02, 1.40185934e-02, 1.94728412e-02,\n",
              "        1.31958527e-02, 9.41743702e-03, 1.42390234e-02, 1.61143430e-02,\n",
              "        5.66745643e-03, 2.45590019e-03, 6.14516530e-03, 1.41746188e-02,\n",
              "        1.60749238e-02, 1.50923682e-02, 1.62809528e-02, 1.99736953e-02,\n",
              "        1.73329562e-02, 7.77516561e-03, 3.05610197e-03, 4.25266195e-03,\n",
              "        1.96970417e-03, 3.35540622e-03, 5.83851757e-03, 7.16925878e-03,\n",
              "        8.01378395e-03, 6.63732644e-03, 1.07648820e-02, 2.06014514e-02,\n",
              "        2.81298198e-02, 1.51337832e-02, 1.23785222e-02, 8.67116172e-03,\n",
              "        1.38080018e-02, 1.91824771e-02, 2.88416557e-02, 3.85266133e-02,\n",
              "        4.49007154e-02, 3.66370492e-02, 2.66813673e-02, 1.53628569e-02,\n",
              "        1.16036991e-02, 2.29971670e-02, 2.03015171e-02, 1.39392512e-02,\n",
              "        3.70835722e-03, 1.73734513e-03, 2.54110619e-03, 7.62967020e-03,\n",
              "        6.17018808e-03, 1.43208755e-02, 1.84851121e-02, 2.56930441e-02,\n",
              "        1.09122228e-02, 5.34060737e-03, 8.68052524e-03, 7.59178866e-03,\n",
              "        9.85757820e-03, 1.52859623e-02, 2.56127119e-02, 2.74538249e-02,\n",
              "        1.94842126e-02, 2.66201664e-02, 2.73874123e-02, 2.35102139e-02,\n",
              "        1.27528841e-02, 1.35229928e-02, 1.39548089e-02, 1.59396175e-02,\n",
              "        1.83238182e-02, 2.37185452e-02, 2.44714599e-02, 2.36144830e-02,\n",
              "        2.27106698e-02, 1.72420722e-02, 1.55788735e-02, 1.16451308e-02,\n",
              "        1.25097279e-02, 1.57162063e-02, 1.36698037e-02, 4.53768158e-03,\n",
              "        3.46060516e-03, 4.81261546e-03, 9.43953823e-03, 1.77443307e-02,\n",
              "        2.18546744e-02, 2.70830039e-02, 2.38454621e-02, 2.45224703e-02,\n",
              "        2.03968734e-02, 2.13107727e-02, 2.25935113e-02, 1.92602761e-02,\n",
              "        1.56852119e-02, 1.84014346e-02, 1.97231229e-02, 1.75704416e-02,\n",
              "        1.33025814e-02, 1.02325073e-02, 6.16371864e-03, 7.24153686e-03,\n",
              "        1.12529397e-02, 1.26329316e-02, 1.90093815e-02, 3.45970467e-02,\n",
              "        2.83264183e-02, 3.46513875e-02, 4.72369678e-02, 7.60167614e-02,\n",
              "        8.34816024e-02, 7.25896880e-02, 6.94238394e-02, 7.23758936e-02,\n",
              "        7.08776116e-02, 6.06948398e-02, 4.13235985e-02, 1.62093770e-02,\n",
              "        5.13639580e-03, 2.25770636e-03, 4.52620769e-03, 5.03282156e-03,\n",
              "        1.02718277e-02, 1.80519782e-02, 2.78567392e-02, 4.05084789e-02,\n",
              "        4.98114489e-02, 5.77585287e-02, 7.83196166e-02, 9.53522772e-02,\n",
              "        1.14197128e-01, 1.01504393e-01, 5.98944500e-02, 4.81134579e-02,\n",
              "        5.35322912e-02, 3.66510116e-02, 8.15740507e-03, 6.58518588e-03,\n",
              "        6.00222778e-03, 6.61676982e-03, 8.99941381e-03, 5.13783004e-03,\n",
              "        7.08697503e-03, 1.12888897e-02, 2.09105406e-02, 3.78465131e-02,\n",
              "        7.98211619e-02, 2.10707977e-01, 4.01894420e-01, 5.78752995e-01,\n",
              "        8.08904231e-01, 1.87845504e+00, 2.30132866e+00, 2.39747620e+00,\n",
              "        2.62167573e+00, 2.94591331e+00, 3.43081307e+00, 3.48861718e+00,\n",
              "        2.70330596e+00, 2.94544172e+00, 2.60582852e+00, 2.08931971e+00,\n",
              "        2.18645620e+00, 1.21864676e+00, 7.75866210e-01, 3.48819911e-01,\n",
              "        2.88520664e-01, 3.90473574e-01, 8.10171008e-01, 1.69362581e+00,\n",
              "        1.85473073e+00, 1.97267127e+00, 2.64592195e+00, 4.33446932e+00,\n",
              "        6.25645542e+00, 8.60085297e+00, 1.33715305e+01, 1.13380909e+01,\n",
              "        9.94865417e+00, 6.69450712e+00, 3.12627864e+00, 9.10601079e-01,\n",
              "        3.96455586e-01, 5.83763659e-01, 1.36020148e+00, 1.73478889e+00,\n",
              "        2.02897525e+00, 1.92718053e+00, 1.07312298e+00, 1.41061857e-01,\n",
              "        1.21200439e-02, 2.35773936e-01, 3.25736254e-01, 4.19258386e-01,\n",
              "        1.56106919e-01, 2.34611645e-01, 3.20486039e-01, 1.68737397e-01,\n",
              "        1.69838265e-01, 4.11049545e-01, 1.89004153e-01, 5.34819551e-02,\n",
              "        8.72068256e-02, 1.70417652e-01, 3.18092495e-01, 2.07415104e-01,\n",
              "        2.34027356e-01, 1.43713877e-01, 7.86786601e-02, 4.43343930e-02,\n",
              "        1.02308966e-01, 8.12565759e-02, 4.24689315e-02, 2.09778603e-02,\n",
              "        4.48019011e-03, 1.04391081e-02, 1.81075633e-02, 2.40697078e-02,\n",
              "        5.35756387e-02, 6.36786148e-02, 7.51394555e-02, 8.68392587e-02,\n",
              "        9.40705016e-02, 6.91583306e-02, 1.08881988e-01, 1.03593767e-01,\n",
              "        1.08840063e-01, 1.71357289e-01, 2.74021775e-01, 3.75051409e-01,\n",
              "        3.73895645e-01, 2.89700031e-01, 2.09225506e-01, 1.94227055e-01,\n",
              "        1.57009289e-01, 6.86757118e-02, 3.77256386e-02, 1.83707718e-02,\n",
              "        1.20971436e-02, 1.36131477e-02, 7.77409971e-03, 2.22334545e-02,\n",
              "        3.33277807e-02, 7.23517761e-02, 7.44942427e-02, 6.18841723e-02,\n",
              "        7.41228387e-02, 1.14084959e-01, 9.01588425e-02, 7.47175738e-02,\n",
              "        8.61926526e-02, 8.08460861e-02, 8.15235823e-02, 8.49405974e-02,\n",
              "        5.94092272e-02, 6.18971586e-02, 6.34979829e-02, 5.16145602e-02,\n",
              "        3.90519798e-02, 2.40901411e-02, 1.74191575e-02, 7.86573905e-03,\n",
              "        5.62646193e-03, 5.97015489e-03, 1.14554046e-02, 1.69429779e-02,\n",
              "        2.25473642e-02, 1.02893831e-02, 4.01887996e-03, 5.34024369e-03,\n",
              "        2.16371547e-02, 5.36075570e-02, 7.74285793e-02, 1.06794916e-01,\n",
              "        1.53033480e-01, 2.19570503e-01, 3.84137690e-01, 4.33182508e-01,\n",
              "        4.18379873e-01, 4.50426817e-01, 4.02728736e-01, 3.78511876e-01,\n",
              "        4.07294750e-01, 3.09799254e-01, 2.24360973e-01, 1.73714891e-01,\n",
              "        1.34548590e-01, 1.48106441e-01, 1.39121071e-01, 7.56103471e-02,\n",
              "        4.68878485e-02, 4.77963425e-02, 1.11912318e-01, 1.77340120e-01,\n",
              "        2.30052784e-01, 2.48698846e-01, 2.12805763e-01, 2.11544603e-01,\n",
              "        1.73357457e-01, 1.08091116e-01, 4.90545444e-02, 2.31738128e-02,\n",
              "        9.53456666e-03, 1.10291308e-02, 1.20509312e-01, 2.83769608e-01,\n",
              "        4.62609679e-01, 5.92333376e-01, 7.02562034e-01, 7.27301061e-01,\n",
              "        7.74245560e-01, 4.99969631e-01, 2.73597330e-01, 1.44884080e-01,\n",
              "        5.96534312e-02, 4.11046334e-02, 3.78360264e-02, 7.28936195e-02,\n",
              "        1.56130314e-01, 1.30377099e-01, 8.67240578e-02, 5.07950857e-02,\n",
              "        3.01335212e-02, 3.82077433e-02, 5.54803237e-02, 6.27427474e-02,\n",
              "        9.27450284e-02, 9.59682390e-02, 1.32974520e-01, 2.36447006e-01,\n",
              "        1.44640371e-01, 1.08399622e-01, 7.67614990e-02, 6.08429834e-02,\n",
              "        3.33881713e-02, 6.37321500e-03, 1.24040945e-02, 3.71524766e-02,\n",
              "        4.83108759e-02, 3.68869081e-02, 6.09106645e-02, 6.15688898e-02,\n",
              "        5.42555675e-02, 3.77916917e-02, 2.17356645e-02, 2.40925048e-02,\n",
              "        1.61997192e-02, 7.65910372e-03, 4.62692138e-03, 4.62223357e-03,\n",
              "        2.90992460e-03, 1.53934362e-03, 2.04937975e-03, 5.02340216e-03,\n",
              "        3.59421154e-03, 6.87282765e-03, 7.43692880e-03, 7.84640759e-03,\n",
              "        7.76835857e-03, 7.36190611e-03, 9.61079728e-03, 5.94533468e-03,\n",
              "        4.99350904e-03, 9.27717518e-03, 1.02903256e-02, 8.89626611e-03,\n",
              "        8.15857388e-03, 8.84147547e-03, 1.10668605e-02, 5.54461032e-03,\n",
              "        8.02814681e-03, 8.04181583e-03, 7.57426769e-03, 6.73111249e-03,\n",
              "        8.18995759e-03, 9.67471767e-03, 6.63581630e-03, 6.37514889e-03,\n",
              "        4.41010855e-03, 4.62204544e-03], dtype=float32),\n",
              " 'rmse': array([0.03119623, 0.06485601, 0.05873305, 0.07101449, 0.10449485,\n",
              "        0.13750696, 0.15193334, 0.19178164, 0.23780522, 0.27980927,\n",
              "        0.3422417 , 0.36928788, 0.29916832, 0.2853061 , 0.23385678,\n",
              "        0.19684933, 0.25918055, 0.37095186, 0.5159812 , 0.63609   ,\n",
              "        0.7261082 , 0.7024553 , 0.74999696, 0.6508434 , 0.50447845,\n",
              "        0.37599006, 0.2714627 , 0.1799698 , 0.13007101, 0.14327411,\n",
              "        0.20038383, 0.18073459, 0.12184669, 0.10210694, 0.12141616,\n",
              "        0.1378721 , 0.09675077, 0.10100479, 0.10585061, 0.11388931,\n",
              "        0.11699276, 0.13987897, 0.12793244, 0.1492013 , 0.07698406,\n",
              "        0.06992055, 0.12957   , 0.1694837 , 0.21496688, 0.26880097,\n",
              "        0.31333455, 0.29700428, 0.31182346, 0.3395748 , 0.30589372,\n",
              "        0.2658574 , 0.22456957, 0.17783152, 0.16748157, 0.1450854 ,\n",
              "        0.12717253, 0.10344046, 0.09574833, 0.03560634, 0.07207873,\n",
              "        0.1006507 , 0.07949382, 0.06253602, 0.04306874, 0.05599151,\n",
              "        0.06215785, 0.0698286 , 0.04514439, 0.08352689, 0.10866458,\n",
              "        0.11712212, 0.13016576, 0.17069848, 0.21296833, 0.24149647,\n",
              "        0.25679043, 0.24092281, 0.2290181 , 0.21501544, 0.22576585,\n",
              "        0.20259918, 0.18701106, 0.16277753, 0.156137  , 0.12548947,\n",
              "        0.0916459 , 0.08412984, 0.14683433, 0.20494941, 0.24486138,\n",
              "        0.29298615, 0.3392754 , 0.37324834, 0.4089903 , 0.4493399 ,\n",
              "        0.39768425, 0.3827962 , 0.3468022 , 0.2944706 , 0.24684557,\n",
              "        0.17886569, 0.06368664, 0.10523888, 0.18992847, 0.26073524,\n",
              "        0.29490283, 0.34399804, 0.29666427, 0.35670838, 0.4547128 ,\n",
              "        0.41679308, 0.44550368, 0.34318787, 0.28320923, 0.3086021 ,\n",
              "        0.18119012, 0.13939878, 0.09911595, 0.13966163, 0.21018773,\n",
              "        0.18367939, 0.15399358, 0.10664583, 0.23000692, 0.15974052,\n",
              "        0.17412013, 0.14932069, 0.11301334, 0.15072025, 0.12444422,\n",
              "        0.15464385, 0.11584166, 0.12860192, 0.11840013, 0.13954513,\n",
              "        0.11487321, 0.09704348, 0.11932737, 0.12694228, 0.07528251,\n",
              "        0.04955704, 0.0783911 , 0.11905721, 0.12678693, 0.12285101,\n",
              "        0.12759683, 0.14132832, 0.13165468, 0.0881769 , 0.05528202,\n",
              "        0.06521244, 0.04438135, 0.05792587, 0.0764102 , 0.08467148,\n",
              "        0.08951975, 0.08146979, 0.10375394, 0.14353204, 0.16771947,\n",
              "        0.12301944, 0.1112588 , 0.09311907, 0.11750744, 0.13850081,\n",
              "        0.16982831, 0.19628197, 0.21189788, 0.19140807, 0.16334431,\n",
              "        0.12394699, 0.10772046, 0.15164816, 0.1424834 , 0.1180646 ,\n",
              "        0.06089628, 0.04168147, 0.05040939, 0.08734798, 0.07855055,\n",
              "        0.11966985, 0.13595995, 0.1602905 , 0.10446159, 0.07307945,\n",
              "        0.09316933, 0.08713087, 0.09928533, 0.12363641, 0.16003972,\n",
              "        0.16569196, 0.13958585, 0.16315688, 0.16549142, 0.1533304 ,\n",
              "        0.11292867, 0.11628841, 0.11813047, 0.1262522 , 0.1353655 ,\n",
              "        0.15400827, 0.15643357, 0.15367004, 0.1507006 , 0.13130906,\n",
              "        0.12481535, 0.1079126 , 0.11184689, 0.12536429, 0.11691795,\n",
              "        0.06736232, 0.05882691, 0.06937302, 0.09715728, 0.13320784,\n",
              "        0.14783327, 0.16456915, 0.15441975, 0.1565965 , 0.14281762,\n",
              "        0.1459821 , 0.15031138, 0.1387814 , 0.12524061, 0.13565189,\n",
              "        0.14043903, 0.13255355, 0.11533682, 0.10115586, 0.07850935,\n",
              "        0.08509722, 0.10607988, 0.11239631, 0.13787451, 0.1860028 ,\n",
              "        0.16830453, 0.18614884, 0.21734066, 0.27571136, 0.28893182,\n",
              "        0.2694247 , 0.26348406, 0.26902768, 0.2662285 , 0.24636322,\n",
              "        0.20328206, 0.12731604, 0.07166865, 0.04751533, 0.0672771 ,\n",
              "        0.07094238, 0.10135002, 0.13435765, 0.16690339, 0.20126717,\n",
              "        0.2231848 , 0.24033006, 0.2798564 , 0.30879164, 0.33793062,\n",
              "        0.31859753, 0.24473344, 0.21934779, 0.23137045, 0.19144452,\n",
              "        0.09031835, 0.08114916, 0.07747404, 0.08134352, 0.09486525,\n",
              "        0.07167865, 0.08418418, 0.10624918, 0.14460477, 0.1945418 ,\n",
              "        0.28252637, 0.45902944, 0.6339514 , 0.76075816, 0.89939106,\n",
              "        1.3705676 , 1.5170131 , 1.5483786 , 1.6191589 , 1.7163663 ,\n",
              "        1.8522455 , 1.8677841 , 1.6441733 , 1.7162288 , 1.6142579 ,\n",
              "        1.4454479 , 1.478667  , 1.1039233 , 0.88083273, 0.5906098 ,\n",
              "        0.5371412 , 0.6248788 , 0.90009505, 1.3013937 , 1.3618851 ,\n",
              "        1.4045181 , 1.626629  , 2.081939  , 2.5012906 , 2.932721  ,\n",
              "        3.6567101 , 3.3672085 , 3.1541488 , 2.5873744 , 1.7681286 ,\n",
              "        0.9542542 , 0.6296472 , 0.7640443 , 1.1662767 , 1.3171139 ,\n",
              "        1.424421  , 1.3882294 , 1.0359164 , 0.37558204, 0.11009107,\n",
              "        0.48556557, 0.5707331 , 0.64750165, 0.39510366, 0.48436722,\n",
              "        0.56611484, 0.4107766 , 0.41211438, 0.64113146, 0.4347461 ,\n",
              "        0.23126166, 0.295308  , 0.4128167 , 0.56399685, 0.45542845,\n",
              "        0.4837637 , 0.37909615, 0.28049713, 0.21055733, 0.31985772,\n",
              "        0.2850554 , 0.20607992, 0.14483735, 0.06693422, 0.10217196,\n",
              "        0.13456434, 0.15514414, 0.23146412, 0.25234622, 0.27411577,\n",
              "        0.294685  , 0.30670914, 0.2629797 , 0.32997268, 0.32185987,\n",
              "        0.32990915, 0.4139532 , 0.5234709 , 0.61241436, 0.6114701 ,\n",
              "        0.5382379 , 0.45741174, 0.44071198, 0.39624396, 0.2620605 ,\n",
              "        0.19423088, 0.13553882, 0.10998701, 0.11667539, 0.08817085,\n",
              "        0.14910887, 0.18255897, 0.26898286, 0.27293634, 0.24876529,\n",
              "        0.2722551 , 0.33776468, 0.30026463, 0.27334514, 0.29358587,\n",
              "        0.28433445, 0.28552336, 0.2914457 , 0.2437401 , 0.2487914 ,\n",
              "        0.25198805, 0.2271884 , 0.19761573, 0.15520999, 0.13198166,\n",
              "        0.08868899, 0.07500975, 0.07726678, 0.10702992, 0.13016519,\n",
              "        0.1501578 , 0.10143659, 0.06339464, 0.07307697, 0.14709572,\n",
              "        0.23153307, 0.2782599 , 0.32679492, 0.3911949 , 0.46858352,\n",
              "        0.61978847, 0.65816605, 0.6468229 , 0.6711384 , 0.6346091 ,\n",
              "        0.6152332 , 0.6381965 , 0.5565961 , 0.4736676 , 0.41679117,\n",
              "        0.36680868, 0.38484597, 0.37298936, 0.27497336, 0.21653605,\n",
              "        0.21862374, 0.33453298, 0.42111766, 0.4796382 , 0.49869713,\n",
              "        0.46130875, 0.45993978, 0.41636217, 0.32877213, 0.22148262,\n",
              "        0.15222947, 0.09764511, 0.10501967, 0.3471445 , 0.5327003 ,\n",
              "        0.68015414, 0.7696319 , 0.8381897 , 0.85281956, 0.87991226,\n",
              "        0.7070853 , 0.5230653 , 0.38063642, 0.24424054, 0.20274276,\n",
              "        0.19451484, 0.26998818, 0.39513323, 0.36107767, 0.2944895 ,\n",
              "        0.22537766, 0.1735901 , 0.195468  , 0.23554263, 0.250485  ,\n",
              "        0.3045407 , 0.30978742, 0.36465672, 0.48625815, 0.3803161 ,\n",
              "        0.32924098, 0.27705866, 0.24666369, 0.1827243 , 0.07983242,\n",
              "        0.11137367, 0.19274977, 0.21979736, 0.19205965, 0.24680084,\n",
              "        0.2481308 , 0.23292825, 0.19440085, 0.1474302 , 0.1552176 ,\n",
              "        0.12727812, 0.08751631, 0.06802148, 0.06798701, 0.05394372,\n",
              "        0.03923447, 0.04527007, 0.07087597, 0.05995174, 0.08290252,\n",
              "        0.08623763, 0.08857995, 0.08813829, 0.08580155, 0.09803468,\n",
              "        0.077106  , 0.07066476, 0.09631808, 0.10144123, 0.09432001,\n",
              "        0.09032482, 0.09402911, 0.10519914, 0.07446214, 0.08959992,\n",
              "        0.08967616, 0.08703027, 0.08204336, 0.09049839, 0.09836014,\n",
              "        0.08146052, 0.07984453, 0.06640865, 0.06798562], dtype=float32),\n",
              " 'mape': array([ 0.3149985 ,  0.5826854 ,  0.63394105,  0.706216  ,  1.0107818 ,\n",
              "         1.4628024 ,  1.6948668 ,  1.921671  ,  2.389619  ,  2.9842658 ,\n",
              "         3.9257321 ,  4.3001914 ,  3.4695334 ,  3.3198786 ,  2.6538837 ,\n",
              "         2.2204685 ,  2.5530832 ,  3.5010695 ,  5.253381  ,  7.3323674 ,\n",
              "         8.968246  ,  8.805833  ,  9.659925  ,  8.447959  ,  6.5165358 ,\n",
              "         4.509968  ,  2.6790972 ,  1.8856707 ,  1.3003445 ,  1.4496931 ,\n",
              "         2.0556686 ,  1.7481912 ,  1.211097  ,  0.98516077,  1.4754547 ,\n",
              "         1.5901482 ,  1.0544711 ,  0.9978803 ,  1.2053908 ,  1.2607533 ,\n",
              "         1.2476379 ,  1.4773554 ,  1.3520167 ,  1.7142469 ,  0.73932785,\n",
              "         0.76193297,  1.3659611 ,  1.852051  ,  2.5999534 ,  3.1301801 ,\n",
              "         3.5684795 ,  3.4333003 ,  3.9881678 ,  4.439614  ,  4.0610056 ,\n",
              "         3.5144427 ,  2.903984  ,  2.321173  ,  2.188787  ,  1.6752515 ,\n",
              "         1.3139014 ,  1.1950958 ,  1.0996004 ,  0.44221082,  0.719133  ,\n",
              "         1.2457498 ,  0.9555088 ,  0.6538736 ,  0.4836849 ,  0.59043074,\n",
              "         0.607279  ,  0.8230001 ,  0.5522795 ,  0.8929031 ,  0.9963597 ,\n",
              "         1.3457025 ,  1.5645219 ,  2.087872  ,  2.6292179 ,  3.2442975 ,\n",
              "         3.5198007 ,  3.2970934 ,  3.0780332 ,  2.9162736 ,  3.0679417 ,\n",
              "         2.750119  ,  2.5829942 ,  2.2324932 ,  2.120292  ,  1.7140446 ,\n",
              "         1.0934807 ,  1.0687455 ,  1.72788   ,  2.232622  ,  2.5727706 ,\n",
              "         3.5186906 ,  4.26204   ,  4.725622  ,  5.268266  ,  5.4840384 ,\n",
              "         4.6851716 ,  4.758466  ,  4.282803  ,  3.7488256 ,  3.0441465 ,\n",
              "         1.9973685 ,  0.751415  ,  1.1189648 ,  1.4954283 ,  2.2577052 ,\n",
              "         3.026284  ,  3.6560626 ,  3.5179775 ,  4.310031  ,  5.501393  ,\n",
              "         4.6987433 ,  5.164161  ,  3.9233077 ,  3.2619965 ,  3.6017358 ,\n",
              "         2.0025907 ,  1.3270445 ,  1.1654602 ,  1.5293943 ,  2.2607024 ,\n",
              "         2.0253386 ,  1.7429987 ,  1.139155  ,  2.6650798 ,  1.8446473 ,\n",
              "         2.0341206 ,  1.6882039 ,  1.346983  ,  1.5941169 ,  1.204384  ,\n",
              "         1.555744  ,  1.1912956 ,  1.4610553 ,  1.2377313 ,  1.3562658 ,\n",
              "         1.2814178 ,  1.0567414 ,  1.197834  ,  1.3823702 ,  0.66080934,\n",
              "         0.3863014 ,  0.7608176 ,  1.2783601 ,  1.2289553 ,  1.1010823 ,\n",
              "         1.1059957 ,  1.5026919 ,  1.3458076 ,  0.80996984,  0.48441017,\n",
              "         0.65566075,  0.468741  ,  0.6243023 ,  0.6485517 ,  0.759162  ,\n",
              "         0.94941473,  0.803035  ,  1.0207986 ,  1.4512025 ,  1.7715311 ,\n",
              "         1.2213066 ,  1.192644  ,  0.82073194,  1.0810982 ,  1.3027037 ,\n",
              "         1.6402732 ,  1.9740503 ,  1.9560082 ,  1.8926468 ,  1.6302911 ,\n",
              "         1.2535    ,  1.0020653 ,  1.6084224 ,  1.4491081 ,  1.2200353 ,\n",
              "         0.5855923 ,  0.40937266,  0.4419635 ,  0.819002  ,  0.7159131 ,\n",
              "         1.2453954 ,  1.4828562 ,  1.8179884 ,  1.1179569 ,  0.7474577 ,\n",
              "         0.9913637 ,  0.9082778 ,  0.92311186,  1.270128  ,  1.7975194 ,\n",
              "         1.8567135 ,  1.455717  ,  1.7339197 ,  1.8646703 ,  1.6625481 ,\n",
              "         1.2243707 ,  1.3105943 ,  1.2600923 ,  1.324338  ,  1.3126814 ,\n",
              "         1.5999886 ,  1.6480831 ,  1.6190144 ,  1.4642392 ,  1.2957149 ,\n",
              "         1.2658403 ,  1.1426002 ,  1.1006447 ,  1.3385954 ,  1.1850334 ,\n",
              "         0.6840511 ,  0.61302197,  0.6855794 ,  0.9934732 ,  1.2736306 ,\n",
              "         1.5144451 ,  1.8115859 ,  1.6633598 ,  1.7054465 ,  1.6531391 ,\n",
              "         1.6751971 ,  1.7054377 ,  1.5636047 ,  1.4507577 ,  1.5062829 ,\n",
              "         1.51986   ,  1.4033327 ,  1.1936874 ,  1.0369097 ,  0.84996754,\n",
              "         0.9362741 ,  1.0466086 ,  1.2564892 ,  1.2081127 ,  1.7174976 ,\n",
              "         1.5125712 ,  1.8720558 ,  2.2295003 ,  2.9110131 ,  2.9774172 ,\n",
              "         2.687225  ,  2.6020799 ,  2.853515  ,  2.915863  ,  2.6845496 ,\n",
              "         2.2600746 ,  1.3881259 ,  0.71993744,  0.46759796,  0.5531016 ,\n",
              "         0.70393   ,  0.9509911 ,  1.1868517 ,  1.5353669 ,  1.7762283 ,\n",
              "         2.0820315 ,  2.476406  ,  2.7861586 ,  2.8412251 ,  3.099235  ,\n",
              "         2.9523318 ,  2.218992  ,  2.1343448 ,  2.324109  ,  1.7613549 ,\n",
              "         0.77701086,  0.73281634,  0.6692517 ,  0.586602  ,  0.78309125,\n",
              "         0.6398736 ,  0.6500881 ,  0.7983812 ,  1.0416692 ,  1.3590848 ,\n",
              "         2.1312091 ,  3.5435326 ,  4.859721  ,  5.718871  ,  6.902871  ,\n",
              "         9.499233  , 11.3078165 , 12.033714  , 12.541136  , 13.116251  ,\n",
              "        13.82698   , 13.666185  , 11.176458  , 11.893349  , 11.396121  ,\n",
              "        10.390765  , 10.775287  ,  7.8989887 ,  6.291449  ,  4.0886345 ,\n",
              "         3.595384  ,  3.5233765 ,  4.328302  ,  6.294404  ,  6.746047  ,\n",
              "         7.793645  , 10.041709  , 14.614476  , 18.555746  , 23.116623  ,\n",
              "        30.115648  , 28.503195  , 26.222399  , 20.836016  , 13.058919  ,\n",
              "         6.0889177 ,  3.9269705 ,  5.1767554 ,  7.928575  ,  8.889568  ,\n",
              "        10.143428  ,  9.74182   ,  6.941165  ,  2.2758658 ,  0.7188343 ,\n",
              "         3.1374211 ,  3.7116241 ,  4.3606596 ,  2.6220453 ,  2.6953914 ,\n",
              "         3.5440128 ,  2.8027465 ,  2.578051  ,  4.294496  ,  2.8850908 ,\n",
              "         1.6115183 ,  1.7255813 ,  2.7494059 ,  3.765881  ,  2.7489758 ,\n",
              "         3.1435556 ,  2.5909731 ,  1.7354481 ,  1.431455  ,  1.951481  ,\n",
              "         1.6812727 ,  1.2957851 ,  0.9655363 ,  0.42467043,  0.61349857,\n",
              "         0.7794712 ,  0.9207027 ,  1.3387704 ,  1.481562  ,  1.36771   ,\n",
              "         1.8978772 ,  2.0744584 ,  1.6341474 ,  2.100514  ,  1.7769006 ,\n",
              "         1.8478012 ,  2.2694404 ,  3.1161618 ,  3.8340514 ,  3.8855631 ,\n",
              "         3.465887  ,  3.0078678 ,  2.9593446 ,  2.5494802 ,  1.6249226 ,\n",
              "         1.192735  ,  0.82298356,  0.6620996 ,  0.6695657 ,  0.3867933 ,\n",
              "         0.7070525 ,  0.9354866 ,  1.6214387 ,  1.6189154 ,  1.5265201 ,\n",
              "         1.7929657 ,  2.256309  ,  1.9642968 ,  1.748295  ,  1.8434044 ,\n",
              "         1.8437209 ,  1.8129766 ,  1.7655408 ,  1.4780166 ,  1.6074002 ,\n",
              "         1.696812  ,  1.5318705 ,  1.2960356 ,  0.9635771 ,  0.82074505,\n",
              "         0.52080196,  0.44354993,  0.39493775,  0.6154803 ,  0.7667188 ,\n",
              "         0.8888942 ,  0.59567183,  0.31702206,  0.36855522,  0.8316634 ,\n",
              "         1.126649  ,  1.4524313 ,  1.7329816 ,  2.0531213 ,  2.7071347 ,\n",
              "         3.597776  ,  3.8170722 ,  3.7480884 ,  3.995965  ,  3.846658  ,\n",
              "         3.7873614 ,  3.8384047 ,  3.2096834 ,  2.6392293 ,  2.2044053 ,\n",
              "         1.9711809 ,  2.2851038 ,  2.2140975 ,  1.6029027 ,  1.1836762 ,\n",
              "         1.0278273 ,  1.3492137 ,  1.7771211 ,  2.2181761 ,  2.5043035 ,\n",
              "         2.4912806 ,  2.5368068 ,  2.3887231 ,  1.8672655 ,  1.2526911 ,\n",
              "         0.6758359 ,  0.4685644 ,  0.511224  ,  1.1659433 ,  2.3591416 ,\n",
              "         3.240825  ,  3.870317  ,  4.5016284 ,  4.8656826 ,  5.2691855 ,\n",
              "         4.203362  ,  2.9828408 ,  1.8332163 ,  1.1625922 ,  0.9416928 ,\n",
              "         1.0296601 ,  1.466303  ,  2.2449534 ,  2.0348759 ,  1.5767472 ,\n",
              "         1.1320553 ,  0.8696182 ,  0.97518337,  1.0940657 ,  1.0318555 ,\n",
              "         1.363759  ,  1.4230977 ,  1.768986  ,  2.468464  ,  1.982223  ,\n",
              "         1.7888978 ,  1.4580864 ,  1.3064331 ,  0.9317018 ,  0.38152555,\n",
              "         0.5240316 ,  0.8149877 ,  0.9974609 ,  0.8949576 ,  1.3274239 ,\n",
              "         1.3423901 ,  1.2706665 ,  1.0470572 ,  0.7541868 ,  0.7127185 ,\n",
              "         0.61276066,  0.43742716,  0.30337343,  0.32569984,  0.20937759,\n",
              "         0.15403722,  0.1821665 ,  0.2773952 ,  0.27547643,  0.38413996,\n",
              "         0.38548845,  0.43387377,  0.4165801 ,  0.4064752 ,  0.47319984,\n",
              "         0.35563093,  0.32112938,  0.42375928,  0.44678348,  0.39612326,\n",
              "         0.36396885,  0.40971488,  0.43283147,  0.25445792,  0.36259592,\n",
              "         0.38951784,  0.4233843 ,  0.36092013,  0.43027467,  0.4904958 ,\n",
              "         0.3715935 ,  0.3445944 ,  0.3107606 ,  0.26587066], dtype=float32),\n",
              " 'mase': 3.111001}"
            ]
          },
          "metadata": {},
          "execution_count": 118
        }
      ]
    },
    {
      "cell_type": "code",
      "source": [
        "def evaluate_preds(y_true, y_pred):\n",
        "  # Make sure float32 (for metric calculations)\n",
        "  y_true = tf.cast(y_true, dtype=tf.float32)\n",
        "  y_pred = tf.cast(y_pred, dtype=tf.float32)\n",
        "\n",
        "  # Calculate various metrics\n",
        "  mae = tf.keras.metrics.mean_absolute_error(y_true, y_pred)\n",
        "  mse = tf.keras.metrics.mean_squared_error(y_true, y_pred)\n",
        "  rmse = tf.sqrt(mse)\n",
        "  mape = tf.keras.metrics.mean_absolute_percentage_error(y_true, y_pred)\n",
        "  mase = mean_absolute_scaled_error(y_true, y_pred)\n",
        "\n",
        "  # Account for different sized metrics (for longer horizons, reduce to single number)\n",
        "  if mae.ndim > 0: # if mae isn't already a scalar, reduce it to one by aggregating tensors to mean\n",
        "    mae = tf.reduce_mean(mae)\n",
        "    mse = tf.reduce_mean(mse)\n",
        "    rmse = tf.reduce_mean(rmse)\n",
        "    mape = tf.reduce_mean(mape)\n",
        "    mase = tf.reduce_mean(mase)\n",
        "\n",
        "  return {\"mae\": mae.numpy(),\n",
        "          \"mse\": mse.numpy(),\n",
        "          \"rmse\": rmse.numpy(),\n",
        "          \"mape\": mape.numpy(),\n",
        "          \"mase\": mase.numpy()}"
      ],
      "metadata": {
        "id": "aa5_z5WRe61k"
      },
      "execution_count": 119,
      "outputs": []
    },
    {
      "cell_type": "code",
      "source": [
        "# Get model_3 results aggregated to single values\n",
        "model_3_results = evaluate_preds(y_true=tf.squeeze(test_labels),\n",
        "                                 y_pred=model_3_preds)\n",
        "model_3_results"
      ],
      "metadata": {
        "colab": {
          "base_uri": "https://localhost:8080/"
        },
        "id": "nSUIlN8pe-iE",
        "outputId": "48f5c0b1-6807-4d3f-867e-b69de5cda00b"
      },
      "execution_count": 120,
      "outputs": [
        {
          "output_type": "execute_result",
          "data": {
            "text/plain": [
              "{'mae': 0.2914254,\n",
              " 'mse': 0.2995387,\n",
              " 'rmse': 0.3254337,\n",
              " 'mape': 2.5540545,\n",
              " 'mase': 3.111001}"
            ]
          },
          "metadata": {},
          "execution_count": 120
        }
      ]
    },
    {
      "cell_type": "code",
      "source": [
        "offset = 300\n",
        "plt.figure(figsize=(10, 7))\n",
        "plot_time_series(timesteps=X_test[-len(test_windows):], values=test_labels[:, 0], start=offset, label=\"Test_data\")\n",
        "# Checking the shape of model_3_preds results in [n_test_samples, HORIZON] (this will screw up the plot)\n",
        "plot_time_series(timesteps=X_test[-len(test_windows):], values=model_3_preds, start=offset, label=\"model_3_preds\")"
      ],
      "metadata": {
        "colab": {
          "base_uri": "https://localhost:8080/",
          "height": 445
        },
        "id": "uF083ZtxfBVr",
        "outputId": "75f7dc02-7826-4045-9280-1e88df8c1da2"
      },
      "execution_count": 121,
      "outputs": [
        {
          "output_type": "display_data",
          "data": {
            "text/plain": [
              "<Figure size 720x504 with 1 Axes>"
            ],
            "image/png": "[encoded data removed]"
          },
          "metadata": {
            "needs_background": "light"
          }
        }
      ]
    },
    {
      "cell_type": "code",
      "source": [
        "offset = 300\n",
        "plt.figure(figsize=(10, 7))\n",
        "# Plot model_3_preds by aggregating them (note: this condenses information so the preds will look fruther ahead than the test data)\n",
        "plot_time_series(timesteps=X_test[-len(test_windows):], \n",
        "                 values=test_labels[:, 0], \n",
        "                 start=offset, \n",
        "                 label=\"Test_data\")\n",
        "plot_time_series(timesteps=X_test[-len(test_windows):], \n",
        "                 values=tf.reduce_mean(model_3_preds, axis=1), \n",
        "                 format=\"-\",\n",
        "                 start=offset, \n",
        "                 label=\"model_3_preds\")"
      ],
      "metadata": {
        "colab": {
          "base_uri": "https://localhost:8080/",
          "height": 442
        },
        "id": "ptzSBP-QfF28",
        "outputId": "8f3a43b6-02c7-45d4-b110-3522d821cef9"
      },
      "execution_count": 122,
      "outputs": [
        {
          "output_type": "display_data",
          "data": {
            "text/plain": [
              "<Figure size 720x504 with 1 Axes>"
            ],
            "image/png": "[encoded data removed]"
          },
          "metadata": {
            "needs_background": "light"
          }
        }
      ]
    },
    {
      "cell_type": "code",
      "source": [
        "pd.DataFrame({\"naive\": naive_results[\"mae\"], \n",
        "              \"horizon_1_window_7\": model_1_results[\"mae\"], \n",
        "              \"horizon_1_window_30\": model_2_results[\"mae\"], \n",
        "              \"horizon_7_window_30\": model_3_results[\"mae\"]}, index=[\"mae\"]).plot(figsize=(10, 7), kind=\"bar\");"
      ],
      "metadata": {
        "colab": {
          "base_uri": "https://localhost:8080/",
          "height": 440
        },
        "id": "UMcEUhGofJwl",
        "outputId": "2174c832-6ce1-4ac3-b9d3-d8cb7ff8db96"
      },
      "execution_count": 123,
      "outputs": [
        {
          "output_type": "display_data",
          "data": {
            "text/plain": [
              "<Figure size 720x504 with 1 Axes>"
            ],
            "image/png": "[encoded data removed]"
          },
          "metadata": {
            "needs_background": "light"
          }
        }
      ]
    },
    {
      "cell_type": "markdown",
      "source": [
        "# Model 4: Conv1D"
      ],
      "metadata": {
        "id": "DjdObmZkfPE1"
      }
    },
    {
      "cell_type": "code",
      "source": [
        "HORIZON = 1 # predict next day\n",
        "WINDOW_SIZE = 7 # use previous week worth of data"
      ],
      "metadata": {
        "id": "8iB5a7RIfQfc"
      },
      "execution_count": 124,
      "outputs": []
    },
    {
      "cell_type": "code",
      "source": [
        "# Create windowed dataset\n",
        "full_windows, full_labels = make_windows(prices, window_size=WINDOW_SIZE, horizon=HORIZON)\n",
        "len(full_windows), len(full_labels)"
      ],
      "metadata": {
        "colab": {
          "base_uri": "https://localhost:8080/"
        },
        "id": "uKYGCmt1fV5d",
        "outputId": "a09015fd-3473-465b-b169-8e1cd14f9b7f"
      },
      "execution_count": 125,
      "outputs": [
        {
          "output_type": "execute_result",
          "data": {
            "text/plain": [
              "(2598, 2598)"
            ]
          },
          "metadata": {},
          "execution_count": 125
        }
      ]
    },
    {
      "cell_type": "code",
      "source": [
        "# Create train/test splits\n",
        "train_windows, test_windows, train_labels, test_labels = make_train_test_splits(full_windows, full_labels)\n",
        "len(train_windows), len(test_windows), len(train_labels), len(test_labels)"
      ],
      "metadata": {
        "colab": {
          "base_uri": "https://localhost:8080/"
        },
        "id": "PMAFoxK6fYf9",
        "outputId": "2618aab5-9e31-4722-e50e-ad1718fea285"
      },
      "execution_count": 126,
      "outputs": [
        {
          "output_type": "execute_result",
          "data": {
            "text/plain": [
              "(2078, 520, 2078, 520)"
            ]
          },
          "metadata": {},
          "execution_count": 126
        }
      ]
    },
    {
      "cell_type": "code",
      "source": [
        "# Check data sample shapes\n",
        "train_windows[0].shape # returns (WINDOW_SIZE, )"
      ],
      "metadata": {
        "colab": {
          "base_uri": "https://localhost:8080/"
        },
        "id": "UKHoggoyfaxc",
        "outputId": "534eae8a-7dbb-4a03-84e5-b0674843bb48"
      },
      "execution_count": 127,
      "outputs": [
        {
          "output_type": "execute_result",
          "data": {
            "text/plain": [
              "(7,)"
            ]
          },
          "metadata": {},
          "execution_count": 127
        }
      ]
    },
    {
      "cell_type": "code",
      "source": [
        "# Before we pass our data to the Conv1D layer, we have to reshape it in order to make sure it works\n",
        "x = tf.constant(train_windows[0])\n",
        "expand_dims_layer = layers.Lambda(lambda x: tf.expand_dims(x, axis=1)) # add an extra dimension for timesteps\n",
        "print(f\"Original shape: {x.shape}\") # (WINDOW_SIZE)\n",
        "print(f\"Expanded shape: {expand_dims_layer(x).shape}\") # (WINDOW_SIZE, input_dim) \n",
        "print(f\"Original values with expanded shape:\\n {expand_dims_layer(x)}\")"
      ],
      "metadata": {
        "colab": {
          "base_uri": "https://localhost:8080/"
        },
        "id": "wkgTPYHRffDU",
        "outputId": "6c1e6506-9134-4bf8-ccf3-415372262f48"
      },
      "execution_count": 128,
      "outputs": [
        {
          "output_type": "stream",
          "name": "stdout",
          "text": [
            "Original shape: (7,)\n",
            "Expanded shape: (7, 1)\n",
            "Original values with expanded shape:\n",
            " [[1.82573]\n",
            " [1.81868]\n",
            " [1.8065 ]\n",
            " [1.81079]\n",
            " [1.80969]\n",
            " [1.80036]\n",
            " [1.79826]]\n"
          ]
        }
      ]
    },
    {
      "cell_type": "code",
      "source": [
        "tf.random.set_seed(42)\n",
        "\n",
        "# Create model\n",
        "model_4 = tf.keras.Sequential([\n",
        "  # Create Lambda layer to reshape inputs, without this layer, the model will error\n",
        "  layers.Lambda(lambda x: tf.expand_dims(x, axis=1)), # resize the inputs to adjust for window size / Conv1D 3D input requirements\n",
        "  layers.Conv1D(filters=128, kernel_size=5, padding=\"causal\", activation=\"relu\"),\n",
        "  layers.Dense(HORIZON)\n",
        "], name=\"model_4_conv1D\")\n",
        "\n",
        "# Compile model\n",
        "model_4.compile(loss=\"mae\",\n",
        "                optimizer=tf.keras.optimizers.Adam())\n",
        "\n",
        "# Fit model\n",
        "model_4.fit(train_windows,\n",
        "            train_labels,\n",
        "            batch_size=128, \n",
        "            epochs=100,\n",
        "            verbose=0,\n",
        "            validation_data=(test_windows, test_labels),\n",
        "            callbacks=[create_model_checkpoint(model_name=model_4.name)])"
      ],
      "metadata": {
        "colab": {
          "base_uri": "https://localhost:8080/"
        },
        "id": "X465HZjIflss",
        "outputId": "8694b3ee-a9bd-45e0-e675-c18ed224d41b"
      },
      "execution_count": 129,
      "outputs": [
        {
          "output_type": "execute_result",
          "data": {
            "text/plain": [
              "<keras.callbacks.History at 0x7fe5eb168390>"
            ]
          },
          "metadata": {},
          "execution_count": 129
        }
      ]
    },
    {
      "cell_type": "code",
      "source": [
        "model_4.summary()"
      ],
      "metadata": {
        "colab": {
          "base_uri": "https://localhost:8080/"
        },
        "id": "ufdZUSLHfvxM",
        "outputId": "260dbd20-752a-4278-8f72-48da7139e5cd"
      },
      "execution_count": 130,
      "outputs": [
        {
          "output_type": "stream",
          "name": "stdout",
          "text": [
            "Model: \"model_4_conv1D\"\n",
            "_________________________________________________________________\n",
            " Layer (type)                Output Shape              Param #   \n",
            "=================================================================\n",
            " lambda_1 (Lambda)           (None, 1, 7)              0         \n",
            "                                                                 \n",
            " conv1d (Conv1D)             (None, 1, 128)            4608      \n",
            "                                                                 \n",
            " dense_6 (Dense)             (None, 1, 1)              129       \n",
            "                                                                 \n",
            "=================================================================\n",
            "Total params: 4,737\n",
            "Trainable params: 4,737\n",
            "Non-trainable params: 0\n",
            "_________________________________________________________________\n"
          ]
        }
      ]
    },
    {
      "cell_type": "code",
      "source": [
        "# Load in best performing Conv1D model and evaluate it on the test data\n",
        "model_4 = tf.keras.models.load_model(\"model_experiments/model_4_conv1D\")\n",
        "model_4.evaluate(test_windows, test_labels)"
      ],
      "metadata": {
        "colab": {
          "base_uri": "https://localhost:8080/"
        },
        "id": "Lb2kDRL4fyok",
        "outputId": "43d492dd-c88c-4b87-ee4d-253234c477f4"
      },
      "execution_count": 131,
      "outputs": [
        {
          "output_type": "stream",
          "name": "stdout",
          "text": [
            "17/17 [==============================] - 0s 2ms/step - loss: 0.1318\n"
          ]
        },
        {
          "output_type": "execute_result",
          "data": {
            "text/plain": [
              "0.13182899355888367"
            ]
          },
          "metadata": {},
          "execution_count": 131
        }
      ]
    },
    {
      "cell_type": "code",
      "source": [
        "# Make predictions\n",
        "model_4_preds = make_preds(model_4, test_windows)\n",
        "model_4_preds[:10]"
      ],
      "metadata": {
        "colab": {
          "base_uri": "https://localhost:8080/"
        },
        "id": "qRRZ83qEf4ME",
        "outputId": "aa133b05-7913-4557-be8b-785ba77572e6"
      },
      "execution_count": 132,
      "outputs": [
        {
          "output_type": "execute_result",
          "data": {
            "text/plain": [
              "<tf.Tensor: shape=(10,), dtype=float32, numpy=\n",
              "array([7.865687 , 7.880015 , 7.9068437, 7.912847 , 7.927402 , 7.9292073,\n",
              "       7.910126 , 7.897484 , 7.869655 , 7.906924 ], dtype=float32)>"
            ]
          },
          "metadata": {},
          "execution_count": 132
        }
      ]
    },
    {
      "cell_type": "code",
      "source": [
        "# Evaluate predictions\n",
        "model_4_results = evaluate_preds(y_true=tf.squeeze(test_labels),\n",
        "                                 y_pred=model_4_preds)\n",
        "model_4_results"
      ],
      "metadata": {
        "colab": {
          "base_uri": "https://localhost:8080/"
        },
        "id": "yJYRJtZMgN6F",
        "outputId": "1587d6f4-35e6-4246-9937-52bc12c860c6"
      },
      "execution_count": 133,
      "outputs": [
        {
          "output_type": "execute_result",
          "data": {
            "text/plain": [
              "{'mae': 0.13182901,\n",
              " 'mse': 0.08405251,\n",
              " 'rmse': 0.28991812,\n",
              " 'mape': 1.1725774,\n",
              " 'mase': 1.4194752}"
            ]
          },
          "metadata": {},
          "execution_count": 133
        }
      ]
    },
    {
      "cell_type": "markdown",
      "source": [
        "### Model 5: RNN (LSTM)"
      ],
      "metadata": {
        "id": "Dnl-8_a7gQo1"
      }
    },
    {
      "cell_type": "code",
      "source": [
        "tf.random.set_seed(42)\n",
        "\n",
        "# Let's build an LSTM model with the Functional API\n",
        "inputs = layers.Input(shape=(WINDOW_SIZE))\n",
        "x = layers.Lambda(lambda x: tf.expand_dims(x, axis=1))(inputs) # expand input dimension to be compatible with LSTM\n",
        "# print(x.shape)\n",
        "# x = layers.LSTM(128, activation=\"relu\", return_sequences=True)(x) # this layer will error if the inputs are not the right shape\n",
        "x = layers.LSTM(128, activation=\"relu\")(x) # using the tanh loss function results in a massive error\n",
        "# print(x.shape)\n",
        "# Add another optional dense layer (you could add more of these to see if they improve model performance)\n",
        "# x = layers.Dense(32, activation=\"relu\")(x)\n",
        "output = layers.Dense(HORIZON)(x)\n",
        "model_5 = tf.keras.Model(inputs=inputs, outputs=output, name=\"model_5_lstm\")\n",
        "\n",
        "# Compile model\n",
        "model_5.compile(loss=\"mae\",\n",
        "                optimizer=tf.keras.optimizers.Adam())\n",
        "\n",
        "# Seems when saving the model several warnings are appearing: https://github.com/tensorflow/tensorflow/issues/47554 \n",
        "model_5.fit(train_windows,\n",
        "            train_labels,\n",
        "            epochs=100,\n",
        "            verbose=0,\n",
        "            batch_size=128,\n",
        "            validation_data=(test_windows, test_labels),\n",
        "            callbacks=[create_model_checkpoint(model_name=model_5.name)])"
      ],
      "metadata": {
        "colab": {
          "base_uri": "https://localhost:8080/"
        },
        "id": "0eNJi-WIgSHl",
        "outputId": "6e4096fd-eaef-447f-947a-ec0b409c6717"
      },
      "execution_count": 134,
      "outputs": [
        {
          "output_type": "stream",
          "name": "stderr",
          "text": [
            "WARNING:absl:<keras.layers.recurrent.LSTMCell object at 0x7fe5e8f07cd0> has the same name 'LSTMCell' as a built-in Keras object. Consider renaming <class 'keras.layers.recurrent.LSTMCell'> to avoid naming conflicts when loading with `tf.keras.models.load_model`. If renaming is not possible, pass the object in the `custom_objects` parameter of the load function.\n",
            "WARNING:absl:<keras.layers.recurrent.LSTMCell object at 0x7fe5e8f07cd0> has the same name 'LSTMCell' as a built-in Keras object. Consider renaming <class 'keras.layers.recurrent.LSTMCell'> to avoid naming conflicts when loading with `tf.keras.models.load_model`. If renaming is not possible, pass the object in the `custom_objects` parameter of the load function.\n",
            "WARNING:absl:<keras.layers.recurrent.LSTMCell object at 0x7fe5e8f07cd0> has the same name 'LSTMCell' as a built-in Keras object. Consider renaming <class 'keras.layers.recurrent.LSTMCell'> to avoid naming conflicts when loading with `tf.keras.models.load_model`. If renaming is not possible, pass the object in the `custom_objects` parameter of the load function.\n",
            "WARNING:absl:<keras.layers.recurrent.LSTMCell object at 0x7fe5e8f07cd0> has the same name 'LSTMCell' as a built-in Keras object. Consider renaming <class 'keras.layers.recurrent.LSTMCell'> to avoid naming conflicts when loading with `tf.keras.models.load_model`. If renaming is not possible, pass the object in the `custom_objects` parameter of the load function.\n",
            "WARNING:absl:<keras.layers.recurrent.LSTMCell object at 0x7fe5e8f07cd0> has the same name 'LSTMCell' as a built-in Keras object. Consider renaming <class 'keras.layers.recurrent.LSTMCell'> to avoid naming conflicts when loading with `tf.keras.models.load_model`. If renaming is not possible, pass the object in the `custom_objects` parameter of the load function.\n",
            "WARNING:absl:<keras.layers.recurrent.LSTMCell object at 0x7fe5e8f07cd0> has the same name 'LSTMCell' as a built-in Keras object. Consider renaming <class 'keras.layers.recurrent.LSTMCell'> to avoid naming conflicts when loading with `tf.keras.models.load_model`. If renaming is not possible, pass the object in the `custom_objects` parameter of the load function.\n",
            "WARNING:absl:<keras.layers.recurrent.LSTMCell object at 0x7fe5e8f07cd0> has the same name 'LSTMCell' as a built-in Keras object. Consider renaming <class 'keras.layers.recurrent.LSTMCell'> to avoid naming conflicts when loading with `tf.keras.models.load_model`. If renaming is not possible, pass the object in the `custom_objects` parameter of the load function.\n",
            "WARNING:absl:<keras.layers.recurrent.LSTMCell object at 0x7fe5e8f07cd0> has the same name 'LSTMCell' as a built-in Keras object. Consider renaming <class 'keras.layers.recurrent.LSTMCell'> to avoid naming conflicts when loading with `tf.keras.models.load_model`. If renaming is not possible, pass the object in the `custom_objects` parameter of the load function.\n",
            "WARNING:absl:<keras.layers.recurrent.LSTMCell object at 0x7fe5e8f07cd0> has the same name 'LSTMCell' as a built-in Keras object. Consider renaming <class 'keras.layers.recurrent.LSTMCell'> to avoid naming conflicts when loading with `tf.keras.models.load_model`. If renaming is not possible, pass the object in the `custom_objects` parameter of the load function.\n",
            "WARNING:absl:<keras.layers.recurrent.LSTMCell object at 0x7fe5e8f07cd0> has the same name 'LSTMCell' as a built-in Keras object. Consider renaming <class 'keras.layers.recurrent.LSTMCell'> to avoid naming conflicts when loading with `tf.keras.models.load_model`. If renaming is not possible, pass the object in the `custom_objects` parameter of the load function.\n",
            "WARNING:absl:<keras.layers.recurrent.LSTMCell object at 0x7fe5e8f07cd0> has the same name 'LSTMCell' as a built-in Keras object. Consider renaming <class 'keras.layers.recurrent.LSTMCell'> to avoid naming conflicts when loading with `tf.keras.models.load_model`. If renaming is not possible, pass the object in the `custom_objects` parameter of the load function.\n"
          ]
        },
        {
          "output_type": "execute_result",
          "data": {
            "text/plain": [
              "<keras.callbacks.History at 0x7fe5e8c34590>"
            ]
          },
          "metadata": {},
          "execution_count": 134
        }
      ]
    },
    {
      "cell_type": "code",
      "source": [
        "# Load in best version of model 5 and evaluate on the test data\n",
        "model_5 = tf.keras.models.load_model(\"model_experiments/model_5_lstm/\")\n",
        "model_5.evaluate(test_windows, test_labels)"
      ],
      "metadata": {
        "colab": {
          "base_uri": "https://localhost:8080/"
        },
        "id": "2uBS94Uigjz6",
        "outputId": "768720b5-ba73-4894-e35c-c8114efe95e8"
      },
      "execution_count": 135,
      "outputs": [
        {
          "output_type": "stream",
          "name": "stdout",
          "text": [
            "17/17 [==============================] - 0s 2ms/step - loss: 0.1674\n"
          ]
        },
        {
          "output_type": "execute_result",
          "data": {
            "text/plain": [
              "0.16742466390132904"
            ]
          },
          "metadata": {},
          "execution_count": 135
        }
      ]
    },
    {
      "cell_type": "code",
      "source": [
        "# Make predictions with our LSTM model\n",
        "model_5_preds = make_preds(model_5, test_windows)\n",
        "model_5_preds[:10]"
      ],
      "metadata": {
        "colab": {
          "base_uri": "https://localhost:8080/"
        },
        "id": "018SwXQ8gmlK",
        "outputId": "4c18ef8b-cddf-47d7-c54f-51707774daf5"
      },
      "execution_count": 136,
      "outputs": [
        {
          "output_type": "execute_result",
          "data": {
            "text/plain": [
              "<tf.Tensor: shape=(10,), dtype=float32, numpy=\n",
              "array([7.809334 , 7.8134146, 7.8462963, 7.845953 , 7.8541536, 7.8683453,\n",
              "       7.842741 , 7.825838 , 7.799961 , 7.8286734], dtype=float32)>"
            ]
          },
          "metadata": {},
          "execution_count": 136
        }
      ]
    },
    {
      "cell_type": "code",
      "source": [
        "# Evaluate model 5 preds\n",
        "model_5_results = evaluate_preds(y_true=tf.squeeze(test_labels),\n",
        "                                 y_pred=model_5_preds)\n",
        "model_5_results"
      ],
      "metadata": {
        "colab": {
          "base_uri": "https://localhost:8080/"
        },
        "id": "Kf2kguidgpO6",
        "outputId": "a3d9c324-6836-4d8b-c817-bb1d58a80608"
      },
      "execution_count": 137,
      "outputs": [
        {
          "output_type": "execute_result",
          "data": {
            "text/plain": [
              "{'mae': 0.16742468,\n",
              " 'mse': 0.09300788,\n",
              " 'rmse': 0.30497193,\n",
              " 'mape': 1.402423,\n",
              " 'mase': 1.8027533}"
            ]
          },
          "metadata": {},
          "execution_count": 137
        }
      ]
    },
    {
      "cell_type": "code",
      "source": [
        "bitcoin_prices.head()"
      ],
      "metadata": {
        "colab": {
          "base_uri": "https://localhost:8080/",
          "height": 237
        },
        "id": "QqqQSpVlgrXB",
        "outputId": "e9bb771c-5268-48dd-d568-aba7b7d5e1e4"
      },
      "execution_count": 138,
      "outputs": [
        {
          "output_type": "execute_result",
          "data": {
            "text/plain": [
              "              Price\n",
              "Date               \n",
              "2012-10-10  1.82573\n",
              "2012-10-11  1.81868\n",
              "2012-10-12  1.80650\n",
              "2012-10-15  1.81079\n",
              "2012-10-16  1.80969"
            ],
            "text/html": [
              "\n",
              "  <div id=\"df-d12e588c-3f85-445b-9c9e-ba1842e29165\">\n",
              "    <div class=\"colab-df-container\">\n",
              "      <div>\n",
              "<style scoped>\n",
              "    .dataframe tbody tr th:only-of-type {\n",
              "        vertical-align: middle;\n",
              "    }\n",
              "\n",
              "    .dataframe tbody tr th {\n",
              "        vertical-align: top;\n",
              "    }\n",
              "\n",
              "    .dataframe thead th {\n",
              "        text-align: right;\n",
              "    }\n",
              "</style>\n",
              "<table border=\"1\" class=\"dataframe\">\n",
              "  <thead>\n",
              "    <tr style=\"text-align: right;\">\n",
              "      <th></th>\n",
              "      <th>Price</th>\n",
              "    </tr>\n",
              "    <tr>\n",
              "      <th>Date</th>\n",
              "      <th></th>\n",
              "    </tr>\n",
              "  </thead>\n",
              "  <tbody>\n",
              "    <tr>\n",
              "      <th>2012-10-10</th>\n",
              "      <td>1.82573</td>\n",
              "    </tr>\n",
              "    <tr>\n",
              "      <th>2012-10-11</th>\n",
              "      <td>1.81868</td>\n",
              "    </tr>\n",
              "    <tr>\n",
              "      <th>2012-10-12</th>\n",
              "      <td>1.80650</td>\n",
              "    </tr>\n",
              "    <tr>\n",
              "      <th>2012-10-15</th>\n",
              "      <td>1.81079</td>\n",
              "    </tr>\n",
              "    <tr>\n",
              "      <th>2012-10-16</th>\n",
              "      <td>1.80969</td>\n",
              "    </tr>\n",
              "  </tbody>\n",
              "</table>\n",
              "</div>\n",
              "      <button class=\"colab-df-convert\" onclick=\"convertToInteractive('df-d12e588c-3f85-445b-9c9e-ba1842e29165')\"\n",
              "              title=\"Convert this dataframe to an interactive table.\"\n",
              "              style=\"display:none;\">\n",
              "        \n",
              "  <svg xmlns=\"http://www.w3.org/2000/svg\" height=\"24px\"viewBox=\"0 0 24 24\"\n",
              "       width=\"24px\">\n",
              "    <path d=\"M0 0h24v24H0V0z\" fill=\"none\"/>\n",
              "    <path d=\"M18.56 5.44l.94 2.06.94-2.06 2.06-.94-2.06-.94-.94-2.06-.94 2.06-2.06.94zm-11 1L8.5 8.5l.94-2.06 2.06-.94-2.06-.94L8.5 2.5l-.94 2.06-2.06.94zm10 10l.94 2.06.94-2.06 2.06-.94-2.06-.94-.94-2.06-.94 2.06-2.06.94z\"/><path d=\"M17.41 7.96l-1.37-1.37c-.4-.4-.92-.59-1.43-.59-.52 0-1.04.2-1.43.59L10.3 9.45l-7.72 7.72c-.78.78-.78 2.05 0 2.83L4 21.41c.39.39.9.59 1.41.59.51 0 1.02-.2 1.41-.59l7.78-7.78 2.81-2.81c.8-.78.8-2.07 0-2.86zM5.41 20L4 18.59l7.72-7.72 1.47 1.35L5.41 20z\"/>\n",
              "  </svg>\n",
              "      </button>\n",
              "      \n",
              "  <style>\n",
              "    .colab-df-container {\n",
              "      display:flex;\n",
              "      flex-wrap:wrap;\n",
              "      gap: 12px;\n",
              "    }\n",
              "\n",
              "    .colab-df-convert {\n",
              "      background-color: #E8F0FE;\n",
              "      border: none;\n",
              "      border-radius: 50%;\n",
              "      cursor: pointer;\n",
              "      display: none;\n",
              "      fill: #1967D2;\n",
              "      height: 32px;\n",
              "      padding: 0 0 0 0;\n",
              "      width: 32px;\n",
              "    }\n",
              "\n",
              "    .colab-df-convert:hover {\n",
              "      background-color: #E2EBFA;\n",
              "      box-shadow: 0px 1px 2px rgba(60, 64, 67, 0.3), 0px 1px 3px 1px rgba(60, 64, 67, 0.15);\n",
              "      fill: #174EA6;\n",
              "    }\n",
              "\n",
              "    [theme=dark] .colab-df-convert {\n",
              "      background-color: #3B4455;\n",
              "      fill: #D2E3FC;\n",
              "    }\n",
              "\n",
              "    [theme=dark] .colab-df-convert:hover {\n",
              "      background-color: #434B5C;\n",
              "      box-shadow: 0px 1px 3px 1px rgba(0, 0, 0, 0.15);\n",
              "      filter: drop-shadow(0px 1px 2px rgba(0, 0, 0, 0.3));\n",
              "      fill: #FFFFFF;\n",
              "    }\n",
              "  </style>\n",
              "\n",
              "      <script>\n",
              "        const buttonEl =\n",
              "          document.querySelector('#df-d12e588c-3f85-445b-9c9e-ba1842e29165 button.colab-df-convert');\n",
              "        buttonEl.style.display =\n",
              "          google.colab.kernel.accessAllowed ? 'block' : 'none';\n",
              "\n",
              "        async function convertToInteractive(key) {\n",
              "          const element = document.querySelector('#df-d12e588c-3f85-445b-9c9e-ba1842e29165');\n",
              "          const dataTable =\n",
              "            await google.colab.kernel.invokeFunction('convertToInteractive',\n",
              "                                                     [key], {});\n",
              "          if (!dataTable) return;\n",
              "\n",
              "          const docLinkHtml = 'Like what you see? Visit the ' +\n",
              "            '<a target=\"_blank\" href=https://colab.research.google.com/notebooks/data_table.ipynb>data table notebook</a>'\n",
              "            + ' to learn more about interactive tables.';\n",
              "          element.innerHTML = '';\n",
              "          dataTable['output_type'] = 'display_data';\n",
              "          await google.colab.output.renderOutput(dataTable, element);\n",
              "          const docLink = document.createElement('div');\n",
              "          docLink.innerHTML = docLinkHtml;\n",
              "          element.appendChild(docLink);\n",
              "        }\n",
              "      </script>\n",
              "    </div>\n",
              "  </div>\n",
              "  "
            ]
          },
          "metadata": {},
          "execution_count": 138
        }
      ]
    },
    {
      "cell_type": "code",
      "source": [
        "# Block reward values\n",
        "block_reward_1 = 50 # 3 January 2009 (2009-01-03) - this block reward isn't in our dataset (it starts from 01 October 2013)\n",
        "block_reward_2 = 25 # 28 November 2012 \n",
        "block_reward_3 = 12.5 # 9 July 2016\n",
        "block_reward_4 = 6.25 # 11 May 2020\n",
        "\n",
        "# Block reward dates (datetime form of the above date stamps)\n",
        "block_reward_2_datetime = np.datetime64(\"2012-11-28\")\n",
        "block_reward_3_datetime = np.datetime64(\"2016-07-09\")\n",
        "block_reward_4_datetime = np.datetime64(\"2020-05-11\")"
      ],
      "metadata": {
        "id": "4hZ7yEJGgu7j"
      },
      "execution_count": 140,
      "outputs": []
    },
    {
      "cell_type": "code",
      "source": [
        "# Get date indexes for when to add in different block dates\n",
        "block_reward_2_days = (block_reward_3_datetime - bitcoin_prices.index[0]).days\n",
        "block_reward_3_days = (block_reward_4_datetime - bitcoin_prices.index[0]).days\n",
        "block_reward_2_days, block_reward_3_days"
      ],
      "metadata": {
        "colab": {
          "base_uri": "https://localhost:8080/"
        },
        "id": "BwZ1wINAgy7i",
        "outputId": "ce6cde84-abc7-43a8-ae0b-d5ae3e968783"
      },
      "execution_count": 141,
      "outputs": [
        {
          "output_type": "execute_result",
          "data": {
            "text/plain": [
              "(1368, 2770)"
            ]
          },
          "metadata": {},
          "execution_count": 141
        }
      ]
    },
    {
      "cell_type": "code",
      "source": [
        "# Add block_reward column\n",
        "bitcoin_prices_block = bitcoin_prices.copy()\n",
        "bitcoin_prices_block[\"block_reward\"] = None\n",
        "\n",
        "# Set values of block_reward column (it's the last column hence -1 indexing on iloc)\n",
        "bitcoin_prices_block.iloc[:block_reward_2_days, -1] = block_reward_2\n",
        "bitcoin_prices_block.iloc[block_reward_2_days:block_reward_3_days, -1] = block_reward_3\n",
        "bitcoin_prices_block.iloc[block_reward_3_days:, -1] = block_reward_4\n",
        "bitcoin_prices_block.head()"
      ],
      "metadata": {
        "colab": {
          "base_uri": "https://localhost:8080/",
          "height": 237
        },
        "id": "sV57Z7Efg2nU",
        "outputId": "4f7529c6-ab75-4b8a-e73a-2346ca06bfdf"
      },
      "execution_count": 142,
      "outputs": [
        {
          "output_type": "execute_result",
          "data": {
            "text/plain": [
              "              Price block_reward\n",
              "Date                            \n",
              "2012-10-10  1.82573           25\n",
              "2012-10-11  1.81868           25\n",
              "2012-10-12  1.80650           25\n",
              "2012-10-15  1.81079           25\n",
              "2012-10-16  1.80969           25"
            ],
            "text/html": [
              "\n",
              "  <div id=\"df-f6b0c6ad-195a-4e23-872a-2df9f42599d4\">\n",
              "    <div class=\"colab-df-container\">\n",
              "      <div>\n",
              "<style scoped>\n",
              "    .dataframe tbody tr th:only-of-type {\n",
              "        vertical-align: middle;\n",
              "    }\n",
              "\n",
              "    .dataframe tbody tr th {\n",
              "        vertical-align: top;\n",
              "    }\n",
              "\n",
              "    .dataframe thead th {\n",
              "        text-align: right;\n",
              "    }\n",
              "</style>\n",
              "<table border=\"1\" class=\"dataframe\">\n",
              "  <thead>\n",
              "    <tr style=\"text-align: right;\">\n",
              "      <th></th>\n",
              "      <th>Price</th>\n",
              "      <th>block_reward</th>\n",
              "    </tr>\n",
              "    <tr>\n",
              "      <th>Date</th>\n",
              "      <th></th>\n",
              "      <th></th>\n",
              "    </tr>\n",
              "  </thead>\n",
              "  <tbody>\n",
              "    <tr>\n",
              "      <th>2012-10-10</th>\n",
              "      <td>1.82573</td>\n",
              "      <td>25</td>\n",
              "    </tr>\n",
              "    <tr>\n",
              "      <th>2012-10-11</th>\n",
              "      <td>1.81868</td>\n",
              "      <td>25</td>\n",
              "    </tr>\n",
              "    <tr>\n",
              "      <th>2012-10-12</th>\n",
              "      <td>1.80650</td>\n",
              "      <td>25</td>\n",
              "    </tr>\n",
              "    <tr>\n",
              "      <th>2012-10-15</th>\n",
              "      <td>1.81079</td>\n",
              "      <td>25</td>\n",
              "    </tr>\n",
              "    <tr>\n",
              "      <th>2012-10-16</th>\n",
              "      <td>1.80969</td>\n",
              "      <td>25</td>\n",
              "    </tr>\n",
              "  </tbody>\n",
              "</table>\n",
              "</div>\n",
              "      <button class=\"colab-df-convert\" onclick=\"convertToInteractive('df-f6b0c6ad-195a-4e23-872a-2df9f42599d4')\"\n",
              "              title=\"Convert this dataframe to an interactive table.\"\n",
              "              style=\"display:none;\">\n",
              "        \n",
              "  <svg xmlns=\"http://www.w3.org/2000/svg\" height=\"24px\"viewBox=\"0 0 24 24\"\n",
              "       width=\"24px\">\n",
              "    <path d=\"M0 0h24v24H0V0z\" fill=\"none\"/>\n",
              "    <path d=\"M18.56 5.44l.94 2.06.94-2.06 2.06-.94-2.06-.94-.94-2.06-.94 2.06-2.06.94zm-11 1L8.5 8.5l.94-2.06 2.06-.94-2.06-.94L8.5 2.5l-.94 2.06-2.06.94zm10 10l.94 2.06.94-2.06 2.06-.94-2.06-.94-.94-2.06-.94 2.06-2.06.94z\"/><path d=\"M17.41 7.96l-1.37-1.37c-.4-.4-.92-.59-1.43-.59-.52 0-1.04.2-1.43.59L10.3 9.45l-7.72 7.72c-.78.78-.78 2.05 0 2.83L4 21.41c.39.39.9.59 1.41.59.51 0 1.02-.2 1.41-.59l7.78-7.78 2.81-2.81c.8-.78.8-2.07 0-2.86zM5.41 20L4 18.59l7.72-7.72 1.47 1.35L5.41 20z\"/>\n",
              "  </svg>\n",
              "      </button>\n",
              "      \n",
              "  <style>\n",
              "    .colab-df-container {\n",
              "      display:flex;\n",
              "      flex-wrap:wrap;\n",
              "      gap: 12px;\n",
              "    }\n",
              "\n",
              "    .colab-df-convert {\n",
              "      background-color: #E8F0FE;\n",
              "      border: none;\n",
              "      border-radius: 50%;\n",
              "      cursor: pointer;\n",
              "      display: none;\n",
              "      fill: #1967D2;\n",
              "      height: 32px;\n",
              "      padding: 0 0 0 0;\n",
              "      width: 32px;\n",
              "    }\n",
              "\n",
              "    .colab-df-convert:hover {\n",
              "      background-color: #E2EBFA;\n",
              "      box-shadow: 0px 1px 2px rgba(60, 64, 67, 0.3), 0px 1px 3px 1px rgba(60, 64, 67, 0.15);\n",
              "      fill: #174EA6;\n",
              "    }\n",
              "\n",
              "    [theme=dark] .colab-df-convert {\n",
              "      background-color: #3B4455;\n",
              "      fill: #D2E3FC;\n",
              "    }\n",
              "\n",
              "    [theme=dark] .colab-df-convert:hover {\n",
              "      background-color: #434B5C;\n",
              "      box-shadow: 0px 1px 3px 1px rgba(0, 0, 0, 0.15);\n",
              "      filter: drop-shadow(0px 1px 2px rgba(0, 0, 0, 0.3));\n",
              "      fill: #FFFFFF;\n",
              "    }\n",
              "  </style>\n",
              "\n",
              "      <script>\n",
              "        const buttonEl =\n",
              "          document.querySelector('#df-f6b0c6ad-195a-4e23-872a-2df9f42599d4 button.colab-df-convert');\n",
              "        buttonEl.style.display =\n",
              "          google.colab.kernel.accessAllowed ? 'block' : 'none';\n",
              "\n",
              "        async function convertToInteractive(key) {\n",
              "          const element = document.querySelector('#df-f6b0c6ad-195a-4e23-872a-2df9f42599d4');\n",
              "          const dataTable =\n",
              "            await google.colab.kernel.invokeFunction('convertToInteractive',\n",
              "                                                     [key], {});\n",
              "          if (!dataTable) return;\n",
              "\n",
              "          const docLinkHtml = 'Like what you see? Visit the ' +\n",
              "            '<a target=\"_blank\" href=https://colab.research.google.com/notebooks/data_table.ipynb>data table notebook</a>'\n",
              "            + ' to learn more about interactive tables.';\n",
              "          element.innerHTML = '';\n",
              "          dataTable['output_type'] = 'display_data';\n",
              "          await google.colab.output.renderOutput(dataTable, element);\n",
              "          const docLink = document.createElement('div');\n",
              "          docLink.innerHTML = docLinkHtml;\n",
              "          element.appendChild(docLink);\n",
              "        }\n",
              "      </script>\n",
              "    </div>\n",
              "  </div>\n",
              "  "
            ]
          },
          "metadata": {},
          "execution_count": 142
        }
      ]
    },
    {
      "cell_type": "code",
      "source": [
        "# Plot the block reward/price over time\n",
        "# Note: Because of the different scales of our values we'll scale them to be between 0 and 1.\n",
        "from sklearn.preprocessing import minmax_scale\n",
        "scaled_price_block_df = pd.DataFrame(minmax_scale(bitcoin_prices_block[[\"Price\", \"block_reward\"]]), # we need to scale the data first\n",
        "                                     columns=bitcoin_prices_block.columns,\n",
        "                                     index=bitcoin_prices_block.index)\n",
        "scaled_price_block_df.plot(figsize=(10, 7));"
      ],
      "metadata": {
        "colab": {
          "base_uri": "https://localhost:8080/",
          "height": 416
        },
        "id": "1AVug4Ipg-2M",
        "outputId": "111548f0-cb75-460d-8567-309b247a0017"
      },
      "execution_count": 143,
      "outputs": [
        {
          "output_type": "display_data",
          "data": {
            "text/plain": [
              "<Figure size 720x504 with 1 Axes>"
            ],
            "image/png": "[encoded data removed]"
          },
          "metadata": {
            "needs_background": "light"
          }
        }
      ]
    },
    {
      "cell_type": "code",
      "source": [
        "# Setup dataset hyperparameters\n",
        "HORIZON = 1\n",
        "WINDOW_SIZE = 7"
      ],
      "metadata": {
        "id": "SzCnps2MhCjb"
      },
      "execution_count": 144,
      "outputs": []
    },
    {
      "cell_type": "code",
      "source": [
        "# Make a copy of the Bitcoin historical data with block reward feature\n",
        "bitcoin_prices_windowed = bitcoin_prices_block.copy()\n",
        "\n",
        "# Add windowed columns\n",
        "for i in range(WINDOW_SIZE): # Shift values for each step in WINDOW_SIZE\n",
        "  bitcoin_prices_windowed[f\"Price+{i+1}\"] = bitcoin_prices_windowed[\"Price\"].shift(periods=i+1)\n",
        "bitcoin_prices_windowed.head(10)"
      ],
      "metadata": {
        "colab": {
          "base_uri": "https://localhost:8080/",
          "height": 394
        },
        "id": "gx5A_k64hETM",
        "outputId": "a7806bfd-5349-4a3d-ecb6-6bc05e58c816"
      },
      "execution_count": 145,
      "outputs": [
        {
          "output_type": "execute_result",
          "data": {
            "text/plain": [
              "              Price block_reward  Price+1  Price+2  Price+3  Price+4  Price+5  \\\n",
              "Date                                                                            \n",
              "2012-10-10  1.82573           25      NaN      NaN      NaN      NaN      NaN   \n",
              "2012-10-11  1.81868           25  1.82573      NaN      NaN      NaN      NaN   \n",
              "2012-10-12  1.80650           25  1.81868  1.82573      NaN      NaN      NaN   \n",
              "2012-10-15  1.81079           25  1.80650  1.81868  1.82573      NaN      NaN   \n",
              "2012-10-16  1.80969           25  1.81079  1.80650  1.81868  1.82573      NaN   \n",
              "2012-10-17  1.80036           25  1.80969  1.81079  1.80650  1.81868  1.82573   \n",
              "2012-10-18  1.79826           25  1.80036  1.80969  1.81079  1.80650  1.81868   \n",
              "2012-10-19  1.79726           25  1.79826  1.80036  1.80969  1.81079  1.80650   \n",
              "2012-10-22  1.79428           25  1.79726  1.79826  1.80036  1.80969  1.81079   \n",
              "2012-10-23  1.79270           25  1.79428  1.79726  1.79826  1.80036  1.80969   \n",
              "\n",
              "            Price+6  Price+7  \n",
              "Date                          \n",
              "2012-10-10      NaN      NaN  \n",
              "2012-10-11      NaN      NaN  \n",
              "2012-10-12      NaN      NaN  \n",
              "2012-10-15      NaN      NaN  \n",
              "2012-10-16      NaN      NaN  \n",
              "2012-10-17      NaN      NaN  \n",
              "2012-10-18  1.82573      NaN  \n",
              "2012-10-19  1.81868  1.82573  \n",
              "2012-10-22  1.80650  1.81868  \n",
              "2012-10-23  1.81079  1.80650  "
            ],
            "text/html": [
              "\n",
              "  <div id=\"df-598fca53-d171-45a7-8585-c663f8ff9ec1\">\n",
              "    <div class=\"colab-df-container\">\n",
              "      <div>\n",
              "<style scoped>\n",
              "    .dataframe tbody tr th:only-of-type {\n",
              "        vertical-align: middle;\n",
              "    }\n",
              "\n",
              "    .dataframe tbody tr th {\n",
              "        vertical-align: top;\n",
              "    }\n",
              "\n",
              "    .dataframe thead th {\n",
              "        text-align: right;\n",
              "    }\n",
              "</style>\n",
              "<table border=\"1\" class=\"dataframe\">\n",
              "  <thead>\n",
              "    <tr style=\"text-align: right;\">\n",
              "      <th></th>\n",
              "      <th>Price</th>\n",
              "      <th>block_reward</th>\n",
              "      <th>Price+1</th>\n",
              "      <th>Price+2</th>\n",
              "      <th>Price+3</th>\n",
              "      <th>Price+4</th>\n",
              "      <th>Price+5</th>\n",
              "      <th>Price+6</th>\n",
              "      <th>Price+7</th>\n",
              "    </tr>\n",
              "    <tr>\n",
              "      <th>Date</th>\n",
              "      <th></th>\n",
              "      <th></th>\n",
              "      <th></th>\n",
              "      <th></th>\n",
              "      <th></th>\n",
              "      <th></th>\n",
              "      <th></th>\n",
              "      <th></th>\n",
              "      <th></th>\n",
              "    </tr>\n",
              "  </thead>\n",
              "  <tbody>\n",
              "    <tr>\n",
              "      <th>2012-10-10</th>\n",
              "      <td>1.82573</td>\n",
              "      <td>25</td>\n",
              "      <td>NaN</td>\n",
              "      <td>NaN</td>\n",
              "      <td>NaN</td>\n",
              "      <td>NaN</td>\n",
              "      <td>NaN</td>\n",
              "      <td>NaN</td>\n",
              "      <td>NaN</td>\n",
              "    </tr>\n",
              "    <tr>\n",
              "      <th>2012-10-11</th>\n",
              "      <td>1.81868</td>\n",
              "      <td>25</td>\n",
              "      <td>1.82573</td>\n",
              "      <td>NaN</td>\n",
              "      <td>NaN</td>\n",
              "      <td>NaN</td>\n",
              "      <td>NaN</td>\n",
              "      <td>NaN</td>\n",
              "      <td>NaN</td>\n",
              "    </tr>\n",
              "    <tr>\n",
              "      <th>2012-10-12</th>\n",
              "      <td>1.80650</td>\n",
              "      <td>25</td>\n",
              "      <td>1.81868</td>\n",
              "      <td>1.82573</td>\n",
              "      <td>NaN</td>\n",
              "      <td>NaN</td>\n",
              "      <td>NaN</td>\n",
              "      <td>NaN</td>\n",
              "      <td>NaN</td>\n",
              "    </tr>\n",
              "    <tr>\n",
              "      <th>2012-10-15</th>\n",
              "      <td>1.81079</td>\n",
              "      <td>25</td>\n",
              "      <td>1.80650</td>\n",
              "      <td>1.81868</td>\n",
              "      <td>1.82573</td>\n",
              "      <td>NaN</td>\n",
              "      <td>NaN</td>\n",
              "      <td>NaN</td>\n",
              "      <td>NaN</td>\n",
              "    </tr>\n",
              "    <tr>\n",
              "      <th>2012-10-16</th>\n",
              "      <td>1.80969</td>\n",
              "      <td>25</td>\n",
              "      <td>1.81079</td>\n",
              "      <td>1.80650</td>\n",
              "      <td>1.81868</td>\n",
              "      <td>1.82573</td>\n",
              "      <td>NaN</td>\n",
              "      <td>NaN</td>\n",
              "      <td>NaN</td>\n",
              "    </tr>\n",
              "    <tr>\n",
              "      <th>2012-10-17</th>\n",
              "      <td>1.80036</td>\n",
              "      <td>25</td>\n",
              "      <td>1.80969</td>\n",
              "      <td>1.81079</td>\n",
              "      <td>1.80650</td>\n",
              "      <td>1.81868</td>\n",
              "      <td>1.82573</td>\n",
              "      <td>NaN</td>\n",
              "      <td>NaN</td>\n",
              "    </tr>\n",
              "    <tr>\n",
              "      <th>2012-10-18</th>\n",
              "      <td>1.79826</td>\n",
              "      <td>25</td>\n",
              "      <td>1.80036</td>\n",
              "      <td>1.80969</td>\n",
              "      <td>1.81079</td>\n",
              "      <td>1.80650</td>\n",
              "      <td>1.81868</td>\n",
              "      <td>1.82573</td>\n",
              "      <td>NaN</td>\n",
              "    </tr>\n",
              "    <tr>\n",
              "      <th>2012-10-19</th>\n",
              "      <td>1.79726</td>\n",
              "      <td>25</td>\n",
              "      <td>1.79826</td>\n",
              "      <td>1.80036</td>\n",
              "      <td>1.80969</td>\n",
              "      <td>1.81079</td>\n",
              "      <td>1.80650</td>\n",
              "      <td>1.81868</td>\n",
              "      <td>1.82573</td>\n",
              "    </tr>\n",
              "    <tr>\n",
              "      <th>2012-10-22</th>\n",
              "      <td>1.79428</td>\n",
              "      <td>25</td>\n",
              "      <td>1.79726</td>\n",
              "      <td>1.79826</td>\n",
              "      <td>1.80036</td>\n",
              "      <td>1.80969</td>\n",
              "      <td>1.81079</td>\n",
              "      <td>1.80650</td>\n",
              "      <td>1.81868</td>\n",
              "    </tr>\n",
              "    <tr>\n",
              "      <th>2012-10-23</th>\n",
              "      <td>1.79270</td>\n",
              "      <td>25</td>\n",
              "      <td>1.79428</td>\n",
              "      <td>1.79726</td>\n",
              "      <td>1.79826</td>\n",
              "      <td>1.80036</td>\n",
              "      <td>1.80969</td>\n",
              "      <td>1.81079</td>\n",
              "      <td>1.80650</td>\n",
              "    </tr>\n",
              "  </tbody>\n",
              "</table>\n",
              "</div>\n",
              "      <button class=\"colab-df-convert\" onclick=\"convertToInteractive('df-598fca53-d171-45a7-8585-c663f8ff9ec1')\"\n",
              "              title=\"Convert this dataframe to an interactive table.\"\n",
              "              style=\"display:none;\">\n",
              "        \n",
              "  <svg xmlns=\"http://www.w3.org/2000/svg\" height=\"24px\"viewBox=\"0 0 24 24\"\n",
              "       width=\"24px\">\n",
              "    <path d=\"M0 0h24v24H0V0z\" fill=\"none\"/>\n",
              "    <path d=\"M18.56 5.44l.94 2.06.94-2.06 2.06-.94-2.06-.94-.94-2.06-.94 2.06-2.06.94zm-11 1L8.5 8.5l.94-2.06 2.06-.94-2.06-.94L8.5 2.5l-.94 2.06-2.06.94zm10 10l.94 2.06.94-2.06 2.06-.94-2.06-.94-.94-2.06-.94 2.06-2.06.94z\"/><path d=\"M17.41 7.96l-1.37-1.37c-.4-.4-.92-.59-1.43-.59-.52 0-1.04.2-1.43.59L10.3 9.45l-7.72 7.72c-.78.78-.78 2.05 0 2.83L4 21.41c.39.39.9.59 1.41.59.51 0 1.02-.2 1.41-.59l7.78-7.78 2.81-2.81c.8-.78.8-2.07 0-2.86zM5.41 20L4 18.59l7.72-7.72 1.47 1.35L5.41 20z\"/>\n",
              "  </svg>\n",
              "      </button>\n",
              "      \n",
              "  <style>\n",
              "    .colab-df-container {\n",
              "      display:flex;\n",
              "      flex-wrap:wrap;\n",
              "      gap: 12px;\n",
              "    }\n",
              "\n",
              "    .colab-df-convert {\n",
              "      background-color: #E8F0FE;\n",
              "      border: none;\n",
              "      border-radius: 50%;\n",
              "      cursor: pointer;\n",
              "      display: none;\n",
              "      fill: #1967D2;\n",
              "      height: 32px;\n",
              "      padding: 0 0 0 0;\n",
              "      width: 32px;\n",
              "    }\n",
              "\n",
              "    .colab-df-convert:hover {\n",
              "      background-color: #E2EBFA;\n",
              "      box-shadow: 0px 1px 2px rgba(60, 64, 67, 0.3), 0px 1px 3px 1px rgba(60, 64, 67, 0.15);\n",
              "      fill: #174EA6;\n",
              "    }\n",
              "\n",
              "    [theme=dark] .colab-df-convert {\n",
              "      background-color: #3B4455;\n",
              "      fill: #D2E3FC;\n",
              "    }\n",
              "\n",
              "    [theme=dark] .colab-df-convert:hover {\n",
              "      background-color: #434B5C;\n",
              "      box-shadow: 0px 1px 3px 1px rgba(0, 0, 0, 0.15);\n",
              "      filter: drop-shadow(0px 1px 2px rgba(0, 0, 0, 0.3));\n",
              "      fill: #FFFFFF;\n",
              "    }\n",
              "  </style>\n",
              "\n",
              "      <script>\n",
              "        const buttonEl =\n",
              "          document.querySelector('#df-598fca53-d171-45a7-8585-c663f8ff9ec1 button.colab-df-convert');\n",
              "        buttonEl.style.display =\n",
              "          google.colab.kernel.accessAllowed ? 'block' : 'none';\n",
              "\n",
              "        async function convertToInteractive(key) {\n",
              "          const element = document.querySelector('#df-598fca53-d171-45a7-8585-c663f8ff9ec1');\n",
              "          const dataTable =\n",
              "            await google.colab.kernel.invokeFunction('convertToInteractive',\n",
              "                                                     [key], {});\n",
              "          if (!dataTable) return;\n",
              "\n",
              "          const docLinkHtml = 'Like what you see? Visit the ' +\n",
              "            '<a target=\"_blank\" href=https://colab.research.google.com/notebooks/data_table.ipynb>data table notebook</a>'\n",
              "            + ' to learn more about interactive tables.';\n",
              "          element.innerHTML = '';\n",
              "          dataTable['output_type'] = 'display_data';\n",
              "          await google.colab.output.renderOutput(dataTable, element);\n",
              "          const docLink = document.createElement('div');\n",
              "          docLink.innerHTML = docLinkHtml;\n",
              "          element.appendChild(docLink);\n",
              "        }\n",
              "      </script>\n",
              "    </div>\n",
              "  </div>\n",
              "  "
            ]
          },
          "metadata": {},
          "execution_count": 145
        }
      ]
    },
    {
      "cell_type": "code",
      "source": [
        "# Let's create X & y, remove the NaN's and convert to float32 to prevent TensorFlow errors \n",
        "X = bitcoin_prices_windowed.dropna().drop(\"Price\", axis=1).astype(np.float32) \n",
        "y = bitcoin_prices_windowed.dropna()[\"Price\"].astype(np.float32)\n",
        "X.head()"
      ],
      "metadata": {
        "colab": {
          "base_uri": "https://localhost:8080/",
          "height": 237
        },
        "id": "XjG-qbXEhHmN",
        "outputId": "24a0aa4e-50e2-44f9-9574-e668d99a394f"
      },
      "execution_count": 147,
      "outputs": [
        {
          "output_type": "execute_result",
          "data": {
            "text/plain": [
              "            block_reward  Price+1  Price+2  Price+3  Price+4  Price+5  \\\n",
              "Date                                                                    \n",
              "2012-10-19          25.0  1.79826  1.80036  1.80969  1.81079  1.80650   \n",
              "2012-10-22          25.0  1.79726  1.79826  1.80036  1.80969  1.81079   \n",
              "2012-10-23          25.0  1.79428  1.79726  1.79826  1.80036  1.80969   \n",
              "2012-10-24          25.0  1.79270  1.79428  1.79726  1.79826  1.80036   \n",
              "2012-10-25          25.0  1.80110  1.79270  1.79428  1.79726  1.79826   \n",
              "\n",
              "            Price+6  Price+7  \n",
              "Date                          \n",
              "2012-10-19  1.81868  1.82573  \n",
              "2012-10-22  1.80650  1.81868  \n",
              "2012-10-23  1.81079  1.80650  \n",
              "2012-10-24  1.80969  1.81079  \n",
              "2012-10-25  1.80036  1.80969  "
            ],
            "text/html": [
              "\n",
              "  <div id=\"df-9ec493f2-09fa-4493-ae89-f9cf84177697\">\n",
              "    <div class=\"colab-df-container\">\n",
              "      <div>\n",
              "<style scoped>\n",
              "    .dataframe tbody tr th:only-of-type {\n",
              "        vertical-align: middle;\n",
              "    }\n",
              "\n",
              "    .dataframe tbody tr th {\n",
              "        vertical-align: top;\n",
              "    }\n",
              "\n",
              "    .dataframe thead th {\n",
              "        text-align: right;\n",
              "    }\n",
              "</style>\n",
              "<table border=\"1\" class=\"dataframe\">\n",
              "  <thead>\n",
              "    <tr style=\"text-align: right;\">\n",
              "      <th></th>\n",
              "      <th>block_reward</th>\n",
              "      <th>Price+1</th>\n",
              "      <th>Price+2</th>\n",
              "      <th>Price+3</th>\n",
              "      <th>Price+4</th>\n",
              "      <th>Price+5</th>\n",
              "      <th>Price+6</th>\n",
              "      <th>Price+7</th>\n",
              "    </tr>\n",
              "    <tr>\n",
              "      <th>Date</th>\n",
              "      <th></th>\n",
              "      <th></th>\n",
              "      <th></th>\n",
              "      <th></th>\n",
              "      <th></th>\n",
              "      <th></th>\n",
              "      <th></th>\n",
              "      <th></th>\n",
              "    </tr>\n",
              "  </thead>\n",
              "  <tbody>\n",
              "    <tr>\n",
              "      <th>2012-10-19</th>\n",
              "      <td>25.0</td>\n",
              "      <td>1.79826</td>\n",
              "      <td>1.80036</td>\n",
              "      <td>1.80969</td>\n",
              "      <td>1.81079</td>\n",
              "      <td>1.80650</td>\n",
              "      <td>1.81868</td>\n",
              "      <td>1.82573</td>\n",
              "    </tr>\n",
              "    <tr>\n",
              "      <th>2012-10-22</th>\n",
              "      <td>25.0</td>\n",
              "      <td>1.79726</td>\n",
              "      <td>1.79826</td>\n",
              "      <td>1.80036</td>\n",
              "      <td>1.80969</td>\n",
              "      <td>1.81079</td>\n",
              "      <td>1.80650</td>\n",
              "      <td>1.81868</td>\n",
              "    </tr>\n",
              "    <tr>\n",
              "      <th>2012-10-23</th>\n",
              "      <td>25.0</td>\n",
              "      <td>1.79428</td>\n",
              "      <td>1.79726</td>\n",
              "      <td>1.79826</td>\n",
              "      <td>1.80036</td>\n",
              "      <td>1.80969</td>\n",
              "      <td>1.81079</td>\n",
              "      <td>1.80650</td>\n",
              "    </tr>\n",
              "    <tr>\n",
              "      <th>2012-10-24</th>\n",
              "      <td>25.0</td>\n",
              "      <td>1.79270</td>\n",
              "      <td>1.79428</td>\n",
              "      <td>1.79726</td>\n",
              "      <td>1.79826</td>\n",
              "      <td>1.80036</td>\n",
              "      <td>1.80969</td>\n",
              "      <td>1.81079</td>\n",
              "    </tr>\n",
              "    <tr>\n",
              "      <th>2012-10-25</th>\n",
              "      <td>25.0</td>\n",
              "      <td>1.80110</td>\n",
              "      <td>1.79270</td>\n",
              "      <td>1.79428</td>\n",
              "      <td>1.79726</td>\n",
              "      <td>1.79826</td>\n",
              "      <td>1.80036</td>\n",
              "      <td>1.80969</td>\n",
              "    </tr>\n",
              "  </tbody>\n",
              "</table>\n",
              "</div>\n",
              "      <button class=\"colab-df-convert\" onclick=\"convertToInteractive('df-9ec493f2-09fa-4493-ae89-f9cf84177697')\"\n",
              "              title=\"Convert this dataframe to an interactive table.\"\n",
              "              style=\"display:none;\">\n",
              "        \n",
              "  <svg xmlns=\"http://www.w3.org/2000/svg\" height=\"24px\"viewBox=\"0 0 24 24\"\n",
              "       width=\"24px\">\n",
              "    <path d=\"M0 0h24v24H0V0z\" fill=\"none\"/>\n",
              "    <path d=\"M18.56 5.44l.94 2.06.94-2.06 2.06-.94-2.06-.94-.94-2.06-.94 2.06-2.06.94zm-11 1L8.5 8.5l.94-2.06 2.06-.94-2.06-.94L8.5 2.5l-.94 2.06-2.06.94zm10 10l.94 2.06.94-2.06 2.06-.94-2.06-.94-.94-2.06-.94 2.06-2.06.94z\"/><path d=\"M17.41 7.96l-1.37-1.37c-.4-.4-.92-.59-1.43-.59-.52 0-1.04.2-1.43.59L10.3 9.45l-7.72 7.72c-.78.78-.78 2.05 0 2.83L4 21.41c.39.39.9.59 1.41.59.51 0 1.02-.2 1.41-.59l7.78-7.78 2.81-2.81c.8-.78.8-2.07 0-2.86zM5.41 20L4 18.59l7.72-7.72 1.47 1.35L5.41 20z\"/>\n",
              "  </svg>\n",
              "      </button>\n",
              "      \n",
              "  <style>\n",
              "    .colab-df-container {\n",
              "      display:flex;\n",
              "      flex-wrap:wrap;\n",
              "      gap: 12px;\n",
              "    }\n",
              "\n",
              "    .colab-df-convert {\n",
              "      background-color: #E8F0FE;\n",
              "      border: none;\n",
              "      border-radius: 50%;\n",
              "      cursor: pointer;\n",
              "      display: none;\n",
              "      fill: #1967D2;\n",
              "      height: 32px;\n",
              "      padding: 0 0 0 0;\n",
              "      width: 32px;\n",
              "    }\n",
              "\n",
              "    .colab-df-convert:hover {\n",
              "      background-color: #E2EBFA;\n",
              "      box-shadow: 0px 1px 2px rgba(60, 64, 67, 0.3), 0px 1px 3px 1px rgba(60, 64, 67, 0.15);\n",
              "      fill: #174EA6;\n",
              "    }\n",
              "\n",
              "    [theme=dark] .colab-df-convert {\n",
              "      background-color: #3B4455;\n",
              "      fill: #D2E3FC;\n",
              "    }\n",
              "\n",
              "    [theme=dark] .colab-df-convert:hover {\n",
              "      background-color: #434B5C;\n",
              "      box-shadow: 0px 1px 3px 1px rgba(0, 0, 0, 0.15);\n",
              "      filter: drop-shadow(0px 1px 2px rgba(0, 0, 0, 0.3));\n",
              "      fill: #FFFFFF;\n",
              "    }\n",
              "  </style>\n",
              "\n",
              "      <script>\n",
              "        const buttonEl =\n",
              "          document.querySelector('#df-9ec493f2-09fa-4493-ae89-f9cf84177697 button.colab-df-convert');\n",
              "        buttonEl.style.display =\n",
              "          google.colab.kernel.accessAllowed ? 'block' : 'none';\n",
              "\n",
              "        async function convertToInteractive(key) {\n",
              "          const element = document.querySelector('#df-9ec493f2-09fa-4493-ae89-f9cf84177697');\n",
              "          const dataTable =\n",
              "            await google.colab.kernel.invokeFunction('convertToInteractive',\n",
              "                                                     [key], {});\n",
              "          if (!dataTable) return;\n",
              "\n",
              "          const docLinkHtml = 'Like what you see? Visit the ' +\n",
              "            '<a target=\"_blank\" href=https://colab.research.google.com/notebooks/data_table.ipynb>data table notebook</a>'\n",
              "            + ' to learn more about interactive tables.';\n",
              "          element.innerHTML = '';\n",
              "          dataTable['output_type'] = 'display_data';\n",
              "          await google.colab.output.renderOutput(dataTable, element);\n",
              "          const docLink = document.createElement('div');\n",
              "          docLink.innerHTML = docLinkHtml;\n",
              "          element.appendChild(docLink);\n",
              "        }\n",
              "      </script>\n",
              "    </div>\n",
              "  </div>\n",
              "  "
            ]
          },
          "metadata": {},
          "execution_count": 147
        }
      ]
    },
    {
      "cell_type": "code",
      "source": [
        "# View labels\n",
        "y.head()"
      ],
      "metadata": {
        "colab": {
          "base_uri": "https://localhost:8080/"
        },
        "id": "sGmjZDcghMR7",
        "outputId": "bab14986-8618-4b37-e5c5-68db434def6d"
      },
      "execution_count": 148,
      "outputs": [
        {
          "output_type": "execute_result",
          "data": {
            "text/plain": [
              "Date\n",
              "2012-10-19    1.79726\n",
              "2012-10-22    1.79428\n",
              "2012-10-23    1.79270\n",
              "2012-10-24    1.80110\n",
              "2012-10-25    1.80227\n",
              "Name: Price, dtype: float32"
            ]
          },
          "metadata": {},
          "execution_count": 148
        }
      ]
    },
    {
      "cell_type": "code",
      "source": [
        "# Make train and test sets\n",
        "split_size = int(len(X) * 0.8)\n",
        "X_train, y_train = X[:split_size], y[:split_size]\n",
        "X_test, y_test = X[split_size:], y[split_size:]\n",
        "len(X_train), len(y_train), len(X_test), len(y_test)"
      ],
      "metadata": {
        "colab": {
          "base_uri": "https://localhost:8080/"
        },
        "id": "4frPHCxlhPfE",
        "outputId": "96ecba52-ac80-44a9-9ed3-571dbd498f40"
      },
      "execution_count": 149,
      "outputs": [
        {
          "output_type": "execute_result",
          "data": {
            "text/plain": [
              "(2078, 2078, 520, 520)"
            ]
          },
          "metadata": {},
          "execution_count": 149
        }
      ]
    },
    {
      "cell_type": "markdown",
      "source": [
        "# Model 6: Dense (multivariate time series)"
      ],
      "metadata": {
        "id": "qoBFZqOZhRl1"
      }
    },
    {
      "cell_type": "code",
      "source": [
        "tf.random.set_seed(42)\n",
        "\n",
        "# Make multivariate time series model\n",
        "model_6 = tf.keras.Sequential([\n",
        "  layers.Dense(128, activation=\"relu\"),\n",
        "  # layers.Dense(128, activation=\"relu\"), # adding an extra layer here should lead to beating the naive model\n",
        "  layers.Dense(HORIZON)\n",
        "], name=\"model_6_dense_multivariate\")\n",
        "\n",
        "# Compile\n",
        "model_6.compile(loss=\"mae\",\n",
        "                optimizer=tf.keras.optimizers.Adam())\n",
        "\n",
        "# Fit\n",
        "model_6.fit(X_train, y_train,\n",
        "            epochs=100,\n",
        "            batch_size=128,\n",
        "            verbose=0, # only print 1 line per epoch\n",
        "            validation_data=(X_test, y_test),\n",
        "            callbacks=[create_model_checkpoint(model_name=model_6.name)])"
      ],
      "metadata": {
        "colab": {
          "base_uri": "https://localhost:8080/"
        },
        "id": "WtCoexCVhTAs",
        "outputId": "39613ca4-2840-477f-bcd2-354cdbe95094"
      },
      "execution_count": 150,
      "outputs": [
        {
          "output_type": "execute_result",
          "data": {
            "text/plain": [
              "<keras.callbacks.History at 0x7fe5e65e6710>"
            ]
          },
          "metadata": {},
          "execution_count": 150
        }
      ]
    },
    {
      "cell_type": "code",
      "source": [
        "# Make sure best model is loaded and evaluate\n",
        "model_6 = tf.keras.models.load_model(\"model_experiments/model_6_dense_multivariate\")\n",
        "model_6.evaluate(X_test, y_test)"
      ],
      "metadata": {
        "colab": {
          "base_uri": "https://localhost:8080/"
        },
        "id": "Z3eeURAEhgGL",
        "outputId": "81d4c5c0-e908-449e-b68b-57b55be6eb8f"
      },
      "execution_count": 151,
      "outputs": [
        {
          "output_type": "stream",
          "name": "stdout",
          "text": [
            "17/17 [==============================] - 0s 4ms/step - loss: 0.5484\n"
          ]
        },
        {
          "output_type": "execute_result",
          "data": {
            "text/plain": [
              "0.5483861565589905"
            ]
          },
          "metadata": {},
          "execution_count": 151
        }
      ]
    },
    {
      "cell_type": "code",
      "source": [
        "# Make predictions on multivariate data\n",
        "model_6_preds = tf.squeeze(model_6.predict(X_test))\n",
        "model_6_preds[:10]"
      ],
      "metadata": {
        "colab": {
          "base_uri": "https://localhost:8080/"
        },
        "id": "RfzxfLCjhi7L",
        "outputId": "7777df3a-0991-47dc-fa04-f09a0e3cfb62"
      },
      "execution_count": 152,
      "outputs": [
        {
          "output_type": "execute_result",
          "data": {
            "text/plain": [
              "<tf.Tensor: shape=(10,), dtype=float32, numpy=\n",
              "array([7.9503055, 7.9758554, 7.983021 , 8.000013 , 8.034325 , 8.012949 ,\n",
              "       8.0078745, 8.004696 , 7.97344  , 8.00733  ], dtype=float32)>"
            ]
          },
          "metadata": {},
          "execution_count": 152
        }
      ]
    },
    {
      "cell_type": "code",
      "source": [
        "# Evaluate preds\n",
        "model_6_results = evaluate_preds(y_true=y_test,\n",
        "                                 y_pred=model_6_preds)\n",
        "model_6_results"
      ],
      "metadata": {
        "colab": {
          "base_uri": "https://localhost:8080/"
        },
        "id": "x0_1rZR1hmSr",
        "outputId": "d44eea3a-479d-4e65-aae3-268981e70bbe"
      },
      "execution_count": 153,
      "outputs": [
        {
          "output_type": "execute_result",
          "data": {
            "text/plain": [
              "{'mae': 0.5483861,\n",
              " 'mse': 0.5974028,\n",
              " 'rmse': 0.77291834,\n",
              " 'mape': 3.8856976,\n",
              " 'mase': 5.9047737}"
            ]
          },
          "metadata": {},
          "execution_count": 153
        }
      ]
    },
    {
      "cell_type": "code",
      "source": [
        "model_1_results"
      ],
      "metadata": {
        "colab": {
          "base_uri": "https://localhost:8080/"
        },
        "id": "fmjktEcmho57",
        "outputId": "e46fec1d-dc8d-4483-f5ec-ddf7a6af445b"
      },
      "execution_count": 154,
      "outputs": [
        {
          "output_type": "execute_result",
          "data": {
            "text/plain": [
              "{'mae': 0.12800246,\n",
              " 'mse': 0.08003816,\n",
              " 'rmse': 0.28291017,\n",
              " 'mape': 1.1383669,\n",
              " 'mase': 1.3782728}"
            ]
          },
          "metadata": {},
          "execution_count": 154
        }
      ]
    },
    {
      "cell_type": "markdown",
      "source": [
        "# Model 7: N-BEATS algorithm\n",
        "\n",
        "---\n",
        "\n"
      ],
      "metadata": {
        "id": "3_AWPJb6hsA-"
      }
    },
    {
      "cell_type": "code",
      "source": [
        "# Create NBeatsBlock custom layer \n",
        "class NBeatsBlock(tf.keras.layers.Layer):\n",
        "  def __init__(self, # the constructor takes all the hyperparameters for the layer\n",
        "               input_size: int,\n",
        "               theta_size: int,\n",
        "               horizon: int,\n",
        "               n_neurons: int,\n",
        "               n_layers: int,\n",
        "               **kwargs): # the **kwargs argument takes care of all of the arguments for the parent class (input_shape, trainable, name)\n",
        "    super().__init__(**kwargs)\n",
        "    self.input_size = input_size\n",
        "    self.theta_size = theta_size\n",
        "    self.horizon = horizon\n",
        "    self.n_neurons = n_neurons\n",
        "    self.n_layers = n_layers\n",
        "\n",
        "    # Block contains stack of 4 fully connected layers each has ReLU activation\n",
        "    self.hidden = [tf.keras.layers.Dense(n_neurons, activation=\"relu\") for _ in range(n_layers)]\n",
        "    # Output of block is a theta layer with linear activation\n",
        "    self.theta_layer = tf.keras.layers.Dense(theta_size, activation=\"linear\", name=\"theta\")\n",
        "\n",
        "  def call(self, inputs): # the call method is what runs when the layer is called \n",
        "    x = inputs \n",
        "    for layer in self.hidden: # pass inputs through each hidden layer \n",
        "      x = layer(x)\n",
        "    theta = self.theta_layer(x) \n",
        "    # Output the backcast and forecast from theta\n",
        "    backcast, forecast = theta[:, :self.input_size], theta[:, -self.horizon:]\n",
        "    return backcast, forecast"
      ],
      "metadata": {
        "id": "04tXPFvbhuMb"
      },
      "execution_count": 155,
      "outputs": []
    },
    {
      "cell_type": "code",
      "source": [
        "# Set up dummy NBeatsBlock layer to represent inputs and outputs\n",
        "dummy_nbeats_block_layer = NBeatsBlock(input_size=WINDOW_SIZE, \n",
        "                                       theta_size=WINDOW_SIZE+HORIZON, # backcast + forecast \n",
        "                                       horizon=HORIZON,\n",
        "                                       n_neurons=128,\n",
        "                                       n_layers=4)"
      ],
      "metadata": {
        "id": "ccJqXosah3Qi"
      },
      "execution_count": 156,
      "outputs": []
    },
    {
      "cell_type": "code",
      "source": [
        "# Create dummy inputs (have to be same size as input_size)\n",
        "dummy_inputs = tf.expand_dims(tf.range(WINDOW_SIZE) + 1, axis=0) # input shape to the model has to reflect Dense layer input requirements (ndim=2)\n",
        "dummy_inputs"
      ],
      "metadata": {
        "colab": {
          "base_uri": "https://localhost:8080/"
        },
        "id": "UgYomChch5n6",
        "outputId": "b584581b-7c0d-4c03-bdcd-bccb6f680806"
      },
      "execution_count": 157,
      "outputs": [
        {
          "output_type": "execute_result",
          "data": {
            "text/plain": [
              "<tf.Tensor: shape=(1, 7), dtype=int32, numpy=array([[1, 2, 3, 4, 5, 6, 7]], dtype=int32)>"
            ]
          },
          "metadata": {},
          "execution_count": 157
        }
      ]
    },
    {
      "cell_type": "code",
      "source": [
        "# Pass dummy inputs to dummy NBeatsBlock layer\n",
        "backcast, forecast = dummy_nbeats_block_layer(dummy_inputs)\n",
        "# These are the activation outputs of the theta layer (they'll be random due to no training of the model)\n",
        "print(f\"Backcast: {tf.squeeze(backcast.numpy())}\")\n",
        "print(f\"Forecast: {tf.squeeze(forecast.numpy())}\")"
      ],
      "metadata": {
        "colab": {
          "base_uri": "https://localhost:8080/"
        },
        "id": "3Mw1XEtbh8ZC",
        "outputId": "3c6a331f-0038-418e-dd3b-e7db24aa9856"
      },
      "execution_count": 158,
      "outputs": [
        {
          "output_type": "stream",
          "name": "stdout",
          "text": [
            "Backcast: [ 0.19014983  0.8379835  -0.32870027  0.25159904 -0.47540277 -0.7783665\n",
            " -0.5299448 ]\n",
            "Forecast: -0.7554212808609009\n"
          ]
        }
      ]
    },
    {
      "cell_type": "code",
      "source": [
        "HORIZON = 1 # how far to predict forward\n",
        "WINDOW_SIZE = 7 # how far to lookback"
      ],
      "metadata": {
        "id": "tVrySd-PiB-L"
      },
      "execution_count": 159,
      "outputs": []
    },
    {
      "cell_type": "code",
      "source": [
        "# Create NBEATS data inputs (NBEATS works with univariate time series)\n",
        "bitcoin_prices.head()"
      ],
      "metadata": {
        "colab": {
          "base_uri": "https://localhost:8080/",
          "height": 237
        },
        "id": "u5BqzqkZiDcK",
        "outputId": "c063e9fa-5e67-486f-8032-d72b2bd9d7c9"
      },
      "execution_count": 160,
      "outputs": [
        {
          "output_type": "execute_result",
          "data": {
            "text/plain": [
              "              Price\n",
              "Date               \n",
              "2012-10-10  1.82573\n",
              "2012-10-11  1.81868\n",
              "2012-10-12  1.80650\n",
              "2012-10-15  1.81079\n",
              "2012-10-16  1.80969"
            ],
            "text/html": [
              "\n",
              "  <div id=\"df-945fbb05-df86-4447-8f4b-640b44e3a0b1\">\n",
              "    <div class=\"colab-df-container\">\n",
              "      <div>\n",
              "<style scoped>\n",
              "    .dataframe tbody tr th:only-of-type {\n",
              "        vertical-align: middle;\n",
              "    }\n",
              "\n",
              "    .dataframe tbody tr th {\n",
              "        vertical-align: top;\n",
              "    }\n",
              "\n",
              "    .dataframe thead th {\n",
              "        text-align: right;\n",
              "    }\n",
              "</style>\n",
              "<table border=\"1\" class=\"dataframe\">\n",
              "  <thead>\n",
              "    <tr style=\"text-align: right;\">\n",
              "      <th></th>\n",
              "      <th>Price</th>\n",
              "    </tr>\n",
              "    <tr>\n",
              "      <th>Date</th>\n",
              "      <th></th>\n",
              "    </tr>\n",
              "  </thead>\n",
              "  <tbody>\n",
              "    <tr>\n",
              "      <th>2012-10-10</th>\n",
              "      <td>1.82573</td>\n",
              "    </tr>\n",
              "    <tr>\n",
              "      <th>2012-10-11</th>\n",
              "      <td>1.81868</td>\n",
              "    </tr>\n",
              "    <tr>\n",
              "      <th>2012-10-12</th>\n",
              "      <td>1.80650</td>\n",
              "    </tr>\n",
              "    <tr>\n",
              "      <th>2012-10-15</th>\n",
              "      <td>1.81079</td>\n",
              "    </tr>\n",
              "    <tr>\n",
              "      <th>2012-10-16</th>\n",
              "      <td>1.80969</td>\n",
              "    </tr>\n",
              "  </tbody>\n",
              "</table>\n",
              "</div>\n",
              "      <button class=\"colab-df-convert\" onclick=\"convertToInteractive('df-945fbb05-df86-4447-8f4b-640b44e3a0b1')\"\n",
              "              title=\"Convert this dataframe to an interactive table.\"\n",
              "              style=\"display:none;\">\n",
              "        \n",
              "  <svg xmlns=\"http://www.w3.org/2000/svg\" height=\"24px\"viewBox=\"0 0 24 24\"\n",
              "       width=\"24px\">\n",
              "    <path d=\"M0 0h24v24H0V0z\" fill=\"none\"/>\n",
              "    <path d=\"M18.56 5.44l.94 2.06.94-2.06 2.06-.94-2.06-.94-.94-2.06-.94 2.06-2.06.94zm-11 1L8.5 8.5l.94-2.06 2.06-.94-2.06-.94L8.5 2.5l-.94 2.06-2.06.94zm10 10l.94 2.06.94-2.06 2.06-.94-2.06-.94-.94-2.06-.94 2.06-2.06.94z\"/><path d=\"M17.41 7.96l-1.37-1.37c-.4-.4-.92-.59-1.43-.59-.52 0-1.04.2-1.43.59L10.3 9.45l-7.72 7.72c-.78.78-.78 2.05 0 2.83L4 21.41c.39.39.9.59 1.41.59.51 0 1.02-.2 1.41-.59l7.78-7.78 2.81-2.81c.8-.78.8-2.07 0-2.86zM5.41 20L4 18.59l7.72-7.72 1.47 1.35L5.41 20z\"/>\n",
              "  </svg>\n",
              "      </button>\n",
              "      \n",
              "  <style>\n",
              "    .colab-df-container {\n",
              "      display:flex;\n",
              "      flex-wrap:wrap;\n",
              "      gap: 12px;\n",
              "    }\n",
              "\n",
              "    .colab-df-convert {\n",
              "      background-color: #E8F0FE;\n",
              "      border: none;\n",
              "      border-radius: 50%;\n",
              "      cursor: pointer;\n",
              "      display: none;\n",
              "      fill: #1967D2;\n",
              "      height: 32px;\n",
              "      padding: 0 0 0 0;\n",
              "      width: 32px;\n",
              "    }\n",
              "\n",
              "    .colab-df-convert:hover {\n",
              "      background-color: #E2EBFA;\n",
              "      box-shadow: 0px 1px 2px rgba(60, 64, 67, 0.3), 0px 1px 3px 1px rgba(60, 64, 67, 0.15);\n",
              "      fill: #174EA6;\n",
              "    }\n",
              "\n",
              "    [theme=dark] .colab-df-convert {\n",
              "      background-color: #3B4455;\n",
              "      fill: #D2E3FC;\n",
              "    }\n",
              "\n",
              "    [theme=dark] .colab-df-convert:hover {\n",
              "      background-color: #434B5C;\n",
              "      box-shadow: 0px 1px 3px 1px rgba(0, 0, 0, 0.15);\n",
              "      filter: drop-shadow(0px 1px 2px rgba(0, 0, 0, 0.3));\n",
              "      fill: #FFFFFF;\n",
              "    }\n",
              "  </style>\n",
              "\n",
              "      <script>\n",
              "        const buttonEl =\n",
              "          document.querySelector('#df-945fbb05-df86-4447-8f4b-640b44e3a0b1 button.colab-df-convert');\n",
              "        buttonEl.style.display =\n",
              "          google.colab.kernel.accessAllowed ? 'block' : 'none';\n",
              "\n",
              "        async function convertToInteractive(key) {\n",
              "          const element = document.querySelector('#df-945fbb05-df86-4447-8f4b-640b44e3a0b1');\n",
              "          const dataTable =\n",
              "            await google.colab.kernel.invokeFunction('convertToInteractive',\n",
              "                                                     [key], {});\n",
              "          if (!dataTable) return;\n",
              "\n",
              "          const docLinkHtml = 'Like what you see? Visit the ' +\n",
              "            '<a target=\"_blank\" href=https://colab.research.google.com/notebooks/data_table.ipynb>data table notebook</a>'\n",
              "            + ' to learn more about interactive tables.';\n",
              "          element.innerHTML = '';\n",
              "          dataTable['output_type'] = 'display_data';\n",
              "          await google.colab.output.renderOutput(dataTable, element);\n",
              "          const docLink = document.createElement('div');\n",
              "          docLink.innerHTML = docLinkHtml;\n",
              "          element.appendChild(docLink);\n",
              "        }\n",
              "      </script>\n",
              "    </div>\n",
              "  </div>\n",
              "  "
            ]
          },
          "metadata": {},
          "execution_count": 160
        }
      ]
    },
    {
      "cell_type": "code",
      "source": [
        "# Add windowed columns\n",
        "bitcoin_prices_nbeats = bitcoin_prices.copy()\n",
        "for i in range(WINDOW_SIZE):\n",
        "  bitcoin_prices_nbeats[f\"Price+{i+1}\"] = bitcoin_prices_nbeats[\"Price\"].shift(periods=i+1)\n",
        "bitcoin_prices_nbeats.dropna().head()"
      ],
      "metadata": {
        "colab": {
          "base_uri": "https://localhost:8080/",
          "height": 237
        },
        "id": "ZMzCu2TkiGni",
        "outputId": "bb26e2d6-ed26-419f-e164-74320c0b2d3f"
      },
      "execution_count": 161,
      "outputs": [
        {
          "output_type": "execute_result",
          "data": {
            "text/plain": [
              "              Price  Price+1  Price+2  Price+3  Price+4  Price+5  Price+6  \\\n",
              "Date                                                                        \n",
              "2012-10-19  1.79726  1.79826  1.80036  1.80969  1.81079  1.80650  1.81868   \n",
              "2012-10-22  1.79428  1.79726  1.79826  1.80036  1.80969  1.81079  1.80650   \n",
              "2012-10-23  1.79270  1.79428  1.79726  1.79826  1.80036  1.80969  1.81079   \n",
              "2012-10-24  1.80110  1.79270  1.79428  1.79726  1.79826  1.80036  1.80969   \n",
              "2012-10-25  1.80227  1.80110  1.79270  1.79428  1.79726  1.79826  1.80036   \n",
              "\n",
              "            Price+7  \n",
              "Date                 \n",
              "2012-10-19  1.82573  \n",
              "2012-10-22  1.81868  \n",
              "2012-10-23  1.80650  \n",
              "2012-10-24  1.81079  \n",
              "2012-10-25  1.80969  "
            ],
            "text/html": [
              "\n",
              "  <div id=\"df-cd520d18-708b-43aa-bc5e-489e3b59eef9\">\n",
              "    <div class=\"colab-df-container\">\n",
              "      <div>\n",
              "<style scoped>\n",
              "    .dataframe tbody tr th:only-of-type {\n",
              "        vertical-align: middle;\n",
              "    }\n",
              "\n",
              "    .dataframe tbody tr th {\n",
              "        vertical-align: top;\n",
              "    }\n",
              "\n",
              "    .dataframe thead th {\n",
              "        text-align: right;\n",
              "    }\n",
              "</style>\n",
              "<table border=\"1\" class=\"dataframe\">\n",
              "  <thead>\n",
              "    <tr style=\"text-align: right;\">\n",
              "      <th></th>\n",
              "      <th>Price</th>\n",
              "      <th>Price+1</th>\n",
              "      <th>Price+2</th>\n",
              "      <th>Price+3</th>\n",
              "      <th>Price+4</th>\n",
              "      <th>Price+5</th>\n",
              "      <th>Price+6</th>\n",
              "      <th>Price+7</th>\n",
              "    </tr>\n",
              "    <tr>\n",
              "      <th>Date</th>\n",
              "      <th></th>\n",
              "      <th></th>\n",
              "      <th></th>\n",
              "      <th></th>\n",
              "      <th></th>\n",
              "      <th></th>\n",
              "      <th></th>\n",
              "      <th></th>\n",
              "    </tr>\n",
              "  </thead>\n",
              "  <tbody>\n",
              "    <tr>\n",
              "      <th>2012-10-19</th>\n",
              "      <td>1.79726</td>\n",
              "      <td>1.79826</td>\n",
              "      <td>1.80036</td>\n",
              "      <td>1.80969</td>\n",
              "      <td>1.81079</td>\n",
              "      <td>1.80650</td>\n",
              "      <td>1.81868</td>\n",
              "      <td>1.82573</td>\n",
              "    </tr>\n",
              "    <tr>\n",
              "      <th>2012-10-22</th>\n",
              "      <td>1.79428</td>\n",
              "      <td>1.79726</td>\n",
              "      <td>1.79826</td>\n",
              "      <td>1.80036</td>\n",
              "      <td>1.80969</td>\n",
              "      <td>1.81079</td>\n",
              "      <td>1.80650</td>\n",
              "      <td>1.81868</td>\n",
              "    </tr>\n",
              "    <tr>\n",
              "      <th>2012-10-23</th>\n",
              "      <td>1.79270</td>\n",
              "      <td>1.79428</td>\n",
              "      <td>1.79726</td>\n",
              "      <td>1.79826</td>\n",
              "      <td>1.80036</td>\n",
              "      <td>1.80969</td>\n",
              "      <td>1.81079</td>\n",
              "      <td>1.80650</td>\n",
              "    </tr>\n",
              "    <tr>\n",
              "      <th>2012-10-24</th>\n",
              "      <td>1.80110</td>\n",
              "      <td>1.79270</td>\n",
              "      <td>1.79428</td>\n",
              "      <td>1.79726</td>\n",
              "      <td>1.79826</td>\n",
              "      <td>1.80036</td>\n",
              "      <td>1.80969</td>\n",
              "      <td>1.81079</td>\n",
              "    </tr>\n",
              "    <tr>\n",
              "      <th>2012-10-25</th>\n",
              "      <td>1.80227</td>\n",
              "      <td>1.80110</td>\n",
              "      <td>1.79270</td>\n",
              "      <td>1.79428</td>\n",
              "      <td>1.79726</td>\n",
              "      <td>1.79826</td>\n",
              "      <td>1.80036</td>\n",
              "      <td>1.80969</td>\n",
              "    </tr>\n",
              "  </tbody>\n",
              "</table>\n",
              "</div>\n",
              "      <button class=\"colab-df-convert\" onclick=\"convertToInteractive('df-cd520d18-708b-43aa-bc5e-489e3b59eef9')\"\n",
              "              title=\"Convert this dataframe to an interactive table.\"\n",
              "              style=\"display:none;\">\n",
              "        \n",
              "  <svg xmlns=\"http://www.w3.org/2000/svg\" height=\"24px\"viewBox=\"0 0 24 24\"\n",
              "       width=\"24px\">\n",
              "    <path d=\"M0 0h24v24H0V0z\" fill=\"none\"/>\n",
              "    <path d=\"M18.56 5.44l.94 2.06.94-2.06 2.06-.94-2.06-.94-.94-2.06-.94 2.06-2.06.94zm-11 1L8.5 8.5l.94-2.06 2.06-.94-2.06-.94L8.5 2.5l-.94 2.06-2.06.94zm10 10l.94 2.06.94-2.06 2.06-.94-2.06-.94-.94-2.06-.94 2.06-2.06.94z\"/><path d=\"M17.41 7.96l-1.37-1.37c-.4-.4-.92-.59-1.43-.59-.52 0-1.04.2-1.43.59L10.3 9.45l-7.72 7.72c-.78.78-.78 2.05 0 2.83L4 21.41c.39.39.9.59 1.41.59.51 0 1.02-.2 1.41-.59l7.78-7.78 2.81-2.81c.8-.78.8-2.07 0-2.86zM5.41 20L4 18.59l7.72-7.72 1.47 1.35L5.41 20z\"/>\n",
              "  </svg>\n",
              "      </button>\n",
              "      \n",
              "  <style>\n",
              "    .colab-df-container {\n",
              "      display:flex;\n",
              "      flex-wrap:wrap;\n",
              "      gap: 12px;\n",
              "    }\n",
              "\n",
              "    .colab-df-convert {\n",
              "      background-color: #E8F0FE;\n",
              "      border: none;\n",
              "      border-radius: 50%;\n",
              "      cursor: pointer;\n",
              "      display: none;\n",
              "      fill: #1967D2;\n",
              "      height: 32px;\n",
              "      padding: 0 0 0 0;\n",
              "      width: 32px;\n",
              "    }\n",
              "\n",
              "    .colab-df-convert:hover {\n",
              "      background-color: #E2EBFA;\n",
              "      box-shadow: 0px 1px 2px rgba(60, 64, 67, 0.3), 0px 1px 3px 1px rgba(60, 64, 67, 0.15);\n",
              "      fill: #174EA6;\n",
              "    }\n",
              "\n",
              "    [theme=dark] .colab-df-convert {\n",
              "      background-color: #3B4455;\n",
              "      fill: #D2E3FC;\n",
              "    }\n",
              "\n",
              "    [theme=dark] .colab-df-convert:hover {\n",
              "      background-color: #434B5C;\n",
              "      box-shadow: 0px 1px 3px 1px rgba(0, 0, 0, 0.15);\n",
              "      filter: drop-shadow(0px 1px 2px rgba(0, 0, 0, 0.3));\n",
              "      fill: #FFFFFF;\n",
              "    }\n",
              "  </style>\n",
              "\n",
              "      <script>\n",
              "        const buttonEl =\n",
              "          document.querySelector('#df-cd520d18-708b-43aa-bc5e-489e3b59eef9 button.colab-df-convert');\n",
              "        buttonEl.style.display =\n",
              "          google.colab.kernel.accessAllowed ? 'block' : 'none';\n",
              "\n",
              "        async function convertToInteractive(key) {\n",
              "          const element = document.querySelector('#df-cd520d18-708b-43aa-bc5e-489e3b59eef9');\n",
              "          const dataTable =\n",
              "            await google.colab.kernel.invokeFunction('convertToInteractive',\n",
              "                                                     [key], {});\n",
              "          if (!dataTable) return;\n",
              "\n",
              "          const docLinkHtml = 'Like what you see? Visit the ' +\n",
              "            '<a target=\"_blank\" href=https://colab.research.google.com/notebooks/data_table.ipynb>data table notebook</a>'\n",
              "            + ' to learn more about interactive tables.';\n",
              "          element.innerHTML = '';\n",
              "          dataTable['output_type'] = 'display_data';\n",
              "          await google.colab.output.renderOutput(dataTable, element);\n",
              "          const docLink = document.createElement('div');\n",
              "          docLink.innerHTML = docLinkHtml;\n",
              "          element.appendChild(docLink);\n",
              "        }\n",
              "      </script>\n",
              "    </div>\n",
              "  </div>\n",
              "  "
            ]
          },
          "metadata": {},
          "execution_count": 161
        }
      ]
    },
    {
      "cell_type": "code",
      "source": [
        "# Make features and labels\n",
        "X = bitcoin_prices_nbeats.dropna().drop(\"Price\", axis=1)\n",
        "y = bitcoin_prices_nbeats.dropna()[\"Price\"]\n",
        "\n",
        "# Make train and test sets\n",
        "split_size = int(len(X) * 0.8)\n",
        "X_train, y_train = X[:split_size], y[:split_size]\n",
        "X_test, y_test = X[split_size:], y[split_size:]\n",
        "len(X_train), len(y_train), len(X_test), len(y_test)"
      ],
      "metadata": {
        "colab": {
          "base_uri": "https://localhost:8080/"
        },
        "id": "2ogfl45liJkK",
        "outputId": "0867dbaf-1314-480f-8d4b-fc76e0e5093f"
      },
      "execution_count": 162,
      "outputs": [
        {
          "output_type": "execute_result",
          "data": {
            "text/plain": [
              "(2078, 2078, 520, 520)"
            ]
          },
          "metadata": {},
          "execution_count": 162
        }
      ]
    },
    {
      "cell_type": "code",
      "source": [
        "# 1. Turn train and test arrays into tensor Datasets\n",
        "train_features_dataset = tf.data.Dataset.from_tensor_slices(X_train)\n",
        "train_labels_dataset = tf.data.Dataset.from_tensor_slices(y_train)\n",
        "\n",
        "test_features_dataset = tf.data.Dataset.from_tensor_slices(X_test)\n",
        "test_labels_dataset = tf.data.Dataset.from_tensor_slices(y_test)\n",
        "\n",
        "# 2. Combine features & labels\n",
        "train_dataset = tf.data.Dataset.zip((train_features_dataset, train_labels_dataset))\n",
        "test_dataset = tf.data.Dataset.zip((test_features_dataset, test_labels_dataset))\n",
        "\n",
        "# 3. Batch and prefetch for optimal performance\n",
        "BATCH_SIZE = 1024 # taken from Appendix D in N-BEATS paper\n",
        "train_dataset = train_dataset.batch(BATCH_SIZE).prefetch(tf.data.AUTOTUNE)\n",
        "test_dataset = test_dataset.batch(BATCH_SIZE).prefetch(tf.data.AUTOTUNE)\n",
        "\n",
        "train_dataset, test_dataset"
      ],
      "metadata": {
        "colab": {
          "base_uri": "https://localhost:8080/"
        },
        "id": "APYFsk5CiNfc",
        "outputId": "f1d6d863-034a-4c58-d796-12fe3718a6f6"
      },
      "execution_count": 163,
      "outputs": [
        {
          "output_type": "execute_result",
          "data": {
            "text/plain": [
              "(<PrefetchDataset element_spec=(TensorSpec(shape=(None, 7), dtype=tf.float64, name=None), TensorSpec(shape=(None,), dtype=tf.float64, name=None))>,\n",
              " <PrefetchDataset element_spec=(TensorSpec(shape=(None, 7), dtype=tf.float64, name=None), TensorSpec(shape=(None,), dtype=tf.float64, name=None))>)"
            ]
          },
          "metadata": {},
          "execution_count": 163
        }
      ]
    },
    {
      "cell_type": "code",
      "source": [
        "# Values from N-BEATS paper Figure 1 and Table 18/Appendix D\n",
        "N_EPOCHS = 5000 # called \"Iterations\" in Table 18\n",
        "N_NEURONS = 512 # called \"Width\" in Table 18\n",
        "N_LAYERS = 4\n",
        "N_STACKS = 30\n",
        "\n",
        "INPUT_SIZE = WINDOW_SIZE * HORIZON # called \"Lookback\" in Table 18\n",
        "THETA_SIZE = INPUT_SIZE + HORIZON\n",
        "\n",
        "INPUT_SIZE, THETA_SIZE"
      ],
      "metadata": {
        "colab": {
          "base_uri": "https://localhost:8080/"
        },
        "id": "mKZPDLbAiVos",
        "outputId": "4bfb0cef-6571-469e-ada4-5b0dccf29374"
      },
      "execution_count": 164,
      "outputs": [
        {
          "output_type": "execute_result",
          "data": {
            "text/plain": [
              "(7, 8)"
            ]
          },
          "metadata": {},
          "execution_count": 164
        }
      ]
    },
    {
      "cell_type": "code",
      "source": [
        "# Make tensors\n",
        "tensor_1 = tf.range(10) + 10\n",
        "tensor_2 = tf.range(10)\n",
        "\n",
        "# Subtract\n",
        "subtracted = layers.subtract([tensor_1, tensor_2])\n",
        "\n",
        "# Add\n",
        "added = layers.add([tensor_1, tensor_2])\n",
        "\n",
        "print(f\"Input tensors: {tensor_1.numpy()} & {tensor_2.numpy()}\")\n",
        "print(f\"Subtracted: {subtracted.numpy()}\")\n",
        "print(f\"Added: {added.numpy()}\")"
      ],
      "metadata": {
        "colab": {
          "base_uri": "https://localhost:8080/"
        },
        "id": "2pUJ4v-JiaND",
        "outputId": "4c841761-6ec3-4fb0-f24b-36673691cbf9"
      },
      "execution_count": 165,
      "outputs": [
        {
          "output_type": "stream",
          "name": "stdout",
          "text": [
            "Input tensors: [10 11 12 13 14 15 16 17 18 19] & [0 1 2 3 4 5 6 7 8 9]\n",
            "Subtracted: [10 10 10 10 10 10 10 10 10 10]\n",
            "Added: [10 12 14 16 18 20 22 24 26 28]\n"
          ]
        }
      ]
    },
    {
      "cell_type": "markdown",
      "source": [
        "### Skip the rest of Model 7"
      ],
      "metadata": {
        "id": "3NZ_B8qUiczM"
      }
    },
    {
      "cell_type": "markdown",
      "source": [
        "# Model 8: Creating an ensemble (stacking different models together)"
      ],
      "metadata": {
        "id": "EBt73j7aijtT"
      }
    },
    {
      "cell_type": "code",
      "source": [
        "def get_ensemble_models(horizon=HORIZON, \n",
        "                        train_data=train_dataset,\n",
        "                        test_data=test_dataset,\n",
        "                        num_iter=10, \n",
        "                        num_epochs=100, \n",
        "                        loss_fns=[\"mae\", \"mse\", \"mape\"]):\n",
        "  \"\"\"\n",
        "  Returns a list of num_iter models each trained on MAE, MSE and MAPE loss.\n",
        "\n",
        "  For example, if num_iter=10, a list of 30 trained models will be returned:\n",
        "  10 * len([\"mae\", \"mse\", \"mape\"]).\n",
        "  \"\"\"\n",
        "  # Make empty list for trained ensemble models\n",
        "  ensemble_models = []\n",
        "\n",
        "  # Create num_iter number of models per loss function\n",
        "  for i in range(num_iter):\n",
        "    # Build and fit a new model with a different loss function\n",
        "    for loss_function in loss_fns:\n",
        "      print(f\"Optimizing model by reducing: {loss_function} for {num_epochs} epochs, model number: {i}\")\n",
        "\n",
        "      # Construct a simple model (similar to model_1)\n",
        "      model = tf.keras.Sequential([\n",
        "        # Initialize layers with normal (Gaussian) distribution so we can use the models for prediction\n",
        "        # interval estimation later: https://www.tensorflow.org/api_docs/python/tf/keras/initializers/HeNormal\n",
        "        layers.Dense(128, kernel_initializer=\"he_normal\", activation=\"relu\"), \n",
        "        layers.Dense(128, kernel_initializer=\"he_normal\", activation=\"relu\"),\n",
        "        layers.Dense(HORIZON)                                 \n",
        "      ])\n",
        "\n",
        "      # Compile simple model with current loss function\n",
        "      model.compile(loss=loss_function,\n",
        "                    optimizer=tf.keras.optimizers.Adam(),\n",
        "                    metrics=[\"mae\", \"mse\"])\n",
        "      \n",
        "      # Fit model\n",
        "      model.fit(train_data,\n",
        "                epochs=num_epochs,\n",
        "                verbose=0,\n",
        "                validation_data=test_data,\n",
        "                # Add callbacks to prevent training from going/stalling for too long\n",
        "                callbacks=[tf.keras.callbacks.EarlyStopping(monitor=\"val_loss\",\n",
        "                                                            patience=200,\n",
        "                                                            restore_best_weights=True),\n",
        "                           tf.keras.callbacks.ReduceLROnPlateau(monitor=\"val_loss\",\n",
        "                                                                patience=100,\n",
        "                                                                verbose=1)])\n",
        "      \n",
        "      # Append fitted model to list of ensemble models\n",
        "      ensemble_models.append(model)\n",
        "\n",
        "  return ensemble_models # return list of trained models"
      ],
      "metadata": {
        "id": "Qwc2AsYnik46"
      },
      "execution_count": 166,
      "outputs": []
    },
    {
      "cell_type": "code",
      "source": [
        "%%time\n",
        "# Get list of trained ensemble models\n",
        "ensemble_models = get_ensemble_models(num_iter=5,\n",
        "                                      num_epochs=1000)"
      ],
      "metadata": {
        "colab": {
          "base_uri": "https://localhost:8080/"
        },
        "id": "zzA-QSfRixXq",
        "outputId": "d353d6c2-b7f7-4078-da27-3cd4b684a80f"
      },
      "execution_count": 167,
      "outputs": [
        {
          "output_type": "stream",
          "name": "stdout",
          "text": [
            "Optimizing model by reducing: mae for 1000 epochs, model number: 0\n",
            "\n",
            "Epoch 103: ReduceLROnPlateau reducing learning rate to 0.00010000000474974513.\n",
            "\n",
            "Epoch 382: ReduceLROnPlateau reducing learning rate to 1.0000000474974514e-05.\n",
            "\n",
            "Epoch 484: ReduceLROnPlateau reducing learning rate to 1.0000000656873453e-06.\n",
            "\n",
            "Epoch 584: ReduceLROnPlateau reducing learning rate to 1.0000001111620805e-07.\n",
            "Optimizing model by reducing: mse for 1000 epochs, model number: 0\n",
            "Optimizing model by reducing: mape for 1000 epochs, model number: 0\n",
            "\n",
            "Epoch 116: ReduceLROnPlateau reducing learning rate to 0.00010000000474974513.\n",
            "\n",
            "Epoch 442: ReduceLROnPlateau reducing learning rate to 1.0000000474974514e-05.\n",
            "\n",
            "Epoch 542: ReduceLROnPlateau reducing learning rate to 1.0000000656873453e-06.\n",
            "Optimizing model by reducing: mae for 1000 epochs, model number: 1\n",
            "\n",
            "Epoch 104: ReduceLROnPlateau reducing learning rate to 0.00010000000474974513.\n",
            "Optimizing model by reducing: mse for 1000 epochs, model number: 1\n",
            "\n",
            "Epoch 697: ReduceLROnPlateau reducing learning rate to 0.00010000000474974513.\n",
            "\n",
            "Epoch 797: ReduceLROnPlateau reducing learning rate to 1.0000000474974514e-05.\n",
            "Optimizing model by reducing: mape for 1000 epochs, model number: 1\n",
            "\n",
            "Epoch 204: ReduceLROnPlateau reducing learning rate to 0.00010000000474974513.\n",
            "Optimizing model by reducing: mae for 1000 epochs, model number: 2\n",
            "\n",
            "Epoch 174: ReduceLROnPlateau reducing learning rate to 0.00010000000474974513.\n",
            "\n",
            "Epoch 452: ReduceLROnPlateau reducing learning rate to 1.0000000474974514e-05.\n",
            "\n",
            "Epoch 552: ReduceLROnPlateau reducing learning rate to 1.0000000656873453e-06.\n",
            "Optimizing model by reducing: mse for 1000 epochs, model number: 2\n",
            "\n",
            "Epoch 236: ReduceLROnPlateau reducing learning rate to 0.00010000000474974513.\n",
            "\n",
            "Epoch 336: ReduceLROnPlateau reducing learning rate to 1.0000000474974514e-05.\n",
            "Optimizing model by reducing: mape for 1000 epochs, model number: 2\n",
            "\n",
            "Epoch 220: ReduceLROnPlateau reducing learning rate to 0.00010000000474974513.\n",
            "Optimizing model by reducing: mae for 1000 epochs, model number: 3\n",
            "\n",
            "Epoch 713: ReduceLROnPlateau reducing learning rate to 0.00010000000474974513.\n",
            "Optimizing model by reducing: mse for 1000 epochs, model number: 3\n",
            "\n",
            "Epoch 430: ReduceLROnPlateau reducing learning rate to 0.00010000000474974513.\n",
            "\n",
            "Epoch 530: ReduceLROnPlateau reducing learning rate to 1.0000000474974514e-05.\n",
            "Optimizing model by reducing: mape for 1000 epochs, model number: 3\n",
            "\n",
            "Epoch 142: ReduceLROnPlateau reducing learning rate to 0.00010000000474974513.\n",
            "Optimizing model by reducing: mae for 1000 epochs, model number: 4\n",
            "\n",
            "Epoch 145: ReduceLROnPlateau reducing learning rate to 0.00010000000474974513.\n",
            "Optimizing model by reducing: mse for 1000 epochs, model number: 4\n",
            "\n",
            "Epoch 257: ReduceLROnPlateau reducing learning rate to 0.00010000000474974513.\n",
            "\n",
            "Epoch 357: ReduceLROnPlateau reducing learning rate to 1.0000000474974514e-05.\n",
            "Optimizing model by reducing: mape for 1000 epochs, model number: 4\n",
            "\n",
            "Epoch 142: ReduceLROnPlateau reducing learning rate to 0.00010000000474974513.\n",
            "\n",
            "Epoch 969: ReduceLROnPlateau reducing learning rate to 1.0000000474974514e-05.\n",
            "CPU times: user 9min 11s, sys: 30.5 s, total: 9min 41s\n",
            "Wall time: 9min 56s\n"
          ]
        }
      ]
    },
    {
      "cell_type": "code",
      "source": [
        "# Create a function which uses a list of trained models to make and return a list of predictions\n",
        "def make_ensemble_preds(ensemble_models, data):\n",
        "  ensemble_preds = []\n",
        "  for model in ensemble_models:\n",
        "    preds = model.predict(data) # make predictions with current ensemble model\n",
        "    ensemble_preds.append(preds)\n",
        "  return tf.constant(tf.squeeze(ensemble_preds))"
      ],
      "metadata": {
        "id": "AFdkTzhCla4i"
      },
      "execution_count": 168,
      "outputs": []
    },
    {
      "cell_type": "code",
      "source": [
        "# Create a list of ensemble predictions\n",
        "ensemble_preds = make_ensemble_preds(ensemble_models=ensemble_models,\n",
        "                                     data=test_dataset)\n",
        "ensemble_preds"
      ],
      "metadata": {
        "colab": {
          "base_uri": "https://localhost:8080/"
        },
        "id": "Qxrd335pldla",
        "outputId": "ab02ce89-aba1-4982-ccaf-23e0c788daf6"
      },
      "execution_count": 169,
      "outputs": [
        {
          "output_type": "stream",
          "name": "stderr",
          "text": [
            "WARNING:tensorflow:5 out of the last 21 calls to <function Model.make_predict_function.<locals>.predict_function at 0x7fe5e624fc20> triggered tf.function retracing. Tracing is expensive and the excessive number of tracings could be due to (1) creating @tf.function repeatedly in a loop, (2) passing tensors with different shapes, (3) passing Python objects instead of tensors. For (1), please define your @tf.function outside of the loop. For (2), @tf.function has experimental_relax_shapes=True option that relaxes argument shapes that can avoid unnecessary retracing. For (3), please refer to https://www.tensorflow.org/guide/function#controlling_retracing and https://www.tensorflow.org/api_docs/python/tf/function for  more details.\n",
            "WARNING:tensorflow:6 out of the last 22 calls to <function Model.make_predict_function.<locals>.predict_function at 0x7fe5e3eb7b00> triggered tf.function retracing. Tracing is expensive and the excessive number of tracings could be due to (1) creating @tf.function repeatedly in a loop, (2) passing tensors with different shapes, (3) passing Python objects instead of tensors. For (1), please define your @tf.function outside of the loop. For (2), @tf.function has experimental_relax_shapes=True option that relaxes argument shapes that can avoid unnecessary retracing. For (3), please refer to https://www.tensorflow.org/guide/function#controlling_retracing and https://www.tensorflow.org/api_docs/python/tf/function for  more details.\n"
          ]
        },
        {
          "output_type": "execute_result",
          "data": {
            "text/plain": [
              "<tf.Tensor: shape=(15, 520), dtype=float32, numpy=\n",
              "array([[ 7.896082 ,  7.873266 ,  7.942355 , ..., 18.61457  , 18.53671  ,\n",
              "        18.597885 ],\n",
              "       [ 7.9178166,  7.9116797,  7.9137216, ..., 18.668024 , 18.645105 ,\n",
              "        18.694422 ],\n",
              "       [ 7.876525 ,  7.873825 ,  7.9142056, ..., 18.608599 , 18.575304 ,\n",
              "        18.606478 ],\n",
              "       ...,\n",
              "       [ 7.9192195,  7.863409 ,  7.9204063, ..., 18.596159 , 18.60537  ,\n",
              "        18.60262  ],\n",
              "       [ 7.862002 ,  7.930873 ,  7.8878946, ..., 18.641218 , 18.572369 ,\n",
              "        18.660507 ],\n",
              "       [ 7.8637624,  7.900383 ,  7.9275746, ..., 18.628704 , 18.590567 ,\n",
              "        18.62225  ]], dtype=float32)>"
            ]
          },
          "metadata": {},
          "execution_count": 169
        }
      ]
    },
    {
      "cell_type": "code",
      "source": [
        "# Evaluate ensemble model(s) predictions\n",
        "ensemble_results = evaluate_preds(y_true=y_test,\n",
        "                                  y_pred=np.median(ensemble_preds, axis=0)) # take the median across all ensemble predictions\n",
        "ensemble_results"
      ],
      "metadata": {
        "colab": {
          "base_uri": "https://localhost:8080/"
        },
        "id": "ZkyTeE0hliRi",
        "outputId": "1a7e3006-eb38-4a93-a1de-ff1b39ea8bb0"
      },
      "execution_count": 170,
      "outputs": [
        {
          "output_type": "execute_result",
          "data": {
            "text/plain": [
              "{'mae': 0.110923074,\n",
              " 'mse': 0.07290111,\n",
              " 'rmse': 0.27000204,\n",
              " 'mape': 0.9893461,\n",
              " 'mase': 1.1943696}"
            ]
          },
          "metadata": {},
          "execution_count": 170
        }
      ]
    },
    {
      "cell_type": "code",
      "source": [
        "# Find upper and lower bounds of ensemble predictions\n",
        "def get_upper_lower(preds): # 1. Take the predictions of multiple randomly initialized deep learning neural networks\n",
        "  \n",
        "  # 2. Measure the standard deviation of the predictions\n",
        "  std = tf.math.reduce_std(preds, axis=0)\n",
        "  \n",
        "  # 3. Multiply the standard deviation by 1.96\n",
        "  interval = 1.96 * std # https://en.wikipedia.org/wiki/1.96 \n",
        "\n",
        "  # 4. Get the prediction interval upper and lower bounds\n",
        "  preds_mean = tf.reduce_mean(preds, axis=0)\n",
        "  lower, upper = preds_mean - interval, preds_mean + interval\n",
        "  return lower, upper\n",
        "\n",
        "# Get the upper and lower bounds of the 95% \n",
        "lower, upper = get_upper_lower(preds=ensemble_preds)"
      ],
      "metadata": {
        "id": "1jzgAFrgllZy"
      },
      "execution_count": 171,
      "outputs": []
    },
    {
      "cell_type": "code",
      "source": [
        "# Get the median values of our ensemble preds\n",
        "ensemble_median = np.median(ensemble_preds, axis=0)\n",
        "\n",
        "# Plot the median of our ensemble preds along with the prediction intervals (where the predictions fall between)\n",
        "offset=500\n",
        "plt.figure(figsize=(10, 7))\n",
        "plt.plot(X_test.index[offset:], y_test[offset:], \"g\", label=\"Test Data\")\n",
        "plt.plot(X_test.index[offset:], ensemble_median[offset:], \"k-\", label=\"Ensemble Median\")\n",
        "plt.xlabel(\"Date\")\n",
        "plt.ylabel(\"BTC Price\")\n",
        "plt.fill_between(X_test.index[offset:], \n",
        "                 (lower)[offset:], \n",
        "                 (upper)[offset:], label=\"Prediction Intervals\")\n",
        "plt.legend(loc=\"upper left\", fontsize=14);"
      ],
      "metadata": {
        "colab": {
          "base_uri": "https://localhost:8080/",
          "height": 442
        },
        "id": "JSvcyHuklqai",
        "outputId": "f0b6daca-6089-4b17-ce30-027b5de06aba"
      },
      "execution_count": 172,
      "outputs": [
        {
          "output_type": "display_data",
          "data": {
            "text/plain": [
              "<Figure size 720x504 with 1 Axes>"
            ],
            "image/png": "[encoded data removed]"
          },
          "metadata": {
            "needs_background": "light"
          }
        }
      ]
    },
    {
      "cell_type": "markdown",
      "source": [
        "# Model 9: Train a model on the full historical data to make predictions into future"
      ],
      "metadata": {
        "id": "5YAJxnW5ly-d"
      }
    },
    {
      "cell_type": "code",
      "source": [
        "bitcoin_prices_windowed.head()"
      ],
      "metadata": {
        "colab": {
          "base_uri": "https://localhost:8080/",
          "height": 237
        },
        "id": "sTUfUZCEl1Gb",
        "outputId": "8f0dd08a-39cc-4d94-f698-49ee4131466c"
      },
      "execution_count": 173,
      "outputs": [
        {
          "output_type": "execute_result",
          "data": {
            "text/plain": [
              "              Price block_reward  Price+1  Price+2  Price+3  Price+4  Price+5  \\\n",
              "Date                                                                            \n",
              "2012-10-10  1.82573           25      NaN      NaN      NaN      NaN      NaN   \n",
              "2012-10-11  1.81868           25  1.82573      NaN      NaN      NaN      NaN   \n",
              "2012-10-12  1.80650           25  1.81868  1.82573      NaN      NaN      NaN   \n",
              "2012-10-15  1.81079           25  1.80650  1.81868  1.82573      NaN      NaN   \n",
              "2012-10-16  1.80969           25  1.81079  1.80650  1.81868  1.82573      NaN   \n",
              "\n",
              "            Price+6  Price+7  \n",
              "Date                          \n",
              "2012-10-10      NaN      NaN  \n",
              "2012-10-11      NaN      NaN  \n",
              "2012-10-12      NaN      NaN  \n",
              "2012-10-15      NaN      NaN  \n",
              "2012-10-16      NaN      NaN  "
            ],
            "text/html": [
              "\n",
              "  <div id=\"df-b6c9b63c-c6df-42f1-8edd-a30117886153\">\n",
              "    <div class=\"colab-df-container\">\n",
              "      <div>\n",
              "<style scoped>\n",
              "    .dataframe tbody tr th:only-of-type {\n",
              "        vertical-align: middle;\n",
              "    }\n",
              "\n",
              "    .dataframe tbody tr th {\n",
              "        vertical-align: top;\n",
              "    }\n",
              "\n",
              "    .dataframe thead th {\n",
              "        text-align: right;\n",
              "    }\n",
              "</style>\n",
              "<table border=\"1\" class=\"dataframe\">\n",
              "  <thead>\n",
              "    <tr style=\"text-align: right;\">\n",
              "      <th></th>\n",
              "      <th>Price</th>\n",
              "      <th>block_reward</th>\n",
              "      <th>Price+1</th>\n",
              "      <th>Price+2</th>\n",
              "      <th>Price+3</th>\n",
              "      <th>Price+4</th>\n",
              "      <th>Price+5</th>\n",
              "      <th>Price+6</th>\n",
              "      <th>Price+7</th>\n",
              "    </tr>\n",
              "    <tr>\n",
              "      <th>Date</th>\n",
              "      <th></th>\n",
              "      <th></th>\n",
              "      <th></th>\n",
              "      <th></th>\n",
              "      <th></th>\n",
              "      <th></th>\n",
              "      <th></th>\n",
              "      <th></th>\n",
              "      <th></th>\n",
              "    </tr>\n",
              "  </thead>\n",
              "  <tbody>\n",
              "    <tr>\n",
              "      <th>2012-10-10</th>\n",
              "      <td>1.82573</td>\n",
              "      <td>25</td>\n",
              "      <td>NaN</td>\n",
              "      <td>NaN</td>\n",
              "      <td>NaN</td>\n",
              "      <td>NaN</td>\n",
              "      <td>NaN</td>\n",
              "      <td>NaN</td>\n",
              "      <td>NaN</td>\n",
              "    </tr>\n",
              "    <tr>\n",
              "      <th>2012-10-11</th>\n",
              "      <td>1.81868</td>\n",
              "      <td>25</td>\n",
              "      <td>1.82573</td>\n",
              "      <td>NaN</td>\n",
              "      <td>NaN</td>\n",
              "      <td>NaN</td>\n",
              "      <td>NaN</td>\n",
              "      <td>NaN</td>\n",
              "      <td>NaN</td>\n",
              "    </tr>\n",
              "    <tr>\n",
              "      <th>2012-10-12</th>\n",
              "      <td>1.80650</td>\n",
              "      <td>25</td>\n",
              "      <td>1.81868</td>\n",
              "      <td>1.82573</td>\n",
              "      <td>NaN</td>\n",
              "      <td>NaN</td>\n",
              "      <td>NaN</td>\n",
              "      <td>NaN</td>\n",
              "      <td>NaN</td>\n",
              "    </tr>\n",
              "    <tr>\n",
              "      <th>2012-10-15</th>\n",
              "      <td>1.81079</td>\n",
              "      <td>25</td>\n",
              "      <td>1.80650</td>\n",
              "      <td>1.81868</td>\n",
              "      <td>1.82573</td>\n",
              "      <td>NaN</td>\n",
              "      <td>NaN</td>\n",
              "      <td>NaN</td>\n",
              "      <td>NaN</td>\n",
              "    </tr>\n",
              "    <tr>\n",
              "      <th>2012-10-16</th>\n",
              "      <td>1.80969</td>\n",
              "      <td>25</td>\n",
              "      <td>1.81079</td>\n",
              "      <td>1.80650</td>\n",
              "      <td>1.81868</td>\n",
              "      <td>1.82573</td>\n",
              "      <td>NaN</td>\n",
              "      <td>NaN</td>\n",
              "      <td>NaN</td>\n",
              "    </tr>\n",
              "  </tbody>\n",
              "</table>\n",
              "</div>\n",
              "      <button class=\"colab-df-convert\" onclick=\"convertToInteractive('df-b6c9b63c-c6df-42f1-8edd-a30117886153')\"\n",
              "              title=\"Convert this dataframe to an interactive table.\"\n",
              "              style=\"display:none;\">\n",
              "        \n",
              "  <svg xmlns=\"http://www.w3.org/2000/svg\" height=\"24px\"viewBox=\"0 0 24 24\"\n",
              "       width=\"24px\">\n",
              "    <path d=\"M0 0h24v24H0V0z\" fill=\"none\"/>\n",
              "    <path d=\"M18.56 5.44l.94 2.06.94-2.06 2.06-.94-2.06-.94-.94-2.06-.94 2.06-2.06.94zm-11 1L8.5 8.5l.94-2.06 2.06-.94-2.06-.94L8.5 2.5l-.94 2.06-2.06.94zm10 10l.94 2.06.94-2.06 2.06-.94-2.06-.94-.94-2.06-.94 2.06-2.06.94z\"/><path d=\"M17.41 7.96l-1.37-1.37c-.4-.4-.92-.59-1.43-.59-.52 0-1.04.2-1.43.59L10.3 9.45l-7.72 7.72c-.78.78-.78 2.05 0 2.83L4 21.41c.39.39.9.59 1.41.59.51 0 1.02-.2 1.41-.59l7.78-7.78 2.81-2.81c.8-.78.8-2.07 0-2.86zM5.41 20L4 18.59l7.72-7.72 1.47 1.35L5.41 20z\"/>\n",
              "  </svg>\n",
              "      </button>\n",
              "      \n",
              "  <style>\n",
              "    .colab-df-container {\n",
              "      display:flex;\n",
              "      flex-wrap:wrap;\n",
              "      gap: 12px;\n",
              "    }\n",
              "\n",
              "    .colab-df-convert {\n",
              "      background-color: #E8F0FE;\n",
              "      border: none;\n",
              "      border-radius: 50%;\n",
              "      cursor: pointer;\n",
              "      display: none;\n",
              "      fill: #1967D2;\n",
              "      height: 32px;\n",
              "      padding: 0 0 0 0;\n",
              "      width: 32px;\n",
              "    }\n",
              "\n",
              "    .colab-df-convert:hover {\n",
              "      background-color: #E2EBFA;\n",
              "      box-shadow: 0px 1px 2px rgba(60, 64, 67, 0.3), 0px 1px 3px 1px rgba(60, 64, 67, 0.15);\n",
              "      fill: #174EA6;\n",
              "    }\n",
              "\n",
              "    [theme=dark] .colab-df-convert {\n",
              "      background-color: #3B4455;\n",
              "      fill: #D2E3FC;\n",
              "    }\n",
              "\n",
              "    [theme=dark] .colab-df-convert:hover {\n",
              "      background-color: #434B5C;\n",
              "      box-shadow: 0px 1px 3px 1px rgba(0, 0, 0, 0.15);\n",
              "      filter: drop-shadow(0px 1px 2px rgba(0, 0, 0, 0.3));\n",
              "      fill: #FFFFFF;\n",
              "    }\n",
              "  </style>\n",
              "\n",
              "      <script>\n",
              "        const buttonEl =\n",
              "          document.querySelector('#df-b6c9b63c-c6df-42f1-8edd-a30117886153 button.colab-df-convert');\n",
              "        buttonEl.style.display =\n",
              "          google.colab.kernel.accessAllowed ? 'block' : 'none';\n",
              "\n",
              "        async function convertToInteractive(key) {\n",
              "          const element = document.querySelector('#df-b6c9b63c-c6df-42f1-8edd-a30117886153');\n",
              "          const dataTable =\n",
              "            await google.colab.kernel.invokeFunction('convertToInteractive',\n",
              "                                                     [key], {});\n",
              "          if (!dataTable) return;\n",
              "\n",
              "          const docLinkHtml = 'Like what you see? Visit the ' +\n",
              "            '<a target=\"_blank\" href=https://colab.research.google.com/notebooks/data_table.ipynb>data table notebook</a>'\n",
              "            + ' to learn more about interactive tables.';\n",
              "          element.innerHTML = '';\n",
              "          dataTable['output_type'] = 'display_data';\n",
              "          await google.colab.output.renderOutput(dataTable, element);\n",
              "          const docLink = document.createElement('div');\n",
              "          docLink.innerHTML = docLinkHtml;\n",
              "          element.appendChild(docLink);\n",
              "        }\n",
              "      </script>\n",
              "    </div>\n",
              "  </div>\n",
              "  "
            ]
          },
          "metadata": {},
          "execution_count": 173
        }
      ]
    },
    {
      "cell_type": "code",
      "source": [
        "# Train model on entire data to make prediction for the next day \n",
        "X_all = bitcoin_prices_windowed.drop([\"Price\", \"block_reward\"], axis=1).dropna().to_numpy() # only want prices, our future model can be a univariate model\n",
        "y_all = bitcoin_prices_windowed.dropna()[\"Price\"].to_numpy()"
      ],
      "metadata": {
        "id": "46LlVuxSl59K"
      },
      "execution_count": 174,
      "outputs": []
    },
    {
      "cell_type": "code",
      "source": [
        "# 1. Turn X and y into tensor Datasets\n",
        "features_dataset_all = tf.data.Dataset.from_tensor_slices(X_all)\n",
        "labels_dataset_all = tf.data.Dataset.from_tensor_slices(y_all)\n",
        "\n",
        "# 2. Combine features & labels\n",
        "dataset_all = tf.data.Dataset.zip((features_dataset_all, labels_dataset_all))\n",
        "\n",
        "# 3. Batch and prefetch for optimal performance\n",
        "BATCH_SIZE = 1024 # taken from Appendix D in N-BEATS paper\n",
        "dataset_all = dataset_all.batch(BATCH_SIZE).prefetch(tf.data.AUTOTUNE)\n",
        "\n",
        "dataset_all"
      ],
      "metadata": {
        "colab": {
          "base_uri": "https://localhost:8080/"
        },
        "id": "-ubT_DFll8sR",
        "outputId": "d32f1cb6-cdee-4270-914a-34ce88bd24f1"
      },
      "execution_count": 175,
      "outputs": [
        {
          "output_type": "execute_result",
          "data": {
            "text/plain": [
              "<PrefetchDataset element_spec=(TensorSpec(shape=(None, 7), dtype=tf.float64, name=None), TensorSpec(shape=(None,), dtype=tf.float64, name=None))>"
            ]
          },
          "metadata": {},
          "execution_count": 175
        }
      ]
    },
    {
      "cell_type": "code",
      "source": [
        "tf.random.set_seed(42)\n",
        "\n",
        "# Create model (nice and simple, just to test)\n",
        "model_9 = tf.keras.Sequential([\n",
        "  layers.Dense(128, activation=\"relu\"),\n",
        "  layers.Dense(128, activation=\"relu\"),\n",
        "  layers.Dense(HORIZON)\n",
        "])\n",
        "\n",
        "# Compile\n",
        "model_9.compile(loss=tf.keras.losses.mae,\n",
        "                optimizer=tf.keras.optimizers.Adam())\n",
        "\n",
        "# Fit model on all of the data to make future forecasts\n",
        "model_9.fit(dataset_all,\n",
        "            epochs=100,\n",
        "            verbose=0) # don't print out anything, we've seen this all before"
      ],
      "metadata": {
        "colab": {
          "base_uri": "https://localhost:8080/"
        },
        "id": "C7M64np1l_6S",
        "outputId": "a19adb39-431b-4804-adda-07b8718fe645"
      },
      "execution_count": 176,
      "outputs": [
        {
          "output_type": "execute_result",
          "data": {
            "text/plain": [
              "<keras.callbacks.History at 0x7fe5db8c1c10>"
            ]
          },
          "metadata": {},
          "execution_count": 176
        }
      ]
    },
    {
      "cell_type": "code",
      "source": [
        "# How many timesteps to predict into the future?\n",
        "#INTO_FUTURE = 14 # since our Bitcoin data is daily, this is for 14 days\n",
        "#INTO_FUTURE = 120\n",
        "INTO_FUTURE = 120"
      ],
      "metadata": {
        "id": "lMC8QDoGmFB6"
      },
      "execution_count": 198,
      "outputs": []
    },
    {
      "cell_type": "code",
      "source": [
        "# 1. Create function to make predictions into the future\n",
        "def make_future_forecast(values, model, into_future, window_size=WINDOW_SIZE) -> list:\n",
        "  \"\"\"\n",
        "  Makes future forecasts into_future steps after values ends.\n",
        "\n",
        "  Returns future forecasts as list of floats.\n",
        "  \"\"\"\n",
        "  # 2. Make an empty list for future forecasts/prepare data to forecast on\n",
        "  future_forecast = []\n",
        "  last_window = values[-WINDOW_SIZE:] # only want preds from the last window (this will get updated)\n",
        "\n",
        "  # 3. Make INTO_FUTURE number of predictions, altering the data which gets predicted on each time \n",
        "  for _ in range(into_future):\n",
        "    \n",
        "    # Predict on last window then append it again, again, again (model starts to make forecasts on its own forecasts)\n",
        "    future_pred = model.predict(tf.expand_dims(last_window, axis=0))\n",
        "    print(f\"Predicting on: \\n {last_window} -> Prediction: {tf.squeeze(future_pred).numpy()}\\n\")\n",
        "    \n",
        "    # Append predictions to future_forecast\n",
        "    future_forecast.append(tf.squeeze(future_pred).numpy())\n",
        "    # print(future_forecast)\n",
        "\n",
        "    # Update last window with new pred and get WINDOW_SIZE most recent preds (model was trained on WINDOW_SIZE windows)\n",
        "    last_window = np.append(last_window, future_pred)[-WINDOW_SIZE:]\n",
        "  \n",
        "  return future_forecast"
      ],
      "metadata": {
        "id": "L0u8DwfymI3R"
      },
      "execution_count": 199,
      "outputs": []
    },
    {
      "cell_type": "code",
      "source": [
        "# Make forecasts into future of the price of Bitcoin\n",
        "# Note: if you're reading this at a later date, you may already be in the future, so the forecasts \n",
        "# we're making may not actually be forecasts, if that's the case, readjust the training data.\n",
        "future_forecast = make_future_forecast(values=y_all,\n",
        "                                       model=model_9,\n",
        "                                       into_future=INTO_FUTURE,\n",
        "                                       window_size=WINDOW_SIZE)"
      ],
      "metadata": {
        "colab": {
          "base_uri": "https://localhost:8080/"
        },
        "id": "fsgHWq38mN3h",
        "outputId": "d6680ad1-6c33-43b3-a776-713b6d5d0fb2"
      },
      "execution_count": 200,
      "outputs": [
        {
          "output_type": "stream",
          "name": "stdout",
          "text": [
            "Predicting on: \n",
            " [18.497499 18.516199 18.523701 18.5697   18.54834  18.5753   18.5606  ] -> Prediction: 18.700796127319336\n",
            "\n",
            "Predicting on: \n",
            " [18.516199   18.523701   18.5697     18.54834    18.5753     18.5606\n",
            " 18.70079613] -> Prediction: 18.7030086517334\n",
            "\n",
            "Predicting on: \n",
            " [18.523701   18.5697     18.54834    18.5753     18.5606     18.70079613\n",
            " 18.70300865] -> Prediction: 18.73558235168457\n",
            "\n",
            "Predicting on: \n",
            " [18.5697     18.54834    18.5753     18.5606     18.70079613 18.70300865\n",
            " 18.73558235] -> Prediction: 18.7576961517334\n",
            "\n",
            "Predicting on: \n",
            " [18.54834    18.5753     18.5606     18.70079613 18.70300865 18.73558235\n",
            " 18.75769615] -> Prediction: 18.789161682128906\n",
            "\n",
            "Predicting on: \n",
            " [18.5753     18.5606     18.70079613 18.70300865 18.73558235 18.75769615\n",
            " 18.78916168] -> Prediction: 18.812175750732422\n",
            "\n",
            "Predicting on: \n",
            " [18.5606     18.70079613 18.70300865 18.73558235 18.75769615 18.78916168\n",
            " 18.81217575] -> Prediction: 18.86354637145996\n",
            "\n",
            "Predicting on: \n",
            " [18.70079613 18.70300865 18.73558235 18.75769615 18.78916168 18.81217575\n",
            " 18.86354637] -> Prediction: 18.903892517089844\n",
            "\n",
            "Predicting on: \n",
            " [18.70300865 18.73558235 18.75769615 18.78916168 18.81217575 18.86354637\n",
            " 18.90389252] -> Prediction: 18.93001937866211\n",
            "\n",
            "Predicting on: \n",
            " [18.73558235 18.75769615 18.78916168 18.81217575 18.86354637 18.90389252\n",
            " 18.93001938] -> Prediction: 18.961931228637695\n",
            "\n",
            "Predicting on: \n",
            " [18.75769615 18.78916168 18.81217575 18.86354637 18.90389252 18.93001938\n",
            " 18.96193123] -> Prediction: 18.995275497436523\n",
            "\n",
            "Predicting on: \n",
            " [18.78916168 18.81217575 18.86354637 18.90389252 18.93001938 18.96193123\n",
            " 18.9952755 ] -> Prediction: 19.027597427368164\n",
            "\n",
            "Predicting on: \n",
            " [18.81217575 18.86354637 18.90389252 18.93001938 18.96193123 18.9952755\n",
            " 19.02759743] -> Prediction: 19.063974380493164\n",
            "\n",
            "Predicting on: \n",
            " [18.86354637 18.90389252 18.93001938 18.96193123 18.9952755  19.02759743\n",
            " 19.06397438] -> Prediction: 19.101858139038086\n",
            "\n",
            "Predicting on: \n",
            " [18.90389252 18.93001938 18.96193123 18.9952755  19.02759743 19.06397438\n",
            " 19.10185814] -> Prediction: 19.134550094604492\n",
            "\n",
            "Predicting on: \n",
            " [18.93001938 18.96193123 18.9952755  19.02759743 19.06397438 19.10185814\n",
            " 19.13455009] -> Prediction: 19.167247772216797\n",
            "\n",
            "Predicting on: \n",
            " [18.96193123 18.9952755  19.02759743 19.06397438 19.10185814 19.13455009\n",
            " 19.16724777] -> Prediction: 19.201711654663086\n",
            "\n",
            "Predicting on: \n",
            " [18.9952755  19.02759743 19.06397438 19.10185814 19.13455009 19.16724777\n",
            " 19.20171165] -> Prediction: 19.236038208007812\n",
            "\n",
            "Predicting on: \n",
            " [19.02759743 19.06397438 19.10185814 19.13455009 19.16724777 19.20171165\n",
            " 19.23603821] -> Prediction: 19.27080726623535\n",
            "\n",
            "Predicting on: \n",
            " [19.06397438 19.10185814 19.13455009 19.16724777 19.20171165 19.23603821\n",
            " 19.27080727] -> Prediction: 19.30644416809082\n",
            "\n",
            "Predicting on: \n",
            " [19.10185814 19.13455009 19.16724777 19.20171165 19.23603821 19.27080727\n",
            " 19.30644417] -> Prediction: 19.341136932373047\n",
            "\n",
            "Predicting on: \n",
            " [19.13455009 19.16724777 19.20171165 19.23603821 19.27080727 19.30644417\n",
            " 19.34113693] -> Prediction: 19.375219345092773\n",
            "\n",
            "Predicting on: \n",
            " [19.16724777 19.20171165 19.23603821 19.27080727 19.30644417 19.34113693\n",
            " 19.37521935] -> Prediction: 19.409948348999023\n",
            "\n",
            "Predicting on: \n",
            " [19.20171165 19.23603821 19.27080727 19.30644417 19.34113693 19.37521935\n",
            " 19.40994835] -> Prediction: 19.44493865966797\n",
            "\n",
            "Predicting on: \n",
            " [19.23603821 19.27080727 19.30644417 19.34113693 19.37521935 19.40994835\n",
            " 19.44493866] -> Prediction: 19.479928970336914\n",
            "\n",
            "Predicting on: \n",
            " [19.27080727 19.30644417 19.34113693 19.37521935 19.40994835 19.44493866\n",
            " 19.47992897] -> Prediction: 19.515178680419922\n",
            "\n",
            "Predicting on: \n",
            " [19.30644417 19.34113693 19.37521935 19.40994835 19.44493866 19.47992897\n",
            " 19.51517868] -> Prediction: 19.550384521484375\n",
            "\n",
            "Predicting on: \n",
            " [19.34113693 19.37521935 19.40994835 19.44493866 19.47992897 19.51517868\n",
            " 19.55038452] -> Prediction: 19.585384368896484\n",
            "\n",
            "Predicting on: \n",
            " [19.37521935 19.40994835 19.44493866 19.47992897 19.51517868 19.55038452\n",
            " 19.58538437] -> Prediction: 19.620529174804688\n",
            "\n",
            "Predicting on: \n",
            " [19.40994835 19.44493866 19.47992897 19.51517868 19.55038452 19.58538437\n",
            " 19.62052917] -> Prediction: 19.655895233154297\n",
            "\n",
            "Predicting on: \n",
            " [19.44493866 19.47992897 19.51517868 19.55038452 19.58538437 19.62052917\n",
            " 19.65589523] -> Prediction: 19.69129753112793\n",
            "\n",
            "Predicting on: \n",
            " [19.47992897 19.51517868 19.55038452 19.58538437 19.62052917 19.65589523\n",
            " 19.69129753] -> Prediction: 19.726781845092773\n",
            "\n",
            "Predicting on: \n",
            " [19.51517868 19.55038452 19.58538437 19.62052917 19.65589523 19.69129753\n",
            " 19.72678185] -> Prediction: 19.76235008239746\n",
            "\n",
            "Predicting on: \n",
            " [19.55038452 19.58538437 19.62052917 19.65589523 19.69129753 19.72678185\n",
            " 19.76235008] -> Prediction: 19.797908782958984\n",
            "\n",
            "Predicting on: \n",
            " [19.58538437 19.62052917 19.65589523 19.69129753 19.72678185 19.76235008\n",
            " 19.79790878] -> Prediction: 19.833526611328125\n",
            "\n",
            "Predicting on: \n",
            " [19.62052917 19.65589523 19.69129753 19.72678185 19.76235008 19.79790878\n",
            " 19.83352661] -> Prediction: 19.869266510009766\n",
            "\n",
            "Predicting on: \n",
            " [19.65589523 19.69129753 19.72678185 19.76235008 19.79790878 19.83352661\n",
            " 19.86926651] -> Prediction: 19.905080795288086\n",
            "\n",
            "Predicting on: \n",
            " [19.69129753 19.72678185 19.76235008 19.79790878 19.83352661 19.86926651\n",
            " 19.9050808 ] -> Prediction: 19.940959930419922\n",
            "\n",
            "Predicting on: \n",
            " [19.72678185 19.76235008 19.79790878 19.83352661 19.86926651 19.9050808\n",
            " 19.94095993] -> Prediction: 19.976917266845703\n",
            "\n",
            "Predicting on: \n",
            " [19.76235008 19.79790878 19.83352661 19.86926651 19.9050808  19.94095993\n",
            " 19.97691727] -> Prediction: 20.012922286987305\n",
            "\n",
            "Predicting on: \n",
            " [19.79790878 19.83352661 19.86926651 19.9050808  19.94095993 19.97691727\n",
            " 20.01292229] -> Prediction: 20.048992156982422\n",
            "\n",
            "Predicting on: \n",
            " [19.83352661 19.86926651 19.9050808  19.94095993 19.97691727 20.01292229\n",
            " 20.04899216] -> Prediction: 20.085145950317383\n",
            "\n",
            "Predicting on: \n",
            " [19.86926651 19.9050808  19.94095993 19.97691727 20.01292229 20.04899216\n",
            " 20.08514595] -> Prediction: 20.12137222290039\n",
            "\n",
            "Predicting on: \n",
            " [19.9050808  19.94095993 19.97691727 20.01292229 20.04899216 20.08514595\n",
            " 20.12137222] -> Prediction: 20.157672882080078\n",
            "\n",
            "Predicting on: \n",
            " [19.94095993 19.97691727 20.01292229 20.04899216 20.08514595 20.12137222\n",
            " 20.15767288] -> Prediction: 20.194042205810547\n",
            "\n",
            "Predicting on: \n",
            " [19.97691727 20.01292229 20.04899216 20.08514595 20.12137222 20.15767288\n",
            " 20.19404221] -> Prediction: 20.230478286743164\n",
            "\n",
            "Predicting on: \n",
            " [20.01292229 20.04899216 20.08514595 20.12137222 20.15767288 20.19404221\n",
            " 20.23047829] -> Prediction: 20.26698112487793\n",
            "\n",
            "Predicting on: \n",
            " [20.04899216 20.08514595 20.12137222 20.15767288 20.19404221 20.23047829\n",
            " 20.26698112] -> Prediction: 20.30356216430664\n",
            "\n",
            "Predicting on: \n",
            " [20.08514595 20.12137222 20.15767288 20.19404221 20.23047829 20.26698112\n",
            " 20.30356216] -> Prediction: 20.3402156829834\n",
            "\n",
            "Predicting on: \n",
            " [20.12137222 20.15767288 20.19404221 20.23047829 20.26698112 20.30356216\n",
            " 20.34021568] -> Prediction: 20.376935958862305\n",
            "\n",
            "Predicting on: \n",
            " [20.15767288 20.19404221 20.23047829 20.26698112 20.30356216 20.34021568\n",
            " 20.37693596] -> Prediction: 20.413738250732422\n",
            "\n",
            "Predicting on: \n",
            " [20.19404221 20.23047829 20.26698112 20.30356216 20.34021568 20.37693596\n",
            " 20.41373825] -> Prediction: 20.450599670410156\n",
            "\n",
            "Predicting on: \n",
            " [20.23047829 20.26698112 20.30356216 20.34021568 20.37693596 20.41373825\n",
            " 20.45059967] -> Prediction: 20.487539291381836\n",
            "\n",
            "Predicting on: \n",
            " [20.26698112 20.30356216 20.34021568 20.37693596 20.41373825 20.45059967\n",
            " 20.48753929] -> Prediction: 20.524553298950195\n",
            "\n",
            "Predicting on: \n",
            " [20.30356216 20.34021568 20.37693596 20.41373825 20.45059967 20.48753929\n",
            " 20.5245533 ] -> Prediction: 20.56163787841797\n",
            "\n",
            "Predicting on: \n",
            " [20.34021568 20.37693596 20.41373825 20.45059967 20.48753929 20.5245533\n",
            " 20.56163788] -> Prediction: 20.59878921508789\n",
            "\n",
            "Predicting on: \n",
            " [20.37693596 20.41373825 20.45059967 20.48753929 20.5245533  20.56163788\n",
            " 20.59878922] -> Prediction: 20.63602066040039\n",
            "\n",
            "Predicting on: \n",
            " [20.41373825 20.45059967 20.48753929 20.5245533  20.56163788 20.59878922\n",
            " 20.63602066] -> Prediction: 20.673322677612305\n",
            "\n",
            "Predicting on: \n",
            " [20.45059967 20.48753929 20.5245533  20.56163788 20.59878922 20.63602066\n",
            " 20.67332268] -> Prediction: 20.710697174072266\n",
            "\n",
            "Predicting on: \n",
            " [20.48753929 20.5245533  20.56163788 20.59878922 20.63602066 20.67332268\n",
            " 20.71069717] -> Prediction: 20.74814224243164\n",
            "\n",
            "Predicting on: \n",
            " [20.5245533  20.56163788 20.59878922 20.63602066 20.67332268 20.71069717\n",
            " 20.74814224] -> Prediction: 20.785667419433594\n",
            "\n",
            "Predicting on: \n",
            " [20.56163788 20.59878922 20.63602066 20.67332268 20.71069717 20.74814224\n",
            " 20.78566742] -> Prediction: 20.823259353637695\n",
            "\n",
            "Predicting on: \n",
            " [20.59878922 20.63602066 20.67332268 20.71069717 20.74814224 20.78566742\n",
            " 20.82325935] -> Prediction: 20.860931396484375\n",
            "\n",
            "Predicting on: \n",
            " [20.63602066 20.67332268 20.71069717 20.74814224 20.78566742 20.82325935\n",
            " 20.8609314 ] -> Prediction: 20.898672103881836\n",
            "\n",
            "Predicting on: \n",
            " [20.67332268 20.71069717 20.74814224 20.78566742 20.82325935 20.8609314\n",
            " 20.8986721 ] -> Prediction: 20.936485290527344\n",
            "\n",
            "Predicting on: \n",
            " [20.71069717 20.74814224 20.78566742 20.82325935 20.8609314  20.8986721\n",
            " 20.93648529] -> Prediction: 20.974376678466797\n",
            "\n",
            "Predicting on: \n",
            " [20.74814224 20.78566742 20.82325935 20.8609314  20.8986721  20.93648529\n",
            " 20.97437668] -> Prediction: 21.012340545654297\n",
            "\n",
            "Predicting on: \n",
            " [20.78566742 20.82325935 20.8609314  20.8986721  20.93648529 20.97437668\n",
            " 21.01234055] -> Prediction: 21.050382614135742\n",
            "\n",
            "Predicting on: \n",
            " [20.82325935 20.8609314  20.8986721  20.93648529 20.97437668 21.01234055\n",
            " 21.05038261] -> Prediction: 21.088489532470703\n",
            "\n",
            "Predicting on: \n",
            " [20.8609314  20.8986721  20.93648529 20.97437668 21.01234055 21.05038261\n",
            " 21.08848953] -> Prediction: 21.126678466796875\n",
            "\n",
            "Predicting on: \n",
            " [20.8986721  20.93648529 20.97437668 21.01234055 21.05038261 21.08848953\n",
            " 21.12667847] -> Prediction: 21.164941787719727\n",
            "\n",
            "Predicting on: \n",
            " [20.93648529 20.97437668 21.01234055 21.05038261 21.08848953 21.12667847\n",
            " 21.16494179] -> Prediction: 21.203277587890625\n",
            "\n",
            "Predicting on: \n",
            " [20.97437668 21.01234055 21.05038261 21.08848953 21.12667847 21.16494179\n",
            " 21.20327759] -> Prediction: 21.241683959960938\n",
            "\n",
            "Predicting on: \n",
            " [21.01234055 21.05038261 21.08848953 21.12667847 21.16494179 21.20327759\n",
            " 21.24168396] -> Prediction: 21.280174255371094\n",
            "\n",
            "Predicting on: \n",
            " [21.05038261 21.08848953 21.12667847 21.16494179 21.20327759 21.24168396\n",
            " 21.28017426] -> Prediction: 21.318737030029297\n",
            "\n",
            "Predicting on: \n",
            " [21.08848953 21.12667847 21.16494179 21.20327759 21.24168396 21.28017426\n",
            " 21.31873703] -> Prediction: 21.357372283935547\n",
            "\n",
            "Predicting on: \n",
            " [21.12667847 21.16494179 21.20327759 21.24168396 21.28017426 21.31873703\n",
            " 21.35737228] -> Prediction: 21.396087646484375\n",
            "\n",
            "Predicting on: \n",
            " [21.16494179 21.20327759 21.24168396 21.28017426 21.31873703 21.35737228\n",
            " 21.39608765] -> Prediction: 21.434877395629883\n",
            "\n",
            "Predicting on: \n",
            " [21.20327759 21.24168396 21.28017426 21.31873703 21.35737228 21.39608765\n",
            " 21.4348774 ] -> Prediction: 21.47374153137207\n",
            "\n",
            "Predicting on: \n",
            " [21.24168396 21.28017426 21.31873703 21.35737228 21.39608765 21.4348774\n",
            " 21.47374153] -> Prediction: 21.512678146362305\n",
            "\n",
            "Predicting on: \n",
            " [21.28017426 21.31873703 21.35737228 21.39608765 21.4348774  21.47374153\n",
            " 21.51267815] -> Prediction: 21.551700592041016\n",
            "\n",
            "Predicting on: \n",
            " [21.31873703 21.35737228 21.39608765 21.4348774  21.47374153 21.51267815\n",
            " 21.55170059] -> Prediction: 21.590789794921875\n",
            "\n",
            "Predicting on: \n",
            " [21.35737228 21.39608765 21.4348774  21.47374153 21.51267815 21.55170059\n",
            " 21.59078979] -> Prediction: 21.629961013793945\n",
            "\n",
            "Predicting on: \n",
            " [21.39608765 21.4348774  21.47374153 21.51267815 21.55170059 21.59078979\n",
            " 21.62996101] -> Prediction: 21.669206619262695\n",
            "\n",
            "Predicting on: \n",
            " [21.4348774  21.47374153 21.51267815 21.55170059 21.59078979 21.62996101\n",
            " 21.66920662] -> Prediction: 21.70853042602539\n",
            "\n",
            "Predicting on: \n",
            " [21.47374153 21.51267815 21.55170059 21.59078979 21.62996101 21.66920662\n",
            " 21.70853043] -> Prediction: 21.7479305267334\n",
            "\n",
            "Predicting on: \n",
            " [21.51267815 21.55170059 21.59078979 21.62996101 21.66920662 21.70853043\n",
            " 21.74793053] -> Prediction: 21.78740882873535\n",
            "\n",
            "Predicting on: \n",
            " [21.55170059 21.59078979 21.62996101 21.66920662 21.70853043 21.74793053\n",
            " 21.78740883] -> Prediction: 21.826961517333984\n",
            "\n",
            "Predicting on: \n",
            " [21.59078979 21.62996101 21.66920662 21.70853043 21.74793053 21.78740883\n",
            " 21.82696152] -> Prediction: 21.866592407226562\n",
            "\n",
            "Predicting on: \n",
            " [21.62996101 21.66920662 21.70853043 21.74793053 21.78740883 21.82696152\n",
            " 21.86659241] -> Prediction: 21.906299591064453\n",
            "\n",
            "Predicting on: \n",
            " [21.66920662 21.70853043 21.74793053 21.78740883 21.82696152 21.86659241\n",
            " 21.90629959] -> Prediction: 21.946086883544922\n",
            "\n",
            "Predicting on: \n",
            " [21.70853043 21.74793053 21.78740883 21.82696152 21.86659241 21.90629959\n",
            " 21.94608688] -> Prediction: 21.9859561920166\n",
            "\n",
            "Predicting on: \n",
            " [21.74793053 21.78740883 21.82696152 21.86659241 21.90629959 21.94608688\n",
            " 21.98595619] -> Prediction: 22.025896072387695\n",
            "\n",
            "Predicting on: \n",
            " [21.78740883 21.82696152 21.86659241 21.90629959 21.94608688 21.98595619\n",
            " 22.02589607] -> Prediction: 22.065916061401367\n",
            "\n",
            "Predicting on: \n",
            " [21.82696152 21.86659241 21.90629959 21.94608688 21.98595619 22.02589607\n",
            " 22.06591606] -> Prediction: 22.106019973754883\n",
            "\n",
            "Predicting on: \n",
            " [21.86659241 21.90629959 21.94608688 21.98595619 22.02589607 22.06591606\n",
            " 22.10601997] -> Prediction: 22.146190643310547\n",
            "\n",
            "Predicting on: \n",
            " [21.90629959 21.94608688 21.98595619 22.02589607 22.06591606 22.10601997\n",
            " 22.14619064] -> Prediction: 22.186450958251953\n",
            "\n",
            "Predicting on: \n",
            " [21.94608688 21.98595619 22.02589607 22.06591606 22.10601997 22.14619064\n",
            " 22.18645096] -> Prediction: 22.226783752441406\n",
            "\n",
            "Predicting on: \n",
            " [21.98595619 22.02589607 22.06591606 22.10601997 22.14619064 22.18645096\n",
            " 22.22678375] -> Prediction: 22.26720428466797\n",
            "\n",
            "Predicting on: \n",
            " [22.02589607 22.06591606 22.10601997 22.14619064 22.18645096 22.22678375\n",
            " 22.26720428] -> Prediction: 22.307689666748047\n",
            "\n",
            "Predicting on: \n",
            " [22.06591606 22.10601997 22.14619064 22.18645096 22.22678375 22.26720428\n",
            " 22.30768967] -> Prediction: 22.348270416259766\n",
            "\n",
            "Predicting on: \n",
            " [22.10601997 22.14619064 22.18645096 22.22678375 22.26720428 22.30768967\n",
            " 22.34827042] -> Prediction: 22.388914108276367\n",
            "\n",
            "Predicting on: \n",
            " [22.14619064 22.18645096 22.22678375 22.26720428 22.30768967 22.34827042\n",
            " 22.38891411] -> Prediction: 22.42964744567871\n",
            "\n",
            "Predicting on: \n",
            " [22.18645096 22.22678375 22.26720428 22.30768967 22.34827042 22.38891411\n",
            " 22.42964745] -> Prediction: 22.470457077026367\n",
            "\n",
            "Predicting on: \n",
            " [22.22678375 22.26720428 22.30768967 22.34827042 22.38891411 22.42964745\n",
            " 22.47045708] -> Prediction: 22.511350631713867\n",
            "\n",
            "Predicting on: \n",
            " [22.26720428 22.30768967 22.34827042 22.38891411 22.42964745 22.47045708\n",
            " 22.51135063] -> Prediction: 22.552318572998047\n",
            "\n",
            "Predicting on: \n",
            " [22.30768967 22.34827042 22.38891411 22.42964745 22.47045708 22.51135063\n",
            " 22.55231857] -> Prediction: 22.593366622924805\n",
            "\n",
            "Predicting on: \n",
            " [22.34827042 22.38891411 22.42964745 22.47045708 22.51135063 22.55231857\n",
            " 22.59336662] -> Prediction: 22.634502410888672\n",
            "\n",
            "Predicting on: \n",
            " [22.38891411 22.42964745 22.47045708 22.51135063 22.55231857 22.59336662\n",
            " 22.63450241] -> Prediction: 22.67571258544922\n",
            "\n",
            "Predicting on: \n",
            " [22.42964745 22.47045708 22.51135063 22.55231857 22.59336662 22.63450241\n",
            " 22.67571259] -> Prediction: 22.717002868652344\n",
            "\n",
            "Predicting on: \n",
            " [22.47045708 22.51135063 22.55231857 22.59336662 22.63450241 22.67571259\n",
            " 22.71700287] -> Prediction: 22.758371353149414\n",
            "\n",
            "Predicting on: \n",
            " [22.51135063 22.55231857 22.59336662 22.63450241 22.67571259 22.71700287\n",
            " 22.75837135] -> Prediction: 22.799829483032227\n",
            "\n",
            "Predicting on: \n",
            " [22.55231857 22.59336662 22.63450241 22.67571259 22.71700287 22.75837135\n",
            " 22.79982948] -> Prediction: 22.841365814208984\n",
            "\n",
            "Predicting on: \n",
            " [22.59336662 22.63450241 22.67571259 22.71700287 22.75837135 22.79982948\n",
            " 22.84136581] -> Prediction: 22.882978439331055\n",
            "\n",
            "Predicting on: \n",
            " [22.63450241 22.67571259 22.71700287 22.75837135 22.79982948 22.84136581\n",
            " 22.88297844] -> Prediction: 22.924678802490234\n",
            "\n",
            "Predicting on: \n",
            " [22.67571259 22.71700287 22.75837135 22.79982948 22.84136581 22.88297844\n",
            " 22.9246788 ] -> Prediction: 22.96645736694336\n",
            "\n",
            "Predicting on: \n",
            " [22.71700287 22.75837135 22.79982948 22.84136581 22.88297844 22.9246788\n",
            " 22.96645737] -> Prediction: 23.00831413269043\n",
            "\n",
            "Predicting on: \n",
            " [22.75837135 22.79982948 22.84136581 22.88297844 22.9246788  22.96645737\n",
            " 23.00831413] -> Prediction: 23.05025863647461\n",
            "\n",
            "Predicting on: \n",
            " [22.79982948 22.84136581 22.88297844 22.9246788  22.96645737 23.00831413\n",
            " 23.05025864] -> Prediction: 23.092287063598633\n",
            "\n",
            "Predicting on: \n",
            " [22.84136581 22.88297844 22.9246788  22.96645737 23.00831413 23.05025864\n",
            " 23.09228706] -> Prediction: 23.134387969970703\n",
            "\n"
          ]
        }
      ]
    },
    {
      "cell_type": "code",
      "source": [
        "future_forecast[:10]"
      ],
      "metadata": {
        "colab": {
          "base_uri": "https://localhost:8080/"
        },
        "id": "KITNW8HMmS_S",
        "outputId": "8353ff49-d659-4f41-e5f6-f066c0f5f0d5"
      },
      "execution_count": 201,
      "outputs": [
        {
          "output_type": "execute_result",
          "data": {
            "text/plain": [
              "[18.700796,\n",
              " 18.703009,\n",
              " 18.735582,\n",
              " 18.757696,\n",
              " 18.789162,\n",
              " 18.812176,\n",
              " 18.863546,\n",
              " 18.903893,\n",
              " 18.93002,\n",
              " 18.961931]"
            ]
          },
          "metadata": {},
          "execution_count": 201
        }
      ]
    },
    {
      "cell_type": "code",
      "source": [
        "def get_future_dates(start_date, into_future, offset=1):\n",
        "  \"\"\"\n",
        "  Returns array of datetime values from ranging from start_date to start_date+horizon.\n",
        "\n",
        "  start_date: date to start range (np.datetime64)\n",
        "  into_future: number of days to add onto start date for range (int)\n",
        "  offset: number of days to offset start_date by (default 1)\n",
        "  \"\"\"\n",
        "  start_date = start_date + np.timedelta64(offset, \"D\") # specify start date, \"D\" stands for day\n",
        "  end_date = start_date + np.timedelta64(into_future, \"D\") # specify end date\n",
        "  return np.arange(start_date, end_date, dtype=\"datetime64[D]\") # return a date range between start date and end date"
      ],
      "metadata": {
        "id": "8h6P8jC8mVsr"
      },
      "execution_count": 202,
      "outputs": []
    },
    {
      "cell_type": "code",
      "source": [
        "# Last timestep of timesteps (currently in np.datetime64 format)\n",
        "last_timestep = bitcoin_prices.index[-1]\n",
        "last_timestep"
      ],
      "metadata": {
        "colab": {
          "base_uri": "https://localhost:8080/"
        },
        "id": "geLJI9fumZfx",
        "outputId": "1e9318f5-8bbc-48bc-b9bd-55f14134ac05"
      },
      "execution_count": 203,
      "outputs": [
        {
          "output_type": "execute_result",
          "data": {
            "text/plain": [
              "Timestamp('2022-10-10 00:00:00')"
            ]
          },
          "metadata": {},
          "execution_count": 203
        }
      ]
    },
    {
      "cell_type": "code",
      "source": [
        "# Get next two weeks of timesteps\n",
        "next_time_steps = get_future_dates(start_date=last_timestep, \n",
        "                                   into_future=INTO_FUTURE)\n",
        "next_time_steps"
      ],
      "metadata": {
        "colab": {
          "base_uri": "https://localhost:8080/"
        },
        "id": "sLzeXpR9mbxx",
        "outputId": "6d320efa-545e-4ef7-9ecf-2156192c123a"
      },
      "execution_count": 204,
      "outputs": [
        {
          "output_type": "execute_result",
          "data": {
            "text/plain": [
              "array(['2022-10-11', '2022-10-12', '2022-10-13', '2022-10-14',\n",
              "       '2022-10-15', '2022-10-16', '2022-10-17', '2022-10-18',\n",
              "       '2022-10-19', '2022-10-20', '2022-10-21', '2022-10-22',\n",
              "       '2022-10-23', '2022-10-24', '2022-10-25', '2022-10-26',\n",
              "       '2022-10-27', '2022-10-28', '2022-10-29', '2022-10-30',\n",
              "       '2022-10-31', '2022-11-01', '2022-11-02', '2022-11-03',\n",
              "       '2022-11-04', '2022-11-05', '2022-11-06', '2022-11-07',\n",
              "       '2022-11-08', '2022-11-09', '2022-11-10', '2022-11-11',\n",
              "       '2022-11-12', '2022-11-13', '2022-11-14', '2022-11-15',\n",
              "       '2022-11-16', '2022-11-17', '2022-11-18', '2022-11-19',\n",
              "       '2022-11-20', '2022-11-21', '2022-11-22', '2022-11-23',\n",
              "       '2022-11-24', '2022-11-25', '2022-11-26', '2022-11-27',\n",
              "       '2022-11-28', '2022-11-29', '2022-11-30', '2022-12-01',\n",
              "       '2022-12-02', '2022-12-03', '2022-12-04', '2022-12-05',\n",
              "       '2022-12-06', '2022-12-07', '2022-12-08', '2022-12-09',\n",
              "       '2022-12-10', '2022-12-11', '2022-12-12', '2022-12-13',\n",
              "       '2022-12-14', '2022-12-15', '2022-12-16', '2022-12-17',\n",
              "       '2022-12-18', '2022-12-19', '2022-12-20', '2022-12-21',\n",
              "       '2022-12-22', '2022-12-23', '2022-12-24', '2022-12-25',\n",
              "       '2022-12-26', '2022-12-27', '2022-12-28', '2022-12-29',\n",
              "       '2022-12-30', '2022-12-31', '2023-01-01', '2023-01-02',\n",
              "       '2023-01-03', '2023-01-04', '2023-01-05', '2023-01-06',\n",
              "       '2023-01-07', '2023-01-08', '2023-01-09', '2023-01-10',\n",
              "       '2023-01-11', '2023-01-12', '2023-01-13', '2023-01-14',\n",
              "       '2023-01-15', '2023-01-16', '2023-01-17', '2023-01-18',\n",
              "       '2023-01-19', '2023-01-20', '2023-01-21', '2023-01-22',\n",
              "       '2023-01-23', '2023-01-24', '2023-01-25', '2023-01-26',\n",
              "       '2023-01-27', '2023-01-28', '2023-01-29', '2023-01-30',\n",
              "       '2023-01-31', '2023-02-01', '2023-02-02', '2023-02-03',\n",
              "       '2023-02-04', '2023-02-05', '2023-02-06', '2023-02-07'],\n",
              "      dtype='datetime64[D]')"
            ]
          },
          "metadata": {},
          "execution_count": 204
        }
      ]
    },
    {
      "cell_type": "code",
      "source": [
        "# Insert last timestep/final price so the graph doesn't look messed\n",
        "next_time_steps = np.insert(next_time_steps, 0, last_timestep)\n",
        "future_forecast = np.insert(future_forecast, 0, btc_price[-1])\n",
        "next_time_steps, future_forecast"
      ],
      "metadata": {
        "colab": {
          "base_uri": "https://localhost:8080/"
        },
        "id": "1wdiQVDOmgW9",
        "outputId": "a462ee28-b9e9-4888-b242-5ca01be061c7"
      },
      "execution_count": 206,
      "outputs": [
        {
          "output_type": "execute_result",
          "data": {
            "text/plain": [
              "(array(['2022-10-10', '2022-10-10', '2022-10-11', '2022-10-12',\n",
              "        '2022-10-13', '2022-10-14', '2022-10-15', '2022-10-16',\n",
              "        '2022-10-17', '2022-10-18', '2022-10-19', '2022-10-20',\n",
              "        '2022-10-21', '2022-10-22', '2022-10-23', '2022-10-24',\n",
              "        '2022-10-25', '2022-10-26', '2022-10-27', '2022-10-28',\n",
              "        '2022-10-29', '2022-10-30', '2022-10-31', '2022-11-01',\n",
              "        '2022-11-02', '2022-11-03', '2022-11-04', '2022-11-05',\n",
              "        '2022-11-06', '2022-11-07', '2022-11-08', '2022-11-09',\n",
              "        '2022-11-10', '2022-11-11', '2022-11-12', '2022-11-13',\n",
              "        '2022-11-14', '2022-11-15', '2022-11-16', '2022-11-17',\n",
              "        '2022-11-18', '2022-11-19', '2022-11-20', '2022-11-21',\n",
              "        '2022-11-22', '2022-11-23', '2022-11-24', '2022-11-25',\n",
              "        '2022-11-26', '2022-11-27', '2022-11-28', '2022-11-29',\n",
              "        '2022-11-30', '2022-12-01', '2022-12-02', '2022-12-03',\n",
              "        '2022-12-04', '2022-12-05', '2022-12-06', '2022-12-07',\n",
              "        '2022-12-08', '2022-12-09', '2022-12-10', '2022-12-11',\n",
              "        '2022-12-12', '2022-12-13', '2022-12-14', '2022-12-15',\n",
              "        '2022-12-16', '2022-12-17', '2022-12-18', '2022-12-19',\n",
              "        '2022-12-20', '2022-12-21', '2022-12-22', '2022-12-23',\n",
              "        '2022-12-24', '2022-12-25', '2022-12-26', '2022-12-27',\n",
              "        '2022-12-28', '2022-12-29', '2022-12-30', '2022-12-31',\n",
              "        '2023-01-01', '2023-01-02', '2023-01-03', '2023-01-04',\n",
              "        '2023-01-05', '2023-01-06', '2023-01-07', '2023-01-08',\n",
              "        '2023-01-09', '2023-01-10', '2023-01-11', '2023-01-12',\n",
              "        '2023-01-13', '2023-01-14', '2023-01-15', '2023-01-16',\n",
              "        '2023-01-17', '2023-01-18', '2023-01-19', '2023-01-20',\n",
              "        '2023-01-21', '2023-01-22', '2023-01-23', '2023-01-24',\n",
              "        '2023-01-25', '2023-01-26', '2023-01-27', '2023-01-28',\n",
              "        '2023-01-29', '2023-01-30', '2023-01-31', '2023-02-01',\n",
              "        '2023-02-02', '2023-02-03', '2023-02-04', '2023-02-05',\n",
              "        '2023-02-06', '2023-02-07'], dtype='datetime64[D]'),\n",
              " array([18.6572  , 18.6572  , 18.700796, 18.703009, 18.735582, 18.757696,\n",
              "        18.789162, 18.812176, 18.863546, 18.903893, 18.93002 , 18.961931,\n",
              "        18.995275, 19.027597, 19.063974, 19.101858, 19.13455 , 19.167248,\n",
              "        19.201712, 19.236038, 19.270807, 19.306444, 19.341137, 19.37522 ,\n",
              "        19.409948, 19.444939, 19.479929, 19.515179, 19.550385, 19.585384,\n",
              "        19.62053 , 19.655895, 19.691298, 19.726782, 19.76235 , 19.797909,\n",
              "        19.833527, 19.869267, 19.90508 , 19.94096 , 19.976917, 20.012922,\n",
              "        20.048992, 20.085146, 20.121372, 20.157673, 20.194042, 20.230478,\n",
              "        20.266981, 20.303562, 20.340216, 20.376936, 20.413738, 20.4506  ,\n",
              "        20.48754 , 20.524553, 20.561638, 20.59879 , 20.63602 , 20.673323,\n",
              "        20.710697, 20.748142, 20.785667, 20.82326 , 20.860931, 20.898672,\n",
              "        20.936485, 20.974377, 21.01234 , 21.050383, 21.08849 , 21.126678,\n",
              "        21.164942, 21.203278, 21.241684, 21.280174, 21.318737, 21.357372,\n",
              "        21.396088, 21.434877, 21.473742, 21.512678, 21.5517  , 21.59079 ,\n",
              "        21.629961, 21.669207, 21.70853 , 21.74793 , 21.787409, 21.826962,\n",
              "        21.866592, 21.9063  , 21.946087, 21.985956, 22.025896, 22.065916,\n",
              "        22.10602 , 22.14619 , 22.186451, 22.226784, 22.267204, 22.30769 ,\n",
              "        22.34827 , 22.388914, 22.429647, 22.470457, 22.51135 , 22.552319,\n",
              "        22.593367, 22.634502, 22.675713, 22.717003, 22.758371, 22.79983 ,\n",
              "        22.841366, 22.882978, 22.924679, 22.966457, 23.008314, 23.050259,\n",
              "        23.092287, 23.134388], dtype=float32))"
            ]
          },
          "metadata": {},
          "execution_count": 206
        }
      ]
    },
    {
      "cell_type": "code",
      "source": [
        "# Plot future price predictions of Bitcoin\n",
        "plt.figure(figsize=(10, 7))\n",
        "plot_time_series(bitcoin_prices.index, btc_price, start=2500, format=\"-\", label=\"Actual TRY Price\")\n",
        "plot_time_series(next_time_steps, future_forecast, format=\"-\", label=\"Predicted TRY Price\")"
      ],
      "metadata": {
        "colab": {
          "base_uri": "https://localhost:8080/",
          "height": 442
        },
        "id": "aMizjQtrmklq",
        "outputId": "51be7e8a-7489-48f0-db52-71546ef49abd"
      },
      "execution_count": 207,
      "outputs": [
        {
          "output_type": "display_data",
          "data": {
            "text/plain": [
              "<Figure size 720x504 with 1 Axes>"
            ],
            "image/png": "[encoded data removed]"
          },
          "metadata": {
            "needs_background": "light"
          }
        }
      ]
    }
  ]
}