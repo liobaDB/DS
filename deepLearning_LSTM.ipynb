{
  "nbformat": 4,
  "nbformat_minor": 0,
  "metadata": {
    "colab": {
      "name": "deepLearning_LSTM.ipynb",
      "provenance": [],
      "collapsed_sections": [],
      "toc_visible": true,
      "include_colab_link": true
    },
    "kernelspec": {
      "name": "python3",
      "display_name": "Python 3"
    },
    "accelerator": "GPU"
  },
  "cells": [
    {
      "cell_type": "markdown",
      "metadata": {
        "id": "view-in-github",
        "colab_type": "text"
      },
      "source": [
        "<a href=\"https://colab.research.google.com/github/liobaDB/DS/blob/main/deepLearning_LSTM.ipynb\" target=\"_parent\"><img src=\"https://colab.research.google.com/assets/colab-badge.svg\" alt=\"Open In Colab\"/></a>"
      ]
    },
    {
      "cell_type": "markdown",
      "metadata": {
        "id": "dTQnbI5ALRnR"
      },
      "source": [
        "#Long Short-Term Memory (LSTM)\n",
        "\n",
        "This example is part of the [*Deep Learning Tutorial*](https://github.com/hfarruda/deeplearningtutorial), authored by Henrique F. de Arruda, Alexandre Benatti, César Comin, and Luciano da Fontoura Costa. This code is not suitable for other data and/or applications, which will require modifications in the structure and parameters. This code has absolutely no warranty.\n",
        "\n",
        "If you publish a paper related on this material, please cite:\n",
        "\n",
        "H. F. de Arruda, A. Benatti, C. H. Comin, L. da F. Costa, \"Learning Deep Learning (CDT-15),\" 2019.\n",
        "\n",
        "This is the third example of deep learning implementation. Here we use a LSTM network to predict the Bitcoin prices along time by using the input as a temporal series.\n",
        "\n",
        "\n",
        "First of all, we import the necessary libraries. Here we opt for using Keras (using TensorFlow backend)."
      ]
    },
    {
      "cell_type": "code",
      "source": [
        "!pip install yfinance"
      ],
      "metadata": {
        "id": "rV_VpYzoxiji",
        "outputId": "73200ca8-266f-4ddf-8309-701dce6894da",
        "colab": {
          "base_uri": "https://localhost:8080/"
        }
      },
      "execution_count": 1,
      "outputs": [
        {
          "output_type": "stream",
          "name": "stdout",
          "text": [
            "Looking in indexes: https://pypi.org/simple, https://us-python.pkg.dev/colab-wheels/public/simple/\n",
            "Collecting yfinance\n",
            "  Downloading yfinance-0.1.77-py2.py3-none-any.whl (28 kB)\n",
            "Requirement already satisfied: lxml>=4.5.1 in /usr/local/lib/python3.7/dist-packages (from yfinance) (4.9.1)\n",
            "Requirement already satisfied: multitasking>=0.0.7 in /usr/local/lib/python3.7/dist-packages (from yfinance) (0.0.11)\n",
            "Requirement already satisfied: numpy>=1.15 in /usr/local/lib/python3.7/dist-packages (from yfinance) (1.21.6)\n",
            "Requirement already satisfied: appdirs>=1.4.4 in /usr/local/lib/python3.7/dist-packages (from yfinance) (1.4.4)\n",
            "Collecting requests>=2.26\n",
            "  Downloading requests-2.28.1-py3-none-any.whl (62 kB)\n",
            "\u001b[K     |████████████████████████████████| 62 kB 1.2 MB/s \n",
            "\u001b[?25hRequirement already satisfied: pandas>=0.24.0 in /usr/local/lib/python3.7/dist-packages (from yfinance) (1.3.5)\n",
            "Requirement already satisfied: pytz>=2017.3 in /usr/local/lib/python3.7/dist-packages (from pandas>=0.24.0->yfinance) (2022.4)\n",
            "Requirement already satisfied: python-dateutil>=2.7.3 in /usr/local/lib/python3.7/dist-packages (from pandas>=0.24.0->yfinance) (2.8.2)\n",
            "Requirement already satisfied: six>=1.5 in /usr/local/lib/python3.7/dist-packages (from python-dateutil>=2.7.3->pandas>=0.24.0->yfinance) (1.15.0)\n",
            "Requirement already satisfied: charset-normalizer<3,>=2 in /usr/local/lib/python3.7/dist-packages (from requests>=2.26->yfinance) (2.1.1)\n",
            "Requirement already satisfied: idna<4,>=2.5 in /usr/local/lib/python3.7/dist-packages (from requests>=2.26->yfinance) (2.10)\n",
            "Requirement already satisfied: certifi>=2017.4.17 in /usr/local/lib/python3.7/dist-packages (from requests>=2.26->yfinance) (2022.9.24)\n",
            "Requirement already satisfied: urllib3<1.27,>=1.21.1 in /usr/local/lib/python3.7/dist-packages (from requests>=2.26->yfinance) (1.24.3)\n",
            "Installing collected packages: requests, yfinance\n",
            "  Attempting uninstall: requests\n",
            "    Found existing installation: requests 2.23.0\n",
            "    Uninstalling requests-2.23.0:\n",
            "      Successfully uninstalled requests-2.23.0\n",
            "Successfully installed requests-2.28.1 yfinance-0.1.77\n"
          ]
        }
      ]
    },
    {
      "cell_type": "code",
      "metadata": {
        "id": "Z_tGqT1mKu_4",
        "colab": {
          "base_uri": "https://localhost:8080/"
        },
        "outputId": "a61573a0-7568-47c9-da9b-df8dd356be04"
      },
      "source": [
        "%tensorflow_version 2.x\n",
        "import numpy as np\n",
        "import keras\n",
        "from keras.models import Sequential\n",
        "from keras.utils.vis_utils import plot_model\n",
        "from keras.layers import Dense, Dropout, LSTM\n",
        "from keras.callbacks import EarlyStopping, ReduceLROnPlateau, ModelCheckpoint\n",
        "from sklearn.model_selection import train_test_split\n",
        "from sklearn.metrics import accuracy_score\n",
        "from sklearn.preprocessing import MinMaxScaler\n",
        "import matplotlib.pyplot as plt\n",
        "import pandas as pd\n",
        "#import pandas_datareader\n",
        "import yfinance as yf"
      ],
      "execution_count": 3,
      "outputs": [
        {
          "output_type": "stream",
          "name": "stdout",
          "text": [
            "Colab only includes TensorFlow 2.x; %tensorflow_version has no effect.\n"
          ]
        }
      ]
    },
    {
      "cell_type": "markdown",
      "metadata": {
        "id": "DBk2wzXpMb7i"
      },
      "source": [
        "If you have a GPU, you can use the following code to allocate processing into it.  Otherwise, proceed to (*)."
      ]
    },
    {
      "cell_type": "code",
      "metadata": {
        "id": "rBk-5FD3Mf5j"
      },
      "source": [
        "import tensorflow as tf \n",
        "from keras import backend as K\n",
        "\n",
        "#print(K.tensorflow_backend._get_available_gpus())\n",
        "\n",
        "number_of_cpu_cores = 8\n",
        "#config = tf.ConfigProto(device_count = {'GPU': 1 , 'CPU': number_of_cpu_cores}) \n",
        "#session = tf.Session(config=config) \n",
        "#keras.backend.set_session(session)"
      ],
      "execution_count": 8,
      "outputs": []
    },
    {
      "cell_type": "markdown",
      "metadata": {
        "id": "SkpEIvMCMhc0"
      },
      "source": [
        "(*) Here, we use the Bitcoin daily prices dataset, which is available at\n",
        "[yhaoo-stock-market](https://finance.yahoo.com/). The data contains seven columns, organized as follows: date, opening stock price, high daily price, low daily price, closing stock price, the currency volume traded on the day, and the adjusted closing price."
      ]
    },
    {
      "cell_type": "code",
      "metadata": {
        "id": "7XsGYIwMb_aI"
      },
      "source": [
        "train_size = 1500\n",
        "start_date = '2015-01-01'# Bitcoin started on '2010-07-16'\n",
        "end_date = '2020-04-01'\n",
        "\n",
        "\n",
        "tickerData = yf.Ticker(\"BTC-USD\")\n",
        "dataset = tickerData.history(period='max', interval='1d', start=start_date, end=end_date)\n",
        "data_oerder = ['Open','High', 'Low', 'Close', 'Volume']\n",
        "dataset = dataset[data_oerder]\n",
        "\n",
        "\n",
        "train_dataset = dataset.iloc[0:train_size, 1::].values\n",
        "test_dataset = dataset.iloc[train_size::, 1::].values\n",
        "\n",
        "min_max_scaler = MinMaxScaler(feature_range=(0,1))\n",
        "normalized_train_dataset = min_max_scaler.fit_transform(train_dataset)\n",
        "\n",
        "min_max_scaler_train = MinMaxScaler(feature_range=(0,1))\n",
        "normalized_train_price = min_max_scaler_train.fit_transform(train_dataset[:,0:1])\n"
      ],
      "execution_count": 9,
      "outputs": []
    },
    {
      "cell_type": "markdown",
      "metadata": {
        "id": "xndlWJv8Oi0N"
      },
      "source": [
        "In the following, we define the network topology."
      ]
    },
    {
      "cell_type": "code",
      "metadata": {
        "id": "imLL0-wBOf8o"
      },
      "source": [
        "window_size = 50\n",
        "number_of_lstm_layers = 3\n",
        "activation = 'sigmoid' \n",
        "return_sequences = True\n",
        "units_first_layer = 100\n",
        "units = 50\n",
        "\n",
        "data = []\n",
        "train_price = []\n",
        "for i in range(window_size, train_size):\n",
        "    data.append(normalized_train_dataset[i-window_size:i, 0:5])\n",
        "    train_price.append(normalized_train_dataset[i, 0])\n",
        "data, train_price = np.array(data), np.array(train_price)\n",
        "\n",
        "lstm_model = Sequential()\n",
        "lstm_model.add(LSTM(units = units_first_layer, \n",
        "                    return_sequences = return_sequences, \n",
        "                    input_shape = (data.shape[1], 4)))\n",
        "lstm_model.add(Dropout(0.2))\n",
        "\n",
        "for i in range(number_of_lstm_layers-2):\n",
        "    lstm_model.add(LSTM(units = units, return_sequences = return_sequences))\n",
        "    lstm_model.add(Dropout(0.2))\n",
        "\n",
        "lstm_model.add(LSTM(units = units))\n",
        "lstm_model.add(Dropout(0.2))\n",
        "\n",
        "#Output layer\n",
        "lstm_model.add(Dense(units = 1, activation = activation))"
      ],
      "execution_count": 10,
      "outputs": []
    },
    {
      "cell_type": "markdown",
      "metadata": {
        "id": "lgj_GKsJVms-"
      },
      "source": [
        "In order to check the network topology, the subsequent command can be used."
      ]
    },
    {
      "cell_type": "code",
      "metadata": {
        "id": "ZDE5FFHQTD2c",
        "outputId": "6c066bc9-e5a8-4d1d-edbb-bc6e93c43cca",
        "colab": {
          "base_uri": "https://localhost:8080/",
          "height": 1000
        }
      },
      "source": [
        "lstm_model.summary() \n",
        "#Saving the resultant figure as 'ff_model.png'.\n",
        "plot_model(lstm_model, to_file='lstm_model.png', show_shapes=True, \n",
        "           show_layer_names=True)"
      ],
      "execution_count": 11,
      "outputs": [
        {
          "output_type": "stream",
          "name": "stdout",
          "text": [
            "Model: \"sequential\"\n",
            "_________________________________________________________________\n",
            " Layer (type)                Output Shape              Param #   \n",
            "=================================================================\n",
            " lstm (LSTM)                 (None, 50, 100)           42000     \n",
            "                                                                 \n",
            " dropout (Dropout)           (None, 50, 100)           0         \n",
            "                                                                 \n",
            " lstm_1 (LSTM)               (None, 50, 50)            30200     \n",
            "                                                                 \n",
            " dropout_1 (Dropout)         (None, 50, 50)            0         \n",
            "                                                                 \n",
            " lstm_2 (LSTM)               (None, 50)                20200     \n",
            "                                                                 \n",
            " dropout_2 (Dropout)         (None, 50)                0         \n",
            "                                                                 \n",
            " dense (Dense)               (None, 1)                 51        \n",
            "                                                                 \n",
            "=================================================================\n",
            "Total params: 92,451\n",
            "Trainable params: 92,451\n",
            "Non-trainable params: 0\n",
            "_________________________________________________________________\n"
          ]
        },
        {
          "output_type": "execute_result",
          "data": {
            "image/png": "[encoded data removed]",
            "text/plain": [
              "<IPython.core.display.Image object>"
            ]
          },
          "metadata": {},
          "execution_count": 11
        }
      ]
    },
    {
      "cell_type": "markdown",
      "metadata": {
        "id": "wYn2dnj2TCm3"
      },
      "source": [
        "The training step is executed as follows.\n",
        "\n"
      ]
    },
    {
      "cell_type": "code",
      "metadata": {
        "id": "i-npHi6vVdQB",
        "outputId": "86605d20-64c7-48db-9997-03adc49540d5",
        "colab": {
          "base_uri": "https://localhost:8080/"
        }
      },
      "source": [
        "#Here we set verbose as true\n",
        "verbose = 1\n",
        "\n",
        "batch_size = 32\n",
        "epochs = 10\n",
        "filepath = 'weights.h5' #name of the file with the network weights\n",
        "monitor = 'loss'\n",
        "optimizer = 'adam'\n",
        "loss = 'mean_squared_error'\n",
        "metrics = ['mean_absolute_error'] \n",
        "\n",
        "lstm_model.compile(optimizer = optimizer, loss = loss, metrics = metrics)\n",
        "\n",
        "early_stopping = EarlyStopping(monitor = monitor, min_delta = 1e-15, \n",
        "                               patience = 10, verbose = verbose)\n",
        "reduce_learning_rate_on_plateau = ReduceLROnPlateau(monitor = monitor, \n",
        "                                                    factor = 0.2, patience = 5, \n",
        "                                                    verbose = verbose)\n",
        "model_checkpoint = ModelCheckpoint(filepath = filepath, monitor = monitor, \n",
        "                      save_best_only = True, verbose = verbose)\n",
        "lstm_model.fit(data, train_price, epochs = epochs, batch_size = batch_size,\n",
        "              callbacks = [early_stopping, reduce_learning_rate_on_plateau, \n",
        "              model_checkpoint])"
      ],
      "execution_count": 12,
      "outputs": [
        {
          "output_type": "stream",
          "name": "stdout",
          "text": [
            "Epoch 1/10\n",
            "46/46 [==============================] - ETA: 0s - loss: 0.0415 - mean_absolute_error: 0.1458\n",
            "Epoch 1: loss improved from inf to 0.04151, saving model to weights.h5\n",
            "46/46 [==============================] - 9s 14ms/step - loss: 0.0415 - mean_absolute_error: 0.1458 - lr: 0.0010\n",
            "Epoch 2/10\n",
            "44/46 [===========================>..] - ETA: 0s - loss: 0.0044 - mean_absolute_error: 0.0402\n",
            "Epoch 2: loss improved from 0.04151 to 0.00429, saving model to weights.h5\n",
            "46/46 [==============================] - 1s 12ms/step - loss: 0.0043 - mean_absolute_error: 0.0399 - lr: 0.0010\n",
            "Epoch 3/10\n",
            "44/46 [===========================>..] - ETA: 0s - loss: 0.0029 - mean_absolute_error: 0.0319\n",
            "Epoch 3: loss improved from 0.00429 to 0.00282, saving model to weights.h5\n",
            "46/46 [==============================] - 1s 12ms/step - loss: 0.0028 - mean_absolute_error: 0.0317 - lr: 0.0010\n",
            "Epoch 4/10\n",
            "45/46 [============================>.] - ETA: 0s - loss: 0.0019 - mean_absolute_error: 0.0248\n",
            "Epoch 4: loss improved from 0.00282 to 0.00187, saving model to weights.h5\n",
            "46/46 [==============================] - 1s 12ms/step - loss: 0.0019 - mean_absolute_error: 0.0247 - lr: 0.0010\n",
            "Epoch 5/10\n",
            "45/46 [============================>.] - ETA: 0s - loss: 0.0021 - mean_absolute_error: 0.0270\n",
            "Epoch 5: loss did not improve from 0.00187\n",
            "46/46 [==============================] - 1s 11ms/step - loss: 0.0021 - mean_absolute_error: 0.0269 - lr: 0.0010\n",
            "Epoch 6/10\n",
            "46/46 [==============================] - ETA: 0s - loss: 0.0019 - mean_absolute_error: 0.0267\n",
            "Epoch 6: loss did not improve from 0.00187\n",
            "46/46 [==============================] - 1s 11ms/step - loss: 0.0019 - mean_absolute_error: 0.0267 - lr: 0.0010\n",
            "Epoch 7/10\n",
            "46/46 [==============================] - ETA: 0s - loss: 0.0017 - mean_absolute_error: 0.0260\n",
            "Epoch 7: loss improved from 0.00187 to 0.00172, saving model to weights.h5\n",
            "46/46 [==============================] - 1s 12ms/step - loss: 0.0017 - mean_absolute_error: 0.0260 - lr: 0.0010\n",
            "Epoch 8/10\n",
            "45/46 [============================>.] - ETA: 0s - loss: 0.0015 - mean_absolute_error: 0.0234\n",
            "Epoch 8: loss improved from 0.00172 to 0.00150, saving model to weights.h5\n",
            "46/46 [==============================] - 1s 12ms/step - loss: 0.0015 - mean_absolute_error: 0.0236 - lr: 0.0010\n",
            "Epoch 9/10\n",
            "46/46 [==============================] - ETA: 0s - loss: 0.0015 - mean_absolute_error: 0.0225\n",
            "Epoch 9: loss improved from 0.00150 to 0.00147, saving model to weights.h5\n",
            "46/46 [==============================] - 1s 12ms/step - loss: 0.0015 - mean_absolute_error: 0.0225 - lr: 0.0010\n",
            "Epoch 10/10\n",
            "45/46 [============================>.] - ETA: 0s - loss: 0.0013 - mean_absolute_error: 0.0210\n",
            "Epoch 10: loss improved from 0.00147 to 0.00127, saving model to weights.h5\n",
            "46/46 [==============================] - 1s 12ms/step - loss: 0.0013 - mean_absolute_error: 0.0211 - lr: 0.0010\n"
          ]
        },
        {
          "output_type": "execute_result",
          "data": {
            "text/plain": [
              "<keras.callbacks.History at 0x7f7c905f71d0>"
            ]
          },
          "metadata": {},
          "execution_count": 12
        }
      ]
    },
    {
      "cell_type": "markdown",
      "metadata": {
        "id": "dvFufFaJMjXB"
      },
      "source": [
        "The following code verifies the data in the network."
      ]
    },
    {
      "cell_type": "code",
      "metadata": {
        "id": "0yBjjCoCjCo3",
        "outputId": "1da27300-6a8d-4bf5-80cd-70b929f7a1ee",
        "colab": {
          "base_uri": "https://localhost:8080/"
        }
      },
      "source": [
        "test_price = test_dataset[:, 0:1]\n",
        "complete_dataset = dataset.iloc[:,1::]\n",
        "\n",
        "train_data = complete_dataset[len(complete_dataset) - len(test_dataset) - \n",
        "                                 window_size:].values\n",
        "train_data = min_max_scaler.transform(train_data)\n",
        "\n",
        "\n",
        "X_test = []\n",
        "for i in range(window_size,len(train_data)):\n",
        "    X_test.append(train_data[i-window_size:i, 0:5])\n",
        "X_test = np.array(X_test)\n",
        "\n",
        "calculated_prices = lstm_model.predict(X_test)\n",
        "calculated_prices = min_max_scaler_train.inverse_transform(calculated_prices)\n",
        "\n",
        "train_price = min_max_scaler_train.inverse_transform([train_price])\n",
        "train_price = train_price[0]"
      ],
      "execution_count": 13,
      "outputs": [
        {
          "output_type": "stream",
          "name": "stdout",
          "text": [
            "14/14 [==============================] - 2s 6ms/step\n"
          ]
        }
      ]
    },
    {
      "cell_type": "markdown",
      "metadata": {
        "id": "IY8n4My_X4HO"
      },
      "source": [
        "In the following, we plot the train set, as well as the prediction and the expected values."
      ]
    },
    {
      "cell_type": "code",
      "metadata": {
        "id": "HXWZWul0X3hH",
        "outputId": "e7a66fad-1f80-4568-99dd-f02840608020",
        "colab": {
          "base_uri": "https://localhost:8080/",
          "height": 295
        }
      },
      "source": [
        "plt.plot(np.linspace(0,len(train_price)-1,len(train_price)), \n",
        "         train_price, label = 'Real price train', color = 'k')\n",
        "plt.plot(np.linspace(len(train_price),len(train_price)+len(test_price)-1,\n",
        "                     len(test_price)), test_price, label = 'Real price')\n",
        "plt.plot(np.linspace(len(train_price),len(train_price)+len(test_price)-1,\n",
        "                     len(test_price)), calculated_prices, label = 'Prevision')\n",
        "plt.title('BTC prevision')\n",
        "plt.xlabel('Time')\n",
        "plt.ylabel('Value')\n",
        "plt.legend()\n",
        "plt.show()"
      ],
      "execution_count": 14,
      "outputs": [
        {
          "output_type": "display_data",
          "data": {
            "text/plain": [
              "<Figure size 432x288 with 1 Axes>"
            ],
            "image/png": "[encoded data removed]"
          },
          "metadata": {
            "needs_background": "light"
          }
        }
      ]
    },
    {
      "cell_type": "markdown",
      "metadata": {
        "id": "EmXldp6aSUwa"
      },
      "source": [
        "## License\n",
        "\n",
        "This Deep Learning Tutorial is licensed under a Creative Commons Attribution-NonCommercial-NoDerivatives 4.0 (CC BY-NC-ND 4.0) International License."
      ]
    },
    {
      "cell_type": "markdown",
      "metadata": {
        "id": "IGfUENRWu4Pm"
      },
      "source": [
        "## Acknowledgments\n",
        "Henrique F. de Arruda acknowledges FAPESP for sponsorship (grant no. 2018/10489-0). H. F. de Arruda also thanks Soremartec S.A. and Soremartec Italia, Ferrero Group, for partial financial support (from 1st July 2021). His funders had no role in study design, data collection, and analysis, decision to publish, or manuscript preparation. Alexandre Benatti thanks Coordenação de Aperfeiçoamento de Pessoal de Nível Superior - Brasil (CAPES) - Finance Code 001. Luciano da F. Costa thanks CNPq (grant no. 307085/2018-0) and FAPESP (proc. 15/22308-2) for sponsorship. César H. Comin thanks FAPESP (Grant Nos. 2018/09125-4 and 2021/12354-8) for financial support. This work has been supported also by FAPESP grants 11/50761-2 and 15/22308-2."
      ]
    }
  ]
}