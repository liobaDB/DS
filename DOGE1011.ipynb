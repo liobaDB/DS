{
  "nbformat": 4,
  "nbformat_minor": 0,
  "metadata": {
    "colab": {
      "provenance": [],
      "mount_file_id": "1B1c7eTOPBUji79Dcq4mTMWhJ4nXn3Ha4",
      "authorship_tag": "ABX9TyOcMrU3FR6tvNOkNY1JrBia",
      "include_colab_link": true
    },
    "kernelspec": {
      "name": "python3",
      "display_name": "Python 3"
    },
    "language_info": {
      "name": "python"
    }
  },
  "cells": [
    {
      "cell_type": "markdown",
      "metadata": {
        "id": "view-in-github",
        "colab_type": "text"
      },
      "source": [
        "<a href=\"https://colab.research.google.com/github/liobaDB/DS/blob/main/DOGE1011.ipynb\" target=\"_parent\"><img src=\"https://colab.research.google.com/assets/colab-badge.svg\" alt=\"Open In Colab\"/></a>"
      ]
    },
    {
      "cell_type": "code",
      "execution_count": null,
      "metadata": {
        "colab": {
          "base_uri": "https://localhost:8080/",
          "height": 238
        },
        "id": "zBm4aFVYbXKe",
        "outputId": "330d5d7c-b8db-457b-c21b-0e4d80909a59"
      },
      "outputs": [
        {
          "output_type": "execute_result",
          "data": {
            "text/plain": [
              "                Open      High       Low     Close\n",
              "Date                                              \n",
              "2013-12-16  0.000299  0.000866  0.000150  0.000200\n",
              "2013-12-17  0.000205  0.000289  0.000116  0.000269\n",
              "2013-12-18  0.000267  0.000362  0.000205  0.000362\n",
              "2013-12-19  0.000395  0.001520  0.000328  0.001170\n",
              "2013-12-20  0.001162  0.001162  0.000662  0.000707"
            ],
            "text/html": [
              "\n",
              "  <div id=\"df-1793003c-c43f-4411-a33e-6331350f630a\">\n",
              "    <div class=\"colab-df-container\">\n",
              "      <div>\n",
              "<style scoped>\n",
              "    .dataframe tbody tr th:only-of-type {\n",
              "        vertical-align: middle;\n",
              "    }\n",
              "\n",
              "    .dataframe tbody tr th {\n",
              "        vertical-align: top;\n",
              "    }\n",
              "\n",
              "    .dataframe thead th {\n",
              "        text-align: right;\n",
              "    }\n",
              "</style>\n",
              "<table border=\"1\" class=\"dataframe\">\n",
              "  <thead>\n",
              "    <tr style=\"text-align: right;\">\n",
              "      <th></th>\n",
              "      <th>Open</th>\n",
              "      <th>High</th>\n",
              "      <th>Low</th>\n",
              "      <th>Close</th>\n",
              "    </tr>\n",
              "    <tr>\n",
              "      <th>Date</th>\n",
              "      <th></th>\n",
              "      <th></th>\n",
              "      <th></th>\n",
              "      <th></th>\n",
              "    </tr>\n",
              "  </thead>\n",
              "  <tbody>\n",
              "    <tr>\n",
              "      <th>2013-12-16</th>\n",
              "      <td>0.000299</td>\n",
              "      <td>0.000866</td>\n",
              "      <td>0.000150</td>\n",
              "      <td>0.000200</td>\n",
              "    </tr>\n",
              "    <tr>\n",
              "      <th>2013-12-17</th>\n",
              "      <td>0.000205</td>\n",
              "      <td>0.000289</td>\n",
              "      <td>0.000116</td>\n",
              "      <td>0.000269</td>\n",
              "    </tr>\n",
              "    <tr>\n",
              "      <th>2013-12-18</th>\n",
              "      <td>0.000267</td>\n",
              "      <td>0.000362</td>\n",
              "      <td>0.000205</td>\n",
              "      <td>0.000362</td>\n",
              "    </tr>\n",
              "    <tr>\n",
              "      <th>2013-12-19</th>\n",
              "      <td>0.000395</td>\n",
              "      <td>0.001520</td>\n",
              "      <td>0.000328</td>\n",
              "      <td>0.001170</td>\n",
              "    </tr>\n",
              "    <tr>\n",
              "      <th>2013-12-20</th>\n",
              "      <td>0.001162</td>\n",
              "      <td>0.001162</td>\n",
              "      <td>0.000662</td>\n",
              "      <td>0.000707</td>\n",
              "    </tr>\n",
              "  </tbody>\n",
              "</table>\n",
              "</div>\n",
              "      <button class=\"colab-df-convert\" onclick=\"convertToInteractive('df-1793003c-c43f-4411-a33e-6331350f630a')\"\n",
              "              title=\"Convert this dataframe to an interactive table.\"\n",
              "              style=\"display:none;\">\n",
              "        \n",
              "  <svg xmlns=\"http://www.w3.org/2000/svg\" height=\"24px\"viewBox=\"0 0 24 24\"\n",
              "       width=\"24px\">\n",
              "    <path d=\"M0 0h24v24H0V0z\" fill=\"none\"/>\n",
              "    <path d=\"M18.56 5.44l.94 2.06.94-2.06 2.06-.94-2.06-.94-.94-2.06-.94 2.06-2.06.94zm-11 1L8.5 8.5l.94-2.06 2.06-.94-2.06-.94L8.5 2.5l-.94 2.06-2.06.94zm10 10l.94 2.06.94-2.06 2.06-.94-2.06-.94-.94-2.06-.94 2.06-2.06.94z\"/><path d=\"M17.41 7.96l-1.37-1.37c-.4-.4-.92-.59-1.43-.59-.52 0-1.04.2-1.43.59L10.3 9.45l-7.72 7.72c-.78.78-.78 2.05 0 2.83L4 21.41c.39.39.9.59 1.41.59.51 0 1.02-.2 1.41-.59l7.78-7.78 2.81-2.81c.8-.78.8-2.07 0-2.86zM5.41 20L4 18.59l7.72-7.72 1.47 1.35L5.41 20z\"/>\n",
              "  </svg>\n",
              "      </button>\n",
              "      \n",
              "  <style>\n",
              "    .colab-df-container {\n",
              "      display:flex;\n",
              "      flex-wrap:wrap;\n",
              "      gap: 12px;\n",
              "    }\n",
              "\n",
              "    .colab-df-convert {\n",
              "      background-color: #E8F0FE;\n",
              "      border: none;\n",
              "      border-radius: 50%;\n",
              "      cursor: pointer;\n",
              "      display: none;\n",
              "      fill: #1967D2;\n",
              "      height: 32px;\n",
              "      padding: 0 0 0 0;\n",
              "      width: 32px;\n",
              "    }\n",
              "\n",
              "    .colab-df-convert:hover {\n",
              "      background-color: #E2EBFA;\n",
              "      box-shadow: 0px 1px 2px rgba(60, 64, 67, 0.3), 0px 1px 3px 1px rgba(60, 64, 67, 0.15);\n",
              "      fill: #174EA6;\n",
              "    }\n",
              "\n",
              "    [theme=dark] .colab-df-convert {\n",
              "      background-color: #3B4455;\n",
              "      fill: #D2E3FC;\n",
              "    }\n",
              "\n",
              "    [theme=dark] .colab-df-convert:hover {\n",
              "      background-color: #434B5C;\n",
              "      box-shadow: 0px 1px 3px 1px rgba(0, 0, 0, 0.15);\n",
              "      filter: drop-shadow(0px 1px 2px rgba(0, 0, 0, 0.3));\n",
              "      fill: #FFFFFF;\n",
              "    }\n",
              "  </style>\n",
              "\n",
              "      <script>\n",
              "        const buttonEl =\n",
              "          document.querySelector('#df-1793003c-c43f-4411-a33e-6331350f630a button.colab-df-convert');\n",
              "        buttonEl.style.display =\n",
              "          google.colab.kernel.accessAllowed ? 'block' : 'none';\n",
              "\n",
              "        async function convertToInteractive(key) {\n",
              "          const element = document.querySelector('#df-1793003c-c43f-4411-a33e-6331350f630a');\n",
              "          const dataTable =\n",
              "            await google.colab.kernel.invokeFunction('convertToInteractive',\n",
              "                                                     [key], {});\n",
              "          if (!dataTable) return;\n",
              "\n",
              "          const docLinkHtml = 'Like what you see? Visit the ' +\n",
              "            '<a target=\"_blank\" href=https://colab.research.google.com/notebooks/data_table.ipynb>data table notebook</a>'\n",
              "            + ' to learn more about interactive tables.';\n",
              "          element.innerHTML = '';\n",
              "          dataTable['output_type'] = 'display_data';\n",
              "          await google.colab.output.renderOutput(dataTable, element);\n",
              "          const docLink = document.createElement('div');\n",
              "          docLink.innerHTML = docLinkHtml;\n",
              "          element.appendChild(docLink);\n",
              "        }\n",
              "      </script>\n",
              "    </div>\n",
              "  </div>\n",
              "  "
            ]
          },
          "metadata": {},
          "execution_count": 1
        }
      ],
      "source": [
        "#import numpy as np  # useful for many scientific computing in Python\n",
        "##import pandas as pd # primary data structure library\n",
        "##from google.colab import files\n",
        "#files.download('bitcoins.xlsx')\n",
        "\n",
        "import pandas as pd\n",
        "\n",
        "df = pd.read_csv(\"/content/drive/MyDrive/Colab Notebooks/doge2013.csv\", \n",
        "                 parse_dates=[\"Date\"], \n",
        "                 index_col=[\"Date\"]) # parse the date column (tell pandas column 1 is a datetime)\n",
        "#path = \"/content/drive/MyDrive/Colab Notebooks/BTCfrom2015.csv\"\n",
        "#df = pd.read_csv(path)\n",
        "\n",
        "df.head()"
      ]
    },
    {
      "cell_type": "code",
      "source": [
        "df.info()"
      ],
      "metadata": {
        "colab": {
          "base_uri": "https://localhost:8080/"
        },
        "id": "fApDh_jIbwql",
        "outputId": "03fda602-4049-40cd-a89a-a1747e497fe5"
      },
      "execution_count": null,
      "outputs": [
        {
          "output_type": "stream",
          "name": "stdout",
          "text": [
            "<class 'pandas.core.frame.DataFrame'>\n",
            "DatetimeIndex: 3221 entries, 2013-12-16 to 2022-10-10\n",
            "Data columns (total 4 columns):\n",
            " #   Column  Non-Null Count  Dtype  \n",
            "---  ------  --------------  -----  \n",
            " 0   Open    3221 non-null   float64\n",
            " 1   High    3221 non-null   float64\n",
            " 2   Low     3221 non-null   float64\n",
            " 3   Close   3221 non-null   float64\n",
            "dtypes: float64(4)\n",
            "memory usage: 125.8 KB\n"
          ]
        }
      ]
    },
    {
      "cell_type": "code",
      "source": [
        "len(df)"
      ],
      "metadata": {
        "colab": {
          "base_uri": "https://localhost:8080/"
        },
        "id": "rBLA9HqJbz40",
        "outputId": "66a1d4ef-f7bc-4c51-ad00-4c9cc2fec60d"
      },
      "execution_count": null,
      "outputs": [
        {
          "output_type": "execute_result",
          "data": {
            "text/plain": [
              "3221"
            ]
          },
          "metadata": {},
          "execution_count": 3
        }
      ]
    },
    {
      "cell_type": "code",
      "source": [
        "# Only want closing price for each day \n",
        "bitcoin_prices = pd.DataFrame(df[\"Close\"]).rename(columns={\"Close\": \"Price\"})\n",
        "bitcoin_prices.head()"
      ],
      "metadata": {
        "colab": {
          "base_uri": "https://localhost:8080/",
          "height": 238
        },
        "id": "cwBxP5skb1_8",
        "outputId": "8fb28a97-1f44-4eb3-f30c-d157dbe2f99b"
      },
      "execution_count": null,
      "outputs": [
        {
          "output_type": "execute_result",
          "data": {
            "text/plain": [
              "               Price\n",
              "Date                \n",
              "2013-12-16  0.000200\n",
              "2013-12-17  0.000269\n",
              "2013-12-18  0.000362\n",
              "2013-12-19  0.001170\n",
              "2013-12-20  0.000707"
            ],
            "text/html": [
              "\n",
              "  <div id=\"df-81a47d3f-d59c-411a-a94f-7a5e6713f79a\">\n",
              "    <div class=\"colab-df-container\">\n",
              "      <div>\n",
              "<style scoped>\n",
              "    .dataframe tbody tr th:only-of-type {\n",
              "        vertical-align: middle;\n",
              "    }\n",
              "\n",
              "    .dataframe tbody tr th {\n",
              "        vertical-align: top;\n",
              "    }\n",
              "\n",
              "    .dataframe thead th {\n",
              "        text-align: right;\n",
              "    }\n",
              "</style>\n",
              "<table border=\"1\" class=\"dataframe\">\n",
              "  <thead>\n",
              "    <tr style=\"text-align: right;\">\n",
              "      <th></th>\n",
              "      <th>Price</th>\n",
              "    </tr>\n",
              "    <tr>\n",
              "      <th>Date</th>\n",
              "      <th></th>\n",
              "    </tr>\n",
              "  </thead>\n",
              "  <tbody>\n",
              "    <tr>\n",
              "      <th>2013-12-16</th>\n",
              "      <td>0.000200</td>\n",
              "    </tr>\n",
              "    <tr>\n",
              "      <th>2013-12-17</th>\n",
              "      <td>0.000269</td>\n",
              "    </tr>\n",
              "    <tr>\n",
              "      <th>2013-12-18</th>\n",
              "      <td>0.000362</td>\n",
              "    </tr>\n",
              "    <tr>\n",
              "      <th>2013-12-19</th>\n",
              "      <td>0.001170</td>\n",
              "    </tr>\n",
              "    <tr>\n",
              "      <th>2013-12-20</th>\n",
              "      <td>0.000707</td>\n",
              "    </tr>\n",
              "  </tbody>\n",
              "</table>\n",
              "</div>\n",
              "      <button class=\"colab-df-convert\" onclick=\"convertToInteractive('df-81a47d3f-d59c-411a-a94f-7a5e6713f79a')\"\n",
              "              title=\"Convert this dataframe to an interactive table.\"\n",
              "              style=\"display:none;\">\n",
              "        \n",
              "  <svg xmlns=\"http://www.w3.org/2000/svg\" height=\"24px\"viewBox=\"0 0 24 24\"\n",
              "       width=\"24px\">\n",
              "    <path d=\"M0 0h24v24H0V0z\" fill=\"none\"/>\n",
              "    <path d=\"M18.56 5.44l.94 2.06.94-2.06 2.06-.94-2.06-.94-.94-2.06-.94 2.06-2.06.94zm-11 1L8.5 8.5l.94-2.06 2.06-.94-2.06-.94L8.5 2.5l-.94 2.06-2.06.94zm10 10l.94 2.06.94-2.06 2.06-.94-2.06-.94-.94-2.06-.94 2.06-2.06.94z\"/><path d=\"M17.41 7.96l-1.37-1.37c-.4-.4-.92-.59-1.43-.59-.52 0-1.04.2-1.43.59L10.3 9.45l-7.72 7.72c-.78.78-.78 2.05 0 2.83L4 21.41c.39.39.9.59 1.41.59.51 0 1.02-.2 1.41-.59l7.78-7.78 2.81-2.81c.8-.78.8-2.07 0-2.86zM5.41 20L4 18.59l7.72-7.72 1.47 1.35L5.41 20z\"/>\n",
              "  </svg>\n",
              "      </button>\n",
              "      \n",
              "  <style>\n",
              "    .colab-df-container {\n",
              "      display:flex;\n",
              "      flex-wrap:wrap;\n",
              "      gap: 12px;\n",
              "    }\n",
              "\n",
              "    .colab-df-convert {\n",
              "      background-color: #E8F0FE;\n",
              "      border: none;\n",
              "      border-radius: 50%;\n",
              "      cursor: pointer;\n",
              "      display: none;\n",
              "      fill: #1967D2;\n",
              "      height: 32px;\n",
              "      padding: 0 0 0 0;\n",
              "      width: 32px;\n",
              "    }\n",
              "\n",
              "    .colab-df-convert:hover {\n",
              "      background-color: #E2EBFA;\n",
              "      box-shadow: 0px 1px 2px rgba(60, 64, 67, 0.3), 0px 1px 3px 1px rgba(60, 64, 67, 0.15);\n",
              "      fill: #174EA6;\n",
              "    }\n",
              "\n",
              "    [theme=dark] .colab-df-convert {\n",
              "      background-color: #3B4455;\n",
              "      fill: #D2E3FC;\n",
              "    }\n",
              "\n",
              "    [theme=dark] .colab-df-convert:hover {\n",
              "      background-color: #434B5C;\n",
              "      box-shadow: 0px 1px 3px 1px rgba(0, 0, 0, 0.15);\n",
              "      filter: drop-shadow(0px 1px 2px rgba(0, 0, 0, 0.3));\n",
              "      fill: #FFFFFF;\n",
              "    }\n",
              "  </style>\n",
              "\n",
              "      <script>\n",
              "        const buttonEl =\n",
              "          document.querySelector('#df-81a47d3f-d59c-411a-a94f-7a5e6713f79a button.colab-df-convert');\n",
              "        buttonEl.style.display =\n",
              "          google.colab.kernel.accessAllowed ? 'block' : 'none';\n",
              "\n",
              "        async function convertToInteractive(key) {\n",
              "          const element = document.querySelector('#df-81a47d3f-d59c-411a-a94f-7a5e6713f79a');\n",
              "          const dataTable =\n",
              "            await google.colab.kernel.invokeFunction('convertToInteractive',\n",
              "                                                     [key], {});\n",
              "          if (!dataTable) return;\n",
              "\n",
              "          const docLinkHtml = 'Like what you see? Visit the ' +\n",
              "            '<a target=\"_blank\" href=https://colab.research.google.com/notebooks/data_table.ipynb>data table notebook</a>'\n",
              "            + ' to learn more about interactive tables.';\n",
              "          element.innerHTML = '';\n",
              "          dataTable['output_type'] = 'display_data';\n",
              "          await google.colab.output.renderOutput(dataTable, element);\n",
              "          const docLink = document.createElement('div');\n",
              "          docLink.innerHTML = docLinkHtml;\n",
              "          element.appendChild(docLink);\n",
              "        }\n",
              "      </script>\n",
              "    </div>\n",
              "  </div>\n",
              "  "
            ]
          },
          "metadata": {},
          "execution_count": 4
        }
      ]
    },
    {
      "cell_type": "code",
      "source": [
        "import matplotlib.pyplot as plt\n",
        "\n",
        "bitcoin_prices.plot(figsize=(10, 7))\n",
        "plt.ylabel(\"DogeCoin Price\")\n",
        "plt.title(\"Price of DogeCoin from 16 Dec 2013 to October 2022\", fontsize=16)\n",
        "plt.legend(fontsize=14);\n",
        "plt.xticks(rotation=90)"
      ],
      "metadata": {
        "colab": {
          "base_uri": "https://localhost:8080/",
          "height": 511
        },
        "id": "aZYmU7ySb6V8",
        "outputId": "c84b3bd1-c691-4ff9-e1be-a2aaf88f42ff"
      },
      "execution_count": null,
      "outputs": [
        {
          "output_type": "execute_result",
          "data": {
            "text/plain": [
              "(array([16055, 16071, 16436, 16801, 17167, 17532, 17897, 18262, 18628,\n",
              "        18993, 19275]), <a list of 11 Text major ticklabel objects>)"
            ]
          },
          "metadata": {},
          "execution_count": 6
        },
        {
          "output_type": "display_data",
          "data": {
            "text/plain": [
              "<Figure size 720x504 with 1 Axes>"
            ],
            "image/png": "[encoded data removed]"
          },
          "metadata": {
            "needs_background": "light"
          }
        }
      ]
    },
    {
      "cell_type": "code",
      "source": [
        "# Check for GPU\n",
        "!nvidia-smi -L"
      ],
      "metadata": {
        "colab": {
          "base_uri": "https://localhost:8080/"
        },
        "id": "4eo-ZFFMcIQ1",
        "outputId": "10110710-eb58-4ad4-b8cf-dffe686af790"
      },
      "execution_count": null,
      "outputs": [
        {
          "output_type": "stream",
          "name": "stdout",
          "text": [
            "NVIDIA-SMI has failed because it couldn't communicate with the NVIDIA driver. Make sure that the latest NVIDIA driver is installed and running.\n",
            "\n"
          ]
        }
      ]
    },
    {
      "cell_type": "code",
      "source": [
        "# Importing and formatting historical Bitcoin data with Python\n",
        "import csv\n",
        "from datetime import datetime\n",
        "\n",
        "\n",
        "\n",
        "timesteps = []\n",
        "btc_price = []\n",
        "with open(\"/content/drive/MyDrive/Colab Notebooks/doge2013.csv\", \"r\") as f:\n",
        "  csv_reader = csv.reader(f, delimiter=\",\") # read in the target CSV\n",
        "  next(csv_reader) # skip first line (this gets rid of the column titles)\n",
        "\n",
        "\n",
        "  for line in csv_reader:\n",
        "    \n",
        "    timesteps.append(datetime.strptime(line[0], \"%b-%d-%Y\")) # get the dates as dates (not strings), strptime = string parse time\n",
        "   \n",
        "    btc_price.append(float(line[2])) # get the closing price as float\n",
        "    \n",
        "\n",
        "# View first 10 of each\n",
        "#timesteps[:10], btc_price[:10]\n",
        "timesteps[:10], btc_price[:10]"
      ],
      "metadata": {
        "colab": {
          "base_uri": "https://localhost:8080/"
        },
        "id": "4RUwlu74cLrN",
        "outputId": "429dcaf6-ea00-49b6-f2cd-66e2e2abe790"
      },
      "execution_count": null,
      "outputs": [
        {
          "output_type": "execute_result",
          "data": {
            "text/plain": [
              "([datetime.datetime(2013, 12, 16, 0, 0),\n",
              "  datetime.datetime(2013, 12, 17, 0, 0),\n",
              "  datetime.datetime(2013, 12, 18, 0, 0),\n",
              "  datetime.datetime(2013, 12, 19, 0, 0),\n",
              "  datetime.datetime(2013, 12, 20, 0, 0),\n",
              "  datetime.datetime(2013, 12, 21, 0, 0),\n",
              "  datetime.datetime(2013, 12, 22, 0, 0),\n",
              "  datetime.datetime(2013, 12, 23, 0, 0),\n",
              "  datetime.datetime(2013, 12, 24, 0, 0),\n",
              "  datetime.datetime(2013, 12, 25, 0, 0)],\n",
              " [0.000865874,\n",
              "  0.00028879,\n",
              "  0.000361631,\n",
              "  0.00151967,\n",
              "  0.00116249,\n",
              "  0.000703866,\n",
              "  0.00049758,\n",
              "  0.00045953,\n",
              "  0.00091291,\n",
              "  0.00069368])"
            ]
          },
          "metadata": {},
          "execution_count": 10
        }
      ]
    },
    {
      "cell_type": "code",
      "source": [
        "# Import with pandas \n",
        "import pandas as pd\n",
        "# Parse dates and set date column to index\n",
        "df = pd.read_csv(\"/content/drive/MyDrive/Colab Notebooks/doge2013.csv\", \n",
        "                 parse_dates=[\"Date\"], \n",
        "                 index_col=[\"Date\"]) # parse the date column (tell pandas column 1 is a datetime)\n",
        "df.head()"
      ],
      "metadata": {
        "colab": {
          "base_uri": "https://localhost:8080/",
          "height": 238
        },
        "id": "Z5XPJNttc0Pj",
        "outputId": "fa625eeb-a08e-4837-9d1b-cd59bee5e4c3"
      },
      "execution_count": null,
      "outputs": [
        {
          "output_type": "execute_result",
          "data": {
            "text/plain": [
              "                Open      High       Low     Close\n",
              "Date                                              \n",
              "2013-12-16  0.000299  0.000866  0.000150  0.000200\n",
              "2013-12-17  0.000205  0.000289  0.000116  0.000269\n",
              "2013-12-18  0.000267  0.000362  0.000205  0.000362\n",
              "2013-12-19  0.000395  0.001520  0.000328  0.001170\n",
              "2013-12-20  0.001162  0.001162  0.000662  0.000707"
            ],
            "text/html": [
              "\n",
              "  <div id=\"df-09ede2d2-fc33-4b06-bbe3-f41ab3fe8267\">\n",
              "    <div class=\"colab-df-container\">\n",
              "      <div>\n",
              "<style scoped>\n",
              "    .dataframe tbody tr th:only-of-type {\n",
              "        vertical-align: middle;\n",
              "    }\n",
              "\n",
              "    .dataframe tbody tr th {\n",
              "        vertical-align: top;\n",
              "    }\n",
              "\n",
              "    .dataframe thead th {\n",
              "        text-align: right;\n",
              "    }\n",
              "</style>\n",
              "<table border=\"1\" class=\"dataframe\">\n",
              "  <thead>\n",
              "    <tr style=\"text-align: right;\">\n",
              "      <th></th>\n",
              "      <th>Open</th>\n",
              "      <th>High</th>\n",
              "      <th>Low</th>\n",
              "      <th>Close</th>\n",
              "    </tr>\n",
              "    <tr>\n",
              "      <th>Date</th>\n",
              "      <th></th>\n",
              "      <th></th>\n",
              "      <th></th>\n",
              "      <th></th>\n",
              "    </tr>\n",
              "  </thead>\n",
              "  <tbody>\n",
              "    <tr>\n",
              "      <th>2013-12-16</th>\n",
              "      <td>0.000299</td>\n",
              "      <td>0.000866</td>\n",
              "      <td>0.000150</td>\n",
              "      <td>0.000200</td>\n",
              "    </tr>\n",
              "    <tr>\n",
              "      <th>2013-12-17</th>\n",
              "      <td>0.000205</td>\n",
              "      <td>0.000289</td>\n",
              "      <td>0.000116</td>\n",
              "      <td>0.000269</td>\n",
              "    </tr>\n",
              "    <tr>\n",
              "      <th>2013-12-18</th>\n",
              "      <td>0.000267</td>\n",
              "      <td>0.000362</td>\n",
              "      <td>0.000205</td>\n",
              "      <td>0.000362</td>\n",
              "    </tr>\n",
              "    <tr>\n",
              "      <th>2013-12-19</th>\n",
              "      <td>0.000395</td>\n",
              "      <td>0.001520</td>\n",
              "      <td>0.000328</td>\n",
              "      <td>0.001170</td>\n",
              "    </tr>\n",
              "    <tr>\n",
              "      <th>2013-12-20</th>\n",
              "      <td>0.001162</td>\n",
              "      <td>0.001162</td>\n",
              "      <td>0.000662</td>\n",
              "      <td>0.000707</td>\n",
              "    </tr>\n",
              "  </tbody>\n",
              "</table>\n",
              "</div>\n",
              "      <button class=\"colab-df-convert\" onclick=\"convertToInteractive('df-09ede2d2-fc33-4b06-bbe3-f41ab3fe8267')\"\n",
              "              title=\"Convert this dataframe to an interactive table.\"\n",
              "              style=\"display:none;\">\n",
              "        \n",
              "  <svg xmlns=\"http://www.w3.org/2000/svg\" height=\"24px\"viewBox=\"0 0 24 24\"\n",
              "       width=\"24px\">\n",
              "    <path d=\"M0 0h24v24H0V0z\" fill=\"none\"/>\n",
              "    <path d=\"M18.56 5.44l.94 2.06.94-2.06 2.06-.94-2.06-.94-.94-2.06-.94 2.06-2.06.94zm-11 1L8.5 8.5l.94-2.06 2.06-.94-2.06-.94L8.5 2.5l-.94 2.06-2.06.94zm10 10l.94 2.06.94-2.06 2.06-.94-2.06-.94-.94-2.06-.94 2.06-2.06.94z\"/><path d=\"M17.41 7.96l-1.37-1.37c-.4-.4-.92-.59-1.43-.59-.52 0-1.04.2-1.43.59L10.3 9.45l-7.72 7.72c-.78.78-.78 2.05 0 2.83L4 21.41c.39.39.9.59 1.41.59.51 0 1.02-.2 1.41-.59l7.78-7.78 2.81-2.81c.8-.78.8-2.07 0-2.86zM5.41 20L4 18.59l7.72-7.72 1.47 1.35L5.41 20z\"/>\n",
              "  </svg>\n",
              "      </button>\n",
              "      \n",
              "  <style>\n",
              "    .colab-df-container {\n",
              "      display:flex;\n",
              "      flex-wrap:wrap;\n",
              "      gap: 12px;\n",
              "    }\n",
              "\n",
              "    .colab-df-convert {\n",
              "      background-color: #E8F0FE;\n",
              "      border: none;\n",
              "      border-radius: 50%;\n",
              "      cursor: pointer;\n",
              "      display: none;\n",
              "      fill: #1967D2;\n",
              "      height: 32px;\n",
              "      padding: 0 0 0 0;\n",
              "      width: 32px;\n",
              "    }\n",
              "\n",
              "    .colab-df-convert:hover {\n",
              "      background-color: #E2EBFA;\n",
              "      box-shadow: 0px 1px 2px rgba(60, 64, 67, 0.3), 0px 1px 3px 1px rgba(60, 64, 67, 0.15);\n",
              "      fill: #174EA6;\n",
              "    }\n",
              "\n",
              "    [theme=dark] .colab-df-convert {\n",
              "      background-color: #3B4455;\n",
              "      fill: #D2E3FC;\n",
              "    }\n",
              "\n",
              "    [theme=dark] .colab-df-convert:hover {\n",
              "      background-color: #434B5C;\n",
              "      box-shadow: 0px 1px 3px 1px rgba(0, 0, 0, 0.15);\n",
              "      filter: drop-shadow(0px 1px 2px rgba(0, 0, 0, 0.3));\n",
              "      fill: #FFFFFF;\n",
              "    }\n",
              "  </style>\n",
              "\n",
              "      <script>\n",
              "        const buttonEl =\n",
              "          document.querySelector('#df-09ede2d2-fc33-4b06-bbe3-f41ab3fe8267 button.colab-df-convert');\n",
              "        buttonEl.style.display =\n",
              "          google.colab.kernel.accessAllowed ? 'block' : 'none';\n",
              "\n",
              "        async function convertToInteractive(key) {\n",
              "          const element = document.querySelector('#df-09ede2d2-fc33-4b06-bbe3-f41ab3fe8267');\n",
              "          const dataTable =\n",
              "            await google.colab.kernel.invokeFunction('convertToInteractive',\n",
              "                                                     [key], {});\n",
              "          if (!dataTable) return;\n",
              "\n",
              "          const docLinkHtml = 'Like what you see? Visit the ' +\n",
              "            '<a target=\"_blank\" href=https://colab.research.google.com/notebooks/data_table.ipynb>data table notebook</a>'\n",
              "            + ' to learn more about interactive tables.';\n",
              "          element.innerHTML = '';\n",
              "          dataTable['output_type'] = 'display_data';\n",
              "          await google.colab.output.renderOutput(dataTable, element);\n",
              "          const docLink = document.createElement('div');\n",
              "          docLink.innerHTML = docLinkHtml;\n",
              "          element.appendChild(docLink);\n",
              "        }\n",
              "      </script>\n",
              "    </div>\n",
              "  </div>\n",
              "  "
            ]
          },
          "metadata": {},
          "execution_count": 12
        }
      ]
    },
    {
      "cell_type": "code",
      "source": [
        "df.info()"
      ],
      "metadata": {
        "colab": {
          "base_uri": "https://localhost:8080/"
        },
        "id": "Y6uIbwv4c7-N",
        "outputId": "a12041d4-2b55-497d-8a27-fd3d4834f22a"
      },
      "execution_count": null,
      "outputs": [
        {
          "output_type": "stream",
          "name": "stdout",
          "text": [
            "<class 'pandas.core.frame.DataFrame'>\n",
            "DatetimeIndex: 3221 entries, 2013-12-16 to 2022-10-10\n",
            "Data columns (total 4 columns):\n",
            " #   Column  Non-Null Count  Dtype  \n",
            "---  ------  --------------  -----  \n",
            " 0   Open    3221 non-null   float64\n",
            " 1   High    3221 non-null   float64\n",
            " 2   Low     3221 non-null   float64\n",
            " 3   Close   3221 non-null   float64\n",
            "dtypes: float64(4)\n",
            "memory usage: 125.8 KB\n"
          ]
        }
      ]
    },
    {
      "cell_type": "code",
      "source": [
        "# How many samples do we have?\n",
        "len(df)"
      ],
      "metadata": {
        "colab": {
          "base_uri": "https://localhost:8080/"
        },
        "id": "r7nCLOdWc9Wd",
        "outputId": "e39fd72b-1d4d-4a55-c714-552ba1d1f2be"
      },
      "execution_count": null,
      "outputs": [
        {
          "output_type": "execute_result",
          "data": {
            "text/plain": [
              "3221"
            ]
          },
          "metadata": {},
          "execution_count": 14
        }
      ]
    },
    {
      "cell_type": "code",
      "source": [
        "# Only want closing price for each day \n",
        "bitcoin_prices = pd.DataFrame(df[\"Close\"]).rename(columns={\"Close\": \"Price\"})\n",
        "bitcoin_prices.head()"
      ],
      "metadata": {
        "colab": {
          "base_uri": "https://localhost:8080/",
          "height": 238
        },
        "id": "6YQLXnIQdArE",
        "outputId": "7eb24c5a-d255-46c2-861e-bd784229e517"
      },
      "execution_count": null,
      "outputs": [
        {
          "output_type": "execute_result",
          "data": {
            "text/plain": [
              "               Price\n",
              "Date                \n",
              "2013-12-16  0.000200\n",
              "2013-12-17  0.000269\n",
              "2013-12-18  0.000362\n",
              "2013-12-19  0.001170\n",
              "2013-12-20  0.000707"
            ],
            "text/html": [
              "\n",
              "  <div id=\"df-4a5ab1bf-3db3-4b8c-952d-21161a94e313\">\n",
              "    <div class=\"colab-df-container\">\n",
              "      <div>\n",
              "<style scoped>\n",
              "    .dataframe tbody tr th:only-of-type {\n",
              "        vertical-align: middle;\n",
              "    }\n",
              "\n",
              "    .dataframe tbody tr th {\n",
              "        vertical-align: top;\n",
              "    }\n",
              "\n",
              "    .dataframe thead th {\n",
              "        text-align: right;\n",
              "    }\n",
              "</style>\n",
              "<table border=\"1\" class=\"dataframe\">\n",
              "  <thead>\n",
              "    <tr style=\"text-align: right;\">\n",
              "      <th></th>\n",
              "      <th>Price</th>\n",
              "    </tr>\n",
              "    <tr>\n",
              "      <th>Date</th>\n",
              "      <th></th>\n",
              "    </tr>\n",
              "  </thead>\n",
              "  <tbody>\n",
              "    <tr>\n",
              "      <th>2013-12-16</th>\n",
              "      <td>0.000200</td>\n",
              "    </tr>\n",
              "    <tr>\n",
              "      <th>2013-12-17</th>\n",
              "      <td>0.000269</td>\n",
              "    </tr>\n",
              "    <tr>\n",
              "      <th>2013-12-18</th>\n",
              "      <td>0.000362</td>\n",
              "    </tr>\n",
              "    <tr>\n",
              "      <th>2013-12-19</th>\n",
              "      <td>0.001170</td>\n",
              "    </tr>\n",
              "    <tr>\n",
              "      <th>2013-12-20</th>\n",
              "      <td>0.000707</td>\n",
              "    </tr>\n",
              "  </tbody>\n",
              "</table>\n",
              "</div>\n",
              "      <button class=\"colab-df-convert\" onclick=\"convertToInteractive('df-4a5ab1bf-3db3-4b8c-952d-21161a94e313')\"\n",
              "              title=\"Convert this dataframe to an interactive table.\"\n",
              "              style=\"display:none;\">\n",
              "        \n",
              "  <svg xmlns=\"http://www.w3.org/2000/svg\" height=\"24px\"viewBox=\"0 0 24 24\"\n",
              "       width=\"24px\">\n",
              "    <path d=\"M0 0h24v24H0V0z\" fill=\"none\"/>\n",
              "    <path d=\"M18.56 5.44l.94 2.06.94-2.06 2.06-.94-2.06-.94-.94-2.06-.94 2.06-2.06.94zm-11 1L8.5 8.5l.94-2.06 2.06-.94-2.06-.94L8.5 2.5l-.94 2.06-2.06.94zm10 10l.94 2.06.94-2.06 2.06-.94-2.06-.94-.94-2.06-.94 2.06-2.06.94z\"/><path d=\"M17.41 7.96l-1.37-1.37c-.4-.4-.92-.59-1.43-.59-.52 0-1.04.2-1.43.59L10.3 9.45l-7.72 7.72c-.78.78-.78 2.05 0 2.83L4 21.41c.39.39.9.59 1.41.59.51 0 1.02-.2 1.41-.59l7.78-7.78 2.81-2.81c.8-.78.8-2.07 0-2.86zM5.41 20L4 18.59l7.72-7.72 1.47 1.35L5.41 20z\"/>\n",
              "  </svg>\n",
              "      </button>\n",
              "      \n",
              "  <style>\n",
              "    .colab-df-container {\n",
              "      display:flex;\n",
              "      flex-wrap:wrap;\n",
              "      gap: 12px;\n",
              "    }\n",
              "\n",
              "    .colab-df-convert {\n",
              "      background-color: #E8F0FE;\n",
              "      border: none;\n",
              "      border-radius: 50%;\n",
              "      cursor: pointer;\n",
              "      display: none;\n",
              "      fill: #1967D2;\n",
              "      height: 32px;\n",
              "      padding: 0 0 0 0;\n",
              "      width: 32px;\n",
              "    }\n",
              "\n",
              "    .colab-df-convert:hover {\n",
              "      background-color: #E2EBFA;\n",
              "      box-shadow: 0px 1px 2px rgba(60, 64, 67, 0.3), 0px 1px 3px 1px rgba(60, 64, 67, 0.15);\n",
              "      fill: #174EA6;\n",
              "    }\n",
              "\n",
              "    [theme=dark] .colab-df-convert {\n",
              "      background-color: #3B4455;\n",
              "      fill: #D2E3FC;\n",
              "    }\n",
              "\n",
              "    [theme=dark] .colab-df-convert:hover {\n",
              "      background-color: #434B5C;\n",
              "      box-shadow: 0px 1px 3px 1px rgba(0, 0, 0, 0.15);\n",
              "      filter: drop-shadow(0px 1px 2px rgba(0, 0, 0, 0.3));\n",
              "      fill: #FFFFFF;\n",
              "    }\n",
              "  </style>\n",
              "\n",
              "      <script>\n",
              "        const buttonEl =\n",
              "          document.querySelector('#df-4a5ab1bf-3db3-4b8c-952d-21161a94e313 button.colab-df-convert');\n",
              "        buttonEl.style.display =\n",
              "          google.colab.kernel.accessAllowed ? 'block' : 'none';\n",
              "\n",
              "        async function convertToInteractive(key) {\n",
              "          const element = document.querySelector('#df-4a5ab1bf-3db3-4b8c-952d-21161a94e313');\n",
              "          const dataTable =\n",
              "            await google.colab.kernel.invokeFunction('convertToInteractive',\n",
              "                                                     [key], {});\n",
              "          if (!dataTable) return;\n",
              "\n",
              "          const docLinkHtml = 'Like what you see? Visit the ' +\n",
              "            '<a target=\"_blank\" href=https://colab.research.google.com/notebooks/data_table.ipynb>data table notebook</a>'\n",
              "            + ' to learn more about interactive tables.';\n",
              "          element.innerHTML = '';\n",
              "          dataTable['output_type'] = 'display_data';\n",
              "          await google.colab.output.renderOutput(dataTable, element);\n",
              "          const docLink = document.createElement('div');\n",
              "          docLink.innerHTML = docLinkHtml;\n",
              "          element.appendChild(docLink);\n",
              "        }\n",
              "      </script>\n",
              "    </div>\n",
              "  </div>\n",
              "  "
            ]
          },
          "metadata": {},
          "execution_count": 15
        }
      ]
    },
    {
      "cell_type": "code",
      "source": [
        "import matplotlib.pyplot as plt\n",
        "bitcoin_prices.plot(figsize=(10, 7))\n",
        "plt.ylabel(\"Doge Coin Price\")\n",
        "plt.title(\"Price of Doge Coin from 16 Dec 2013 to 18 May 2021\", fontsize=16)\n",
        "plt.legend(fontsize=14);"
      ],
      "metadata": {
        "colab": {
          "base_uri": "https://localhost:8080/",
          "height": 460
        },
        "id": "bMdNtEWKdDo8",
        "outputId": "b04f79c9-89ee-4b7b-c275-52ac3f54512d"
      },
      "execution_count": null,
      "outputs": [
        {
          "output_type": "display_data",
          "data": {
            "text/plain": [
              "<Figure size 720x504 with 1 Axes>"
            ],
            "image/png": "[encoded data removed]"
          },
          "metadata": {
            "needs_background": "light"
          }
        }
      ]
    },
    {
      "cell_type": "code",
      "source": [
        "# Importing and formatting historical Bitcoin data with Python\n",
        "import csv\n",
        "from datetime import datetime\n",
        "\n",
        "timesteps = []\n",
        "btc_price = []\n",
        "with open(\"/content/drive/MyDrive/Colab Notebooks/doge2013.csv\", \"r\") as f:\n",
        "  csv_reader = csv.reader(f, delimiter=\",\") # read in the target CSV\n",
        "  next(csv_reader) # skip first line (this gets rid of the column titles)\n",
        "  for line in csv_reader:\n",
        "    timesteps.append(datetime.strptime(line[0], \"%b-%d-%Y\")) # get the dates as dates (not strings), strptime = string parse time\n",
        "    btc_price.append(float(line[2])) # get the closing price as float\n",
        "\n",
        "# View first 10 of each\n",
        "timesteps[:10], btc_price[:10]"
      ],
      "metadata": {
        "colab": {
          "base_uri": "https://localhost:8080/"
        },
        "id": "21pbvymEdPNM",
        "outputId": "cca788b8-5a80-49ec-81ab-49ff31b67db5"
      },
      "execution_count": null,
      "outputs": [
        {
          "output_type": "execute_result",
          "data": {
            "text/plain": [
              "([datetime.datetime(2013, 12, 16, 0, 0),\n",
              "  datetime.datetime(2013, 12, 17, 0, 0),\n",
              "  datetime.datetime(2013, 12, 18, 0, 0),\n",
              "  datetime.datetime(2013, 12, 19, 0, 0),\n",
              "  datetime.datetime(2013, 12, 20, 0, 0),\n",
              "  datetime.datetime(2013, 12, 21, 0, 0),\n",
              "  datetime.datetime(2013, 12, 22, 0, 0),\n",
              "  datetime.datetime(2013, 12, 23, 0, 0),\n",
              "  datetime.datetime(2013, 12, 24, 0, 0),\n",
              "  datetime.datetime(2013, 12, 25, 0, 0)],\n",
              " [0.000865874,\n",
              "  0.00028879,\n",
              "  0.000361631,\n",
              "  0.00151967,\n",
              "  0.00116249,\n",
              "  0.000703866,\n",
              "  0.00049758,\n",
              "  0.00045953,\n",
              "  0.00091291,\n",
              "  0.00069368])"
            ]
          },
          "metadata": {},
          "execution_count": 18
        }
      ]
    },
    {
      "cell_type": "code",
      "source": [
        "# Plot from CSV\n",
        "import matplotlib.pyplot as plt\n",
        "import numpy as np\n",
        "plt.figure(figsize=(10, 7))\n",
        "plt.plot(timesteps, btc_price)\n",
        "plt.title(\"Price of Doge coin from 16 Dec 2013 to 10 Oct 2022\", fontsize=16)\n",
        "plt.xlabel(\"Date\")\n",
        "plt.ylabel(\"Doge Coin Price\")"
      ],
      "metadata": {
        "colab": {
          "base_uri": "https://localhost:8080/",
          "height": 477
        },
        "id": "scdW7y78dazM",
        "outputId": "1abf616a-d9d0-4046-89df-dccae609e342"
      },
      "execution_count": null,
      "outputs": [
        {
          "output_type": "execute_result",
          "data": {
            "text/plain": [
              "Text(0, 0.5, 'Doge Coin Price')"
            ]
          },
          "metadata": {},
          "execution_count": 20
        },
        {
          "output_type": "display_data",
          "data": {
            "text/plain": [
              "<Figure size 720x504 with 1 Axes>"
            ],
            "image/png": "[encoded data removed]"
          },
          "metadata": {
            "needs_background": "light"
          }
        }
      ]
    },
    {
      "cell_type": "code",
      "source": [
        "# Get bitcoin date array\n",
        "timesteps = bitcoin_prices.index.to_numpy()\n",
        "prices = bitcoin_prices[\"Price\"].to_numpy()\n",
        "\n",
        "timesteps[:10], prices[:10]"
      ],
      "metadata": {
        "colab": {
          "base_uri": "https://localhost:8080/"
        },
        "id": "KR_TmfTdduM9",
        "outputId": "a700169c-4812-4035-89db-c4fa81688f8d"
      },
      "execution_count": null,
      "outputs": [
        {
          "output_type": "execute_result",
          "data": {
            "text/plain": [
              "(array(['2013-12-16T00:00:00.000000000', '2013-12-17T00:00:00.000000000',\n",
              "        '2013-12-18T00:00:00.000000000', '2013-12-19T00:00:00.000000000',\n",
              "        '2013-12-20T00:00:00.000000000', '2013-12-21T00:00:00.000000000',\n",
              "        '2013-12-22T00:00:00.000000000', '2013-12-23T00:00:00.000000000',\n",
              "        '2013-12-24T00:00:00.000000000', '2013-12-25T00:00:00.000000000'],\n",
              "       dtype='datetime64[ns]'),\n",
              " array([0.00020019, 0.00026854, 0.00036163, 0.00117042, 0.00070661,\n",
              "        0.00039363, 0.00031476, 0.00045118, 0.00068474, 0.0005867 ]))"
            ]
          },
          "metadata": {},
          "execution_count": 21
        }
      ]
    },
    {
      "cell_type": "code",
      "source": [
        "# Wrong way to make train/test sets for time series\n",
        "from sklearn.model_selection import train_test_split \n",
        "\n",
        "X_train, X_test, y_train, y_test = train_test_split(timesteps, # dates\n",
        "                                                    prices, # prices\n",
        "                                                    test_size=0.2,\n",
        "                                                    random_state=42)\n",
        "X_train.shape, X_test.shape, y_train.shape, y_test.shape "
      ],
      "metadata": {
        "colab": {
          "base_uri": "https://localhost:8080/"
        },
        "id": "iYqUcbW3dxis",
        "outputId": "284be1f0-0333-4d5d-80bf-7aca5dca7030"
      },
      "execution_count": null,
      "outputs": [
        {
          "output_type": "execute_result",
          "data": {
            "text/plain": [
              "((2576,), (645,), (2576,), (645,))"
            ]
          },
          "metadata": {},
          "execution_count": 22
        }
      ]
    },
    {
      "cell_type": "code",
      "source": [
        "# Let's plot wrong train and test splits\n",
        "plt.figure(figsize=(10, 7))\n",
        "plt.scatter(X_train, y_train, s=5, label=\"Train data\")\n",
        "plt.scatter(X_test, y_test, s=5, label=\"Test data\")\n",
        "plt.xlabel(\"Date\")\n",
        "plt.ylabel(\"Doge Price\")\n",
        "plt.legend(fontsize=14)\n",
        "plt.show()"
      ],
      "metadata": {
        "colab": {
          "base_uri": "https://localhost:8080/",
          "height": 442
        },
        "id": "PeIOD2ifd1Ds",
        "outputId": "0984b2b9-2e97-44bb-b8cb-e42372327c90"
      },
      "execution_count": null,
      "outputs": [
        {
          "output_type": "display_data",
          "data": {
            "text/plain": [
              "<Figure size 720x504 with 1 Axes>"
            ],
            "image/png": "[encoded data removed]"
          },
          "metadata": {
            "needs_background": "light"
          }
        }
      ]
    },
    {
      "cell_type": "code",
      "source": [
        "# Create train and test splits the right way for time series data\n",
        "split_size = int(0.8 * len(prices)) # 80% train, 20% test\n",
        "\n",
        "# Create train data splits (everything before the split)\n",
        "X_train, y_train = timesteps[:split_size], prices[:split_size]\n",
        "\n",
        "# Create test data splits (everything after the split)\n",
        "X_test, y_test = timesteps[split_size:], prices[split_size:]\n",
        "\n",
        "len(X_train), len(X_test), len(y_train), len(y_test)"
      ],
      "metadata": {
        "colab": {
          "base_uri": "https://localhost:8080/"
        },
        "id": "pmO2V-tSd62k",
        "outputId": "03d10d88-4f8a-4006-fdb1-abca282d9856"
      },
      "execution_count": null,
      "outputs": [
        {
          "output_type": "execute_result",
          "data": {
            "text/plain": [
              "(2576, 645, 2576, 645)"
            ]
          },
          "metadata": {},
          "execution_count": 24
        }
      ]
    },
    {
      "cell_type": "code",
      "source": [
        "# Plot correctly made splits\n",
        "plt.figure(figsize=(10, 7))\n",
        "plt.scatter(X_train, y_train, s=5, label=\"Train data\")\n",
        "plt.scatter(X_test, y_test, s=5, label=\"Test data\")\n",
        "plt.xlabel(\"Date\")\n",
        "plt.ylabel(\"Doge Price\")\n",
        "plt.legend(fontsize=14)\n",
        "plt.show();"
      ],
      "metadata": {
        "colab": {
          "base_uri": "https://localhost:8080/",
          "height": 442
        },
        "id": "3QAMtAsPd8xc",
        "outputId": "872be010-7933-4682-8a65-94e384c25664"
      },
      "execution_count": null,
      "outputs": [
        {
          "output_type": "display_data",
          "data": {
            "text/plain": [
              "<Figure size 720x504 with 1 Axes>"
            ],
            "image/png": "[encoded data removed]"
          },
          "metadata": {
            "needs_background": "light"
          }
        }
      ]
    },
    {
      "cell_type": "code",
      "source": [
        "# Create a function to plot time series data\n",
        "def plot_time_series(timesteps, values, format='.', start=0, end=None, label=None):\n",
        "  \"\"\"\n",
        "  Plots a timesteps (a series of points in time) against values (a series of values across timesteps).\n",
        "  \n",
        "  Parameters\n",
        "  ---------\n",
        "  timesteps : array of timesteps\n",
        "  values : array of values across time\n",
        "  format : style of plot, default \".\"\n",
        "  start : where to start the plot (setting a value will index from start of timesteps & values)\n",
        "  end : where to end the plot (setting a value will index from end of timesteps & values)\n",
        "  label : label to show on plot of values\n",
        "  \"\"\"\n",
        "  # Plot the series\n",
        "  plt.plot(timesteps[start:end], values[start:end], format, label=label)\n",
        "  plt.xlabel(\"Time\")\n",
        "  plt.ylabel(\"Doge Price\")\n",
        "  if label:\n",
        "    plt.legend(fontsize=14) # make label bigger\n",
        "  plt.grid(True)"
      ],
      "metadata": {
        "id": "i6TsKHl1eDMc"
      },
      "execution_count": null,
      "outputs": []
    },
    {
      "cell_type": "code",
      "source": [
        "# Try out our plotting function\n",
        "plt.figure(figsize=(10, 7))\n",
        "plot_time_series(timesteps=X_train, values=y_train, label=\"Train data\")\n",
        "plot_time_series(timesteps=X_test, values=y_test, label=\"Test data\")"
      ],
      "metadata": {
        "colab": {
          "base_uri": "https://localhost:8080/",
          "height": 442
        },
        "id": "vJVeExPdeGys",
        "outputId": "6c3fb3d9-af0e-46ce-df7a-b05b4523794f"
      },
      "execution_count": null,
      "outputs": [
        {
          "output_type": "display_data",
          "data": {
            "text/plain": [
              "<Figure size 720x504 with 1 Axes>"
            ],
            "image/png": "[encoded data removed]"
          },
          "metadata": {
            "needs_background": "light"
          }
        }
      ]
    },
    {
      "cell_type": "code",
      "source": [
        "# Create a naïve forecast\n",
        "naive_forecast = y_test[:-1] # Naïve forecast equals every value excluding the last value\n",
        "naive_forecast[:10], naive_forecast[-10:] # View frist 10 and last 10 "
      ],
      "metadata": {
        "colab": {
          "base_uri": "https://localhost:8080/"
        },
        "id": "uvR_tccxeQdc",
        "outputId": "78016bb9-aace-4e08-dd77-f3c1f40cc2cf"
      },
      "execution_count": null,
      "outputs": [
        {
          "output_type": "execute_result",
          "data": {
            "text/plain": [
              "(array([0.00974988, 0.00982194, 0.01041862, 0.00978486, 0.00986431,\n",
              "        0.01020853, 0.00986855, 0.00889559, 0.0080416 , 0.00862904]),\n",
              " array([0.06164795, 0.0606241 , 0.05924658, 0.06034191, 0.06598178,\n",
              "        0.06476142, 0.06339855, 0.06242586, 0.06161916, 0.06213101]))"
            ]
          },
          "metadata": {},
          "execution_count": 30
        }
      ]
    },
    {
      "cell_type": "code",
      "source": [
        "# Plot naive forecast\n",
        "plt.figure(figsize=(10, 7))\n",
        "plot_time_series(timesteps=X_train, values=y_train, label=\"Train data\")\n",
        "plot_time_series(timesteps=X_test, values=y_test, label=\"Test data\")\n",
        "plot_time_series(timesteps=X_test[1:], values=naive_forecast, format=\"-\", label=\"Naive forecast\");"
      ],
      "metadata": {
        "colab": {
          "base_uri": "https://localhost:8080/",
          "height": 442
        },
        "id": "2Tykk4yZeS60",
        "outputId": "0635c416-8c0b-4393-bf1e-6876acbcc8c9"
      },
      "execution_count": null,
      "outputs": [
        {
          "output_type": "display_data",
          "data": {
            "text/plain": [
              "<Figure size 720x504 with 1 Axes>"
            ],
            "image/png": "[encoded data removed]"
          },
          "metadata": {
            "needs_background": "light"
          }
        }
      ]
    },
    {
      "cell_type": "code",
      "source": [
        "plt.figure(figsize=(10, 7))\n",
        "offset = 300 # offset the values by 300 timesteps \n",
        "plot_time_series(timesteps=X_test, values=y_test, start=offset, label=\"Test data\")\n",
        "plot_time_series(timesteps=X_test[1:], values=naive_forecast, format=\"-\", start=offset, label=\"Naive forecast\");"
      ],
      "metadata": {
        "colab": {
          "base_uri": "https://localhost:8080/",
          "height": 442
        },
        "id": "D9suENQveYaU",
        "outputId": "2b648110-58fc-42ca-a032-5a9c28b0c510"
      },
      "execution_count": null,
      "outputs": [
        {
          "output_type": "display_data",
          "data": {
            "text/plain": [
              "<Figure size 720x504 with 1 Axes>"
            ],
            "image/png": "[encoded data removed]"
          },
          "metadata": {
            "needs_background": "light"
          }
        }
      ]
    },
    {
      "cell_type": "code",
      "source": [
        "# Let's get TensorFlow! \n",
        "import tensorflow as tf"
      ],
      "metadata": {
        "id": "YhLrLkzWedUl"
      },
      "execution_count": null,
      "outputs": []
    },
    {
      "cell_type": "code",
      "source": [
        "# MASE implemented courtesy of sktime - https://github.com/alan-turing-institute/sktime/blob/ee7a06843a44f4aaec7582d847e36073a9ab0566/sktime/performance_metrics/forecasting/_functions.py#L16\n",
        "def mean_absolute_scaled_error(y_true, y_pred):\n",
        "  \"\"\"\n",
        "  Implement MASE (assuming no seasonality of data).\n",
        "  \"\"\"\n",
        "  mae = tf.reduce_mean(tf.abs(y_true - y_pred))\n",
        "\n",
        "  # Find MAE of naive forecast (no seasonality)\n",
        "  mae_naive_no_season = tf.reduce_mean(tf.abs(y_true[1:] - y_true[:-1])) # our seasonality is 1 day (hence the shifting of 1 day)\n",
        "\n",
        "  return mae / mae_naive_no_season"
      ],
      "metadata": {
        "id": "vUIDjI19ehmj"
      },
      "execution_count": null,
      "outputs": []
    },
    {
      "cell_type": "code",
      "source": [
        "def evaluate_preds(y_true, y_pred):\n",
        "  # Make sure float32 (for metric calculations)\n",
        "  y_true = tf.cast(y_true, dtype=tf.float32)\n",
        "  y_pred = tf.cast(y_pred, dtype=tf.float32)\n",
        "\n",
        "  # Calculate various metrics\n",
        "  mae = tf.keras.metrics.mean_absolute_error(y_true, y_pred)\n",
        "  mse = tf.keras.metrics.mean_squared_error(y_true, y_pred) # puts and emphasis on outliers (all errors get squared)\n",
        "  rmse = tf.sqrt(mse)\n",
        "  mape = tf.keras.metrics.mean_absolute_percentage_error(y_true, y_pred)\n",
        "  mase = mean_absolute_scaled_error(y_true, y_pred)\n",
        "  \n",
        "  return {\"mae\": mae.numpy(),\n",
        "          \"mse\": mse.numpy(),\n",
        "          \"rmse\": rmse.numpy(),\n",
        "          \"mape\": mape.numpy(),\n",
        "          \"mase\": mase.numpy()}"
      ],
      "metadata": {
        "id": "3KaUNQ2Kenq7"
      },
      "execution_count": null,
      "outputs": []
    },
    {
      "cell_type": "code",
      "source": [
        "naive_results = evaluate_preds(y_true=y_test[1:],\n",
        "                               y_pred=naive_forecast)\n",
        "naive_results"
      ],
      "metadata": {
        "colab": {
          "base_uri": "https://localhost:8080/"
        },
        "id": "nNtFoWTgerGr",
        "outputId": "ba8858dd-8ffd-434e-82cf-348bd8a5f985"
      },
      "execution_count": null,
      "outputs": [
        {
          "output_type": "execute_result",
          "data": {
            "text/plain": [
              "{'mae': 0.009145341,\n",
              " 'mse': 0.00040601022,\n",
              " 'rmse': 0.020149695,\n",
              " 'mape': 5.0292616,\n",
              " 'mase': 0.99845946}"
            ]
          },
          "metadata": {},
          "execution_count": 36
        }
      ]
    },
    {
      "cell_type": "code",
      "source": [
        "# Find average price of Bitcoin in test dataset\n",
        "tf.reduce_mean(y_test).numpy()"
      ],
      "metadata": {
        "colab": {
          "base_uri": "https://localhost:8080/"
        },
        "id": "lwMh9ryJes9D",
        "outputId": "7f6593d3-b39e-4d5f-c999-4050ed7da5c6"
      },
      "execution_count": null,
      "outputs": [
        {
          "output_type": "execute_result",
          "data": {
            "text/plain": [
              "0.1607975383348837"
            ]
          },
          "metadata": {},
          "execution_count": 37
        }
      ]
    },
    {
      "cell_type": "code",
      "source": [
        "HORIZON = 1 # predict 1 step at a time\n",
        "WINDOW_SIZE = 7 # use a week worth of timesteps to predict the horizon"
      ],
      "metadata": {
        "id": "QNifUlloevcD"
      },
      "execution_count": null,
      "outputs": []
    },
    {
      "cell_type": "code",
      "source": [
        "# Create function to label windowed data\n",
        "def get_labelled_windows(x, horizon=1):\n",
        "  \"\"\"\n",
        "  Creates labels for windowed dataset.\n",
        "\n",
        "  E.g. if horizon=1 (default)\n",
        "  Input: [1, 2, 3, 4, 5, 6] -> Output: ([1, 2, 3, 4, 5], [6])\n",
        "  \"\"\"\n",
        "  return x[:, :-horizon], x[:, -horizon:]"
      ],
      "metadata": {
        "id": "0f2nRymBezpM"
      },
      "execution_count": null,
      "outputs": []
    },
    {
      "cell_type": "code",
      "source": [
        "# Test out the window labelling function\n",
        "test_window, test_label = get_labelled_windows(tf.expand_dims(tf.range(8)+1, axis=0), horizon=HORIZON)\n",
        "print(f\"Window: {tf.squeeze(test_window).numpy()} -> Label: {tf.squeeze(test_label).numpy()}\")"
      ],
      "metadata": {
        "colab": {
          "base_uri": "https://localhost:8080/"
        },
        "id": "JblRZXqYe2_z",
        "outputId": "4ee79c64-3f97-4f94-e7af-2ff9a7ed6cb3"
      },
      "execution_count": null,
      "outputs": [
        {
          "output_type": "stream",
          "name": "stdout",
          "text": [
            "Window: [1 2 3 4 5 6 7] -> Label: 8\n"
          ]
        }
      ]
    },
    {
      "cell_type": "code",
      "source": [
        "# Create function to view NumPy arrays as windows \n",
        "def make_windows(x, window_size=7, horizon=1):\n",
        "  \"\"\"\n",
        "  Turns a 1D array into a 2D array of sequential windows of window_size.\n",
        "  \"\"\"\n",
        "  # 1. Create a window of specific window_size (add the horizon on the end for later labelling)\n",
        "  window_step = np.expand_dims(np.arange(window_size+horizon), axis=0)\n",
        "  # print(f\"Window step:\\n {window_step}\")\n",
        "\n",
        "  # 2. Create a 2D array of multiple window steps (minus 1 to account for 0 indexing)\n",
        "  window_indexes = window_step + np.expand_dims(np.arange(len(x)-(window_size+horizon-1)), axis=0).T # create 2D array of windows of size window_size\n",
        "  # print(f\"Window indexes:\\n {window_indexes[:3], window_indexes[-3:], window_indexes.shape}\")\n",
        "\n",
        "  # 3. Index on the target array (time series) with 2D array of multiple window steps\n",
        "  windowed_array = x[window_indexes]\n",
        "\n",
        "  # 4. Get the labelled windows\n",
        "  windows, labels = get_labelled_windows(windowed_array, horizon=horizon)\n",
        "\n",
        "  return windows, labels"
      ],
      "metadata": {
        "id": "4tc5jN1Ve66j"
      },
      "execution_count": null,
      "outputs": []
    },
    {
      "cell_type": "code",
      "source": [
        "full_windows, full_labels = make_windows(prices, window_size=WINDOW_SIZE, horizon=HORIZON)\n",
        "len(full_windows), len(full_labels)"
      ],
      "metadata": {
        "colab": {
          "base_uri": "https://localhost:8080/"
        },
        "id": "Q2jFpOc7e_Rv",
        "outputId": "80d29164-3234-47b1-f11d-d0681648777a"
      },
      "execution_count": null,
      "outputs": [
        {
          "output_type": "execute_result",
          "data": {
            "text/plain": [
              "(3214, 3214)"
            ]
          },
          "metadata": {},
          "execution_count": 42
        }
      ]
    },
    {
      "cell_type": "code",
      "source": [
        "# View the first 3 windows/labels\n",
        "for i in range(3):\n",
        "  print(f\"Window: {full_windows[i]} -> Label: {full_labels[i]}\")"
      ],
      "metadata": {
        "colab": {
          "base_uri": "https://localhost:8080/"
        },
        "id": "w1apb5B6fBh7",
        "outputId": "a956b2b2-80c6-4c6b-8442-adceef3ca7e9"
      },
      "execution_count": null,
      "outputs": [
        {
          "output_type": "stream",
          "name": "stdout",
          "text": [
            "Window: [0.00020019 0.00026854 0.00036163 0.00117042 0.00070661 0.00039363\n",
            " 0.00031476] -> Label: [0.00045118]\n",
            "Window: [0.00026854 0.00036163 0.00117042 0.00070661 0.00039363 0.00031476\n",
            " 0.00045118] -> Label: [0.00068474]\n",
            "Window: [0.00036163 0.00117042 0.00070661 0.00039363 0.00031476 0.00045118\n",
            " 0.00068474] -> Label: [0.0005867]\n"
          ]
        }
      ]
    },
    {
      "cell_type": "code",
      "source": [
        "# View the last 3 windows/labels\n",
        "for i in range(3):\n",
        "  print(f\"Window: {full_windows[i-3]} -> Label: {full_labels[i-3]}\")"
      ],
      "metadata": {
        "colab": {
          "base_uri": "https://localhost:8080/"
        },
        "id": "8ZsecQrcfEsD",
        "outputId": "d11eb15a-bd9b-4479-f513-0744c44a47e8"
      },
      "execution_count": null,
      "outputs": [
        {
          "output_type": "stream",
          "name": "stdout",
          "text": [
            "Window: [0.0606241  0.05924658 0.06034191 0.06598178 0.06476142 0.06339855\n",
            " 0.06242586] -> Label: [0.06161916]\n",
            "Window: [0.05924658 0.06034191 0.06598178 0.06476142 0.06339855 0.06242586\n",
            " 0.06161916] -> Label: [0.06213101]\n",
            "Window: [0.06034191 0.06598178 0.06476142 0.06339855 0.06242586 0.06161916\n",
            " 0.06213101] -> Label: [0.05936489]\n"
          ]
        }
      ]
    },
    {
      "cell_type": "code",
      "source": [
        "# Make the train/test splits\n",
        "def make_train_test_splits(windows, labels, test_split=0.2):\n",
        "  \"\"\"\n",
        "  Splits matching pairs of windows and labels into train and test splits.\n",
        "  \"\"\"\n",
        "  split_size = int(len(windows) * (1-test_split)) # this will default to 80% train/20% test\n",
        "  train_windows = windows[:split_size]\n",
        "  train_labels = labels[:split_size]\n",
        "  test_windows = windows[split_size:]\n",
        "  test_labels = labels[split_size:]\n",
        "  return train_windows, test_windows, train_labels, test_labels"
      ],
      "metadata": {
        "id": "1LrS1EL9fIuz"
      },
      "execution_count": null,
      "outputs": []
    },
    {
      "cell_type": "code",
      "source": [
        "train_windows, test_windows, train_labels, test_labels = make_train_test_splits(full_windows, full_labels)\n",
        "len(train_windows), len(test_windows), len(train_labels), len(test_labels)"
      ],
      "metadata": {
        "colab": {
          "base_uri": "https://localhost:8080/"
        },
        "id": "7AIgTzx-fMLL",
        "outputId": "67b0fd35-fbd3-47a0-9afd-a433104d3a1d"
      },
      "execution_count": null,
      "outputs": [
        {
          "output_type": "execute_result",
          "data": {
            "text/plain": [
              "(2571, 643, 2571, 643)"
            ]
          },
          "metadata": {},
          "execution_count": 46
        }
      ]
    },
    {
      "cell_type": "code",
      "source": [
        "train_windows[:5], train_labels[:5]"
      ],
      "metadata": {
        "colab": {
          "base_uri": "https://localhost:8080/"
        },
        "id": "cpXewYfOfPDL",
        "outputId": "562ebcb0-1cb6-40e9-c4b1-ce9e3661c76d"
      },
      "execution_count": null,
      "outputs": [
        {
          "output_type": "execute_result",
          "data": {
            "text/plain": [
              "(array([[0.00020019, 0.00026854, 0.00036163, 0.00117042, 0.00070661,\n",
              "         0.00039363, 0.00031476],\n",
              "        [0.00026854, 0.00036163, 0.00117042, 0.00070661, 0.00039363,\n",
              "         0.00031476, 0.00045118],\n",
              "        [0.00036163, 0.00117042, 0.00070661, 0.00039363, 0.00031476,\n",
              "         0.00045118, 0.00068474],\n",
              "        [0.00117042, 0.00070661, 0.00039363, 0.00031476, 0.00045118,\n",
              "         0.00068474, 0.0005867 ],\n",
              "        [0.00070661, 0.00039363, 0.00031476, 0.00045118, 0.00068474,\n",
              "         0.0005867 , 0.0006023 ]]), array([[0.00045118],\n",
              "        [0.00068474],\n",
              "        [0.0005867 ],\n",
              "        [0.0006023 ],\n",
              "        [0.0005219 ]]))"
            ]
          },
          "metadata": {},
          "execution_count": 47
        }
      ]
    },
    {
      "cell_type": "code",
      "source": [
        "# Check to see if same (accounting for horizon and window size)\n",
        "np.array_equal(np.squeeze(train_labels[:-HORIZON-1]), y_train[WINDOW_SIZE:])"
      ],
      "metadata": {
        "colab": {
          "base_uri": "https://localhost:8080/"
        },
        "id": "Hfh_tt-_fRZ0",
        "outputId": "68e129e9-98f3-4109-b226-01568c7b6fda"
      },
      "execution_count": null,
      "outputs": [
        {
          "output_type": "execute_result",
          "data": {
            "text/plain": [
              "True"
            ]
          },
          "metadata": {},
          "execution_count": 48
        }
      ]
    },
    {
      "cell_type": "code",
      "source": [
        "import os\n",
        "\n",
        "# Create a function to implement a ModelCheckpoint callback with a specific filename \n",
        "def create_model_checkpoint(model_name, save_path=\"model_experiments\"):\n",
        "  return tf.keras.callbacks.ModelCheckpoint(filepath=os.path.join(save_path, model_name), # create filepath to save model\n",
        "                                            verbose=0, # only output a limited amount of text\n",
        "                                            save_best_only=True) # save only the best model to file"
      ],
      "metadata": {
        "id": "JW4BSTllfU0U"
      },
      "execution_count": null,
      "outputs": []
    },
    {
      "cell_type": "markdown",
      "source": [
        "# Model 1: Dense model (window = 7, horizon = 1)"
      ],
      "metadata": {
        "id": "vYUF8fGEfZD7"
      }
    },
    {
      "cell_type": "code",
      "source": [
        "import tensorflow as tf\n",
        "from tensorflow.keras import layers\n",
        "\n",
        "# Set random seed for as reproducible results as possible\n",
        "tf.random.set_seed(42)\n",
        "\n",
        "# Construct model\n",
        "model_1 = tf.keras.Sequential([\n",
        "  layers.Dense(128, activation=\"relu\"),\n",
        "  layers.Dense(HORIZON, activation=\"linear\") # linear activation is the same as having no activation                        \n",
        "], name=\"model_1_dense\") # give the model a name so we can save it\n",
        "\n",
        "# Compile model\n",
        "model_1.compile(loss=\"mae\",\n",
        "                optimizer=tf.keras.optimizers.Adam(),\n",
        "                metrics=[\"mae\"]) # we don't necessarily need this when the loss function is already MAE\n",
        "\n",
        "# Fit model\n",
        "model_1.fit(x=train_windows, # train windows of 7 timesteps of Bitcoin prices\n",
        "            y=train_labels, # horizon value of 1 (using the previous 7 timesteps to predict next day)\n",
        "            epochs=100,\n",
        "            verbose=1,\n",
        "            batch_size=128,\n",
        "            validation_data=(test_windows, test_labels),\n",
        "            callbacks=[create_model_checkpoint(model_name=model_1.name)]) # create ModelCheckpoint callback to save best model"
      ],
      "metadata": {
        "colab": {
          "base_uri": "https://localhost:8080/"
        },
        "id": "6q0OK1o5fadz",
        "outputId": "a6fdfdb7-b982-48af-f519-e9756d94027e"
      },
      "execution_count": null,
      "outputs": [
        {
          "output_type": "stream",
          "name": "stdout",
          "text": [
            "Epoch 1/100\n",
            "21/21 [==============================] - 2s 50ms/step - loss: 0.0011 - mae: 0.0011 - val_loss: 0.0637 - val_mae: 0.0637\n",
            "Epoch 2/100\n",
            "21/21 [==============================] - 1s 26ms/step - loss: 2.1712e-04 - mae: 2.1712e-04 - val_loss: 0.0602 - val_mae: 0.0602\n",
            "Epoch 3/100\n",
            "21/21 [==============================] - 0s 22ms/step - loss: 2.6368e-04 - mae: 2.6368e-04 - val_loss: 0.0591 - val_mae: 0.0591\n",
            "Epoch 4/100\n",
            "21/21 [==============================] - 0s 3ms/step - loss: 5.0401e-04 - mae: 5.0401e-04 - val_loss: 0.0598 - val_mae: 0.0598\n",
            "Epoch 5/100\n",
            "21/21 [==============================] - 0s 3ms/step - loss: 4.4926e-04 - mae: 4.4926e-04 - val_loss: 0.0624 - val_mae: 0.0624\n",
            "Epoch 6/100\n",
            "21/21 [==============================] - 0s 3ms/step - loss: 4.0169e-04 - mae: 4.0169e-04 - val_loss: 0.0616 - val_mae: 0.0616\n",
            "Epoch 7/100\n",
            "21/21 [==============================] - 0s 3ms/step - loss: 2.7391e-04 - mae: 2.7391e-04 - val_loss: 0.0635 - val_mae: 0.0635\n",
            "Epoch 8/100\n",
            "21/21 [==============================] - 0s 3ms/step - loss: 2.7910e-04 - mae: 2.7910e-04 - val_loss: 0.0598 - val_mae: 0.0598\n",
            "Epoch 9/100\n",
            "21/21 [==============================] - 1s 25ms/step - loss: 2.6925e-04 - mae: 2.6925e-04 - val_loss: 0.0589 - val_mae: 0.0589\n",
            "Epoch 10/100\n",
            "21/21 [==============================] - 0s 3ms/step - loss: 3.2996e-04 - mae: 3.2996e-04 - val_loss: 0.0612 - val_mae: 0.0612\n",
            "Epoch 11/100\n",
            "21/21 [==============================] - 0s 3ms/step - loss: 3.6396e-04 - mae: 3.6396e-04 - val_loss: 0.0592 - val_mae: 0.0592\n",
            "Epoch 12/100\n",
            "21/21 [==============================] - 0s 4ms/step - loss: 2.4470e-04 - mae: 2.4470e-04 - val_loss: 0.0614 - val_mae: 0.0614\n",
            "Epoch 13/100\n",
            "21/21 [==============================] - 0s 4ms/step - loss: 2.7238e-04 - mae: 2.7238e-04 - val_loss: 0.0611 - val_mae: 0.0611\n",
            "Epoch 14/100\n",
            "21/21 [==============================] - 0s 3ms/step - loss: 1.8968e-04 - mae: 1.8968e-04 - val_loss: 0.0621 - val_mae: 0.0621\n",
            "Epoch 15/100\n",
            "21/21 [==============================] - 0s 4ms/step - loss: 2.3981e-04 - mae: 2.3981e-04 - val_loss: 0.0652 - val_mae: 0.0652\n",
            "Epoch 16/100\n",
            "21/21 [==============================] - 0s 3ms/step - loss: 4.2743e-04 - mae: 4.2743e-04 - val_loss: 0.0647 - val_mae: 0.0647\n",
            "Epoch 17/100\n",
            "21/21 [==============================] - 0s 3ms/step - loss: 3.9959e-04 - mae: 3.9959e-04 - val_loss: 0.0660 - val_mae: 0.0660\n",
            "Epoch 18/100\n",
            "21/21 [==============================] - 0s 3ms/step - loss: 5.5606e-04 - mae: 5.5606e-04 - val_loss: 0.0685 - val_mae: 0.0685\n",
            "Epoch 19/100\n",
            "21/21 [==============================] - 0s 4ms/step - loss: 2.3868e-04 - mae: 2.3868e-04 - val_loss: 0.0645 - val_mae: 0.0645\n",
            "Epoch 20/100\n",
            "21/21 [==============================] - 0s 3ms/step - loss: 2.2591e-04 - mae: 2.2591e-04 - val_loss: 0.0672 - val_mae: 0.0672\n",
            "Epoch 21/100\n",
            "21/21 [==============================] - 0s 3ms/step - loss: 2.3873e-04 - mae: 2.3873e-04 - val_loss: 0.0706 - val_mae: 0.0706\n",
            "Epoch 22/100\n",
            "21/21 [==============================] - 0s 3ms/step - loss: 1.7191e-04 - mae: 1.7191e-04 - val_loss: 0.0660 - val_mae: 0.0660\n",
            "Epoch 23/100\n",
            "21/21 [==============================] - 0s 3ms/step - loss: 2.3123e-04 - mae: 2.3123e-04 - val_loss: 0.0669 - val_mae: 0.0669\n",
            "Epoch 24/100\n",
            "21/21 [==============================] - 0s 4ms/step - loss: 2.3260e-04 - mae: 2.3260e-04 - val_loss: 0.0698 - val_mae: 0.0698\n",
            "Epoch 25/100\n",
            "21/21 [==============================] - 0s 4ms/step - loss: 2.2915e-04 - mae: 2.2915e-04 - val_loss: 0.0723 - val_mae: 0.0723\n",
            "Epoch 26/100\n",
            "21/21 [==============================] - 0s 4ms/step - loss: 3.9499e-04 - mae: 3.9499e-04 - val_loss: 0.0707 - val_mae: 0.0707\n",
            "Epoch 27/100\n",
            "21/21 [==============================] - 0s 4ms/step - loss: 3.4180e-04 - mae: 3.4180e-04 - val_loss: 0.0714 - val_mae: 0.0714\n",
            "Epoch 28/100\n",
            "21/21 [==============================] - 0s 4ms/step - loss: 3.5899e-04 - mae: 3.5899e-04 - val_loss: 0.0723 - val_mae: 0.0723\n",
            "Epoch 29/100\n",
            "21/21 [==============================] - 0s 3ms/step - loss: 1.8406e-04 - mae: 1.8406e-04 - val_loss: 0.0703 - val_mae: 0.0703\n",
            "Epoch 30/100\n",
            "21/21 [==============================] - 0s 3ms/step - loss: 2.2354e-04 - mae: 2.2354e-04 - val_loss: 0.0720 - val_mae: 0.0720\n",
            "Epoch 31/100\n",
            "21/21 [==============================] - 0s 3ms/step - loss: 2.5498e-04 - mae: 2.5498e-04 - val_loss: 0.0718 - val_mae: 0.0718\n",
            "Epoch 32/100\n",
            "21/21 [==============================] - 0s 4ms/step - loss: 3.5703e-04 - mae: 3.5703e-04 - val_loss: 0.0711 - val_mae: 0.0711\n",
            "Epoch 33/100\n",
            "21/21 [==============================] - 0s 3ms/step - loss: 3.2628e-04 - mae: 3.2628e-04 - val_loss: 0.0723 - val_mae: 0.0723\n",
            "Epoch 34/100\n",
            "21/21 [==============================] - 0s 3ms/step - loss: 2.9634e-04 - mae: 2.9634e-04 - val_loss: 0.0700 - val_mae: 0.0700\n",
            "Epoch 35/100\n",
            "21/21 [==============================] - 0s 3ms/step - loss: 2.7693e-04 - mae: 2.7693e-04 - val_loss: 0.0721 - val_mae: 0.0721\n",
            "Epoch 36/100\n",
            "21/21 [==============================] - 0s 3ms/step - loss: 3.4373e-04 - mae: 3.4373e-04 - val_loss: 0.0710 - val_mae: 0.0710\n",
            "Epoch 37/100\n",
            "21/21 [==============================] - 0s 3ms/step - loss: 3.5085e-04 - mae: 3.5085e-04 - val_loss: 0.0720 - val_mae: 0.0720\n",
            "Epoch 38/100\n",
            "21/21 [==============================] - 0s 4ms/step - loss: 1.8190e-04 - mae: 1.8190e-04 - val_loss: 0.0688 - val_mae: 0.0688\n",
            "Epoch 39/100\n",
            "21/21 [==============================] - 0s 4ms/step - loss: 2.0552e-04 - mae: 2.0552e-04 - val_loss: 0.0711 - val_mae: 0.0711\n",
            "Epoch 40/100\n",
            "21/21 [==============================] - 0s 3ms/step - loss: 1.9570e-04 - mae: 1.9570e-04 - val_loss: 0.0713 - val_mae: 0.0713\n",
            "Epoch 41/100\n",
            "21/21 [==============================] - 0s 3ms/step - loss: 2.0571e-04 - mae: 2.0571e-04 - val_loss: 0.0709 - val_mae: 0.0709\n",
            "Epoch 42/100\n",
            "21/21 [==============================] - 0s 3ms/step - loss: 2.8299e-04 - mae: 2.8299e-04 - val_loss: 0.0712 - val_mae: 0.0712\n",
            "Epoch 43/100\n",
            "21/21 [==============================] - 0s 3ms/step - loss: 3.3732e-04 - mae: 3.3732e-04 - val_loss: 0.0725 - val_mae: 0.0725\n",
            "Epoch 44/100\n",
            "21/21 [==============================] - 0s 3ms/step - loss: 2.0745e-04 - mae: 2.0745e-04 - val_loss: 0.0686 - val_mae: 0.0686\n",
            "Epoch 45/100\n",
            "21/21 [==============================] - 0s 3ms/step - loss: 2.0685e-04 - mae: 2.0685e-04 - val_loss: 0.0702 - val_mae: 0.0702\n",
            "Epoch 46/100\n",
            "21/21 [==============================] - 0s 3ms/step - loss: 2.0348e-04 - mae: 2.0348e-04 - val_loss: 0.0728 - val_mae: 0.0728\n",
            "Epoch 47/100\n",
            "21/21 [==============================] - 0s 3ms/step - loss: 2.0673e-04 - mae: 2.0673e-04 - val_loss: 0.0760 - val_mae: 0.0760\n",
            "Epoch 48/100\n",
            "21/21 [==============================] - 0s 3ms/step - loss: 1.8175e-04 - mae: 1.8175e-04 - val_loss: 0.0724 - val_mae: 0.0724\n",
            "Epoch 49/100\n",
            "21/21 [==============================] - 0s 3ms/step - loss: 1.4261e-04 - mae: 1.4261e-04 - val_loss: 0.0738 - val_mae: 0.0738\n",
            "Epoch 50/100\n",
            "21/21 [==============================] - 0s 4ms/step - loss: 2.0436e-04 - mae: 2.0436e-04 - val_loss: 0.0757 - val_mae: 0.0757\n",
            "Epoch 51/100\n",
            "21/21 [==============================] - 0s 3ms/step - loss: 3.2767e-04 - mae: 3.2767e-04 - val_loss: 0.0754 - val_mae: 0.0754\n",
            "Epoch 52/100\n",
            "21/21 [==============================] - 0s 3ms/step - loss: 1.9253e-04 - mae: 1.9253e-04 - val_loss: 0.0747 - val_mae: 0.0747\n",
            "Epoch 53/100\n",
            "21/21 [==============================] - 0s 3ms/step - loss: 1.5857e-04 - mae: 1.5857e-04 - val_loss: 0.0753 - val_mae: 0.0753\n",
            "Epoch 54/100\n",
            "21/21 [==============================] - 0s 4ms/step - loss: 2.1210e-04 - mae: 2.1210e-04 - val_loss: 0.0755 - val_mae: 0.0755\n",
            "Epoch 55/100\n",
            "21/21 [==============================] - 0s 4ms/step - loss: 2.0487e-04 - mae: 2.0487e-04 - val_loss: 0.0744 - val_mae: 0.0744\n",
            "Epoch 56/100\n",
            "21/21 [==============================] - 0s 3ms/step - loss: 3.2641e-04 - mae: 3.2641e-04 - val_loss: 0.0779 - val_mae: 0.0779\n",
            "Epoch 57/100\n",
            "21/21 [==============================] - 0s 3ms/step - loss: 1.4372e-04 - mae: 1.4372e-04 - val_loss: 0.0740 - val_mae: 0.0740\n",
            "Epoch 58/100\n",
            "21/21 [==============================] - 0s 3ms/step - loss: 1.4785e-04 - mae: 1.4785e-04 - val_loss: 0.0735 - val_mae: 0.0735\n",
            "Epoch 59/100\n",
            "21/21 [==============================] - 0s 4ms/step - loss: 1.8995e-04 - mae: 1.8995e-04 - val_loss: 0.0726 - val_mae: 0.0726\n",
            "Epoch 60/100\n",
            "21/21 [==============================] - 0s 3ms/step - loss: 1.4016e-04 - mae: 1.4016e-04 - val_loss: 0.0731 - val_mae: 0.0731\n",
            "Epoch 61/100\n",
            "21/21 [==============================] - 0s 4ms/step - loss: 1.6461e-04 - mae: 1.6461e-04 - val_loss: 0.0744 - val_mae: 0.0744\n",
            "Epoch 62/100\n",
            "21/21 [==============================] - 0s 3ms/step - loss: 2.0988e-04 - mae: 2.0988e-04 - val_loss: 0.0763 - val_mae: 0.0763\n",
            "Epoch 63/100\n",
            "21/21 [==============================] - 0s 3ms/step - loss: 2.5587e-04 - mae: 2.5587e-04 - val_loss: 0.0726 - val_mae: 0.0726\n",
            "Epoch 64/100\n",
            "21/21 [==============================] - 0s 3ms/step - loss: 3.0063e-04 - mae: 3.0063e-04 - val_loss: 0.0759 - val_mae: 0.0759\n",
            "Epoch 65/100\n",
            "21/21 [==============================] - 0s 4ms/step - loss: 1.8831e-04 - mae: 1.8831e-04 - val_loss: 0.0729 - val_mae: 0.0729\n",
            "Epoch 66/100\n",
            "21/21 [==============================] - 0s 3ms/step - loss: 1.6803e-04 - mae: 1.6803e-04 - val_loss: 0.0728 - val_mae: 0.0728\n",
            "Epoch 67/100\n",
            "21/21 [==============================] - 0s 3ms/step - loss: 2.0055e-04 - mae: 2.0055e-04 - val_loss: 0.0744 - val_mae: 0.0744\n",
            "Epoch 68/100\n",
            "21/21 [==============================] - 0s 3ms/step - loss: 2.1759e-04 - mae: 2.1759e-04 - val_loss: 0.0722 - val_mae: 0.0722\n",
            "Epoch 69/100\n",
            "21/21 [==============================] - 0s 3ms/step - loss: 2.1046e-04 - mae: 2.1046e-04 - val_loss: 0.0747 - val_mae: 0.0747\n",
            "Epoch 70/100\n",
            "21/21 [==============================] - 0s 3ms/step - loss: 3.2556e-04 - mae: 3.2556e-04 - val_loss: 0.0751 - val_mae: 0.0751\n",
            "Epoch 71/100\n",
            "21/21 [==============================] - 0s 3ms/step - loss: 1.8949e-04 - mae: 1.8949e-04 - val_loss: 0.0755 - val_mae: 0.0755\n",
            "Epoch 72/100\n",
            "21/21 [==============================] - 0s 3ms/step - loss: 1.9594e-04 - mae: 1.9594e-04 - val_loss: 0.0741 - val_mae: 0.0741\n",
            "Epoch 73/100\n",
            "21/21 [==============================] - 0s 4ms/step - loss: 2.3546e-04 - mae: 2.3546e-04 - val_loss: 0.0738 - val_mae: 0.0738\n",
            "Epoch 74/100\n",
            "21/21 [==============================] - 0s 4ms/step - loss: 2.9924e-04 - mae: 2.9924e-04 - val_loss: 0.0745 - val_mae: 0.0745\n",
            "Epoch 75/100\n",
            "21/21 [==============================] - 0s 4ms/step - loss: 3.0086e-04 - mae: 3.0086e-04 - val_loss: 0.0768 - val_mae: 0.0768\n",
            "Epoch 76/100\n",
            "21/21 [==============================] - 0s 4ms/step - loss: 2.7508e-04 - mae: 2.7508e-04 - val_loss: 0.0762 - val_mae: 0.0762\n",
            "Epoch 77/100\n",
            "21/21 [==============================] - 0s 3ms/step - loss: 2.7902e-04 - mae: 2.7902e-04 - val_loss: 0.0740 - val_mae: 0.0740\n",
            "Epoch 78/100\n",
            "21/21 [==============================] - 0s 4ms/step - loss: 2.4920e-04 - mae: 2.4920e-04 - val_loss: 0.0754 - val_mae: 0.0754\n",
            "Epoch 79/100\n",
            "21/21 [==============================] - 0s 3ms/step - loss: 1.7600e-04 - mae: 1.7600e-04 - val_loss: 0.0719 - val_mae: 0.0719\n",
            "Epoch 80/100\n",
            "21/21 [==============================] - 0s 3ms/step - loss: 1.6918e-04 - mae: 1.6918e-04 - val_loss: 0.0765 - val_mae: 0.0765\n",
            "Epoch 81/100\n",
            "21/21 [==============================] - 0s 4ms/step - loss: 2.0831e-04 - mae: 2.0831e-04 - val_loss: 0.0747 - val_mae: 0.0747\n",
            "Epoch 82/100\n",
            "21/21 [==============================] - 0s 3ms/step - loss: 3.1129e-04 - mae: 3.1129e-04 - val_loss: 0.0768 - val_mae: 0.0768\n",
            "Epoch 83/100\n",
            "21/21 [==============================] - 0s 4ms/step - loss: 1.9279e-04 - mae: 1.9279e-04 - val_loss: 0.0720 - val_mae: 0.0720\n",
            "Epoch 84/100\n",
            "21/21 [==============================] - 0s 3ms/step - loss: 1.9214e-04 - mae: 1.9214e-04 - val_loss: 0.0746 - val_mae: 0.0746\n",
            "Epoch 85/100\n",
            "21/21 [==============================] - 0s 4ms/step - loss: 2.7544e-04 - mae: 2.7544e-04 - val_loss: 0.0760 - val_mae: 0.0760\n",
            "Epoch 86/100\n",
            "21/21 [==============================] - 0s 3ms/step - loss: 2.9300e-04 - mae: 2.9300e-04 - val_loss: 0.0788 - val_mae: 0.0788\n",
            "Epoch 87/100\n",
            "21/21 [==============================] - 0s 4ms/step - loss: 3.5990e-04 - mae: 3.5990e-04 - val_loss: 0.0769 - val_mae: 0.0769\n",
            "Epoch 88/100\n",
            "21/21 [==============================] - 0s 3ms/step - loss: 1.8466e-04 - mae: 1.8466e-04 - val_loss: 0.0749 - val_mae: 0.0749\n",
            "Epoch 89/100\n",
            "21/21 [==============================] - 0s 3ms/step - loss: 2.2440e-04 - mae: 2.2440e-04 - val_loss: 0.0744 - val_mae: 0.0744\n",
            "Epoch 90/100\n",
            "21/21 [==============================] - 0s 3ms/step - loss: 2.5671e-04 - mae: 2.5671e-04 - val_loss: 0.0760 - val_mae: 0.0760\n",
            "Epoch 91/100\n",
            "21/21 [==============================] - 0s 3ms/step - loss: 1.7876e-04 - mae: 1.7876e-04 - val_loss: 0.0747 - val_mae: 0.0747\n",
            "Epoch 92/100\n",
            "21/21 [==============================] - 0s 3ms/step - loss: 1.4952e-04 - mae: 1.4952e-04 - val_loss: 0.0735 - val_mae: 0.0735\n",
            "Epoch 93/100\n",
            "21/21 [==============================] - 0s 3ms/step - loss: 1.4849e-04 - mae: 1.4849e-04 - val_loss: 0.0732 - val_mae: 0.0732\n",
            "Epoch 94/100\n",
            "21/21 [==============================] - 0s 4ms/step - loss: 1.2959e-04 - mae: 1.2959e-04 - val_loss: 0.0712 - val_mae: 0.0712\n",
            "Epoch 95/100\n",
            "21/21 [==============================] - 0s 4ms/step - loss: 1.5415e-04 - mae: 1.5415e-04 - val_loss: 0.0748 - val_mae: 0.0748\n",
            "Epoch 96/100\n",
            "21/21 [==============================] - 0s 3ms/step - loss: 3.2251e-04 - mae: 3.2251e-04 - val_loss: 0.0760 - val_mae: 0.0760\n",
            "Epoch 97/100\n",
            "21/21 [==============================] - 0s 4ms/step - loss: 2.1655e-04 - mae: 2.1655e-04 - val_loss: 0.0738 - val_mae: 0.0738\n",
            "Epoch 98/100\n",
            "21/21 [==============================] - 0s 3ms/step - loss: 2.2868e-04 - mae: 2.2868e-04 - val_loss: 0.0759 - val_mae: 0.0759\n",
            "Epoch 99/100\n",
            "21/21 [==============================] - 0s 3ms/step - loss: 1.7706e-04 - mae: 1.7706e-04 - val_loss: 0.0731 - val_mae: 0.0731\n",
            "Epoch 100/100\n",
            "21/21 [==============================] - 0s 3ms/step - loss: 2.4499e-04 - mae: 2.4499e-04 - val_loss: 0.0744 - val_mae: 0.0744\n"
          ]
        },
        {
          "output_type": "execute_result",
          "data": {
            "text/plain": [
              "<keras.callbacks.History at 0x7fca468c7cd0>"
            ]
          },
          "metadata": {},
          "execution_count": 50
        }
      ]
    },
    {
      "cell_type": "code",
      "source": [
        "# Evaluate model on test data\n",
        "model_1.evaluate(test_windows, test_labels)"
      ],
      "metadata": {
        "colab": {
          "base_uri": "https://localhost:8080/"
        },
        "id": "2-hKgm3HfoNz",
        "outputId": "46e3c97e-b4ae-4d85-d74d-1ab1280e47de"
      },
      "execution_count": null,
      "outputs": [
        {
          "output_type": "stream",
          "name": "stdout",
          "text": [
            "21/21 [==============================] - 0s 2ms/step - loss: 0.0744 - mae: 0.0744\n"
          ]
        },
        {
          "output_type": "execute_result",
          "data": {
            "text/plain": [
              "[0.07439400255680084, 0.07439400255680084]"
            ]
          },
          "metadata": {},
          "execution_count": 51
        }
      ]
    },
    {
      "cell_type": "code",
      "source": [
        "# Load in saved best performing model_1 and evaluate on test data\n",
        "model_1 = tf.keras.models.load_model(\"model_experiments/model_1_dense\")\n",
        "model_1.evaluate(test_windows, test_labels)"
      ],
      "metadata": {
        "colab": {
          "base_uri": "https://localhost:8080/"
        },
        "id": "p4m1kHJbfqYT",
        "outputId": "ed525534-44b7-481b-f408-e66df5d7a6df"
      },
      "execution_count": null,
      "outputs": [
        {
          "output_type": "stream",
          "name": "stdout",
          "text": [
            "21/21 [==============================] - 0s 4ms/step - loss: 0.0589 - mae: 0.0589\n"
          ]
        },
        {
          "output_type": "execute_result",
          "data": {
            "text/plain": [
              "[0.058925870805978775, 0.058925870805978775]"
            ]
          },
          "metadata": {},
          "execution_count": 52
        }
      ]
    },
    {
      "cell_type": "code",
      "source": [
        "def make_preds(model, input_data):\n",
        "  \"\"\"\n",
        "  Uses model to make predictions on input_data.\n",
        "\n",
        "  Parameters\n",
        "  ----------\n",
        "  model: trained model \n",
        "  input_data: windowed input data (same kind of data model was trained on)\n",
        "\n",
        "  Returns model predictions on input_data.\n",
        "  \"\"\"\n",
        "  forecast = model.predict(input_data)\n",
        "  return tf.squeeze(forecast) # return 1D array of predictions"
      ],
      "metadata": {
        "id": "qlyBycIrfvgy"
      },
      "execution_count": null,
      "outputs": []
    },
    {
      "cell_type": "code",
      "source": [
        "# Make predictions using model_1 on the test dataset and view the results\n",
        "model_1_preds = make_preds(model_1, test_windows)\n",
        "len(model_1_preds), model_1_preds[:10]"
      ],
      "metadata": {
        "colab": {
          "base_uri": "https://localhost:8080/"
        },
        "id": "nu__1Gy5fzf0",
        "outputId": "199a4cc0-1cde-4a36-b8a1-05135a06c4ff"
      },
      "execution_count": null,
      "outputs": [
        {
          "output_type": "execute_result",
          "data": {
            "text/plain": [
              "(643, <tf.Tensor: shape=(10,), dtype=float32, numpy=\n",
              " array([0.00870685, 0.00929527, 0.00959711, 0.01043289, 0.01040076,\n",
              "        0.01035303, 0.01008673, 0.0097226 , 0.00946317, 0.00960992],\n",
              "       dtype=float32)>)"
            ]
          },
          "metadata": {},
          "execution_count": 54
        }
      ]
    },
    {
      "cell_type": "code",
      "source": [
        "# Evaluate preds\n",
        "model_1_results = evaluate_preds(y_true=tf.squeeze(test_labels), # reduce to right shape\n",
        "                                 y_pred=model_1_preds)\n",
        "model_1_results"
      ],
      "metadata": {
        "colab": {
          "base_uri": "https://localhost:8080/"
        },
        "id": "FhJw0aDVf2G6",
        "outputId": "242d0243-d3fd-46f3-e051-3a2eff5336c6"
      },
      "execution_count": null,
      "outputs": [
        {
          "output_type": "execute_result",
          "data": {
            "text/plain": [
              "{'mae': 0.058925882,\n",
              " 'mse': 0.006219242,\n",
              " 'rmse': 0.07886217,\n",
              " 'mape': 32.893353,\n",
              " 'mase': 6.423988}"
            ]
          },
          "metadata": {},
          "execution_count": 55
        }
      ]
    },
    {
      "cell_type": "code",
      "source": [
        "naive_results"
      ],
      "metadata": {
        "colab": {
          "base_uri": "https://localhost:8080/"
        },
        "id": "qXMaeEu4f5Wb",
        "outputId": "95c71832-68ee-49a1-8254-a70b1c0d79c1"
      },
      "execution_count": null,
      "outputs": [
        {
          "output_type": "execute_result",
          "data": {
            "text/plain": [
              "{'mae': 0.009145341,\n",
              " 'mse': 0.00040601022,\n",
              " 'rmse': 0.020149695,\n",
              " 'mape': 5.0292616,\n",
              " 'mase': 0.99845946}"
            ]
          },
          "metadata": {},
          "execution_count": 56
        }
      ]
    },
    {
      "cell_type": "code",
      "source": [
        "offset = 300\n",
        "plt.figure(figsize=(10, 7))\n",
        "# Account for the test_window offset and index into test_labels to ensure correct plotting\n",
        "plot_time_series(timesteps=X_test[-len(test_windows):], values=test_labels[:, 0], start=offset, label=\"Test_data\")\n",
        "plot_time_series(timesteps=X_test[-len(test_windows):], values=model_1_preds, start=offset, format=\"-\", label=\"model_1_preds\")"
      ],
      "metadata": {
        "colab": {
          "base_uri": "https://localhost:8080/",
          "height": 442
        },
        "id": "eRCCsWarf7bi",
        "outputId": "9daebbd5-25fe-4ba4-b87b-4d5033dd1168"
      },
      "execution_count": null,
      "outputs": [
        {
          "output_type": "display_data",
          "data": {
            "text/plain": [
              "<Figure size 720x504 with 1 Axes>"
            ],
            "image/png": "[encoded data removed]"
          },
          "metadata": {
            "needs_background": "light"
          }
        }
      ]
    },
    {
      "cell_type": "markdown",
      "source": [
        "## Model 2: Dense (window = 30, horizon = 1"
      ],
      "metadata": {
        "id": "haPyolDdgEOs"
      }
    },
    {
      "cell_type": "code",
      "source": [
        "HORIZON = 1 # predict one step at a time\n",
        "WINDOW_SIZE = 30 # use 30 timesteps in the past"
      ],
      "metadata": {
        "id": "ZOIgAJF0gFsj"
      },
      "execution_count": null,
      "outputs": []
    },
    {
      "cell_type": "code",
      "source": [
        "# Make windowed data with appropriate horizon and window sizes\n",
        "full_windows, full_labels = make_windows(prices, window_size=WINDOW_SIZE, horizon=HORIZON)\n",
        "len(full_windows), len(full_labels)"
      ],
      "metadata": {
        "colab": {
          "base_uri": "https://localhost:8080/"
        },
        "id": "8morVWlQgJMs",
        "outputId": "20e9703f-9bbe-4d7a-93bf-10e1747c53dd"
      },
      "execution_count": null,
      "outputs": [
        {
          "output_type": "execute_result",
          "data": {
            "text/plain": [
              "(3191, 3191)"
            ]
          },
          "metadata": {},
          "execution_count": 59
        }
      ]
    },
    {
      "cell_type": "code",
      "source": [
        "# Make train and testing windows\n",
        "train_windows, test_windows, train_labels, test_labels = make_train_test_splits(windows=full_windows, labels=full_labels)\n",
        "len(train_windows), len(test_windows), len(train_labels), len(test_labels)"
      ],
      "metadata": {
        "colab": {
          "base_uri": "https://localhost:8080/"
        },
        "id": "aT0JTPTegLoD",
        "outputId": "78fc1002-7193-41bb-f856-5cfe02d8ba84"
      },
      "execution_count": null,
      "outputs": [
        {
          "output_type": "execute_result",
          "data": {
            "text/plain": [
              "(2552, 639, 2552, 639)"
            ]
          },
          "metadata": {},
          "execution_count": 60
        }
      ]
    },
    {
      "cell_type": "code",
      "source": [
        "tf.random.set_seed(42)\n",
        "\n",
        "# Create model (same model as model 1 but data input will be different)\n",
        "model_2 = tf.keras.Sequential([\n",
        "  layers.Dense(128, activation=\"relu\"),\n",
        "  layers.Dense(HORIZON) # need to predict horizon number of steps into the future\n",
        "], name=\"model_2_dense\")\n",
        "\n",
        "model_2.compile(loss=\"mae\",\n",
        "                optimizer=tf.keras.optimizers.Adam())\n",
        "\n",
        "model_2.fit(train_windows,\n",
        "            train_labels,\n",
        "            epochs=100,\n",
        "            batch_size=128,\n",
        "            verbose=0,\n",
        "            validation_data=(test_windows, test_labels),\n",
        "            callbacks=[create_model_checkpoint(model_name=model_2.name)])"
      ],
      "metadata": {
        "colab": {
          "base_uri": "https://localhost:8080/"
        },
        "id": "JuQQp8OjgOp7",
        "outputId": "5be48720-2070-4fc2-deb6-570f3b887218"
      },
      "execution_count": null,
      "outputs": [
        {
          "output_type": "execute_result",
          "data": {
            "text/plain": [
              "<keras.callbacks.History at 0x7fca467e08d0>"
            ]
          },
          "metadata": {},
          "execution_count": 61
        }
      ]
    },
    {
      "cell_type": "code",
      "source": [
        "# Evaluate model 2 preds\n",
        "model_2.evaluate(test_windows, test_labels)"
      ],
      "metadata": {
        "colab": {
          "base_uri": "https://localhost:8080/"
        },
        "id": "_hQlDAuKgSqD",
        "outputId": "786b2318-9c86-4d32-a9eb-ae7a31d6e8b9"
      },
      "execution_count": null,
      "outputs": [
        {
          "output_type": "stream",
          "name": "stdout",
          "text": [
            "20/20 [==============================] - 0s 2ms/step - loss: 0.1093\n"
          ]
        },
        {
          "output_type": "execute_result",
          "data": {
            "text/plain": [
              "0.10925018042325974"
            ]
          },
          "metadata": {},
          "execution_count": 62
        }
      ]
    },
    {
      "cell_type": "code",
      "source": [
        "# Load in best performing model\n",
        "model_2 = tf.keras.models.load_model(\"model_experiments/model_2_dense/\")\n",
        "model_2.evaluate(test_windows, test_labels)"
      ],
      "metadata": {
        "id": "xwrZHXCzgVPr"
      },
      "execution_count": null,
      "outputs": []
    },
    {
      "cell_type": "code",
      "source": [
        "# Get forecast predictions\n",
        "model_2_preds = make_preds(model_2,\n",
        "                           input_data=test_windows)"
      ],
      "metadata": {
        "id": "QYQRTPffgXci"
      },
      "execution_count": null,
      "outputs": []
    },
    {
      "cell_type": "code",
      "source": [
        "# Evaluate results for model 2 predictions\n",
        "model_2_results = evaluate_preds(y_true=tf.squeeze(test_labels), # remove 1 dimension of test labels\n",
        "                                 y_pred=model_2_preds)\n",
        "model_2_results"
      ],
      "metadata": {
        "colab": {
          "base_uri": "https://localhost:8080/"
        },
        "id": "O6X7vbbdgaka",
        "outputId": "053e4193-c26c-427b-bb55-fc0cf4fbbf5e"
      },
      "execution_count": null,
      "outputs": [
        {
          "output_type": "execute_result",
          "data": {
            "text/plain": [
              "{'mae': 0.10925018,\n",
              " 'mse': 0.018033827,\n",
              " 'rmse': 0.13429008,\n",
              " 'mape': 63.76933,\n",
              " 'mase': 11.83885}"
            ]
          },
          "metadata": {},
          "execution_count": 64
        }
      ]
    },
    {
      "cell_type": "code",
      "source": [
        "offset = 300\n",
        "plt.figure(figsize=(10, 7))\n",
        "# Account for the test_window offset\n",
        "plot_time_series(timesteps=X_test[-len(test_windows):], values=test_labels[:, 0], start=offset, label=\"test_data\")\n",
        "plot_time_series(timesteps=X_test[-len(test_windows):], values=model_2_preds, start=offset, format=\"-\", label=\"model_2_preds\") "
      ],
      "metadata": {
        "colab": {
          "base_uri": "https://localhost:8080/",
          "height": 442
        },
        "id": "n_RJQWqFgdla",
        "outputId": "b86993fc-ef5b-456f-bae8-b33d7bfe3bb2"
      },
      "execution_count": null,
      "outputs": [
        {
          "output_type": "display_data",
          "data": {
            "text/plain": [
              "<Figure size 720x504 with 1 Axes>"
            ],
            "image/png": "[encoded data removed]"
          },
          "metadata": {
            "needs_background": "light"
          }
        }
      ]
    },
    {
      "cell_type": "markdown",
      "source": [
        "# Model 3: Dense (window = 30, horizon = 7)"
      ],
      "metadata": {
        "id": "0oCOgO6_gi-T"
      }
    },
    {
      "cell_type": "code",
      "source": [
        "HORIZON = 7\n",
        "WINDOW_SIZE = 30\n",
        "\n",
        "full_windows, full_labels = make_windows(prices, window_size=WINDOW_SIZE, horizon=HORIZON)\n",
        "len(full_windows), len(full_labels)"
      ],
      "metadata": {
        "colab": {
          "base_uri": "https://localhost:8080/"
        },
        "id": "v9wIuErigoTD",
        "outputId": "632f3ce2-7924-48d1-c235-b4ddf3d47d5f"
      },
      "execution_count": null,
      "outputs": [
        {
          "output_type": "execute_result",
          "data": {
            "text/plain": [
              "(3185, 3185)"
            ]
          },
          "metadata": {},
          "execution_count": 66
        }
      ]
    },
    {
      "cell_type": "code",
      "source": [
        "train_windows, test_windows, train_labels, test_labels = make_train_test_splits(windows=full_windows, labels=full_labels, test_split=0.2)\n",
        "len(train_windows), len(test_windows), len(train_labels), len(test_labels)"
      ],
      "metadata": {
        "colab": {
          "base_uri": "https://localhost:8080/"
        },
        "id": "YiO3k9CAgqkK",
        "outputId": "f7be9487-5b3c-4513-fd26-b91b62393813"
      },
      "execution_count": null,
      "outputs": [
        {
          "output_type": "execute_result",
          "data": {
            "text/plain": [
              "(2548, 637, 2548, 637)"
            ]
          },
          "metadata": {},
          "execution_count": 67
        }
      ]
    },
    {
      "cell_type": "code",
      "source": [
        "tf.random.set_seed(42)\n",
        "\n",
        "# Create model (same as model_1 except with different data input size)\n",
        "model_3 = tf.keras.Sequential([\n",
        "  layers.Dense(128, activation=\"relu\"),\n",
        "  layers.Dense(HORIZON)\n",
        "], name=\"model_3_dense\")\n",
        "\n",
        "model_3.compile(loss=\"mae\",\n",
        "                optimizer=tf.keras.optimizers.Adam())\n",
        "\n",
        "model_3.fit(train_windows,\n",
        "            train_labels,\n",
        "            batch_size=128,\n",
        "            epochs=100,\n",
        "            verbose=0,\n",
        "            validation_data=(test_windows, test_labels),\n",
        "            callbacks=[create_model_checkpoint(model_name=model_3.name)])"
      ],
      "metadata": {
        "colab": {
          "base_uri": "https://localhost:8080/"
        },
        "id": "5_QPo_WhgtyS",
        "outputId": "a5797fb6-7b7b-409e-f816-3fb47a9ae7e5"
      },
      "execution_count": null,
      "outputs": [
        {
          "output_type": "execute_result",
          "data": {
            "text/plain": [
              "<keras.callbacks.History at 0x7fca45cdfb50>"
            ]
          },
          "metadata": {},
          "execution_count": 68
        }
      ]
    },
    {
      "cell_type": "code",
      "source": [
        "# How did our model with a larger window size and horizon go?\n",
        "model_3.evaluate(test_windows, test_labels)"
      ],
      "metadata": {
        "colab": {
          "base_uri": "https://localhost:8080/"
        },
        "id": "zLx2v5A8gx7T",
        "outputId": "867a054f-d577-4a1b-fe99-4fc4d525d6ad"
      },
      "execution_count": null,
      "outputs": [
        {
          "output_type": "stream",
          "name": "stdout",
          "text": [
            "20/20 [==============================] - 0s 1ms/step - loss: 0.1204\n"
          ]
        },
        {
          "output_type": "execute_result",
          "data": {
            "text/plain": [
              "0.12036198377609253"
            ]
          },
          "metadata": {},
          "execution_count": 69
        }
      ]
    },
    {
      "cell_type": "code",
      "source": [
        "# Load in best version of model_3 and evaluate\n",
        "model_3 = tf.keras.models.load_model(\"model_experiments/model_3_dense/\")\n",
        "model_3.evaluate(test_windows, test_labels)"
      ],
      "metadata": {
        "colab": {
          "base_uri": "https://localhost:8080/"
        },
        "id": "kymuU0Fig0iT",
        "outputId": "ffc5f279-09eb-4640-9c81-aa095b22b019"
      },
      "execution_count": null,
      "outputs": [
        {
          "output_type": "stream",
          "name": "stdout",
          "text": [
            "20/20 [==============================] - 0s 1ms/step - loss: 0.0567\n"
          ]
        },
        {
          "output_type": "execute_result",
          "data": {
            "text/plain": [
              "0.05668903514742851"
            ]
          },
          "metadata": {},
          "execution_count": 70
        }
      ]
    },
    {
      "cell_type": "code",
      "source": [
        "# The predictions are going to be 7 steps at a time (this is the HORIZON size)\n",
        "model_3_preds = make_preds(model_3,\n",
        "                           input_data=test_windows)\n",
        "model_3_preds[:5]"
      ],
      "metadata": {
        "colab": {
          "base_uri": "https://localhost:8080/"
        },
        "id": "0djggAEug3ib",
        "outputId": "17d30fc2-ee2e-4215-ba9f-b2735803cee2"
      },
      "execution_count": null,
      "outputs": [
        {
          "output_type": "execute_result",
          "data": {
            "text/plain": [
              "<tf.Tensor: shape=(5, 7), dtype=float32, numpy=\n",
              "array([[0.00447318, 0.00499842, 0.00525074, 0.00587949, 0.00564435,\n",
              "        0.00406981, 0.00545056],\n",
              "       [0.00467987, 0.00501235, 0.00579947, 0.0058496 , 0.0064117 ,\n",
              "        0.00378584, 0.00515187],\n",
              "       [0.00474195, 0.00503949, 0.00629377, 0.00589282, 0.00695276,\n",
              "        0.00410565, 0.00541624],\n",
              "       [0.00491428, 0.0049609 , 0.00678331, 0.00709897, 0.00676442,\n",
              "        0.00457658, 0.00574447],\n",
              "       [0.00565444, 0.00540903, 0.0072743 , 0.00729063, 0.00748887,\n",
              "        0.00448721, 0.00610326]], dtype=float32)>"
            ]
          },
          "metadata": {},
          "execution_count": 71
        }
      ]
    },
    {
      "cell_type": "code",
      "source": [
        "# Calculate model_3 results - these are going to be multi-dimensional because\n",
        "# we're trying to predict more than one step at a time.\n",
        "model_3_results = evaluate_preds(y_true=tf.squeeze(test_labels),\n",
        "                                 y_pred=model_3_preds)\n",
        "model_3_results"
      ],
      "metadata": {
        "colab": {
          "base_uri": "https://localhost:8080/"
        },
        "id": "5IgUuv5Fg6WL",
        "outputId": "beec1aeb-6c8c-4617-ba48-76bc7e91eaa7"
      },
      "execution_count": null,
      "outputs": [
        {
          "output_type": "execute_result",
          "data": {
            "text/plain": [
              "{'mae': array([0.00447365, 0.00408597, 0.0037944 , 0.0033816 , 0.00284175,\n",
              "        0.00271379, 0.00273534, 0.00280377, 0.0030842 , 0.00300446,\n",
              "        0.00238533, 0.00162745, 0.00143268, 0.0012311 , 0.00083598,\n",
              "        0.00077364, 0.00426573, 0.01000097, 0.01233319, 0.01605499,\n",
              "        0.02035706, 0.02307954, 0.02733288, 0.02945858, 0.02890175,\n",
              "        0.03173661, 0.03476907, 0.04114523, 0.04812945, 0.05117428,\n",
              "        0.05258682, 0.05583198, 0.05736765, 0.0555326 , 0.05434089,\n",
              "        0.05136776, 0.04427153, 0.03956449, 0.03500887, 0.03023656,\n",
              "        0.02806411, 0.02454335, 0.02565536, 0.0276687 , 0.02449134,\n",
              "        0.02447792, 0.02019252, 0.01584052, 0.01631016, 0.01448591,\n",
              "        0.01268369, 0.01340418, 0.0113677 , 0.0096587 , 0.01118825,\n",
              "        0.00872461, 0.00845235, 0.0083297 , 0.00785763, 0.00994387,\n",
              "        0.0094562 , 0.01084019, 0.01341879, 0.0140735 , 0.01269086,\n",
              "        0.01303964, 0.01394339, 0.01332847, 0.01329101, 0.01511538,\n",
              "        0.01334065, 0.013702  , 0.0128003 , 0.01266951, 0.01133074,\n",
              "        0.01096167, 0.01025628, 0.01021346, 0.01136012, 0.01290468,\n",
              "        0.01183426, 0.01237601, 0.0122278 , 0.01283441, 0.0141695 ,\n",
              "        0.01520117, 0.01594438, 0.01527147, 0.01477015, 0.0168195 ,\n",
              "        0.01969079, 0.02437873, 0.03284045, 0.05005846, 0.09528553,\n",
              "        0.12876973, 0.16519554, 0.21450497, 0.24815263, 0.27396083,\n",
              "        0.28604597, 0.2689467 , 0.25370038, 0.22451328, 0.19213636,\n",
              "        0.19279273, 0.17223005, 0.16563867, 0.18629996, 0.20863388,\n",
              "        0.23378041, 0.2619076 , 0.31178182, 0.36396736, 0.37916216,\n",
              "        0.41040727, 0.42632422, 0.4413874 , 0.40493268, 0.37672323,\n",
              "        0.35363793, 0.29396397, 0.24967788, 0.23737681, 0.23381673,\n",
              "        0.22413704, 0.22171858, 0.21952854, 0.20350082, 0.16474035,\n",
              "        0.16439281, 0.14371638, 0.15577118, 0.11704145, 0.14211507,\n",
              "        0.11493824, 0.11840582, 0.14974152, 0.15110576, 0.14653389,\n",
              "        0.12836275, 0.09829193, 0.06547777, 0.08763646, 0.11014847,\n",
              "        0.10204902, 0.12442917, 0.13274764, 0.1340324 , 0.11439139,\n",
              "        0.11421149, 0.12091263, 0.11497343, 0.0903011 , 0.08727241,\n",
              "        0.07960318, 0.08945163, 0.09112479, 0.1065262 , 0.10890603,\n",
              "        0.12288757, 0.11878021, 0.11033291, 0.11194718, 0.08620121,\n",
              "        0.06839512, 0.07826751, 0.08741714, 0.07350843, 0.06728379,\n",
              "        0.07766233, 0.07676532, 0.07593898, 0.07385844, 0.07179428,\n",
              "        0.06979598, 0.07431773, 0.08368158, 0.07773723, 0.06906512,\n",
              "        0.0667463 , 0.06989796, 0.06488574, 0.0622152 , 0.06346451,\n",
              "        0.06405484, 0.06151214, 0.0641135 , 0.05973154, 0.05645325,\n",
              "        0.05856954, 0.05818579, 0.04729886, 0.04628199, 0.04589627,\n",
              "        0.04234904, 0.04118001, 0.04607403, 0.0503544 , 0.05374845,\n",
              "        0.05089883, 0.05317932, 0.05821013, 0.05780139, 0.05933636,\n",
              "        0.05438009, 0.05384928, 0.05267441, 0.05662464, 0.06929079,\n",
              "        0.07868742, 0.08874247, 0.09968209, 0.11186173, 0.11659139,\n",
              "        0.12736903, 0.13598056, 0.13653265, 0.14363055, 0.14603   ,\n",
              "        0.14595965, 0.14649044, 0.14100721, 0.13760166, 0.13281871,\n",
              "        0.13153085, 0.1320088 , 0.12195996, 0.10974801, 0.09847052,\n",
              "        0.09728865, 0.09609848, 0.09161846, 0.09809881, 0.09414721,\n",
              "        0.08920448, 0.08632897, 0.09227692, 0.1012155 , 0.10036851,\n",
              "        0.08818806, 0.08431328, 0.07696535, 0.0746522 , 0.06669696,\n",
              "        0.06298136, 0.06054346, 0.05738788, 0.05807654, 0.0567149 ,\n",
              "        0.05953947, 0.0721202 , 0.07199383, 0.0707023 , 0.06549179,\n",
              "        0.06296437, 0.05691329, 0.06216972, 0.06602795, 0.06497807,\n",
              "        0.06394509, 0.05874332, 0.05251449, 0.04383943, 0.04558762,\n",
              "        0.0465868 , 0.04569644, 0.05142348, 0.05925098, 0.06378472,\n",
              "        0.06747885, 0.07726191, 0.08067477, 0.07456218, 0.06498136,\n",
              "        0.06107318, 0.05968994, 0.05522391, 0.05616999, 0.05896959,\n",
              "        0.06345648, 0.06864952, 0.07040536, 0.07453658, 0.07994717,\n",
              "        0.08864746, 0.08713447, 0.08019499, 0.08019663, 0.08229424,\n",
              "        0.08550385, 0.08779527, 0.08936979, 0.08966251, 0.08777988,\n",
              "        0.09141861, 0.09057374, 0.08552758, 0.08051264, 0.07208519,\n",
              "        0.07614819, 0.07732335, 0.07445282, 0.07633046, 0.07741559,\n",
              "        0.07697725, 0.07237535, 0.07086713, 0.07410405, 0.07563697,\n",
              "        0.07053165, 0.07157942, 0.06459016, 0.05705494, 0.05681008,\n",
              "        0.05923129, 0.05528963, 0.05553401, 0.05848374, 0.05994975,\n",
              "        0.06379911, 0.0544366 , 0.05129205, 0.05141956, 0.0502367 ,\n",
              "        0.05605123, 0.05967033, 0.06382722, 0.06564354, 0.06514604,\n",
              "        0.05967209, 0.05409238, 0.05027946, 0.05433222, 0.05257268,\n",
              "        0.05180206, 0.04574484, 0.04196429, 0.04612378, 0.04532932,\n",
              "        0.04765477, 0.0498004 , 0.05261886, 0.04759068, 0.043369  ,\n",
              "        0.04020784, 0.03685998, 0.04067499, 0.0421298 , 0.04337924,\n",
              "        0.04960811, 0.05514708, 0.05418244, 0.0503389 , 0.04724573,\n",
              "        0.04487743, 0.0432232 , 0.043475  , 0.04606516, 0.04864928,\n",
              "        0.04755553, 0.04345075, 0.04157079, 0.03970443, 0.03889316,\n",
              "        0.03479896, 0.03166124, 0.02973202, 0.0315336 , 0.03402769,\n",
              "        0.04276517, 0.04894178, 0.05212541, 0.0516971 , 0.04995737,\n",
              "        0.04909139, 0.04693908, 0.04273125, 0.03661024, 0.03264296,\n",
              "        0.02976549, 0.03112199, 0.03231199, 0.03427033, 0.03671465,\n",
              "        0.0365001 , 0.03611917, 0.03747436, 0.03530156, 0.03257337,\n",
              "        0.03374666, 0.03009987, 0.02967883, 0.03378318, 0.03741962,\n",
              "        0.04165152, 0.04390347, 0.04130855, 0.03757683, 0.0351675 ,\n",
              "        0.03290817, 0.03535952, 0.04097155, 0.03975127, 0.03838377,\n",
              "        0.03826281, 0.03690426, 0.0355618 , 0.03683377, 0.03487179,\n",
              "        0.03149733, 0.02986239, 0.02839552, 0.02724745, 0.02798141,\n",
              "        0.03070693, 0.03220188, 0.03290202, 0.03449998, 0.03329777,\n",
              "        0.03214696, 0.0325992 , 0.03014697, 0.02787117, 0.02810115,\n",
              "        0.02820612, 0.02909078, 0.02911228, 0.02767565, 0.02628574,\n",
              "        0.02552542, 0.02441545, 0.02624564, 0.02855443, 0.02894947,\n",
              "        0.02858052, 0.02653627, 0.02722805, 0.02945038, 0.03370223,\n",
              "        0.03762342, 0.04025288, 0.04280651, 0.04358768, 0.04477141,\n",
              "        0.04459787, 0.04459449, 0.04654146, 0.04902291, 0.04842199,\n",
              "        0.04990136, 0.0499648 , 0.05137322, 0.05179459, 0.04983936,\n",
              "        0.04337131, 0.04092093, 0.04052043, 0.04098662, 0.04230491,\n",
              "        0.03792652, 0.03683192, 0.03838229, 0.03695524, 0.03796541,\n",
              "        0.03647446, 0.03702324, 0.03661479, 0.03158101, 0.03089497,\n",
              "        0.03433336, 0.03380868, 0.03437222, 0.03494795, 0.0379253 ,\n",
              "        0.03143063, 0.03266935, 0.03096352, 0.02987837, 0.03255219,\n",
              "        0.03004383, 0.03088111, 0.03446547, 0.03719879, 0.03994759,\n",
              "        0.04093362, 0.04138653, 0.04147712, 0.03309334, 0.02748102,\n",
              "        0.03214574, 0.03385041, 0.03421194, 0.03486026, 0.03177478,\n",
              "        0.03179545, 0.03086413, 0.02930758, 0.02750918, 0.02913453,\n",
              "        0.02750007, 0.0284536 , 0.02826749, 0.02497475, 0.02263881,\n",
              "        0.02184755, 0.02260768, 0.02318378, 0.02246464, 0.02186821,\n",
              "        0.02013563, 0.02033911, 0.02165048, 0.02162895, 0.0222133 ,\n",
              "        0.02250727, 0.02365285, 0.02469272, 0.02501979, 0.02170837,\n",
              "        0.02129274, 0.01752249, 0.01603262, 0.01928876, 0.01737149,\n",
              "        0.01484809, 0.01416864, 0.01374278, 0.01494808, 0.01248249,\n",
              "        0.01261778, 0.01292952, 0.0153468 , 0.01615041, 0.01716351,\n",
              "        0.01568712, 0.01544446, 0.01522153, 0.0134276 , 0.01400489,\n",
              "        0.01354211, 0.01372973, 0.0151826 , 0.01484806, 0.01655414,\n",
              "        0.01818576, 0.01845954, 0.01813206, 0.01581173, 0.01603599,\n",
              "        0.0139833 , 0.01262668, 0.01173043, 0.01188347, 0.01283354,\n",
              "        0.01422476, 0.01495056, 0.01512897, 0.01534673, 0.01730209,\n",
              "        0.01749153, 0.01589452, 0.01251275, 0.0118829 , 0.01210379,\n",
              "        0.0124108 , 0.01468105, 0.01540515, 0.01535238, 0.01521121,\n",
              "        0.01520129, 0.0149449 , 0.01566468, 0.01598869, 0.01564075,\n",
              "        0.0150121 , 0.01536059, 0.01488731, 0.015685  , 0.01816894,\n",
              "        0.02014129, 0.02260289, 0.02320961, 0.0232919 , 0.02398192,\n",
              "        0.0222426 , 0.01979621, 0.01873389, 0.01652274, 0.01444864,\n",
              "        0.01371061, 0.0146834 , 0.01615915, 0.01557701, 0.01448351,\n",
              "        0.01385632, 0.01317962, 0.01370604, 0.01339155, 0.01357468,\n",
              "        0.01319185, 0.01327913, 0.01235124, 0.01378932, 0.01429041,\n",
              "        0.01377262, 0.01193519, 0.01120838, 0.0111893 , 0.01294135,\n",
              "        0.0136465 , 0.01465712, 0.01448742, 0.01266142, 0.01187558,\n",
              "        0.01278242, 0.01325801, 0.01384974, 0.01296869, 0.01139046,\n",
              "        0.00983565, 0.01117115, 0.01230208, 0.01330271, 0.01441024,\n",
              "        0.01407896, 0.01327044, 0.01247726, 0.01293021, 0.01314966,\n",
              "        0.01206409, 0.01212941, 0.01204524, 0.01218088, 0.01314125,\n",
              "        0.01410555, 0.01514921], dtype=float32),\n",
              " 'mse': array([2.08756628e-05, 1.73665885e-05, 1.61490079e-05, 1.40458678e-05,\n",
              "        1.00566522e-05, 8.39540462e-06, 8.42026020e-06, 8.71292195e-06,\n",
              "        1.02954227e-05, 1.06031657e-05, 6.49926369e-06, 3.51509880e-06,\n",
              "        3.15607144e-06, 2.58782120e-06, 1.10423650e-06, 7.57158148e-07,\n",
              "        8.62543675e-05, 3.17125377e-04, 3.59880913e-04, 4.67358099e-04,\n",
              "        5.88914321e-04, 6.52939721e-04, 7.77392299e-04, 9.59291181e-04,\n",
              "        9.27042973e-04, 1.08070986e-03, 1.45279698e-03, 1.99952116e-03,\n",
              "        2.51200167e-03, 2.76139635e-03, 2.87892786e-03, 3.16738174e-03,\n",
              "        3.35803605e-03, 3.20834224e-03, 3.05822701e-03, 2.81987409e-03,\n",
              "        2.22612708e-03, 1.72880047e-03, 1.39199977e-03, 1.11907220e-03,\n",
              "        8.93689226e-04, 8.04741925e-04, 9.32723691e-04, 9.34274343e-04,\n",
              "        7.70050625e-04, 8.81238433e-04, 5.53812832e-04, 4.47920029e-04,\n",
              "        4.41600161e-04, 4.11711226e-04, 2.85862450e-04, 2.29940648e-04,\n",
              "        1.81788739e-04, 1.46671940e-04, 1.77731927e-04, 1.59618518e-04,\n",
              "        1.76796908e-04, 1.54797293e-04, 1.54401147e-04, 2.24975389e-04,\n",
              "        2.24449977e-04, 2.25284180e-04, 2.50966870e-04, 2.78217980e-04,\n",
              "        2.70140445e-04, 2.57572596e-04, 2.79906584e-04, 2.83457979e-04,\n",
              "        2.60291999e-04, 3.00460815e-04, 2.57471751e-04, 3.00094864e-04,\n",
              "        2.74560531e-04, 2.57530046e-04, 2.29776007e-04, 1.81266296e-04,\n",
              "        1.62470635e-04, 1.66592610e-04, 2.26225617e-04, 2.51975551e-04,\n",
              "        2.28359495e-04, 2.44560215e-04, 2.47131742e-04, 3.03264940e-04,\n",
              "        3.04947054e-04, 3.22115899e-04, 3.48363217e-04, 3.38363665e-04,\n",
              "        3.50659422e-04, 3.52222385e-04, 4.55547095e-04, 6.80117460e-04,\n",
              "        1.28943229e-03, 3.67053761e-03, 1.85515303e-02, 2.71789078e-02,\n",
              "        3.87170352e-02, 5.85334040e-02, 7.10346624e-02, 7.91734979e-02,\n",
              "        8.44990686e-02, 7.93350935e-02, 6.95410520e-02, 5.87106571e-02,\n",
              "        4.15524431e-02, 4.18260880e-02, 3.33776698e-02, 2.98353396e-02,\n",
              "        3.68793793e-02, 4.58295308e-02, 5.97458072e-02, 7.27144703e-02,\n",
              "        1.02617912e-01, 1.45193934e-01, 1.51998207e-01, 1.79224640e-01,\n",
              "        1.85866624e-01, 2.06953302e-01, 1.78828359e-01, 1.66929871e-01,\n",
              "        1.55223608e-01, 1.14737809e-01, 8.05050507e-02, 7.74548501e-02,\n",
              "        6.12424202e-02, 6.05920218e-02, 6.51460737e-02, 6.72629923e-02,\n",
              "        6.55391291e-02, 5.55483736e-02, 5.28361276e-02, 3.44092399e-02,\n",
              "        3.52428630e-02, 2.17908230e-02, 2.41624396e-02, 1.84694231e-02,\n",
              "        2.07755920e-02, 2.85441764e-02, 2.87153888e-02, 2.75829583e-02,\n",
              "        2.20015515e-02, 1.50670037e-02, 8.62843357e-03, 1.12416288e-02,\n",
              "        1.69278719e-02, 2.09858697e-02, 2.46510766e-02, 2.55070496e-02,\n",
              "        2.59901043e-02, 2.08019577e-02, 2.08929516e-02, 1.94827802e-02,\n",
              "        1.88217200e-02, 1.22570228e-02, 1.06690526e-02, 9.89771169e-03,\n",
              "        1.21284295e-02, 1.44459056e-02, 1.54498452e-02, 1.59166344e-02,\n",
              "        1.96333434e-02, 1.99860614e-02, 1.53980060e-02, 1.42538492e-02,\n",
              "        8.55153892e-03, 6.78727496e-03, 8.10401887e-03, 9.42041818e-03,\n",
              "        7.93955661e-03, 7.10214814e-03, 9.67297144e-03, 9.97185428e-03,\n",
              "        9.61350556e-03, 8.72171950e-03, 8.28952435e-03, 8.41215160e-03,\n",
              "        8.79086554e-03, 1.01180030e-02, 8.50306172e-03, 7.68283708e-03,\n",
              "        7.44589651e-03, 6.49968255e-03, 6.35140343e-03, 5.81926014e-03,\n",
              "        6.52681803e-03, 6.65971730e-03, 5.66417351e-03, 5.82594005e-03,\n",
              "        5.23603195e-03, 5.10812504e-03, 4.94785281e-03, 4.33183229e-03,\n",
              "        3.83602944e-03, 3.16667603e-03, 3.60998558e-03, 3.21291806e-03,\n",
              "        3.59102641e-03, 4.05843882e-03, 4.50312393e-03, 4.74305823e-03,\n",
              "        4.18495899e-03, 4.64866683e-03, 5.01270499e-03, 4.76775225e-03,\n",
              "        5.23544522e-03, 4.74656094e-03, 4.57976433e-03, 4.13906900e-03,\n",
              "        4.58054198e-03, 6.04742765e-03, 7.29832798e-03, 1.00590130e-02,\n",
              "        1.18664633e-02, 1.40849864e-02, 1.52711375e-02, 1.78602189e-02,\n",
              "        1.95629150e-02, 2.05401909e-02, 2.28234027e-02, 2.46461816e-02,\n",
              "        2.41105687e-02, 2.36521251e-02, 2.23277118e-02, 2.19697468e-02,\n",
              "        2.17188112e-02, 2.17809789e-02, 2.24778447e-02, 1.98729169e-02,\n",
              "        1.60204265e-02, 1.41839786e-02, 1.36633767e-02, 1.46609461e-02,\n",
              "        1.35192601e-02, 1.43145425e-02, 1.30155999e-02, 1.21565387e-02,\n",
              "        1.20075354e-02, 1.35658756e-02, 1.57487635e-02, 1.59318261e-02,\n",
              "        1.38700148e-02, 1.27055617e-02, 9.37345717e-03, 7.95735978e-03,\n",
              "        7.04383943e-03, 6.35070074e-03, 5.84606733e-03, 5.96779259e-03,\n",
              "        5.81684988e-03, 5.64397406e-03, 6.61407039e-03, 8.05248227e-03,\n",
              "        8.04818515e-03, 7.85666984e-03, 6.81818370e-03, 6.02966920e-03,\n",
              "        5.16701583e-03, 5.98587235e-03, 6.81898696e-03, 6.16247719e-03,\n",
              "        5.79605578e-03, 5.40118758e-03, 4.37422562e-03, 3.66356177e-03,\n",
              "        3.67999752e-03, 4.07830765e-03, 4.60057007e-03, 4.92509222e-03,\n",
              "        5.49343880e-03, 6.74933614e-03, 7.43149826e-03, 8.73512868e-03,\n",
              "        9.35180299e-03, 8.54921900e-03, 7.33035896e-03, 6.10376615e-03,\n",
              "        5.86438086e-03, 5.47962729e-03, 5.67697221e-03, 5.99687546e-03,\n",
              "        6.52861688e-03, 7.20183458e-03, 7.46186823e-03, 8.49169586e-03,\n",
              "        9.52609070e-03, 1.07899010e-02, 9.93089285e-03, 8.88577104e-03,\n",
              "        9.25230235e-03, 1.03426436e-02, 1.03392163e-02, 1.07240016e-02,\n",
              "        1.01760374e-02, 1.22582791e-02, 1.21603096e-02, 1.20120812e-02,\n",
              "        1.23513918e-02, 1.16930455e-02, 1.06623936e-02, 8.74035526e-03,\n",
              "        9.32954345e-03, 9.25214868e-03, 8.85780342e-03, 9.43001080e-03,\n",
              "        1.04833478e-02, 1.06722564e-02, 8.78442638e-03, 9.16339550e-03,\n",
              "        9.72440001e-03, 9.03715659e-03, 8.21165275e-03, 8.11136328e-03,\n",
              "        7.02365721e-03, 6.23490149e-03, 5.18316124e-03, 5.79030393e-03,\n",
              "        5.78651857e-03, 5.47589641e-03, 5.55935269e-03, 5.91914775e-03,\n",
              "        5.88782132e-03, 5.07023139e-03, 4.41183941e-03, 4.41022450e-03,\n",
              "        4.65143891e-03, 5.11174649e-03, 5.69838239e-03, 6.20487239e-03,\n",
              "        6.21678680e-03, 5.84451435e-03, 4.67187120e-03, 4.10184497e-03,\n",
              "        4.17565228e-03, 4.32413165e-03, 4.18294501e-03, 4.22822731e-03,\n",
              "        3.37586808e-03, 2.84204329e-03, 3.24437162e-03, 3.12609808e-03,\n",
              "        4.04903153e-03, 4.10730345e-03, 3.80215817e-03, 3.30501352e-03,\n",
              "        2.93473201e-03, 2.60536186e-03, 2.35984637e-03, 2.62194453e-03,\n",
              "        2.89007113e-03, 3.10782180e-03, 3.61701311e-03, 4.29764623e-03,\n",
              "        4.69059078e-03, 4.21131821e-03, 3.75585002e-03, 3.20691569e-03,\n",
              "        2.91072158e-03, 2.75998400e-03, 2.84380512e-03, 3.24017415e-03,\n",
              "        3.34815332e-03, 2.99859094e-03, 2.77456013e-03, 2.70488136e-03,\n",
              "        2.53188424e-03, 2.13499763e-03, 1.91270339e-03, 1.72365934e-03,\n",
              "        1.90113962e-03, 2.30200356e-03, 3.04463156e-03, 4.01100470e-03,\n",
              "        4.38960502e-03, 4.27133357e-03, 3.74869071e-03, 3.53224971e-03,\n",
              "        3.02450429e-03, 2.56986753e-03, 1.96129037e-03, 1.44039036e-03,\n",
              "        1.54040777e-03, 1.55089586e-03, 1.76642451e-03, 1.99821219e-03,\n",
              "        2.12200126e-03, 2.18517706e-03, 2.13291915e-03, 2.07071425e-03,\n",
              "        1.91108056e-03, 1.79062912e-03, 1.72239111e-03, 1.49583479e-03,\n",
              "        1.67811918e-03, 1.84253359e-03, 2.31000269e-03, 2.90667126e-03,\n",
              "        3.16939875e-03, 3.12491320e-03, 2.64908816e-03, 2.29613599e-03,\n",
              "        2.02712370e-03, 2.02730740e-03, 2.25624489e-03, 2.28838692e-03,\n",
              "        2.26758118e-03, 2.02892441e-03, 1.94072723e-03, 2.03304971e-03,\n",
              "        2.06542062e-03, 1.79457024e-03, 1.66354328e-03, 1.58823212e-03,\n",
              "        1.29826448e-03, 1.26847450e-03, 1.41332031e-03, 1.46601349e-03,\n",
              "        1.66997605e-03, 1.82374171e-03, 1.82997470e-03, 1.76726119e-03,\n",
              "        1.52377319e-03, 1.53947843e-03, 1.43312500e-03, 1.24947808e-03,\n",
              "        1.17858197e-03, 1.33152783e-03, 1.31303701e-03, 1.22218742e-03,\n",
              "        1.19557523e-03, 1.08268356e-03, 1.08754239e-03, 1.02830690e-03,\n",
              "        1.14060880e-03, 1.21694361e-03, 1.22076285e-03, 1.34221849e-03,\n",
              "        1.30229816e-03, 1.30206603e-03, 1.47864246e-03, 1.78167061e-03,\n",
              "        2.09826417e-03, 2.20228732e-03, 2.45353905e-03, 2.74261390e-03,\n",
              "        2.85075302e-03, 2.84935720e-03, 2.79749976e-03, 2.83330842e-03,\n",
              "        2.89123063e-03, 2.90744798e-03, 3.22854565e-03, 3.39035923e-03,\n",
              "        3.99552286e-03, 3.73923103e-03, 3.62841343e-03, 2.89705163e-03,\n",
              "        2.70098797e-03, 2.60723196e-03, 2.48737750e-03, 2.64427788e-03,\n",
              "        2.39046593e-03, 2.41098041e-03, 2.50107399e-03, 2.58504786e-03,\n",
              "        2.58076633e-03, 2.36721151e-03, 2.50531477e-03, 2.30372767e-03,\n",
              "        1.83228811e-03, 1.71699631e-03, 1.81762630e-03, 1.87483861e-03,\n",
              "        2.25095893e-03, 2.06445972e-03, 2.20153551e-03, 1.82387710e-03,\n",
              "        1.87663583e-03, 1.50858716e-03, 1.53144158e-03, 1.65245100e-03,\n",
              "        1.49319298e-03, 1.69041753e-03, 1.76366104e-03, 1.93089282e-03,\n",
              "        2.19089282e-03, 2.33576028e-03, 2.17733858e-03, 1.95057574e-03,\n",
              "        1.36111467e-03, 1.15347269e-03, 1.37997046e-03, 1.49608753e-03,\n",
              "        1.55992364e-03, 1.48669421e-03, 1.38706132e-03, 1.25056109e-03,\n",
              "        1.30599516e-03, 1.26173033e-03, 1.15993433e-03, 1.27742253e-03,\n",
              "        1.09498505e-03, 1.15354348e-03, 1.07663940e-03, 8.97504040e-04,\n",
              "        8.02914321e-04, 7.81661540e-04, 8.05855612e-04, 8.02338647e-04,\n",
              "        7.50103965e-04, 7.01459649e-04, 6.36703451e-04, 6.30046648e-04,\n",
              "        6.35231554e-04, 6.12512580e-04, 6.64194056e-04, 6.73044357e-04,\n",
              "        7.42098375e-04, 8.20039189e-04, 8.02696508e-04, 5.95630438e-04,\n",
              "        5.17831999e-04, 4.09223372e-04, 4.27533698e-04, 4.71246109e-04,\n",
              "        3.73940129e-04, 2.85279006e-04, 2.57372856e-04, 2.96401064e-04,\n",
              "        2.98399071e-04, 2.97018618e-04, 2.78546504e-04, 2.69774289e-04,\n",
              "        3.41120438e-04, 3.63660802e-04, 4.24213940e-04, 3.83698847e-04,\n",
              "        3.32649593e-04, 3.56050848e-04, 2.91256030e-04, 2.97534658e-04,\n",
              "        2.75448081e-04, 3.27125512e-04, 4.07470681e-04, 3.76926822e-04,\n",
              "        4.19892633e-04, 4.70824394e-04, 4.80380171e-04, 4.72262764e-04,\n",
              "        3.83423176e-04, 3.73124436e-04, 2.62459362e-04, 2.46569427e-04,\n",
              "        2.33393352e-04, 2.61010806e-04, 3.16390506e-04, 3.26435606e-04,\n",
              "        3.93090217e-04, 4.15190414e-04, 4.37291426e-04, 4.84673947e-04,\n",
              "        4.63702308e-04, 4.27784427e-04, 3.30895826e-04, 2.51005957e-04,\n",
              "        2.25179901e-04, 2.70532968e-04, 3.49883980e-04, 3.79253383e-04,\n",
              "        4.10712615e-04, 4.14429698e-04, 4.10294451e-04, 3.80499463e-04,\n",
              "        3.83104489e-04, 4.09122469e-04, 4.01162455e-04, 3.80796846e-04,\n",
              "        3.80243902e-04, 3.86300439e-04, 4.01855214e-04, 4.59270697e-04,\n",
              "        5.32761100e-04, 6.18713966e-04, 6.54414413e-04, 7.42113800e-04,\n",
              "        7.98109337e-04, 8.44494847e-04, 7.51388143e-04, 6.39194623e-04,\n",
              "        4.60220064e-04, 3.56950361e-04, 3.20070918e-04, 3.23999964e-04,\n",
              "        3.60912032e-04, 3.85961670e-04, 3.75637494e-04, 3.16434831e-04,\n",
              "        2.98450526e-04, 3.07782611e-04, 2.97797407e-04, 2.79862259e-04,\n",
              "        2.60902918e-04, 2.61221547e-04, 2.48458091e-04, 2.83661298e-04,\n",
              "        3.01686669e-04, 3.08563234e-04, 2.19214009e-04, 2.10843238e-04,\n",
              "        2.15322856e-04, 2.68492004e-04, 2.90021388e-04, 3.04762216e-04,\n",
              "        3.18727863e-04, 2.39164292e-04, 2.26930177e-04, 2.27775745e-04,\n",
              "        2.50500889e-04, 2.60336848e-04, 2.26159100e-04, 2.00665061e-04,\n",
              "        1.83397860e-04, 1.90758408e-04, 2.24410673e-04, 2.83472502e-04,\n",
              "        3.21752479e-04, 2.99587089e-04, 2.75172730e-04, 2.54847924e-04,\n",
              "        2.48728116e-04, 2.58011860e-04, 2.55134335e-04, 2.68834119e-04,\n",
              "        2.37600107e-04, 2.40249137e-04, 3.09380994e-04, 3.37004865e-04,\n",
              "        3.67355591e-04], dtype=float32),\n",
              " 'rmse': array([0.00456899, 0.00416732, 0.00401858, 0.00374778, 0.00317122,\n",
              "        0.00289748, 0.00290177, 0.00295177, 0.00320865, 0.00325625,\n",
              "        0.00254937, 0.00187486, 0.00177653, 0.00160867, 0.00105083,\n",
              "        0.00087015, 0.00928732, 0.01780801, 0.01897053, 0.02161847,\n",
              "        0.02426756, 0.02555269, 0.02788176, 0.03097243, 0.03044738,\n",
              "        0.03287415, 0.03811557, 0.04471601, 0.05011987, 0.05254899,\n",
              "        0.05365564, 0.0562795 , 0.05794856, 0.05664223, 0.05530124,\n",
              "        0.05310249, 0.04718185, 0.04157885, 0.03730951, 0.03345254,\n",
              "        0.02989464, 0.02836798, 0.03054053, 0.0305659 , 0.02774979,\n",
              "        0.02968566, 0.02353323, 0.02116412, 0.02101429, 0.02029067,\n",
              "        0.01690747, 0.01516379, 0.01348291, 0.01211082, 0.01333161,\n",
              "        0.01263402, 0.0132965 , 0.01244176, 0.01242583, 0.01499918,\n",
              "        0.01498165, 0.01500947, 0.01584193, 0.01667987, 0.01643595,\n",
              "        0.01604907, 0.01673041, 0.01683621, 0.01613357, 0.01733381,\n",
              "        0.01604593, 0.01732325, 0.01656987, 0.01604774, 0.01515837,\n",
              "        0.01346352, 0.0127464 , 0.01290707, 0.0150408 , 0.01587374,\n",
              "        0.01511157, 0.01563842, 0.01572043, 0.0174145 , 0.01746273,\n",
              "        0.01794759, 0.01866449, 0.01839467, 0.0187259 , 0.01876759,\n",
              "        0.02134355, 0.02607906, 0.03590867, 0.06058496, 0.136204  ,\n",
              "        0.16486026, 0.19676645, 0.24193677, 0.26652327, 0.28137785,\n",
              "        0.29068723, 0.28166485, 0.2637064 , 0.24230282, 0.20384416,\n",
              "        0.20451428, 0.18269557, 0.17272909, 0.19204004, 0.21407832,\n",
              "        0.24442953, 0.2696562 , 0.3203403 , 0.3810432 , 0.38986945,\n",
              "        0.42334932, 0.4311225 , 0.4549212 , 0.422881  , 0.40857053,\n",
              "        0.3939843 , 0.33872968, 0.2837341 , 0.2783071 , 0.24747206,\n",
              "        0.24615449, 0.25523728, 0.25935107, 0.2560061 , 0.235687  ,\n",
              "        0.22986111, 0.18549728, 0.18773082, 0.14761715, 0.15544273,\n",
              "        0.13590226, 0.14413741, 0.16895021, 0.16945615, 0.16608118,\n",
              "        0.1483292 , 0.12274772, 0.09288936, 0.10602655, 0.13010715,\n",
              "        0.14486499, 0.1570066 , 0.15970927, 0.16121447, 0.14422885,\n",
              "        0.14454395, 0.13958073, 0.13719228, 0.11071145, 0.1032911 ,\n",
              "        0.09948724, 0.11012915, 0.12019111, 0.12429741, 0.12616113,\n",
              "        0.14011903, 0.14137207, 0.1240887 , 0.11938947, 0.09247453,\n",
              "        0.08238491, 0.09002233, 0.09705883, 0.08910418, 0.08427425,\n",
              "        0.09835126, 0.09985916, 0.09804849, 0.09339014, 0.09104683,\n",
              "        0.09171779, 0.09375962, 0.10058828, 0.09221204, 0.0876518 ,\n",
              "        0.08628961, 0.08062061, 0.07969569, 0.07628408, 0.08078872,\n",
              "        0.08160709, 0.07526071, 0.07632785, 0.07236043, 0.07147115,\n",
              "        0.07034097, 0.06581666, 0.06193569, 0.05627322, 0.06008316,\n",
              "        0.05668261, 0.05992518, 0.06370588, 0.06710532, 0.06886987,\n",
              "        0.06469126, 0.06818113, 0.07080045, 0.06904891, 0.07235638,\n",
              "        0.0688953 , 0.06767396, 0.06433559, 0.0676797 , 0.07776521,\n",
              "        0.08543025, 0.10029463, 0.1089333 , 0.11868019, 0.12357645,\n",
              "        0.13364214, 0.13986748, 0.14331849, 0.15107416, 0.15699102,\n",
              "        0.15527578, 0.15379247, 0.1494246 , 0.14822195, 0.14737302,\n",
              "        0.1475838 , 0.14992613, 0.14097133, 0.12657182, 0.11909652,\n",
              "        0.11689044, 0.12108239, 0.11627235, 0.1196434 , 0.11408594,\n",
              "        0.11025669, 0.10957889, 0.11647264, 0.12549406, 0.12622134,\n",
              "        0.11777102, 0.11271894, 0.09681661, 0.08920403, 0.08392759,\n",
              "        0.07969128, 0.07645958, 0.07725149, 0.07626828, 0.07512639,\n",
              "        0.08132693, 0.08973563, 0.08971168, 0.08863785, 0.08257229,\n",
              "        0.07765094, 0.07188196, 0.07736842, 0.08257715, 0.07850144,\n",
              "        0.07613183, 0.07349277, 0.06613792, 0.06052737, 0.06066298,\n",
              "        0.06386163, 0.0678275 , 0.070179  , 0.07411773, 0.08215435,\n",
              "        0.08620613, 0.09346191, 0.09670473, 0.09246199, 0.08561752,\n",
              "        0.07812661, 0.07657925, 0.07402451, 0.07534568, 0.07743949,\n",
              "        0.08079986, 0.08486362, 0.08638211, 0.0921504 , 0.0976017 ,\n",
              "        0.10387446, 0.09965386, 0.09426437, 0.09618889, 0.10169879,\n",
              "        0.10168193, 0.10355675, 0.10087635, 0.11071711, 0.11027379,\n",
              "        0.10959964, 0.1111368 , 0.10813439, 0.10325887, 0.09348986,\n",
              "        0.09658955, 0.09618809, 0.09411589, 0.09710824, 0.10238822,\n",
              "        0.10330661, 0.09372527, 0.09572562, 0.09861238, 0.09506396,\n",
              "        0.09061817, 0.0900631 , 0.08380727, 0.07896139, 0.07199418,\n",
              "        0.07609405, 0.07606916, 0.0739993 , 0.07456107, 0.076936  ,\n",
              "        0.07673214, 0.07120556, 0.06642168, 0.06640952, 0.06820146,\n",
              "        0.07149647, 0.07548764, 0.07877101, 0.0788466 , 0.07644942,\n",
              "        0.06835108, 0.06404565, 0.06461928, 0.06575813, 0.06467569,\n",
              "        0.06502482, 0.05810222, 0.05331081, 0.05695938, 0.05591152,\n",
              "        0.063632  , 0.06408825, 0.06166164, 0.05748925, 0.05417317,\n",
              "        0.05104275, 0.04857825, 0.05120493, 0.05375938, 0.05574784,\n",
              "        0.06014161, 0.06555644, 0.06848789, 0.06489467, 0.06128499,\n",
              "        0.05662964, 0.0539511 , 0.05253554, 0.05332734, 0.05692252,\n",
              "        0.05786322, 0.05475938, 0.0526741 , 0.05200847, 0.05031784,\n",
              "        0.04620603, 0.04373446, 0.04151698, 0.04360206, 0.04797919,\n",
              "        0.05517818, 0.06333249, 0.06625409, 0.06535544, 0.06122655,\n",
              "        0.05943273, 0.0549955 , 0.05069386, 0.04428646, 0.03795248,\n",
              "        0.03924803, 0.03938141, 0.04202886, 0.04470136, 0.04606519,\n",
              "        0.04674588, 0.04618354, 0.0455051 , 0.04371591, 0.04231583,\n",
              "        0.0415017 , 0.03867603, 0.04096485, 0.04292474, 0.04806249,\n",
              "        0.05391356, 0.05629741, 0.05590092, 0.05146929, 0.04791801,\n",
              "        0.04502359, 0.04502563, 0.04749995, 0.04783709, 0.04761913,\n",
              "        0.04504358, 0.04405368, 0.04508935, 0.0454469 , 0.04236237,\n",
              "        0.04078656, 0.03985263, 0.03603144, 0.03561565, 0.03759415,\n",
              "        0.03828856, 0.04086534, 0.04270529, 0.0427782 , 0.04203881,\n",
              "        0.03903554, 0.03923619, 0.03785663, 0.03534796, 0.03433048,\n",
              "        0.03649011, 0.03623585, 0.0349598 , 0.03457709, 0.03290416,\n",
              "        0.03297791, 0.03206722, 0.0337729 , 0.03488472, 0.03493942,\n",
              "        0.0366363 , 0.03608737, 0.03608415, 0.03845312, 0.04220984,\n",
              "        0.04580681, 0.04692854, 0.04953321, 0.05236997, 0.05339244,\n",
              "        0.05337937, 0.0528914 , 0.05322883, 0.05377016, 0.05392076,\n",
              "        0.05682029, 0.05822679, 0.06321015, 0.06114925, 0.06023632,\n",
              "        0.05382426, 0.05197103, 0.05106106, 0.04987362, 0.05142254,\n",
              "        0.04889239, 0.04910174, 0.05001074, 0.05084337, 0.05080124,\n",
              "        0.048654  , 0.05005312, 0.04799716, 0.04280523, 0.04143666,\n",
              "        0.04263363, 0.04329941, 0.04744427, 0.04543633, 0.04692052,\n",
              "        0.04270687, 0.04332016, 0.03884054, 0.03913364, 0.04065035,\n",
              "        0.03864186, 0.04111469, 0.04199596, 0.04394193, 0.04680698,\n",
              "        0.04832971, 0.04666196, 0.04416532, 0.03689329, 0.03396281,\n",
              "        0.03714795, 0.03867929, 0.03949587, 0.03855767, 0.03724327,\n",
              "        0.03536328, 0.03613856, 0.03552084, 0.03405781, 0.03574105,\n",
              "        0.03309056, 0.03396386, 0.03281218, 0.02995837, 0.02833574,\n",
              "        0.02795821, 0.02838759, 0.02832558, 0.02738803, 0.02648508,\n",
              "        0.02523298, 0.02510073, 0.0252038 , 0.02474899, 0.02577196,\n",
              "        0.0259431 , 0.02724148, 0.02863633, 0.0283319 , 0.02440554,\n",
              "        0.02275592, 0.02022927, 0.02067689, 0.02170821, 0.01933753,\n",
              "        0.0168902 , 0.01604285, 0.0172163 , 0.01727423, 0.01723423,\n",
              "        0.01668971, 0.01642481, 0.01846945, 0.01906989, 0.02059645,\n",
              "        0.01958823, 0.01823868, 0.01886931, 0.01706622, 0.01724919,\n",
              "        0.01659663, 0.01808661, 0.0201859 , 0.0194146 , 0.02049128,\n",
              "        0.02169849, 0.02191758, 0.02173161, 0.01958119, 0.01931643,\n",
              "        0.0162006 , 0.01570253, 0.01527722, 0.01615583, 0.01778737,\n",
              "        0.01806753, 0.0198265 , 0.02037622, 0.02091151, 0.02201531,\n",
              "        0.02153375, 0.02068295, 0.01819054, 0.01584317, 0.015006  ,\n",
              "        0.01644789, 0.01870519, 0.01947443, 0.02026604, 0.02035755,\n",
              "        0.02025573, 0.0195064 , 0.01957306, 0.02022677, 0.02002904,\n",
              "        0.01951402, 0.01949984, 0.01965453, 0.02004633, 0.0214306 ,\n",
              "        0.02308162, 0.02487396, 0.02558153, 0.02724176, 0.02825083,\n",
              "        0.02906019, 0.02741146, 0.0252823 , 0.02145274, 0.01889313,\n",
              "        0.01789053, 0.018     , 0.01899768, 0.01964591, 0.01938137,\n",
              "        0.01778862, 0.01727572, 0.01754373, 0.01725681, 0.01672908,\n",
              "        0.01615249, 0.01616235, 0.01576255, 0.01684225, 0.01736913,\n",
              "        0.01756597, 0.01480588, 0.01452044, 0.01467388, 0.01638572,\n",
              "        0.01703001, 0.01745744, 0.01785295, 0.01546494, 0.0150642 ,\n",
              "        0.01509224, 0.01582722, 0.01613495, 0.01503859, 0.01416563,\n",
              "        0.01354245, 0.01381153, 0.01498034, 0.01683664, 0.01793746,\n",
              "        0.01730858, 0.01658833, 0.01596395, 0.01577112, 0.01606275,\n",
              "        0.01597292, 0.01639616, 0.01541428, 0.01549997, 0.01758923,\n",
              "        0.01835769, 0.01916652], dtype=float32),\n",
              " 'mape': array([46.347603, 43.773537, 40.209312, 35.59959 , 30.6506  , 30.337038,\n",
              "        30.356651, 30.547699, 33.288177, 33.03609 , 26.718946, 18.219538,\n",
              "        15.930356, 13.933882,  9.767309,  9.316364, 20.068523, 32.29098 ,\n",
              "        38.1555  , 45.11239 , 59.39878 , 64.760544, 75.518036, 74.10803 ,\n",
              "        73.25535 , 73.67505 , 68.48396 , 72.440926, 78.410736, 76.5839  ,\n",
              "        75.52332 , 76.47102 , 76.223885, 75.22655 , 75.95371 , 73.89735 ,\n",
              "        66.15025 , 61.623035, 56.48114 , 50.70378 , 50.219856, 44.232796,\n",
              "        46.951946, 49.935825, 45.44637 , 44.701294, 38.86191 , 30.143093,\n",
              "        31.56237 , 28.065437, 25.238562, 26.76312 , 22.676302, 19.118332,\n",
              "        22.002832, 17.118362, 16.639719, 16.081665, 14.628889, 17.144535,\n",
              "        16.279257, 18.912373, 23.556538, 24.585897, 21.574604, 22.097353,\n",
              "        23.799772, 22.940508, 22.912493, 26.072683, 23.030346, 23.737385,\n",
              "        22.417812, 22.628736, 20.657494, 20.518038, 19.45325 , 19.143763,\n",
              "        20.884405, 23.36513 , 21.32095 , 22.040295, 21.553846, 21.83719 ,\n",
              "        23.767921, 25.498814, 26.653025, 24.933622, 23.412117, 26.117247,\n",
              "        29.923037, 34.316914, 40.074585, 47.115334, 56.77145 , 65.38332 ,\n",
              "        71.002144, 77.46906 , 81.40595 , 84.19371 , 85.152916, 83.68993 ,\n",
              "        80.06702 , 72.57754 , 68.190735, 70.31184 , 62.707603, 59.47558 ,\n",
              "        63.627773, 67.52259 , 70.51794 , 74.51097 , 80.31947 , 83.26207 ,\n",
              "        80.04352 , 78.22604 , 77.10972 , 74.742615, 67.70072 , 62.576588,\n",
              "        61.301846, 52.059372, 47.57845 , 45.893612, 48.83294 , 44.746254,\n",
              "        43.523552, 42.592907, 39.62216 , 33.301178, 34.706192, 36.513214,\n",
              "        40.769627, 32.449905, 40.34892 , 34.071877, 35.721046, 45.581326,\n",
              "        46.587147, 45.43726 , 40.261196, 30.778885, 20.024147, 25.334545,\n",
              "        29.955084, 25.7245  , 32.521072, 36.106934, 37.070606, 32.43944 ,\n",
              "        34.2343  , 37.05488 , 34.832268, 27.421717, 26.94648 , 25.218126,\n",
              "        28.217953, 28.94614 , 34.331398, 35.86679 , 47.689743, 51.833473,\n",
              "        47.16906 , 46.6947  , 36.663517, 29.693083, 33.927074, 35.643646,\n",
              "        29.017237, 26.9826  , 30.54249 , 30.15447 , 29.766672, 29.341537,\n",
              "        29.322048, 29.146147, 31.323317, 36.649357, 34.798355, 31.157055,\n",
              "        30.400547, 32.85705 , 30.91982 , 30.312702, 31.679258, 33.00207 ,\n",
              "        32.44877 , 33.836357, 32.768684, 32.103817, 32.394505, 31.44011 ,\n",
              "        25.628944, 25.165298, 24.304728, 21.816658, 21.010893, 23.170958,\n",
              "        25.01466 , 26.26886 , 24.714003, 25.62336 , 28.011269, 27.947992,\n",
              "        28.541166, 26.289501, 26.284712, 25.669697, 27.229488, 32.085316,\n",
              "        34.933395, 36.73994 , 39.96791 , 43.253353, 44.259445, 45.92669 ,\n",
              "        47.761944, 46.446564, 47.89609 , 46.90662 , 46.251995, 46.28796 ,\n",
              "        45.130833, 43.912617, 41.994995, 41.748722, 42.364883, 39.727898,\n",
              "        36.82472 , 33.440254, 34.320156, 33.62851 , 32.291485, 34.455086,\n",
              "        33.41476 , 31.604734, 29.788939, 31.2601  , 34.149048, 33.772156,\n",
              "        29.524687, 28.806892, 28.340324, 28.825432, 26.781925, 25.896534,\n",
              "        24.955942, 23.295485, 24.005207, 23.575691, 24.60583 , 30.763699,\n",
              "        31.815046, 30.964016, 28.408304, 28.783972, 27.326473, 29.245647,\n",
              "        31.013426, 31.285412, 31.260162, 28.869053, 25.53058 , 21.233147,\n",
              "        22.106482, 22.102915, 20.781555, 22.921331, 25.8625  , 26.735857,\n",
              "        27.402613, 31.164799, 32.75885 , 30.574247, 26.940006, 25.940578,\n",
              "        25.629688, 24.085789, 24.304928, 25.368122, 27.00938 , 28.868622,\n",
              "        29.305672, 30.54932 , 32.556362, 35.450302, 34.781536, 31.810995,\n",
              "        31.667093, 31.17059 , 32.07293 , 32.69538 , 33.957283, 32.57108 ,\n",
              "        31.314152, 32.70998 , 32.765244, 31.377428, 29.571363, 26.817688,\n",
              "        28.613773, 29.204256, 28.055923, 28.564707, 28.520563, 28.34427 ,\n",
              "        27.269989, 27.09355 , 28.650925, 29.307396, 27.7845  , 28.471693,\n",
              "        26.347193, 23.952389, 25.044653, 25.84196 , 24.146915, 24.525654,\n",
              "        26.707993, 27.657171, 29.765902, 25.07018 , 24.302494, 24.721489,\n",
              "        24.188782, 26.764736, 29.535835, 33.00753 , 34.408146, 34.527065,\n",
              "        32.68609 , 30.773067, 29.228231, 31.685915, 30.409504, 30.837578,\n",
              "        27.2733  , 24.221218, 26.712318, 26.898537, 26.983505, 27.839924,\n",
              "        30.205748, 27.813404, 25.303808, 23.324541, 21.309904, 23.368996,\n",
              "        23.828299, 23.761852, 26.815516, 29.687637, 29.060665, 27.220758,\n",
              "        26.46875 , 25.871262, 25.25455 , 25.420729, 27.102978, 28.64799 ,\n",
              "        28.221905, 26.27798 , 25.854364, 25.307533, 25.159744, 22.571266,\n",
              "        20.729359, 19.88385 , 20.395594, 20.823084, 24.848166, 27.66367 ,\n",
              "        29.09252 , 29.287928, 29.614506, 30.844769, 30.376944, 28.465712,\n",
              "        25.122002, 23.298124, 21.17587 , 22.19552 , 22.712467, 24.062302,\n",
              "        25.854805, 25.702366, 25.490389, 26.721092, 24.960997, 22.787066,\n",
              "        23.739845, 21.26592 , 20.375814, 22.406363, 24.282192, 26.342825,\n",
              "        27.796272, 26.129112, 24.491785, 23.626242, 22.474514, 24.126997,\n",
              "        28.041224, 26.96226 , 26.213984, 27.138245, 26.693949, 25.891193,\n",
              "        27.323013, 26.53569 , 24.148767, 23.32735 , 22.442581, 21.255342,\n",
              "        21.713757, 24.098331, 25.01937 , 25.218761, 26.51939 , 26.173336,\n",
              "        26.11982 , 26.594213, 24.93323 , 23.582973, 24.05401 , 24.084146,\n",
              "        25.058655, 25.301844, 24.047817, 23.019598, 22.295368, 21.219599,\n",
              "        22.519852, 24.263569, 24.289284, 23.55466 , 21.936134, 22.434868,\n",
              "        23.716745, 26.108881, 28.239784, 29.704508, 31.01522 , 31.013662,\n",
              "        31.509886, 31.195518, 31.298996, 32.848904, 33.85473 , 33.30348 ,\n",
              "        33.659195, 33.287415, 33.256325, 34.265064, 33.301525, 30.238947,\n",
              "        28.58398 , 28.495258, 29.282314, 30.29836 , 27.07575 , 25.889244,\n",
              "        26.713976, 25.702595, 26.772886, 25.91964 , 26.312777, 26.162294,\n",
              "        22.773188, 22.41006 , 24.948246, 24.648989, 23.883919, 24.8237  ,\n",
              "        27.064096, 22.970428, 24.275978, 23.510284, 22.75655 , 24.907043,\n",
              "        23.02612 , 23.541035, 27.84222 , 30.819723, 36.238304, 40.21257 ,\n",
              "        43.187134, 43.806103, 36.524746, 31.002893, 36.27498 , 38.84985 ,\n",
              "        39.008472, 40.059013, 36.835728, 37.158855, 36.19417 , 34.884438,\n",
              "        32.82464 , 35.197083, 33.70165 , 34.752846, 34.38295 , 30.219627,\n",
              "        26.900526, 26.33061 , 27.343283, 27.537182, 26.856789, 26.552353,\n",
              "        24.572994, 24.988188, 26.733988, 26.77961 , 27.733023, 29.089218,\n",
              "        31.939453, 36.513107, 38.684486, 33.842815, 35.108852, 30.698183,\n",
              "        29.084164, 33.74229 , 29.859356, 25.006428, 24.029646, 22.811626,\n",
              "        24.243267, 19.101582, 19.402416, 19.66311 , 22.704926, 23.542435,\n",
              "        24.41691 , 22.401896, 22.546799, 22.350307, 20.038437, 20.919716,\n",
              "        20.197395, 20.297518, 22.254063, 21.7486  , 24.050953, 26.45653 ,\n",
              "        26.986715, 26.74703 , 23.702572, 24.827103, 22.344156, 20.470358,\n",
              "        18.749657, 18.805347, 20.031288, 21.940956, 22.458372, 22.130295,\n",
              "        22.125109, 25.076336, 25.66249 , 23.418053, 18.55978 , 18.204227,\n",
              "        18.6849  , 18.752918, 21.617117, 22.426418, 22.218552, 22.127094,\n",
              "        22.236176, 22.12183 , 23.256926, 23.655796, 22.856731, 21.761705,\n",
              "        22.191778, 21.412388, 22.465635, 25.454613, 27.882448, 30.264154,\n",
              "        30.452738, 29.668013, 30.312342, 27.365515, 24.696932, 24.102856,\n",
              "        22.84222 , 20.677313, 19.870625, 21.636295, 23.86156 , 23.118118,\n",
              "        21.539394, 21.290756, 20.682522, 21.890625, 21.316055, 21.791435,\n",
              "        21.247568, 21.34235 , 20.089218, 22.4112  , 22.997677, 21.97377 ,\n",
              "        19.346718, 18.152185, 18.002487, 20.658102, 21.649296, 23.28901 ,\n",
              "        23.174374, 20.614683, 19.614365, 21.564964, 22.158499, 23.190706,\n",
              "        21.894728, 19.22635 , 16.735954, 18.94149 , 20.481327, 21.627998,\n",
              "        23.175873, 22.722374, 21.622135, 20.503368, 21.328814, 21.66431 ,\n",
              "        19.782953, 19.918127, 19.775692, 19.774927, 20.704304, 22.029675,\n",
              "        23.78432 ], dtype=float32),\n",
              " 'mase': 6.128117}"
            ]
          },
          "metadata": {},
          "execution_count": 72
        }
      ]
    },
    {
      "cell_type": "code",
      "source": [
        "def evaluate_preds(y_true, y_pred):\n",
        "  # Make sure float32 (for metric calculations)\n",
        "  y_true = tf.cast(y_true, dtype=tf.float32)\n",
        "  y_pred = tf.cast(y_pred, dtype=tf.float32)\n",
        "\n",
        "  # Calculate various metrics\n",
        "  mae = tf.keras.metrics.mean_absolute_error(y_true, y_pred)\n",
        "  mse = tf.keras.metrics.mean_squared_error(y_true, y_pred)\n",
        "  rmse = tf.sqrt(mse)\n",
        "  mape = tf.keras.metrics.mean_absolute_percentage_error(y_true, y_pred)\n",
        "  mase = mean_absolute_scaled_error(y_true, y_pred)\n",
        "\n",
        "  # Account for different sized metrics (for longer horizons, reduce to single number)\n",
        "  if mae.ndim > 0: # if mae isn't already a scalar, reduce it to one by aggregating tensors to mean\n",
        "    mae = tf.reduce_mean(mae)\n",
        "    mse = tf.reduce_mean(mse)\n",
        "    rmse = tf.reduce_mean(rmse)\n",
        "    mape = tf.reduce_mean(mape)\n",
        "    mase = tf.reduce_mean(mase)\n",
        "\n",
        "  return {\"mae\": mae.numpy(),\n",
        "          \"mse\": mse.numpy(),\n",
        "          \"rmse\": rmse.numpy(),\n",
        "          \"mape\": mape.numpy(),\n",
        "          \"mase\": mase.numpy()}"
      ],
      "metadata": {
        "id": "vr49HOqIg-zj"
      },
      "execution_count": null,
      "outputs": []
    },
    {
      "cell_type": "code",
      "source": [
        "# Get model_3 results aggregated to single values\n",
        "model_3_results = evaluate_preds(y_true=tf.squeeze(test_labels),\n",
        "                                 y_pred=model_3_preds)\n",
        "model_3_results"
      ],
      "metadata": {
        "colab": {
          "base_uri": "https://localhost:8080/"
        },
        "id": "_ujIZlh7hCq7",
        "outputId": "e2d32223-ea8a-43b0-d54b-2472f31c3108"
      },
      "execution_count": null,
      "outputs": [
        {
          "output_type": "execute_result",
          "data": {
            "text/plain": [
              "{'mae': 0.056689043,\n",
              " 'mse': 0.009050859,\n",
              " 'rmse': 0.0672776,\n",
              " 'mape': 31.282522,\n",
              " 'mase': 6.128117}"
            ]
          },
          "metadata": {},
          "execution_count": 74
        }
      ]
    },
    {
      "cell_type": "code",
      "source": [
        "offset = 300\n",
        "plt.figure(figsize=(10, 7))\n",
        "plot_time_series(timesteps=X_test[-len(test_windows):], values=test_labels[:, 0], start=offset, label=\"Test_data\")\n",
        "# Checking the shape of model_3_preds results in [n_test_samples, HORIZON] (this will screw up the plot)\n",
        "plot_time_series(timesteps=X_test[-len(test_windows):], values=model_3_preds, start=offset, label=\"model_3_preds\")"
      ],
      "metadata": {
        "colab": {
          "base_uri": "https://localhost:8080/",
          "height": 442
        },
        "id": "9utlhg6ohGGq",
        "outputId": "138b1d5d-783c-43a9-922c-909df8b5c634"
      },
      "execution_count": null,
      "outputs": [
        {
          "output_type": "display_data",
          "data": {
            "text/plain": [
              "<Figure size 720x504 with 1 Axes>"
            ],
            "image/png": "[encoded data removed]"
          },
          "metadata": {
            "needs_background": "light"
          }
        }
      ]
    },
    {
      "cell_type": "code",
      "source": [
        "offset = 300\n",
        "plt.figure(figsize=(10, 7))\n",
        "# Plot model_3_preds by aggregating them (note: this condenses information so the preds will look fruther ahead than the test data)\n",
        "plot_time_series(timesteps=X_test[-len(test_windows):], \n",
        "                 values=test_labels[:, 0], \n",
        "                 start=offset, \n",
        "                 label=\"Test_data\")\n",
        "plot_time_series(timesteps=X_test[-len(test_windows):], \n",
        "                 values=tf.reduce_mean(model_3_preds, axis=1), \n",
        "                 format=\"-\",\n",
        "                 start=offset, \n",
        "                 label=\"model_3_preds\")"
      ],
      "metadata": {
        "colab": {
          "base_uri": "https://localhost:8080/",
          "height": 442
        },
        "id": "_jMzT4ZWhLQC",
        "outputId": "d520ab78-1fe5-48c9-8d3d-6e3c2194f1ec"
      },
      "execution_count": null,
      "outputs": [
        {
          "output_type": "display_data",
          "data": {
            "text/plain": [
              "<Figure size 720x504 with 1 Axes>"
            ],
            "image/png": "[encoded data removed]"
          },
          "metadata": {
            "needs_background": "light"
          }
        }
      ]
    },
    {
      "cell_type": "code",
      "source": [
        "pd.DataFrame({\"naive\": naive_results[\"mae\"], \n",
        "              \"horizon_1_window_7\": model_1_results[\"mae\"], \n",
        "              \"horizon_1_window_30\": model_2_results[\"mae\"], \n",
        "              \"horizon_7_window_30\": model_3_results[\"mae\"]}, index=[\"mae\"]).plot(figsize=(10, 7), kind=\"bar\");"
      ],
      "metadata": {
        "colab": {
          "base_uri": "https://localhost:8080/",
          "height": 440
        },
        "id": "bEdqyzu0hOvj",
        "outputId": "3cfe2d0a-5dd6-4ae0-a13b-1916b760ffbf"
      },
      "execution_count": null,
      "outputs": [
        {
          "output_type": "display_data",
          "data": {
            "text/plain": [
              "<Figure size 720x504 with 1 Axes>"
            ],
            "image/png": "[encoded data removed]"
          },
          "metadata": {
            "needs_background": "light"
          }
        }
      ]
    },
    {
      "cell_type": "markdown",
      "source": [
        "## Model 4: Conv1D"
      ],
      "metadata": {
        "id": "dTnJAD5uhUxz"
      }
    },
    {
      "cell_type": "code",
      "source": [
        "HORIZON = 1 # predict next day\n",
        "WINDOW_SIZE = 7 # use previous week worth of data"
      ],
      "metadata": {
        "id": "W9bLY9NwhV7D"
      },
      "execution_count": null,
      "outputs": []
    },
    {
      "cell_type": "code",
      "source": [
        "# Create windowed dataset\n",
        "full_windows, full_labels = make_windows(prices, window_size=WINDOW_SIZE, horizon=HORIZON)\n",
        "len(full_windows), len(full_labels)"
      ],
      "metadata": {
        "id": "YfSolS3HhZmF",
        "outputId": "99dc831d-517c-4cb8-b960-cdb458e1bb33",
        "colab": {
          "base_uri": "https://localhost:8080/"
        }
      },
      "execution_count": null,
      "outputs": [
        {
          "output_type": "execute_result",
          "data": {
            "text/plain": [
              "(3214, 3214)"
            ]
          },
          "metadata": {},
          "execution_count": 79
        }
      ]
    },
    {
      "cell_type": "code",
      "source": [
        "# Create train/test splits\n",
        "train_windows, test_windows, train_labels, test_labels = make_train_test_splits(full_windows, full_labels)\n",
        "len(train_windows), len(test_windows), len(train_labels), len(test_labels)"
      ],
      "metadata": {
        "id": "IvxqtIMZh0aL",
        "outputId": "2d3adc0d-73bd-443c-feb3-13d6db952bfc",
        "colab": {
          "base_uri": "https://localhost:8080/"
        }
      },
      "execution_count": null,
      "outputs": [
        {
          "output_type": "execute_result",
          "data": {
            "text/plain": [
              "(2571, 643, 2571, 643)"
            ]
          },
          "metadata": {},
          "execution_count": 80
        }
      ]
    },
    {
      "cell_type": "code",
      "source": [
        "# Check data sample shapes\n",
        "train_windows[0].shape # returns (WINDOW_SIZE, )"
      ],
      "metadata": {
        "id": "CSnWDtpXh3Cy",
        "outputId": "f3fdac9a-2818-49b2-cf91-95a6746325bc",
        "colab": {
          "base_uri": "https://localhost:8080/"
        }
      },
      "execution_count": null,
      "outputs": [
        {
          "output_type": "execute_result",
          "data": {
            "text/plain": [
              "(7,)"
            ]
          },
          "metadata": {},
          "execution_count": 81
        }
      ]
    },
    {
      "cell_type": "code",
      "source": [
        "# Before we pass our data to the Conv1D layer, we have to reshape it in order to make sure it works\n",
        "x = tf.constant(train_windows[0])\n",
        "expand_dims_layer = layers.Lambda(lambda x: tf.expand_dims(x, axis=1)) # add an extra dimension for timesteps\n",
        "print(f\"Original shape: {x.shape}\") # (WINDOW_SIZE)\n",
        "print(f\"Expanded shape: {expand_dims_layer(x).shape}\") # (WINDOW_SIZE, input_dim) \n",
        "print(f\"Original values with expanded shape:\\n {expand_dims_layer(x)}\")"
      ],
      "metadata": {
        "id": "g20z5FUbh69C",
        "outputId": "c0c747e5-2c98-42e5-bfc3-aca353b01423",
        "colab": {
          "base_uri": "https://localhost:8080/"
        }
      },
      "execution_count": null,
      "outputs": [
        {
          "output_type": "stream",
          "name": "stdout",
          "text": [
            "Original shape: (7,)\n",
            "Expanded shape: (7, 1)\n",
            "Original values with expanded shape:\n",
            " [[0.00020019]\n",
            " [0.00026854]\n",
            " [0.00036163]\n",
            " [0.00117042]\n",
            " [0.00070661]\n",
            " [0.00039363]\n",
            " [0.00031476]]\n"
          ]
        }
      ]
    },
    {
      "cell_type": "code",
      "source": [
        "tf.random.set_seed(42)\n",
        "\n",
        "# Create model\n",
        "model_4 = tf.keras.Sequential([\n",
        "  # Create Lambda layer to reshape inputs, without this layer, the model will error\n",
        "  layers.Lambda(lambda x: tf.expand_dims(x, axis=1)), # resize the inputs to adjust for window size / Conv1D 3D input requirements\n",
        "  layers.Conv1D(filters=128, kernel_size=5, padding=\"causal\", activation=\"relu\"),\n",
        "  layers.Dense(HORIZON)\n",
        "], name=\"model_4_conv1D\")\n",
        "\n",
        "# Compile model\n",
        "model_4.compile(loss=\"mae\",\n",
        "                optimizer=tf.keras.optimizers.Adam())\n",
        "\n",
        "# Fit model\n",
        "model_4.fit(train_windows,\n",
        "            train_labels,\n",
        "            batch_size=128, \n",
        "            epochs=100,\n",
        "            verbose=0,\n",
        "            validation_data=(test_windows, test_labels),\n",
        "            callbacks=[create_model_checkpoint(model_name=model_4.name)])"
      ],
      "metadata": {
        "colab": {
          "base_uri": "https://localhost:8080/"
        },
        "id": "m8rqHHlLjLHC",
        "outputId": "770fd606-ea47-41fb-99ab-145281f46af6"
      },
      "execution_count": null,
      "outputs": [
        {
          "output_type": "execute_result",
          "data": {
            "text/plain": [
              "<keras.callbacks.History at 0x7fca45bdfa90>"
            ]
          },
          "metadata": {},
          "execution_count": 83
        }
      ]
    },
    {
      "cell_type": "code",
      "source": [
        "model_4.summary()"
      ],
      "metadata": {
        "colab": {
          "base_uri": "https://localhost:8080/"
        },
        "id": "LtpLKXK-jUJC",
        "outputId": "96e8fced-11b1-4617-a70c-1d833b05a94f"
      },
      "execution_count": null,
      "outputs": [
        {
          "output_type": "stream",
          "name": "stdout",
          "text": [
            "Model: \"model_4_conv1D\"\n",
            "_________________________________________________________________\n",
            " Layer (type)                Output Shape              Param #   \n",
            "=================================================================\n",
            " lambda_1 (Lambda)           (None, 1, 7)              0         \n",
            "                                                                 \n",
            " conv1d (Conv1D)             (None, 1, 128)            4608      \n",
            "                                                                 \n",
            " dense_6 (Dense)             (None, 1, 1)              129       \n",
            "                                                                 \n",
            "=================================================================\n",
            "Total params: 4,737\n",
            "Trainable params: 4,737\n",
            "Non-trainable params: 0\n",
            "_________________________________________________________________\n"
          ]
        }
      ]
    },
    {
      "cell_type": "code",
      "source": [
        "# Load in best performing Conv1D model and evaluate it on the test data\n",
        "model_4 = tf.keras.models.load_model(\"model_experiments/model_4_conv1D\")\n",
        "model_4.evaluate(test_windows, test_labels)"
      ],
      "metadata": {
        "colab": {
          "base_uri": "https://localhost:8080/"
        },
        "id": "y1aJCRbUjX-y",
        "outputId": "04c2e204-e309-4a31-c011-07894716be17"
      },
      "execution_count": null,
      "outputs": [
        {
          "output_type": "stream",
          "name": "stdout",
          "text": [
            "21/21 [==============================] - 0s 2ms/step - loss: 0.0194\n"
          ]
        },
        {
          "output_type": "execute_result",
          "data": {
            "text/plain": [
              "0.01940814219415188"
            ]
          },
          "metadata": {},
          "execution_count": 85
        }
      ]
    },
    {
      "cell_type": "code",
      "source": [
        "# Make predictions\n",
        "model_4_preds = make_preds(model_4, test_windows)\n",
        "model_4_preds[:10]"
      ],
      "metadata": {
        "colab": {
          "base_uri": "https://localhost:8080/"
        },
        "id": "_vwoVilpj9-B",
        "outputId": "a7608832-5b4d-4a93-8538-7bee718e3ef5"
      },
      "execution_count": null,
      "outputs": [
        {
          "output_type": "execute_result",
          "data": {
            "text/plain": [
              "<tf.Tensor: shape=(10,), dtype=float32, numpy=\n",
              "array([0.00856472, 0.00928578, 0.00967702, 0.01020932, 0.01019871,\n",
              "       0.01018076, 0.00991918, 0.00953245, 0.00928154, 0.00936251],\n",
              "      dtype=float32)>"
            ]
          },
          "metadata": {},
          "execution_count": 88
        }
      ]
    },
    {
      "cell_type": "code",
      "source": [
        "# Evaluate predictions\n",
        "model_4_results = evaluate_preds(y_true=tf.squeeze(test_labels),\n",
        "                                 y_pred=model_4_preds)\n",
        "model_4_results"
      ],
      "metadata": {
        "colab": {
          "base_uri": "https://localhost:8080/"
        },
        "id": "VDYGr1nBjaNJ",
        "outputId": "433aaa58-a025-4251-f1b3-57935a9ebc82"
      },
      "execution_count": null,
      "outputs": [
        {
          "output_type": "execute_result",
          "data": {
            "text/plain": [
              "{'mae': 0.019408144,\n",
              " 'mse': 0.0012721545,\n",
              " 'rmse': 0.035667274,\n",
              " 'mape': 9.80201,\n",
              " 'mase': 2.115839}"
            ]
          },
          "metadata": {},
          "execution_count": 89
        }
      ]
    },
    {
      "cell_type": "markdown",
      "source": [
        "# Model 5: RNN (LSTM)"
      ],
      "metadata": {
        "id": "YP5LsBxVkQEZ"
      }
    },
    {
      "cell_type": "code",
      "source": [
        "tf.random.set_seed(42)\n",
        "\n",
        "# Let's build an LSTM model with the Functional API\n",
        "inputs = layers.Input(shape=(WINDOW_SIZE))\n",
        "x = layers.Lambda(lambda x: tf.expand_dims(x, axis=1))(inputs) # expand input dimension to be compatible with LSTM\n",
        "# print(x.shape)\n",
        "# x = layers.LSTM(128, activation=\"relu\", return_sequences=True)(x) # this layer will error if the inputs are not the right shape\n",
        "x = layers.LSTM(128, activation=\"relu\")(x) # using the tanh loss function results in a massive error\n",
        "# print(x.shape)\n",
        "# Add another optional dense layer (you could add more of these to see if they improve model performance)\n",
        "# x = layers.Dense(32, activation=\"relu\")(x)\n",
        "output = layers.Dense(HORIZON)(x)\n",
        "model_5 = tf.keras.Model(inputs=inputs, outputs=output, name=\"model_5_lstm\")\n",
        "\n",
        "# Compile model\n",
        "model_5.compile(loss=\"mae\",\n",
        "                optimizer=tf.keras.optimizers.Adam())\n",
        "\n",
        "# Seems when saving the model several warnings are appearing: https://github.com/tensorflow/tensorflow/issues/47554 \n",
        "model_5.fit(train_windows,\n",
        "            train_labels,\n",
        "            epochs=100,\n",
        "            verbose=0,\n",
        "            batch_size=128,\n",
        "            validation_data=(test_windows, test_labels),\n",
        "            callbacks=[create_model_checkpoint(model_name=model_5.name)])"
      ],
      "metadata": {
        "colab": {
          "base_uri": "https://localhost:8080/"
        },
        "id": "dSanljdckQ9g",
        "outputId": "a3b24141-f272-4e8f-991a-2787839f0cc8"
      },
      "execution_count": null,
      "outputs": [
        {
          "output_type": "stream",
          "name": "stderr",
          "text": [
            "WARNING:absl:<keras.layers.recurrent.LSTMCell object at 0x7fca453aa910> has the same name 'LSTMCell' as a built-in Keras object. Consider renaming <class 'keras.layers.recurrent.LSTMCell'> to avoid naming conflicts when loading with `tf.keras.models.load_model`. If renaming is not possible, pass the object in the `custom_objects` parameter of the load function.\n",
            "WARNING:absl:<keras.layers.recurrent.LSTMCell object at 0x7fca453aa910> has the same name 'LSTMCell' as a built-in Keras object. Consider renaming <class 'keras.layers.recurrent.LSTMCell'> to avoid naming conflicts when loading with `tf.keras.models.load_model`. If renaming is not possible, pass the object in the `custom_objects` parameter of the load function.\n",
            "WARNING:absl:<keras.layers.recurrent.LSTMCell object at 0x7fca453aa910> has the same name 'LSTMCell' as a built-in Keras object. Consider renaming <class 'keras.layers.recurrent.LSTMCell'> to avoid naming conflicts when loading with `tf.keras.models.load_model`. If renaming is not possible, pass the object in the `custom_objects` parameter of the load function.\n",
            "WARNING:absl:<keras.layers.recurrent.LSTMCell object at 0x7fca453aa910> has the same name 'LSTMCell' as a built-in Keras object. Consider renaming <class 'keras.layers.recurrent.LSTMCell'> to avoid naming conflicts when loading with `tf.keras.models.load_model`. If renaming is not possible, pass the object in the `custom_objects` parameter of the load function.\n",
            "WARNING:absl:<keras.layers.recurrent.LSTMCell object at 0x7fca453aa910> has the same name 'LSTMCell' as a built-in Keras object. Consider renaming <class 'keras.layers.recurrent.LSTMCell'> to avoid naming conflicts when loading with `tf.keras.models.load_model`. If renaming is not possible, pass the object in the `custom_objects` parameter of the load function.\n",
            "WARNING:absl:<keras.layers.recurrent.LSTMCell object at 0x7fca453aa910> has the same name 'LSTMCell' as a built-in Keras object. Consider renaming <class 'keras.layers.recurrent.LSTMCell'> to avoid naming conflicts when loading with `tf.keras.models.load_model`. If renaming is not possible, pass the object in the `custom_objects` parameter of the load function.\n",
            "WARNING:absl:<keras.layers.recurrent.LSTMCell object at 0x7fca453aa910> has the same name 'LSTMCell' as a built-in Keras object. Consider renaming <class 'keras.layers.recurrent.LSTMCell'> to avoid naming conflicts when loading with `tf.keras.models.load_model`. If renaming is not possible, pass the object in the `custom_objects` parameter of the load function.\n",
            "WARNING:absl:<keras.layers.recurrent.LSTMCell object at 0x7fca453aa910> has the same name 'LSTMCell' as a built-in Keras object. Consider renaming <class 'keras.layers.recurrent.LSTMCell'> to avoid naming conflicts when loading with `tf.keras.models.load_model`. If renaming is not possible, pass the object in the `custom_objects` parameter of the load function.\n",
            "WARNING:absl:<keras.layers.recurrent.LSTMCell object at 0x7fca453aa910> has the same name 'LSTMCell' as a built-in Keras object. Consider renaming <class 'keras.layers.recurrent.LSTMCell'> to avoid naming conflicts when loading with `tf.keras.models.load_model`. If renaming is not possible, pass the object in the `custom_objects` parameter of the load function.\n",
            "WARNING:absl:<keras.layers.recurrent.LSTMCell object at 0x7fca453aa910> has the same name 'LSTMCell' as a built-in Keras object. Consider renaming <class 'keras.layers.recurrent.LSTMCell'> to avoid naming conflicts when loading with `tf.keras.models.load_model`. If renaming is not possible, pass the object in the `custom_objects` parameter of the load function.\n",
            "WARNING:absl:<keras.layers.recurrent.LSTMCell object at 0x7fca453aa910> has the same name 'LSTMCell' as a built-in Keras object. Consider renaming <class 'keras.layers.recurrent.LSTMCell'> to avoid naming conflicts when loading with `tf.keras.models.load_model`. If renaming is not possible, pass the object in the `custom_objects` parameter of the load function.\n",
            "WARNING:absl:<keras.layers.recurrent.LSTMCell object at 0x7fca453aa910> has the same name 'LSTMCell' as a built-in Keras object. Consider renaming <class 'keras.layers.recurrent.LSTMCell'> to avoid naming conflicts when loading with `tf.keras.models.load_model`. If renaming is not possible, pass the object in the `custom_objects` parameter of the load function.\n",
            "WARNING:absl:<keras.layers.recurrent.LSTMCell object at 0x7fca453aa910> has the same name 'LSTMCell' as a built-in Keras object. Consider renaming <class 'keras.layers.recurrent.LSTMCell'> to avoid naming conflicts when loading with `tf.keras.models.load_model`. If renaming is not possible, pass the object in the `custom_objects` parameter of the load function.\n"
          ]
        },
        {
          "output_type": "execute_result",
          "data": {
            "text/plain": [
              "<keras.callbacks.History at 0x7fca45fce890>"
            ]
          },
          "metadata": {},
          "execution_count": 90
        }
      ]
    },
    {
      "cell_type": "code",
      "source": [
        "# Load in best version of model 5 and evaluate on the test data\n",
        "model_5 = tf.keras.models.load_model(\"model_experiments/model_5_lstm/\")\n",
        "model_5.evaluate(test_windows, test_labels)"
      ],
      "metadata": {
        "colab": {
          "base_uri": "https://localhost:8080/"
        },
        "id": "8zzEKSSckXbg",
        "outputId": "d5689cca-1065-45a7-b11a-5fdf4f0ecd89"
      },
      "execution_count": null,
      "outputs": [
        {
          "output_type": "stream",
          "name": "stdout",
          "text": [
            "21/21 [==============================] - 0s 2ms/step - loss: 0.0181\n"
          ]
        },
        {
          "output_type": "execute_result",
          "data": {
            "text/plain": [
              "0.018070435151457787"
            ]
          },
          "metadata": {},
          "execution_count": 91
        }
      ]
    },
    {
      "cell_type": "code",
      "source": [
        "# Make predictions with our LSTM model\n",
        "model_5_preds = make_preds(model_5, test_windows)\n",
        "model_5_preds[:10]"
      ],
      "metadata": {
        "colab": {
          "base_uri": "https://localhost:8080/"
        },
        "id": "MEzbhb7VlSPy",
        "outputId": "ede46ba0-f84c-4060-f30d-4529776fb3da"
      },
      "execution_count": null,
      "outputs": [
        {
          "output_type": "execute_result",
          "data": {
            "text/plain": [
              "<tf.Tensor: shape=(10,), dtype=float32, numpy=\n",
              "array([0.00903266, 0.00953844, 0.0097057 , 0.00984931, 0.00990788,\n",
              "       0.00987843, 0.00959126, 0.00915194, 0.00893396, 0.00903935],\n",
              "      dtype=float32)>"
            ]
          },
          "metadata": {},
          "execution_count": 92
        }
      ]
    },
    {
      "cell_type": "code",
      "source": [
        "# Evaluate model 5 preds\n",
        "model_5_results = evaluate_preds(y_true=tf.squeeze(test_labels),\n",
        "                                 y_pred=model_5_preds)\n",
        "model_5_results"
      ],
      "metadata": {
        "colab": {
          "base_uri": "https://localhost:8080/"
        },
        "id": "Q3VnWFVZlUPY",
        "outputId": "55d3e84b-a9fa-4507-b396-16aef6f573e3"
      },
      "execution_count": null,
      "outputs": [
        {
          "output_type": "execute_result",
          "data": {
            "text/plain": [
              "{'mae': 0.018070437,\n",
              " 'mse': 0.0010108363,\n",
              " 'rmse': 0.031793654,\n",
              " 'mape': 10.047945,\n",
              " 'mase': 1.9700047}"
            ]
          },
          "metadata": {},
          "execution_count": 93
        }
      ]
    },
    {
      "cell_type": "code",
      "source": [
        "# Let's make a multivariate time series\n",
        "bitcoin_prices.head()"
      ],
      "metadata": {
        "colab": {
          "base_uri": "https://localhost:8080/",
          "height": 238
        },
        "id": "AXzKu4XVlW_Q",
        "outputId": "305b88c9-9cbe-47d9-cb6a-e4de201f4986"
      },
      "execution_count": null,
      "outputs": [
        {
          "output_type": "execute_result",
          "data": {
            "text/plain": [
              "               Price\n",
              "Date                \n",
              "2013-12-16  0.000200\n",
              "2013-12-17  0.000269\n",
              "2013-12-18  0.000362\n",
              "2013-12-19  0.001170\n",
              "2013-12-20  0.000707"
            ],
            "text/html": [
              "\n",
              "  <div id=\"df-4174e327-fc3a-4967-b737-6afff7fc24df\">\n",
              "    <div class=\"colab-df-container\">\n",
              "      <div>\n",
              "<style scoped>\n",
              "    .dataframe tbody tr th:only-of-type {\n",
              "        vertical-align: middle;\n",
              "    }\n",
              "\n",
              "    .dataframe tbody tr th {\n",
              "        vertical-align: top;\n",
              "    }\n",
              "\n",
              "    .dataframe thead th {\n",
              "        text-align: right;\n",
              "    }\n",
              "</style>\n",
              "<table border=\"1\" class=\"dataframe\">\n",
              "  <thead>\n",
              "    <tr style=\"text-align: right;\">\n",
              "      <th></th>\n",
              "      <th>Price</th>\n",
              "    </tr>\n",
              "    <tr>\n",
              "      <th>Date</th>\n",
              "      <th></th>\n",
              "    </tr>\n",
              "  </thead>\n",
              "  <tbody>\n",
              "    <tr>\n",
              "      <th>2013-12-16</th>\n",
              "      <td>0.000200</td>\n",
              "    </tr>\n",
              "    <tr>\n",
              "      <th>2013-12-17</th>\n",
              "      <td>0.000269</td>\n",
              "    </tr>\n",
              "    <tr>\n",
              "      <th>2013-12-18</th>\n",
              "      <td>0.000362</td>\n",
              "    </tr>\n",
              "    <tr>\n",
              "      <th>2013-12-19</th>\n",
              "      <td>0.001170</td>\n",
              "    </tr>\n",
              "    <tr>\n",
              "      <th>2013-12-20</th>\n",
              "      <td>0.000707</td>\n",
              "    </tr>\n",
              "  </tbody>\n",
              "</table>\n",
              "</div>\n",
              "      <button class=\"colab-df-convert\" onclick=\"convertToInteractive('df-4174e327-fc3a-4967-b737-6afff7fc24df')\"\n",
              "              title=\"Convert this dataframe to an interactive table.\"\n",
              "              style=\"display:none;\">\n",
              "        \n",
              "  <svg xmlns=\"http://www.w3.org/2000/svg\" height=\"24px\"viewBox=\"0 0 24 24\"\n",
              "       width=\"24px\">\n",
              "    <path d=\"M0 0h24v24H0V0z\" fill=\"none\"/>\n",
              "    <path d=\"M18.56 5.44l.94 2.06.94-2.06 2.06-.94-2.06-.94-.94-2.06-.94 2.06-2.06.94zm-11 1L8.5 8.5l.94-2.06 2.06-.94-2.06-.94L8.5 2.5l-.94 2.06-2.06.94zm10 10l.94 2.06.94-2.06 2.06-.94-2.06-.94-.94-2.06-.94 2.06-2.06.94z\"/><path d=\"M17.41 7.96l-1.37-1.37c-.4-.4-.92-.59-1.43-.59-.52 0-1.04.2-1.43.59L10.3 9.45l-7.72 7.72c-.78.78-.78 2.05 0 2.83L4 21.41c.39.39.9.59 1.41.59.51 0 1.02-.2 1.41-.59l7.78-7.78 2.81-2.81c.8-.78.8-2.07 0-2.86zM5.41 20L4 18.59l7.72-7.72 1.47 1.35L5.41 20z\"/>\n",
              "  </svg>\n",
              "      </button>\n",
              "      \n",
              "  <style>\n",
              "    .colab-df-container {\n",
              "      display:flex;\n",
              "      flex-wrap:wrap;\n",
              "      gap: 12px;\n",
              "    }\n",
              "\n",
              "    .colab-df-convert {\n",
              "      background-color: #E8F0FE;\n",
              "      border: none;\n",
              "      border-radius: 50%;\n",
              "      cursor: pointer;\n",
              "      display: none;\n",
              "      fill: #1967D2;\n",
              "      height: 32px;\n",
              "      padding: 0 0 0 0;\n",
              "      width: 32px;\n",
              "    }\n",
              "\n",
              "    .colab-df-convert:hover {\n",
              "      background-color: #E2EBFA;\n",
              "      box-shadow: 0px 1px 2px rgba(60, 64, 67, 0.3), 0px 1px 3px 1px rgba(60, 64, 67, 0.15);\n",
              "      fill: #174EA6;\n",
              "    }\n",
              "\n",
              "    [theme=dark] .colab-df-convert {\n",
              "      background-color: #3B4455;\n",
              "      fill: #D2E3FC;\n",
              "    }\n",
              "\n",
              "    [theme=dark] .colab-df-convert:hover {\n",
              "      background-color: #434B5C;\n",
              "      box-shadow: 0px 1px 3px 1px rgba(0, 0, 0, 0.15);\n",
              "      filter: drop-shadow(0px 1px 2px rgba(0, 0, 0, 0.3));\n",
              "      fill: #FFFFFF;\n",
              "    }\n",
              "  </style>\n",
              "\n",
              "      <script>\n",
              "        const buttonEl =\n",
              "          document.querySelector('#df-4174e327-fc3a-4967-b737-6afff7fc24df button.colab-df-convert');\n",
              "        buttonEl.style.display =\n",
              "          google.colab.kernel.accessAllowed ? 'block' : 'none';\n",
              "\n",
              "        async function convertToInteractive(key) {\n",
              "          const element = document.querySelector('#df-4174e327-fc3a-4967-b737-6afff7fc24df');\n",
              "          const dataTable =\n",
              "            await google.colab.kernel.invokeFunction('convertToInteractive',\n",
              "                                                     [key], {});\n",
              "          if (!dataTable) return;\n",
              "\n",
              "          const docLinkHtml = 'Like what you see? Visit the ' +\n",
              "            '<a target=\"_blank\" href=https://colab.research.google.com/notebooks/data_table.ipynb>data table notebook</a>'\n",
              "            + ' to learn more about interactive tables.';\n",
              "          element.innerHTML = '';\n",
              "          dataTable['output_type'] = 'display_data';\n",
              "          await google.colab.output.renderOutput(dataTable, element);\n",
              "          const docLink = document.createElement('div');\n",
              "          docLink.innerHTML = docLinkHtml;\n",
              "          element.appendChild(docLink);\n",
              "        }\n",
              "      </script>\n",
              "    </div>\n",
              "  </div>\n",
              "  "
            ]
          },
          "metadata": {},
          "execution_count": 94
        }
      ]
    },
    {
      "cell_type": "code",
      "source": [
        "# Block reward values\n",
        "block_reward_1 = 50 # 3 January 2009 (2009-01-03) - this block reward isn't in our dataset (it starts from 01 October 2013)\n",
        "block_reward_2 = 25 # 28 November 2012 \n",
        "block_reward_3 = 12.5 # 9 July 2016\n",
        "block_reward_4 = 6.25 # 11 May 2020\n",
        "\n",
        "# Block reward dates (datetime form of the above date stamps)\n",
        "block_reward_2_datetime = np.datetime64(\"2012-11-28\")\n",
        "block_reward_3_datetime = np.datetime64(\"2016-07-09\")\n",
        "block_reward_4_datetime = np.datetime64(\"2020-05-11\")"
      ],
      "metadata": {
        "id": "TMtDShwOlaHQ"
      },
      "execution_count": null,
      "outputs": []
    },
    {
      "cell_type": "code",
      "source": [
        "# Get date indexes for when to add in different block dates\n",
        "block_reward_2_days = (block_reward_3_datetime - bitcoin_prices.index[0]).days\n",
        "block_reward_3_days = (block_reward_4_datetime - bitcoin_prices.index[0]).days\n",
        "block_reward_2_days, block_reward_3_days"
      ],
      "metadata": {
        "colab": {
          "base_uri": "https://localhost:8080/"
        },
        "id": "OF2lrndcldC4",
        "outputId": "99daeb22-e878-4160-f90e-0435901568cb"
      },
      "execution_count": null,
      "outputs": [
        {
          "output_type": "execute_result",
          "data": {
            "text/plain": [
              "(936, 2338)"
            ]
          },
          "metadata": {},
          "execution_count": 96
        }
      ]
    },
    {
      "cell_type": "code",
      "source": [
        "# Add block_reward column\n",
        "bitcoin_prices_block = bitcoin_prices.copy()\n",
        "bitcoin_prices_block[\"block_reward\"] = None\n",
        "\n",
        "# Set values of block_reward column (it's the last column hence -1 indexing on iloc)\n",
        "bitcoin_prices_block.iloc[:block_reward_2_days, -1] = block_reward_2\n",
        "bitcoin_prices_block.iloc[block_reward_2_days:block_reward_3_days, -1] = block_reward_3\n",
        "bitcoin_prices_block.iloc[block_reward_3_days:, -1] = block_reward_4\n",
        "bitcoin_prices_block.head()"
      ],
      "metadata": {
        "colab": {
          "base_uri": "https://localhost:8080/",
          "height": 238
        },
        "id": "lsV_gTsJlfaQ",
        "outputId": "f2afa809-1830-404d-8b93-9e0daa09b17b"
      },
      "execution_count": null,
      "outputs": [
        {
          "output_type": "execute_result",
          "data": {
            "text/plain": [
              "               Price block_reward\n",
              "Date                             \n",
              "2013-12-16  0.000200           25\n",
              "2013-12-17  0.000269           25\n",
              "2013-12-18  0.000362           25\n",
              "2013-12-19  0.001170           25\n",
              "2013-12-20  0.000707           25"
            ],
            "text/html": [
              "\n",
              "  <div id=\"df-90ed7239-a7c6-4ce5-8695-803cbb5edc8a\">\n",
              "    <div class=\"colab-df-container\">\n",
              "      <div>\n",
              "<style scoped>\n",
              "    .dataframe tbody tr th:only-of-type {\n",
              "        vertical-align: middle;\n",
              "    }\n",
              "\n",
              "    .dataframe tbody tr th {\n",
              "        vertical-align: top;\n",
              "    }\n",
              "\n",
              "    .dataframe thead th {\n",
              "        text-align: right;\n",
              "    }\n",
              "</style>\n",
              "<table border=\"1\" class=\"dataframe\">\n",
              "  <thead>\n",
              "    <tr style=\"text-align: right;\">\n",
              "      <th></th>\n",
              "      <th>Price</th>\n",
              "      <th>block_reward</th>\n",
              "    </tr>\n",
              "    <tr>\n",
              "      <th>Date</th>\n",
              "      <th></th>\n",
              "      <th></th>\n",
              "    </tr>\n",
              "  </thead>\n",
              "  <tbody>\n",
              "    <tr>\n",
              "      <th>2013-12-16</th>\n",
              "      <td>0.000200</td>\n",
              "      <td>25</td>\n",
              "    </tr>\n",
              "    <tr>\n",
              "      <th>2013-12-17</th>\n",
              "      <td>0.000269</td>\n",
              "      <td>25</td>\n",
              "    </tr>\n",
              "    <tr>\n",
              "      <th>2013-12-18</th>\n",
              "      <td>0.000362</td>\n",
              "      <td>25</td>\n",
              "    </tr>\n",
              "    <tr>\n",
              "      <th>2013-12-19</th>\n",
              "      <td>0.001170</td>\n",
              "      <td>25</td>\n",
              "    </tr>\n",
              "    <tr>\n",
              "      <th>2013-12-20</th>\n",
              "      <td>0.000707</td>\n",
              "      <td>25</td>\n",
              "    </tr>\n",
              "  </tbody>\n",
              "</table>\n",
              "</div>\n",
              "      <button class=\"colab-df-convert\" onclick=\"convertToInteractive('df-90ed7239-a7c6-4ce5-8695-803cbb5edc8a')\"\n",
              "              title=\"Convert this dataframe to an interactive table.\"\n",
              "              style=\"display:none;\">\n",
              "        \n",
              "  <svg xmlns=\"http://www.w3.org/2000/svg\" height=\"24px\"viewBox=\"0 0 24 24\"\n",
              "       width=\"24px\">\n",
              "    <path d=\"M0 0h24v24H0V0z\" fill=\"none\"/>\n",
              "    <path d=\"M18.56 5.44l.94 2.06.94-2.06 2.06-.94-2.06-.94-.94-2.06-.94 2.06-2.06.94zm-11 1L8.5 8.5l.94-2.06 2.06-.94-2.06-.94L8.5 2.5l-.94 2.06-2.06.94zm10 10l.94 2.06.94-2.06 2.06-.94-2.06-.94-.94-2.06-.94 2.06-2.06.94z\"/><path d=\"M17.41 7.96l-1.37-1.37c-.4-.4-.92-.59-1.43-.59-.52 0-1.04.2-1.43.59L10.3 9.45l-7.72 7.72c-.78.78-.78 2.05 0 2.83L4 21.41c.39.39.9.59 1.41.59.51 0 1.02-.2 1.41-.59l7.78-7.78 2.81-2.81c.8-.78.8-2.07 0-2.86zM5.41 20L4 18.59l7.72-7.72 1.47 1.35L5.41 20z\"/>\n",
              "  </svg>\n",
              "      </button>\n",
              "      \n",
              "  <style>\n",
              "    .colab-df-container {\n",
              "      display:flex;\n",
              "      flex-wrap:wrap;\n",
              "      gap: 12px;\n",
              "    }\n",
              "\n",
              "    .colab-df-convert {\n",
              "      background-color: #E8F0FE;\n",
              "      border: none;\n",
              "      border-radius: 50%;\n",
              "      cursor: pointer;\n",
              "      display: none;\n",
              "      fill: #1967D2;\n",
              "      height: 32px;\n",
              "      padding: 0 0 0 0;\n",
              "      width: 32px;\n",
              "    }\n",
              "\n",
              "    .colab-df-convert:hover {\n",
              "      background-color: #E2EBFA;\n",
              "      box-shadow: 0px 1px 2px rgba(60, 64, 67, 0.3), 0px 1px 3px 1px rgba(60, 64, 67, 0.15);\n",
              "      fill: #174EA6;\n",
              "    }\n",
              "\n",
              "    [theme=dark] .colab-df-convert {\n",
              "      background-color: #3B4455;\n",
              "      fill: #D2E3FC;\n",
              "    }\n",
              "\n",
              "    [theme=dark] .colab-df-convert:hover {\n",
              "      background-color: #434B5C;\n",
              "      box-shadow: 0px 1px 3px 1px rgba(0, 0, 0, 0.15);\n",
              "      filter: drop-shadow(0px 1px 2px rgba(0, 0, 0, 0.3));\n",
              "      fill: #FFFFFF;\n",
              "    }\n",
              "  </style>\n",
              "\n",
              "      <script>\n",
              "        const buttonEl =\n",
              "          document.querySelector('#df-90ed7239-a7c6-4ce5-8695-803cbb5edc8a button.colab-df-convert');\n",
              "        buttonEl.style.display =\n",
              "          google.colab.kernel.accessAllowed ? 'block' : 'none';\n",
              "\n",
              "        async function convertToInteractive(key) {\n",
              "          const element = document.querySelector('#df-90ed7239-a7c6-4ce5-8695-803cbb5edc8a');\n",
              "          const dataTable =\n",
              "            await google.colab.kernel.invokeFunction('convertToInteractive',\n",
              "                                                     [key], {});\n",
              "          if (!dataTable) return;\n",
              "\n",
              "          const docLinkHtml = 'Like what you see? Visit the ' +\n",
              "            '<a target=\"_blank\" href=https://colab.research.google.com/notebooks/data_table.ipynb>data table notebook</a>'\n",
              "            + ' to learn more about interactive tables.';\n",
              "          element.innerHTML = '';\n",
              "          dataTable['output_type'] = 'display_data';\n",
              "          await google.colab.output.renderOutput(dataTable, element);\n",
              "          const docLink = document.createElement('div');\n",
              "          docLink.innerHTML = docLinkHtml;\n",
              "          element.appendChild(docLink);\n",
              "        }\n",
              "      </script>\n",
              "    </div>\n",
              "  </div>\n",
              "  "
            ]
          },
          "metadata": {},
          "execution_count": 97
        }
      ]
    },
    {
      "cell_type": "code",
      "source": [
        "# Plot the block reward/price over time\n",
        "# Note: Because of the different scales of our values we'll scale them to be between 0 and 1.\n",
        "from sklearn.preprocessing import minmax_scale\n",
        "scaled_price_block_df = pd.DataFrame(minmax_scale(bitcoin_prices_block[[\"Price\", \"block_reward\"]]), # we need to scale the data first\n",
        "                                     columns=bitcoin_prices_block.columns,\n",
        "                                     index=bitcoin_prices_block.index)\n",
        "scaled_price_block_df.plot(figsize=(10, 7));"
      ],
      "metadata": {
        "colab": {
          "base_uri": "https://localhost:8080/",
          "height": 442
        },
        "id": "7yKx9D6tlfMo",
        "outputId": "12954220-d74e-4b82-86a6-e1891f6ceaf4"
      },
      "execution_count": null,
      "outputs": [
        {
          "output_type": "display_data",
          "data": {
            "text/plain": [
              "<Figure size 720x504 with 1 Axes>"
            ],
            "image/png": "[encoded data removed]"
          },
          "metadata": {
            "needs_background": "light"
          }
        }
      ]
    },
    {
      "cell_type": "code",
      "source": [
        "# Setup dataset hyperparameters\n",
        "HORIZON = 1\n",
        "WINDOW_SIZE = 7"
      ],
      "metadata": {
        "id": "xNIAOd9alotR"
      },
      "execution_count": null,
      "outputs": []
    },
    {
      "cell_type": "code",
      "source": [
        "# Make a copy of the Bitcoin historical data with block reward feature\n",
        "bitcoin_prices_windowed = bitcoin_prices_block.copy()\n",
        "\n",
        "# Add windowed columns\n",
        "for i in range(WINDOW_SIZE): # Shift values for each step in WINDOW_SIZE\n",
        "  bitcoin_prices_windowed[f\"Price+{i+1}\"] = bitcoin_prices_windowed[\"Price\"].shift(periods=i+1)\n",
        "bitcoin_prices_windowed.head(10)"
      ],
      "metadata": {
        "colab": {
          "base_uri": "https://localhost:8080/",
          "height": 394
        },
        "id": "XUIGBVUclstg",
        "outputId": "31556a6b-23a5-4ba0-fbcd-2e7bc3a424b4"
      },
      "execution_count": null,
      "outputs": [
        {
          "output_type": "execute_result",
          "data": {
            "text/plain": [
              "               Price block_reward   Price+1   Price+2   Price+3   Price+4  \\\n",
              "Date                                                                        \n",
              "2013-12-16  0.000200           25       NaN       NaN       NaN       NaN   \n",
              "2013-12-17  0.000269           25  0.000200       NaN       NaN       NaN   \n",
              "2013-12-18  0.000362           25  0.000269  0.000200       NaN       NaN   \n",
              "2013-12-19  0.001170           25  0.000362  0.000269  0.000200       NaN   \n",
              "2013-12-20  0.000707           25  0.001170  0.000362  0.000269  0.000200   \n",
              "2013-12-21  0.000394           25  0.000707  0.001170  0.000362  0.000269   \n",
              "2013-12-22  0.000315           25  0.000394  0.000707  0.001170  0.000362   \n",
              "2013-12-23  0.000451           25  0.000315  0.000394  0.000707  0.001170   \n",
              "2013-12-24  0.000685           25  0.000451  0.000315  0.000394  0.000707   \n",
              "2013-12-25  0.000587           25  0.000685  0.000451  0.000315  0.000394   \n",
              "\n",
              "             Price+5   Price+6   Price+7  \n",
              "Date                                      \n",
              "2013-12-16       NaN       NaN       NaN  \n",
              "2013-12-17       NaN       NaN       NaN  \n",
              "2013-12-18       NaN       NaN       NaN  \n",
              "2013-12-19       NaN       NaN       NaN  \n",
              "2013-12-20       NaN       NaN       NaN  \n",
              "2013-12-21  0.000200       NaN       NaN  \n",
              "2013-12-22  0.000269  0.000200       NaN  \n",
              "2013-12-23  0.000362  0.000269  0.000200  \n",
              "2013-12-24  0.001170  0.000362  0.000269  \n",
              "2013-12-25  0.000707  0.001170  0.000362  "
            ],
            "text/html": [
              "\n",
              "  <div id=\"df-3fe1e4d6-cafd-47dc-9c5e-c9fb64ff8e40\">\n",
              "    <div class=\"colab-df-container\">\n",
              "      <div>\n",
              "<style scoped>\n",
              "    .dataframe tbody tr th:only-of-type {\n",
              "        vertical-align: middle;\n",
              "    }\n",
              "\n",
              "    .dataframe tbody tr th {\n",
              "        vertical-align: top;\n",
              "    }\n",
              "\n",
              "    .dataframe thead th {\n",
              "        text-align: right;\n",
              "    }\n",
              "</style>\n",
              "<table border=\"1\" class=\"dataframe\">\n",
              "  <thead>\n",
              "    <tr style=\"text-align: right;\">\n",
              "      <th></th>\n",
              "      <th>Price</th>\n",
              "      <th>block_reward</th>\n",
              "      <th>Price+1</th>\n",
              "      <th>Price+2</th>\n",
              "      <th>Price+3</th>\n",
              "      <th>Price+4</th>\n",
              "      <th>Price+5</th>\n",
              "      <th>Price+6</th>\n",
              "      <th>Price+7</th>\n",
              "    </tr>\n",
              "    <tr>\n",
              "      <th>Date</th>\n",
              "      <th></th>\n",
              "      <th></th>\n",
              "      <th></th>\n",
              "      <th></th>\n",
              "      <th></th>\n",
              "      <th></th>\n",
              "      <th></th>\n",
              "      <th></th>\n",
              "      <th></th>\n",
              "    </tr>\n",
              "  </thead>\n",
              "  <tbody>\n",
              "    <tr>\n",
              "      <th>2013-12-16</th>\n",
              "      <td>0.000200</td>\n",
              "      <td>25</td>\n",
              "      <td>NaN</td>\n",
              "      <td>NaN</td>\n",
              "      <td>NaN</td>\n",
              "      <td>NaN</td>\n",
              "      <td>NaN</td>\n",
              "      <td>NaN</td>\n",
              "      <td>NaN</td>\n",
              "    </tr>\n",
              "    <tr>\n",
              "      <th>2013-12-17</th>\n",
              "      <td>0.000269</td>\n",
              "      <td>25</td>\n",
              "      <td>0.000200</td>\n",
              "      <td>NaN</td>\n",
              "      <td>NaN</td>\n",
              "      <td>NaN</td>\n",
              "      <td>NaN</td>\n",
              "      <td>NaN</td>\n",
              "      <td>NaN</td>\n",
              "    </tr>\n",
              "    <tr>\n",
              "      <th>2013-12-18</th>\n",
              "      <td>0.000362</td>\n",
              "      <td>25</td>\n",
              "      <td>0.000269</td>\n",
              "      <td>0.000200</td>\n",
              "      <td>NaN</td>\n",
              "      <td>NaN</td>\n",
              "      <td>NaN</td>\n",
              "      <td>NaN</td>\n",
              "      <td>NaN</td>\n",
              "    </tr>\n",
              "    <tr>\n",
              "      <th>2013-12-19</th>\n",
              "      <td>0.001170</td>\n",
              "      <td>25</td>\n",
              "      <td>0.000362</td>\n",
              "      <td>0.000269</td>\n",
              "      <td>0.000200</td>\n",
              "      <td>NaN</td>\n",
              "      <td>NaN</td>\n",
              "      <td>NaN</td>\n",
              "      <td>NaN</td>\n",
              "    </tr>\n",
              "    <tr>\n",
              "      <th>2013-12-20</th>\n",
              "      <td>0.000707</td>\n",
              "      <td>25</td>\n",
              "      <td>0.001170</td>\n",
              "      <td>0.000362</td>\n",
              "      <td>0.000269</td>\n",
              "      <td>0.000200</td>\n",
              "      <td>NaN</td>\n",
              "      <td>NaN</td>\n",
              "      <td>NaN</td>\n",
              "    </tr>\n",
              "    <tr>\n",
              "      <th>2013-12-21</th>\n",
              "      <td>0.000394</td>\n",
              "      <td>25</td>\n",
              "      <td>0.000707</td>\n",
              "      <td>0.001170</td>\n",
              "      <td>0.000362</td>\n",
              "      <td>0.000269</td>\n",
              "      <td>0.000200</td>\n",
              "      <td>NaN</td>\n",
              "      <td>NaN</td>\n",
              "    </tr>\n",
              "    <tr>\n",
              "      <th>2013-12-22</th>\n",
              "      <td>0.000315</td>\n",
              "      <td>25</td>\n",
              "      <td>0.000394</td>\n",
              "      <td>0.000707</td>\n",
              "      <td>0.001170</td>\n",
              "      <td>0.000362</td>\n",
              "      <td>0.000269</td>\n",
              "      <td>0.000200</td>\n",
              "      <td>NaN</td>\n",
              "    </tr>\n",
              "    <tr>\n",
              "      <th>2013-12-23</th>\n",
              "      <td>0.000451</td>\n",
              "      <td>25</td>\n",
              "      <td>0.000315</td>\n",
              "      <td>0.000394</td>\n",
              "      <td>0.000707</td>\n",
              "      <td>0.001170</td>\n",
              "      <td>0.000362</td>\n",
              "      <td>0.000269</td>\n",
              "      <td>0.000200</td>\n",
              "    </tr>\n",
              "    <tr>\n",
              "      <th>2013-12-24</th>\n",
              "      <td>0.000685</td>\n",
              "      <td>25</td>\n",
              "      <td>0.000451</td>\n",
              "      <td>0.000315</td>\n",
              "      <td>0.000394</td>\n",
              "      <td>0.000707</td>\n",
              "      <td>0.001170</td>\n",
              "      <td>0.000362</td>\n",
              "      <td>0.000269</td>\n",
              "    </tr>\n",
              "    <tr>\n",
              "      <th>2013-12-25</th>\n",
              "      <td>0.000587</td>\n",
              "      <td>25</td>\n",
              "      <td>0.000685</td>\n",
              "      <td>0.000451</td>\n",
              "      <td>0.000315</td>\n",
              "      <td>0.000394</td>\n",
              "      <td>0.000707</td>\n",
              "      <td>0.001170</td>\n",
              "      <td>0.000362</td>\n",
              "    </tr>\n",
              "  </tbody>\n",
              "</table>\n",
              "</div>\n",
              "      <button class=\"colab-df-convert\" onclick=\"convertToInteractive('df-3fe1e4d6-cafd-47dc-9c5e-c9fb64ff8e40')\"\n",
              "              title=\"Convert this dataframe to an interactive table.\"\n",
              "              style=\"display:none;\">\n",
              "        \n",
              "  <svg xmlns=\"http://www.w3.org/2000/svg\" height=\"24px\"viewBox=\"0 0 24 24\"\n",
              "       width=\"24px\">\n",
              "    <path d=\"M0 0h24v24H0V0z\" fill=\"none\"/>\n",
              "    <path d=\"M18.56 5.44l.94 2.06.94-2.06 2.06-.94-2.06-.94-.94-2.06-.94 2.06-2.06.94zm-11 1L8.5 8.5l.94-2.06 2.06-.94-2.06-.94L8.5 2.5l-.94 2.06-2.06.94zm10 10l.94 2.06.94-2.06 2.06-.94-2.06-.94-.94-2.06-.94 2.06-2.06.94z\"/><path d=\"M17.41 7.96l-1.37-1.37c-.4-.4-.92-.59-1.43-.59-.52 0-1.04.2-1.43.59L10.3 9.45l-7.72 7.72c-.78.78-.78 2.05 0 2.83L4 21.41c.39.39.9.59 1.41.59.51 0 1.02-.2 1.41-.59l7.78-7.78 2.81-2.81c.8-.78.8-2.07 0-2.86zM5.41 20L4 18.59l7.72-7.72 1.47 1.35L5.41 20z\"/>\n",
              "  </svg>\n",
              "      </button>\n",
              "      \n",
              "  <style>\n",
              "    .colab-df-container {\n",
              "      display:flex;\n",
              "      flex-wrap:wrap;\n",
              "      gap: 12px;\n",
              "    }\n",
              "\n",
              "    .colab-df-convert {\n",
              "      background-color: #E8F0FE;\n",
              "      border: none;\n",
              "      border-radius: 50%;\n",
              "      cursor: pointer;\n",
              "      display: none;\n",
              "      fill: #1967D2;\n",
              "      height: 32px;\n",
              "      padding: 0 0 0 0;\n",
              "      width: 32px;\n",
              "    }\n",
              "\n",
              "    .colab-df-convert:hover {\n",
              "      background-color: #E2EBFA;\n",
              "      box-shadow: 0px 1px 2px rgba(60, 64, 67, 0.3), 0px 1px 3px 1px rgba(60, 64, 67, 0.15);\n",
              "      fill: #174EA6;\n",
              "    }\n",
              "\n",
              "    [theme=dark] .colab-df-convert {\n",
              "      background-color: #3B4455;\n",
              "      fill: #D2E3FC;\n",
              "    }\n",
              "\n",
              "    [theme=dark] .colab-df-convert:hover {\n",
              "      background-color: #434B5C;\n",
              "      box-shadow: 0px 1px 3px 1px rgba(0, 0, 0, 0.15);\n",
              "      filter: drop-shadow(0px 1px 2px rgba(0, 0, 0, 0.3));\n",
              "      fill: #FFFFFF;\n",
              "    }\n",
              "  </style>\n",
              "\n",
              "      <script>\n",
              "        const buttonEl =\n",
              "          document.querySelector('#df-3fe1e4d6-cafd-47dc-9c5e-c9fb64ff8e40 button.colab-df-convert');\n",
              "        buttonEl.style.display =\n",
              "          google.colab.kernel.accessAllowed ? 'block' : 'none';\n",
              "\n",
              "        async function convertToInteractive(key) {\n",
              "          const element = document.querySelector('#df-3fe1e4d6-cafd-47dc-9c5e-c9fb64ff8e40');\n",
              "          const dataTable =\n",
              "            await google.colab.kernel.invokeFunction('convertToInteractive',\n",
              "                                                     [key], {});\n",
              "          if (!dataTable) return;\n",
              "\n",
              "          const docLinkHtml = 'Like what you see? Visit the ' +\n",
              "            '<a target=\"_blank\" href=https://colab.research.google.com/notebooks/data_table.ipynb>data table notebook</a>'\n",
              "            + ' to learn more about interactive tables.';\n",
              "          element.innerHTML = '';\n",
              "          dataTable['output_type'] = 'display_data';\n",
              "          await google.colab.output.renderOutput(dataTable, element);\n",
              "          const docLink = document.createElement('div');\n",
              "          docLink.innerHTML = docLinkHtml;\n",
              "          element.appendChild(docLink);\n",
              "        }\n",
              "      </script>\n",
              "    </div>\n",
              "  </div>\n",
              "  "
            ]
          },
          "metadata": {},
          "execution_count": 100
        }
      ]
    },
    {
      "cell_type": "code",
      "source": [
        "# Let's create X & y, remove the NaN's and convert to float32 to prevent TensorFlow errors \n",
        "X = bitcoin_prices_windowed.dropna().drop(\"Price\", axis=1).astype(np.float32) \n",
        "y = bitcoin_prices_windowed.dropna()[\"Price\"].astype(np.float32)\n",
        "X.head()"
      ],
      "metadata": {
        "colab": {
          "base_uri": "https://localhost:8080/",
          "height": 238
        },
        "id": "rtYmypKylxgJ",
        "outputId": "a8c4d773-d0b0-4e59-caba-8603f0f06989"
      },
      "execution_count": null,
      "outputs": [
        {
          "output_type": "execute_result",
          "data": {
            "text/plain": [
              "            block_reward   Price+1   Price+2   Price+3   Price+4   Price+5  \\\n",
              "Date                                                                         \n",
              "2013-12-23          25.0  0.000315  0.000394  0.000707  0.001170  0.000362   \n",
              "2013-12-24          25.0  0.000451  0.000315  0.000394  0.000707  0.001170   \n",
              "2013-12-25          25.0  0.000685  0.000451  0.000315  0.000394  0.000707   \n",
              "2013-12-26          25.0  0.000587  0.000685  0.000451  0.000315  0.000394   \n",
              "2013-12-27          25.0  0.000602  0.000587  0.000685  0.000451  0.000315   \n",
              "\n",
              "             Price+6   Price+7  \n",
              "Date                            \n",
              "2013-12-23  0.000269  0.000200  \n",
              "2013-12-24  0.000362  0.000269  \n",
              "2013-12-25  0.001170  0.000362  \n",
              "2013-12-26  0.000707  0.001170  \n",
              "2013-12-27  0.000394  0.000707  "
            ],
            "text/html": [
              "\n",
              "  <div id=\"df-31ee475b-95ee-44ef-b401-e09d374fbe42\">\n",
              "    <div class=\"colab-df-container\">\n",
              "      <div>\n",
              "<style scoped>\n",
              "    .dataframe tbody tr th:only-of-type {\n",
              "        vertical-align: middle;\n",
              "    }\n",
              "\n",
              "    .dataframe tbody tr th {\n",
              "        vertical-align: top;\n",
              "    }\n",
              "\n",
              "    .dataframe thead th {\n",
              "        text-align: right;\n",
              "    }\n",
              "</style>\n",
              "<table border=\"1\" class=\"dataframe\">\n",
              "  <thead>\n",
              "    <tr style=\"text-align: right;\">\n",
              "      <th></th>\n",
              "      <th>block_reward</th>\n",
              "      <th>Price+1</th>\n",
              "      <th>Price+2</th>\n",
              "      <th>Price+3</th>\n",
              "      <th>Price+4</th>\n",
              "      <th>Price+5</th>\n",
              "      <th>Price+6</th>\n",
              "      <th>Price+7</th>\n",
              "    </tr>\n",
              "    <tr>\n",
              "      <th>Date</th>\n",
              "      <th></th>\n",
              "      <th></th>\n",
              "      <th></th>\n",
              "      <th></th>\n",
              "      <th></th>\n",
              "      <th></th>\n",
              "      <th></th>\n",
              "      <th></th>\n",
              "    </tr>\n",
              "  </thead>\n",
              "  <tbody>\n",
              "    <tr>\n",
              "      <th>2013-12-23</th>\n",
              "      <td>25.0</td>\n",
              "      <td>0.000315</td>\n",
              "      <td>0.000394</td>\n",
              "      <td>0.000707</td>\n",
              "      <td>0.001170</td>\n",
              "      <td>0.000362</td>\n",
              "      <td>0.000269</td>\n",
              "      <td>0.000200</td>\n",
              "    </tr>\n",
              "    <tr>\n",
              "      <th>2013-12-24</th>\n",
              "      <td>25.0</td>\n",
              "      <td>0.000451</td>\n",
              "      <td>0.000315</td>\n",
              "      <td>0.000394</td>\n",
              "      <td>0.000707</td>\n",
              "      <td>0.001170</td>\n",
              "      <td>0.000362</td>\n",
              "      <td>0.000269</td>\n",
              "    </tr>\n",
              "    <tr>\n",
              "      <th>2013-12-25</th>\n",
              "      <td>25.0</td>\n",
              "      <td>0.000685</td>\n",
              "      <td>0.000451</td>\n",
              "      <td>0.000315</td>\n",
              "      <td>0.000394</td>\n",
              "      <td>0.000707</td>\n",
              "      <td>0.001170</td>\n",
              "      <td>0.000362</td>\n",
              "    </tr>\n",
              "    <tr>\n",
              "      <th>2013-12-26</th>\n",
              "      <td>25.0</td>\n",
              "      <td>0.000587</td>\n",
              "      <td>0.000685</td>\n",
              "      <td>0.000451</td>\n",
              "      <td>0.000315</td>\n",
              "      <td>0.000394</td>\n",
              "      <td>0.000707</td>\n",
              "      <td>0.001170</td>\n",
              "    </tr>\n",
              "    <tr>\n",
              "      <th>2013-12-27</th>\n",
              "      <td>25.0</td>\n",
              "      <td>0.000602</td>\n",
              "      <td>0.000587</td>\n",
              "      <td>0.000685</td>\n",
              "      <td>0.000451</td>\n",
              "      <td>0.000315</td>\n",
              "      <td>0.000394</td>\n",
              "      <td>0.000707</td>\n",
              "    </tr>\n",
              "  </tbody>\n",
              "</table>\n",
              "</div>\n",
              "      <button class=\"colab-df-convert\" onclick=\"convertToInteractive('df-31ee475b-95ee-44ef-b401-e09d374fbe42')\"\n",
              "              title=\"Convert this dataframe to an interactive table.\"\n",
              "              style=\"display:none;\">\n",
              "        \n",
              "  <svg xmlns=\"http://www.w3.org/2000/svg\" height=\"24px\"viewBox=\"0 0 24 24\"\n",
              "       width=\"24px\">\n",
              "    <path d=\"M0 0h24v24H0V0z\" fill=\"none\"/>\n",
              "    <path d=\"M18.56 5.44l.94 2.06.94-2.06 2.06-.94-2.06-.94-.94-2.06-.94 2.06-2.06.94zm-11 1L8.5 8.5l.94-2.06 2.06-.94-2.06-.94L8.5 2.5l-.94 2.06-2.06.94zm10 10l.94 2.06.94-2.06 2.06-.94-2.06-.94-.94-2.06-.94 2.06-2.06.94z\"/><path d=\"M17.41 7.96l-1.37-1.37c-.4-.4-.92-.59-1.43-.59-.52 0-1.04.2-1.43.59L10.3 9.45l-7.72 7.72c-.78.78-.78 2.05 0 2.83L4 21.41c.39.39.9.59 1.41.59.51 0 1.02-.2 1.41-.59l7.78-7.78 2.81-2.81c.8-.78.8-2.07 0-2.86zM5.41 20L4 18.59l7.72-7.72 1.47 1.35L5.41 20z\"/>\n",
              "  </svg>\n",
              "      </button>\n",
              "      \n",
              "  <style>\n",
              "    .colab-df-container {\n",
              "      display:flex;\n",
              "      flex-wrap:wrap;\n",
              "      gap: 12px;\n",
              "    }\n",
              "\n",
              "    .colab-df-convert {\n",
              "      background-color: #E8F0FE;\n",
              "      border: none;\n",
              "      border-radius: 50%;\n",
              "      cursor: pointer;\n",
              "      display: none;\n",
              "      fill: #1967D2;\n",
              "      height: 32px;\n",
              "      padding: 0 0 0 0;\n",
              "      width: 32px;\n",
              "    }\n",
              "\n",
              "    .colab-df-convert:hover {\n",
              "      background-color: #E2EBFA;\n",
              "      box-shadow: 0px 1px 2px rgba(60, 64, 67, 0.3), 0px 1px 3px 1px rgba(60, 64, 67, 0.15);\n",
              "      fill: #174EA6;\n",
              "    }\n",
              "\n",
              "    [theme=dark] .colab-df-convert {\n",
              "      background-color: #3B4455;\n",
              "      fill: #D2E3FC;\n",
              "    }\n",
              "\n",
              "    [theme=dark] .colab-df-convert:hover {\n",
              "      background-color: #434B5C;\n",
              "      box-shadow: 0px 1px 3px 1px rgba(0, 0, 0, 0.15);\n",
              "      filter: drop-shadow(0px 1px 2px rgba(0, 0, 0, 0.3));\n",
              "      fill: #FFFFFF;\n",
              "    }\n",
              "  </style>\n",
              "\n",
              "      <script>\n",
              "        const buttonEl =\n",
              "          document.querySelector('#df-31ee475b-95ee-44ef-b401-e09d374fbe42 button.colab-df-convert');\n",
              "        buttonEl.style.display =\n",
              "          google.colab.kernel.accessAllowed ? 'block' : 'none';\n",
              "\n",
              "        async function convertToInteractive(key) {\n",
              "          const element = document.querySelector('#df-31ee475b-95ee-44ef-b401-e09d374fbe42');\n",
              "          const dataTable =\n",
              "            await google.colab.kernel.invokeFunction('convertToInteractive',\n",
              "                                                     [key], {});\n",
              "          if (!dataTable) return;\n",
              "\n",
              "          const docLinkHtml = 'Like what you see? Visit the ' +\n",
              "            '<a target=\"_blank\" href=https://colab.research.google.com/notebooks/data_table.ipynb>data table notebook</a>'\n",
              "            + ' to learn more about interactive tables.';\n",
              "          element.innerHTML = '';\n",
              "          dataTable['output_type'] = 'display_data';\n",
              "          await google.colab.output.renderOutput(dataTable, element);\n",
              "          const docLink = document.createElement('div');\n",
              "          docLink.innerHTML = docLinkHtml;\n",
              "          element.appendChild(docLink);\n",
              "        }\n",
              "      </script>\n",
              "    </div>\n",
              "  </div>\n",
              "  "
            ]
          },
          "metadata": {},
          "execution_count": 101
        }
      ]
    },
    {
      "cell_type": "code",
      "source": [
        "# View labels\n",
        "y.head()"
      ],
      "metadata": {
        "colab": {
          "base_uri": "https://localhost:8080/"
        },
        "id": "IdbsiHCAl0dB",
        "outputId": "8f03b2bc-cea5-4614-e211-18a60cc284f7"
      },
      "execution_count": null,
      "outputs": [
        {
          "output_type": "execute_result",
          "data": {
            "text/plain": [
              "Date\n",
              "2013-12-23    0.000451\n",
              "2013-12-24    0.000685\n",
              "2013-12-25    0.000587\n",
              "2013-12-26    0.000602\n",
              "2013-12-27    0.000522\n",
              "Name: Price, dtype: float32"
            ]
          },
          "metadata": {},
          "execution_count": 102
        }
      ]
    },
    {
      "cell_type": "code",
      "source": [
        "# Make train and test sets\n",
        "split_size = int(len(X) * 0.8)\n",
        "X_train, y_train = X[:split_size], y[:split_size]\n",
        "X_test, y_test = X[split_size:], y[split_size:]\n",
        "len(X_train), len(y_train), len(X_test), len(y_test)"
      ],
      "metadata": {
        "colab": {
          "base_uri": "https://localhost:8080/"
        },
        "id": "iuvpD66Xl2-5",
        "outputId": "139c728d-17e6-4d06-e85c-3f5cfb0471d7"
      },
      "execution_count": null,
      "outputs": [
        {
          "output_type": "execute_result",
          "data": {
            "text/plain": [
              "(2571, 2571, 643, 643)"
            ]
          },
          "metadata": {},
          "execution_count": 103
        }
      ]
    },
    {
      "cell_type": "markdown",
      "source": [
        "# Model 6: Dense (multivariate time series)"
      ],
      "metadata": {
        "id": "5EeKzftll7LC"
      }
    },
    {
      "cell_type": "code",
      "source": [
        "tf.random.set_seed(42)\n",
        "\n",
        "# Make multivariate time series model\n",
        "model_6 = tf.keras.Sequential([\n",
        "  layers.Dense(128, activation=\"relu\"),\n",
        "  # layers.Dense(128, activation=\"relu\"), # adding an extra layer here should lead to beating the naive model\n",
        "  layers.Dense(HORIZON)\n",
        "], name=\"model_6_dense_multivariate\")\n",
        "\n",
        "# Compile\n",
        "model_6.compile(loss=\"mae\",\n",
        "                optimizer=tf.keras.optimizers.Adam())\n",
        "\n",
        "# Fit\n",
        "model_6.fit(X_train, y_train,\n",
        "            epochs=100,\n",
        "            batch_size=128,\n",
        "            verbose=0, # only print 1 line per epoch\n",
        "            validation_data=(X_test, y_test),\n",
        "            callbacks=[create_model_checkpoint(model_name=model_6.name)])"
      ],
      "metadata": {
        "colab": {
          "base_uri": "https://localhost:8080/"
        },
        "id": "jBXU5jJXl8dA",
        "outputId": "028d2ffd-3313-4fa9-a9c6-020bad2da833"
      },
      "execution_count": null,
      "outputs": [
        {
          "output_type": "execute_result",
          "data": {
            "text/plain": [
              "<keras.callbacks.History at 0x7fca422f6790>"
            ]
          },
          "metadata": {},
          "execution_count": 104
        }
      ]
    },
    {
      "cell_type": "code",
      "source": [
        "# Make sure best model is loaded and evaluate\n",
        "model_6 = tf.keras.models.load_model(\"model_experiments/model_6_dense_multivariate\")\n",
        "model_6.evaluate(X_test, y_test)"
      ],
      "metadata": {
        "colab": {
          "base_uri": "https://localhost:8080/"
        },
        "id": "jvm4xPJbmIyA",
        "outputId": "cf72d4e5-4787-4c1a-8c86-286eb6b2fe2a"
      },
      "execution_count": null,
      "outputs": [
        {
          "output_type": "stream",
          "name": "stdout",
          "text": [
            "21/21 [==============================] - 0s 3ms/step - loss: 0.0131\n"
          ]
        },
        {
          "output_type": "execute_result",
          "data": {
            "text/plain": [
              "0.01309114694595337"
            ]
          },
          "metadata": {},
          "execution_count": 105
        }
      ]
    },
    {
      "cell_type": "code",
      "source": [
        "# Make predictions on multivariate data\n",
        "model_6_preds = tf.squeeze(model_6.predict(X_test))\n",
        "model_6_preds[:10]"
      ],
      "metadata": {
        "colab": {
          "base_uri": "https://localhost:8080/"
        },
        "id": "L8THu-Z9mLE4",
        "outputId": "591d1304-9a7d-456d-eb39-2df89fde01e2"
      },
      "execution_count": null,
      "outputs": [
        {
          "output_type": "execute_result",
          "data": {
            "text/plain": [
              "<tf.Tensor: shape=(10,), dtype=float32, numpy=\n",
              "array([0.01156356, 0.01162703, 0.01263383, 0.01309748, 0.01310724,\n",
              "       0.01299064, 0.01286248, 0.01241669, 0.01219107, 0.0124236 ],\n",
              "      dtype=float32)>"
            ]
          },
          "metadata": {},
          "execution_count": 106
        }
      ]
    },
    {
      "cell_type": "code",
      "source": [
        "# Evaluate preds\n",
        "model_6_results = evaluate_preds(y_true=y_test,\n",
        "                                 y_pred=model_6_preds)\n",
        "model_6_results"
      ],
      "metadata": {
        "colab": {
          "base_uri": "https://localhost:8080/"
        },
        "id": "TB9hxfqNmIkI",
        "outputId": "7c3eb88d-a6cb-4d6f-a3a6-77d75815a954"
      },
      "execution_count": null,
      "outputs": [
        {
          "output_type": "execute_result",
          "data": {
            "text/plain": [
              "{'mae': 0.013091148,\n",
              " 'mse': 0.0008705288,\n",
              " 'rmse': 0.029504726,\n",
              " 'mape': 7.857568,\n",
              " 'mase': 1.4271721}"
            ]
          },
          "metadata": {},
          "execution_count": 107
        }
      ]
    },
    {
      "cell_type": "code",
      "source": [
        "model_1_results"
      ],
      "metadata": {
        "colab": {
          "base_uri": "https://localhost:8080/"
        },
        "id": "-aa8teucmQJ4",
        "outputId": "13090e0b-5298-4702-f69d-5764eea9d994"
      },
      "execution_count": null,
      "outputs": [
        {
          "output_type": "execute_result",
          "data": {
            "text/plain": [
              "{'mae': 0.058925882,\n",
              " 'mse': 0.006219242,\n",
              " 'rmse': 0.07886217,\n",
              " 'mape': 32.893353,\n",
              " 'mase': 6.423988}"
            ]
          },
          "metadata": {},
          "execution_count": 108
        }
      ]
    },
    {
      "cell_type": "markdown",
      "source": [
        "# Model 7: N-BEATS algorithm"
      ],
      "metadata": {
        "id": "VpdITw3-mT5I"
      }
    },
    {
      "cell_type": "code",
      "source": [
        "# Create NBeatsBlock custom layer \n",
        "class NBeatsBlock(tf.keras.layers.Layer):\n",
        "  def __init__(self, # the constructor takes all the hyperparameters for the layer\n",
        "               input_size: int,\n",
        "               theta_size: int,\n",
        "               horizon: int,\n",
        "               n_neurons: int,\n",
        "               n_layers: int,\n",
        "               **kwargs): # the **kwargs argument takes care of all of the arguments for the parent class (input_shape, trainable, name)\n",
        "    super().__init__(**kwargs)\n",
        "    self.input_size = input_size\n",
        "    self.theta_size = theta_size\n",
        "    self.horizon = horizon\n",
        "    self.n_neurons = n_neurons\n",
        "    self.n_layers = n_layers\n",
        "\n",
        "    # Block contains stack of 4 fully connected layers each has ReLU activation\n",
        "    self.hidden = [tf.keras.layers.Dense(n_neurons, activation=\"relu\") for _ in range(n_layers)]\n",
        "    # Output of block is a theta layer with linear activation\n",
        "    self.theta_layer = tf.keras.layers.Dense(theta_size, activation=\"linear\", name=\"theta\")\n",
        "\n",
        "  def call(self, inputs): # the call method is what runs when the layer is called \n",
        "    x = inputs \n",
        "    for layer in self.hidden: # pass inputs through each hidden layer \n",
        "      x = layer(x)\n",
        "    theta = self.theta_layer(x) \n",
        "    # Output the backcast and forecast from theta\n",
        "    backcast, forecast = theta[:, :self.input_size], theta[:, -self.horizon:]\n",
        "    return backcast, forecast"
      ],
      "metadata": {
        "id": "-1zMN-iQmVYA"
      },
      "execution_count": null,
      "outputs": []
    },
    {
      "cell_type": "code",
      "source": [
        "# Set up dummy NBeatsBlock layer to represent inputs and outputs\n",
        "dummy_nbeats_block_layer = NBeatsBlock(input_size=WINDOW_SIZE, \n",
        "                                       theta_size=WINDOW_SIZE+HORIZON, # backcast + forecast \n",
        "                                       horizon=HORIZON,\n",
        "                                       n_neurons=128,\n",
        "                                       n_layers=4)"
      ],
      "metadata": {
        "id": "YU1Y_264mcmI"
      },
      "execution_count": null,
      "outputs": []
    },
    {
      "cell_type": "code",
      "source": [
        "# Create dummy inputs (have to be same size as input_size)\n",
        "dummy_inputs = tf.expand_dims(tf.range(WINDOW_SIZE) + 1, axis=0) # input shape to the model has to reflect Dense layer input requirements (ndim=2)\n",
        "dummy_inputs"
      ],
      "metadata": {
        "colab": {
          "base_uri": "https://localhost:8080/"
        },
        "id": "Qdh687r-meja",
        "outputId": "dc96d63e-7523-415b-a56d-d50f2ddf5887"
      },
      "execution_count": null,
      "outputs": [
        {
          "output_type": "execute_result",
          "data": {
            "text/plain": [
              "<tf.Tensor: shape=(1, 7), dtype=int32, numpy=array([[1, 2, 3, 4, 5, 6, 7]], dtype=int32)>"
            ]
          },
          "metadata": {},
          "execution_count": 111
        }
      ]
    },
    {
      "cell_type": "code",
      "source": [
        "# Pass dummy inputs to dummy NBeatsBlock layer\n",
        "backcast, forecast = dummy_nbeats_block_layer(dummy_inputs)\n",
        "# These are the activation outputs of the theta layer (they'll be random due to no training of the model)\n",
        "print(f\"Backcast: {tf.squeeze(backcast.numpy())}\")\n",
        "print(f\"Forecast: {tf.squeeze(forecast.numpy())}\")"
      ],
      "metadata": {
        "colab": {
          "base_uri": "https://localhost:8080/"
        },
        "id": "VshtE1AbmhUY",
        "outputId": "4bed8650-1cd3-4c66-cfcc-74f64443a835"
      },
      "execution_count": null,
      "outputs": [
        {
          "output_type": "stream",
          "name": "stdout",
          "text": [
            "Backcast: [ 0.19014983  0.8379835  -0.32870027  0.25159904 -0.47540277 -0.7783665\n",
            " -0.5299448 ]\n",
            "Forecast: -0.7554212808609009\n"
          ]
        }
      ]
    },
    {
      "cell_type": "code",
      "source": [
        "HORIZON = 1 # how far to predict forward\n",
        "WINDOW_SIZE = 7 # how far to lookback"
      ],
      "metadata": {
        "id": "5FqVy8V0mkeZ"
      },
      "execution_count": null,
      "outputs": []
    },
    {
      "cell_type": "code",
      "source": [
        "# Create NBEATS data inputs (NBEATS works with univariate time series)\n",
        "bitcoin_prices.head()"
      ],
      "metadata": {
        "colab": {
          "base_uri": "https://localhost:8080/",
          "height": 238
        },
        "id": "UeoUcUHYmlev",
        "outputId": "cb1a1700-2043-433a-852a-c1c6cd053b3f"
      },
      "execution_count": null,
      "outputs": [
        {
          "output_type": "execute_result",
          "data": {
            "text/plain": [
              "               Price\n",
              "Date                \n",
              "2013-12-16  0.000200\n",
              "2013-12-17  0.000269\n",
              "2013-12-18  0.000362\n",
              "2013-12-19  0.001170\n",
              "2013-12-20  0.000707"
            ],
            "text/html": [
              "\n",
              "  <div id=\"df-fda8a2cd-5765-4e7d-9069-5ab817b92366\">\n",
              "    <div class=\"colab-df-container\">\n",
              "      <div>\n",
              "<style scoped>\n",
              "    .dataframe tbody tr th:only-of-type {\n",
              "        vertical-align: middle;\n",
              "    }\n",
              "\n",
              "    .dataframe tbody tr th {\n",
              "        vertical-align: top;\n",
              "    }\n",
              "\n",
              "    .dataframe thead th {\n",
              "        text-align: right;\n",
              "    }\n",
              "</style>\n",
              "<table border=\"1\" class=\"dataframe\">\n",
              "  <thead>\n",
              "    <tr style=\"text-align: right;\">\n",
              "      <th></th>\n",
              "      <th>Price</th>\n",
              "    </tr>\n",
              "    <tr>\n",
              "      <th>Date</th>\n",
              "      <th></th>\n",
              "    </tr>\n",
              "  </thead>\n",
              "  <tbody>\n",
              "    <tr>\n",
              "      <th>2013-12-16</th>\n",
              "      <td>0.000200</td>\n",
              "    </tr>\n",
              "    <tr>\n",
              "      <th>2013-12-17</th>\n",
              "      <td>0.000269</td>\n",
              "    </tr>\n",
              "    <tr>\n",
              "      <th>2013-12-18</th>\n",
              "      <td>0.000362</td>\n",
              "    </tr>\n",
              "    <tr>\n",
              "      <th>2013-12-19</th>\n",
              "      <td>0.001170</td>\n",
              "    </tr>\n",
              "    <tr>\n",
              "      <th>2013-12-20</th>\n",
              "      <td>0.000707</td>\n",
              "    </tr>\n",
              "  </tbody>\n",
              "</table>\n",
              "</div>\n",
              "      <button class=\"colab-df-convert\" onclick=\"convertToInteractive('df-fda8a2cd-5765-4e7d-9069-5ab817b92366')\"\n",
              "              title=\"Convert this dataframe to an interactive table.\"\n",
              "              style=\"display:none;\">\n",
              "        \n",
              "  <svg xmlns=\"http://www.w3.org/2000/svg\" height=\"24px\"viewBox=\"0 0 24 24\"\n",
              "       width=\"24px\">\n",
              "    <path d=\"M0 0h24v24H0V0z\" fill=\"none\"/>\n",
              "    <path d=\"M18.56 5.44l.94 2.06.94-2.06 2.06-.94-2.06-.94-.94-2.06-.94 2.06-2.06.94zm-11 1L8.5 8.5l.94-2.06 2.06-.94-2.06-.94L8.5 2.5l-.94 2.06-2.06.94zm10 10l.94 2.06.94-2.06 2.06-.94-2.06-.94-.94-2.06-.94 2.06-2.06.94z\"/><path d=\"M17.41 7.96l-1.37-1.37c-.4-.4-.92-.59-1.43-.59-.52 0-1.04.2-1.43.59L10.3 9.45l-7.72 7.72c-.78.78-.78 2.05 0 2.83L4 21.41c.39.39.9.59 1.41.59.51 0 1.02-.2 1.41-.59l7.78-7.78 2.81-2.81c.8-.78.8-2.07 0-2.86zM5.41 20L4 18.59l7.72-7.72 1.47 1.35L5.41 20z\"/>\n",
              "  </svg>\n",
              "      </button>\n",
              "      \n",
              "  <style>\n",
              "    .colab-df-container {\n",
              "      display:flex;\n",
              "      flex-wrap:wrap;\n",
              "      gap: 12px;\n",
              "    }\n",
              "\n",
              "    .colab-df-convert {\n",
              "      background-color: #E8F0FE;\n",
              "      border: none;\n",
              "      border-radius: 50%;\n",
              "      cursor: pointer;\n",
              "      display: none;\n",
              "      fill: #1967D2;\n",
              "      height: 32px;\n",
              "      padding: 0 0 0 0;\n",
              "      width: 32px;\n",
              "    }\n",
              "\n",
              "    .colab-df-convert:hover {\n",
              "      background-color: #E2EBFA;\n",
              "      box-shadow: 0px 1px 2px rgba(60, 64, 67, 0.3), 0px 1px 3px 1px rgba(60, 64, 67, 0.15);\n",
              "      fill: #174EA6;\n",
              "    }\n",
              "\n",
              "    [theme=dark] .colab-df-convert {\n",
              "      background-color: #3B4455;\n",
              "      fill: #D2E3FC;\n",
              "    }\n",
              "\n",
              "    [theme=dark] .colab-df-convert:hover {\n",
              "      background-color: #434B5C;\n",
              "      box-shadow: 0px 1px 3px 1px rgba(0, 0, 0, 0.15);\n",
              "      filter: drop-shadow(0px 1px 2px rgba(0, 0, 0, 0.3));\n",
              "      fill: #FFFFFF;\n",
              "    }\n",
              "  </style>\n",
              "\n",
              "      <script>\n",
              "        const buttonEl =\n",
              "          document.querySelector('#df-fda8a2cd-5765-4e7d-9069-5ab817b92366 button.colab-df-convert');\n",
              "        buttonEl.style.display =\n",
              "          google.colab.kernel.accessAllowed ? 'block' : 'none';\n",
              "\n",
              "        async function convertToInteractive(key) {\n",
              "          const element = document.querySelector('#df-fda8a2cd-5765-4e7d-9069-5ab817b92366');\n",
              "          const dataTable =\n",
              "            await google.colab.kernel.invokeFunction('convertToInteractive',\n",
              "                                                     [key], {});\n",
              "          if (!dataTable) return;\n",
              "\n",
              "          const docLinkHtml = 'Like what you see? Visit the ' +\n",
              "            '<a target=\"_blank\" href=https://colab.research.google.com/notebooks/data_table.ipynb>data table notebook</a>'\n",
              "            + ' to learn more about interactive tables.';\n",
              "          element.innerHTML = '';\n",
              "          dataTable['output_type'] = 'display_data';\n",
              "          await google.colab.output.renderOutput(dataTable, element);\n",
              "          const docLink = document.createElement('div');\n",
              "          docLink.innerHTML = docLinkHtml;\n",
              "          element.appendChild(docLink);\n",
              "        }\n",
              "      </script>\n",
              "    </div>\n",
              "  </div>\n",
              "  "
            ]
          },
          "metadata": {},
          "execution_count": 114
        }
      ]
    },
    {
      "cell_type": "code",
      "source": [
        "# Add windowed columns\n",
        "bitcoin_prices_nbeats = bitcoin_prices.copy()\n",
        "for i in range(WINDOW_SIZE):\n",
        "  bitcoin_prices_nbeats[f\"Price+{i+1}\"] = bitcoin_prices_nbeats[\"Price\"].shift(periods=i+1)\n",
        "bitcoin_prices_nbeats.dropna().head()"
      ],
      "metadata": {
        "colab": {
          "base_uri": "https://localhost:8080/",
          "height": 238
        },
        "id": "Yv-SenJnmovA",
        "outputId": "5d9483b9-deb0-4c93-a928-9c2899fd48c4"
      },
      "execution_count": null,
      "outputs": [
        {
          "output_type": "execute_result",
          "data": {
            "text/plain": [
              "               Price   Price+1   Price+2   Price+3   Price+4   Price+5  \\\n",
              "Date                                                                     \n",
              "2013-12-23  0.000451  0.000315  0.000394  0.000707  0.001170  0.000362   \n",
              "2013-12-24  0.000685  0.000451  0.000315  0.000394  0.000707  0.001170   \n",
              "2013-12-25  0.000587  0.000685  0.000451  0.000315  0.000394  0.000707   \n",
              "2013-12-26  0.000602  0.000587  0.000685  0.000451  0.000315  0.000394   \n",
              "2013-12-27  0.000522  0.000602  0.000587  0.000685  0.000451  0.000315   \n",
              "\n",
              "             Price+6   Price+7  \n",
              "Date                            \n",
              "2013-12-23  0.000269  0.000200  \n",
              "2013-12-24  0.000362  0.000269  \n",
              "2013-12-25  0.001170  0.000362  \n",
              "2013-12-26  0.000707  0.001170  \n",
              "2013-12-27  0.000394  0.000707  "
            ],
            "text/html": [
              "\n",
              "  <div id=\"df-f211a6a2-663a-415d-a82c-ce5db2ea3d41\">\n",
              "    <div class=\"colab-df-container\">\n",
              "      <div>\n",
              "<style scoped>\n",
              "    .dataframe tbody tr th:only-of-type {\n",
              "        vertical-align: middle;\n",
              "    }\n",
              "\n",
              "    .dataframe tbody tr th {\n",
              "        vertical-align: top;\n",
              "    }\n",
              "\n",
              "    .dataframe thead th {\n",
              "        text-align: right;\n",
              "    }\n",
              "</style>\n",
              "<table border=\"1\" class=\"dataframe\">\n",
              "  <thead>\n",
              "    <tr style=\"text-align: right;\">\n",
              "      <th></th>\n",
              "      <th>Price</th>\n",
              "      <th>Price+1</th>\n",
              "      <th>Price+2</th>\n",
              "      <th>Price+3</th>\n",
              "      <th>Price+4</th>\n",
              "      <th>Price+5</th>\n",
              "      <th>Price+6</th>\n",
              "      <th>Price+7</th>\n",
              "    </tr>\n",
              "    <tr>\n",
              "      <th>Date</th>\n",
              "      <th></th>\n",
              "      <th></th>\n",
              "      <th></th>\n",
              "      <th></th>\n",
              "      <th></th>\n",
              "      <th></th>\n",
              "      <th></th>\n",
              "      <th></th>\n",
              "    </tr>\n",
              "  </thead>\n",
              "  <tbody>\n",
              "    <tr>\n",
              "      <th>2013-12-23</th>\n",
              "      <td>0.000451</td>\n",
              "      <td>0.000315</td>\n",
              "      <td>0.000394</td>\n",
              "      <td>0.000707</td>\n",
              "      <td>0.001170</td>\n",
              "      <td>0.000362</td>\n",
              "      <td>0.000269</td>\n",
              "      <td>0.000200</td>\n",
              "    </tr>\n",
              "    <tr>\n",
              "      <th>2013-12-24</th>\n",
              "      <td>0.000685</td>\n",
              "      <td>0.000451</td>\n",
              "      <td>0.000315</td>\n",
              "      <td>0.000394</td>\n",
              "      <td>0.000707</td>\n",
              "      <td>0.001170</td>\n",
              "      <td>0.000362</td>\n",
              "      <td>0.000269</td>\n",
              "    </tr>\n",
              "    <tr>\n",
              "      <th>2013-12-25</th>\n",
              "      <td>0.000587</td>\n",
              "      <td>0.000685</td>\n",
              "      <td>0.000451</td>\n",
              "      <td>0.000315</td>\n",
              "      <td>0.000394</td>\n",
              "      <td>0.000707</td>\n",
              "      <td>0.001170</td>\n",
              "      <td>0.000362</td>\n",
              "    </tr>\n",
              "    <tr>\n",
              "      <th>2013-12-26</th>\n",
              "      <td>0.000602</td>\n",
              "      <td>0.000587</td>\n",
              "      <td>0.000685</td>\n",
              "      <td>0.000451</td>\n",
              "      <td>0.000315</td>\n",
              "      <td>0.000394</td>\n",
              "      <td>0.000707</td>\n",
              "      <td>0.001170</td>\n",
              "    </tr>\n",
              "    <tr>\n",
              "      <th>2013-12-27</th>\n",
              "      <td>0.000522</td>\n",
              "      <td>0.000602</td>\n",
              "      <td>0.000587</td>\n",
              "      <td>0.000685</td>\n",
              "      <td>0.000451</td>\n",
              "      <td>0.000315</td>\n",
              "      <td>0.000394</td>\n",
              "      <td>0.000707</td>\n",
              "    </tr>\n",
              "  </tbody>\n",
              "</table>\n",
              "</div>\n",
              "      <button class=\"colab-df-convert\" onclick=\"convertToInteractive('df-f211a6a2-663a-415d-a82c-ce5db2ea3d41')\"\n",
              "              title=\"Convert this dataframe to an interactive table.\"\n",
              "              style=\"display:none;\">\n",
              "        \n",
              "  <svg xmlns=\"http://www.w3.org/2000/svg\" height=\"24px\"viewBox=\"0 0 24 24\"\n",
              "       width=\"24px\">\n",
              "    <path d=\"M0 0h24v24H0V0z\" fill=\"none\"/>\n",
              "    <path d=\"M18.56 5.44l.94 2.06.94-2.06 2.06-.94-2.06-.94-.94-2.06-.94 2.06-2.06.94zm-11 1L8.5 8.5l.94-2.06 2.06-.94-2.06-.94L8.5 2.5l-.94 2.06-2.06.94zm10 10l.94 2.06.94-2.06 2.06-.94-2.06-.94-.94-2.06-.94 2.06-2.06.94z\"/><path d=\"M17.41 7.96l-1.37-1.37c-.4-.4-.92-.59-1.43-.59-.52 0-1.04.2-1.43.59L10.3 9.45l-7.72 7.72c-.78.78-.78 2.05 0 2.83L4 21.41c.39.39.9.59 1.41.59.51 0 1.02-.2 1.41-.59l7.78-7.78 2.81-2.81c.8-.78.8-2.07 0-2.86zM5.41 20L4 18.59l7.72-7.72 1.47 1.35L5.41 20z\"/>\n",
              "  </svg>\n",
              "      </button>\n",
              "      \n",
              "  <style>\n",
              "    .colab-df-container {\n",
              "      display:flex;\n",
              "      flex-wrap:wrap;\n",
              "      gap: 12px;\n",
              "    }\n",
              "\n",
              "    .colab-df-convert {\n",
              "      background-color: #E8F0FE;\n",
              "      border: none;\n",
              "      border-radius: 50%;\n",
              "      cursor: pointer;\n",
              "      display: none;\n",
              "      fill: #1967D2;\n",
              "      height: 32px;\n",
              "      padding: 0 0 0 0;\n",
              "      width: 32px;\n",
              "    }\n",
              "\n",
              "    .colab-df-convert:hover {\n",
              "      background-color: #E2EBFA;\n",
              "      box-shadow: 0px 1px 2px rgba(60, 64, 67, 0.3), 0px 1px 3px 1px rgba(60, 64, 67, 0.15);\n",
              "      fill: #174EA6;\n",
              "    }\n",
              "\n",
              "    [theme=dark] .colab-df-convert {\n",
              "      background-color: #3B4455;\n",
              "      fill: #D2E3FC;\n",
              "    }\n",
              "\n",
              "    [theme=dark] .colab-df-convert:hover {\n",
              "      background-color: #434B5C;\n",
              "      box-shadow: 0px 1px 3px 1px rgba(0, 0, 0, 0.15);\n",
              "      filter: drop-shadow(0px 1px 2px rgba(0, 0, 0, 0.3));\n",
              "      fill: #FFFFFF;\n",
              "    }\n",
              "  </style>\n",
              "\n",
              "      <script>\n",
              "        const buttonEl =\n",
              "          document.querySelector('#df-f211a6a2-663a-415d-a82c-ce5db2ea3d41 button.colab-df-convert');\n",
              "        buttonEl.style.display =\n",
              "          google.colab.kernel.accessAllowed ? 'block' : 'none';\n",
              "\n",
              "        async function convertToInteractive(key) {\n",
              "          const element = document.querySelector('#df-f211a6a2-663a-415d-a82c-ce5db2ea3d41');\n",
              "          const dataTable =\n",
              "            await google.colab.kernel.invokeFunction('convertToInteractive',\n",
              "                                                     [key], {});\n",
              "          if (!dataTable) return;\n",
              "\n",
              "          const docLinkHtml = 'Like what you see? Visit the ' +\n",
              "            '<a target=\"_blank\" href=https://colab.research.google.com/notebooks/data_table.ipynb>data table notebook</a>'\n",
              "            + ' to learn more about interactive tables.';\n",
              "          element.innerHTML = '';\n",
              "          dataTable['output_type'] = 'display_data';\n",
              "          await google.colab.output.renderOutput(dataTable, element);\n",
              "          const docLink = document.createElement('div');\n",
              "          docLink.innerHTML = docLinkHtml;\n",
              "          element.appendChild(docLink);\n",
              "        }\n",
              "      </script>\n",
              "    </div>\n",
              "  </div>\n",
              "  "
            ]
          },
          "metadata": {},
          "execution_count": 115
        }
      ]
    },
    {
      "cell_type": "code",
      "source": [
        "# Make features and labels\n",
        "X = bitcoin_prices_nbeats.dropna().drop(\"Price\", axis=1)\n",
        "y = bitcoin_prices_nbeats.dropna()[\"Price\"]\n",
        "\n",
        "# Make train and test sets\n",
        "split_size = int(len(X) * 0.8)\n",
        "X_train, y_train = X[:split_size], y[:split_size]\n",
        "X_test, y_test = X[split_size:], y[split_size:]\n",
        "len(X_train), len(y_train), len(X_test), len(y_test)"
      ],
      "metadata": {
        "colab": {
          "base_uri": "https://localhost:8080/"
        },
        "id": "3IG6jgpPmrmS",
        "outputId": "4f2191f0-9e26-4fe1-e2e3-c0e4149b2ec3"
      },
      "execution_count": null,
      "outputs": [
        {
          "output_type": "execute_result",
          "data": {
            "text/plain": [
              "(2571, 2571, 643, 643)"
            ]
          },
          "metadata": {},
          "execution_count": 116
        }
      ]
    },
    {
      "cell_type": "code",
      "source": [
        "# 1. Turn train and test arrays into tensor Datasets\n",
        "train_features_dataset = tf.data.Dataset.from_tensor_slices(X_train)\n",
        "train_labels_dataset = tf.data.Dataset.from_tensor_slices(y_train)\n",
        "\n",
        "test_features_dataset = tf.data.Dataset.from_tensor_slices(X_test)\n",
        "test_labels_dataset = tf.data.Dataset.from_tensor_slices(y_test)\n",
        "\n",
        "# 2. Combine features & labels\n",
        "train_dataset = tf.data.Dataset.zip((train_features_dataset, train_labels_dataset))\n",
        "test_dataset = tf.data.Dataset.zip((test_features_dataset, test_labels_dataset))\n",
        "\n",
        "# 3. Batch and prefetch for optimal performance\n",
        "BATCH_SIZE = 1024 # taken from Appendix D in N-BEATS paper\n",
        "train_dataset = train_dataset.batch(BATCH_SIZE).prefetch(tf.data.AUTOTUNE)\n",
        "test_dataset = test_dataset.batch(BATCH_SIZE).prefetch(tf.data.AUTOTUNE)\n",
        "\n",
        "train_dataset, test_dataset"
      ],
      "metadata": {
        "colab": {
          "base_uri": "https://localhost:8080/"
        },
        "id": "P0EiH4Vomvho",
        "outputId": "919c8c8a-e4ef-41d1-dd46-42d81935e119"
      },
      "execution_count": null,
      "outputs": [
        {
          "output_type": "execute_result",
          "data": {
            "text/plain": [
              "(<PrefetchDataset element_spec=(TensorSpec(shape=(None, 7), dtype=tf.float64, name=None), TensorSpec(shape=(None,), dtype=tf.float64, name=None))>,\n",
              " <PrefetchDataset element_spec=(TensorSpec(shape=(None, 7), dtype=tf.float64, name=None), TensorSpec(shape=(None,), dtype=tf.float64, name=None))>)"
            ]
          },
          "metadata": {},
          "execution_count": 117
        }
      ]
    },
    {
      "cell_type": "code",
      "source": [
        "# Values from N-BEATS paper Figure 1 and Table 18/Appendix D\n",
        "N_EPOCHS = 5000 # called \"Iterations\" in Table 18\n",
        "N_NEURONS = 512 # called \"Width\" in Table 18\n",
        "N_LAYERS = 4\n",
        "N_STACKS = 30\n",
        "\n",
        "INPUT_SIZE = WINDOW_SIZE * HORIZON # called \"Lookback\" in Table 18\n",
        "THETA_SIZE = INPUT_SIZE + HORIZON\n",
        "\n",
        "INPUT_SIZE, THETA_SIZE"
      ],
      "metadata": {
        "colab": {
          "base_uri": "https://localhost:8080/"
        },
        "id": "fes3gAyRmyzo",
        "outputId": "59bfeef8-d3fd-4e7a-ea06-f1803e462a27"
      },
      "execution_count": null,
      "outputs": [
        {
          "output_type": "execute_result",
          "data": {
            "text/plain": [
              "(7, 8)"
            ]
          },
          "metadata": {},
          "execution_count": 118
        }
      ]
    },
    {
      "cell_type": "code",
      "source": [
        "# Make tensors\n",
        "tensor_1 = tf.range(10) + 10\n",
        "tensor_2 = tf.range(10)\n",
        "\n",
        "# Subtract\n",
        "subtracted = layers.subtract([tensor_1, tensor_2])\n",
        "\n",
        "# Add\n",
        "added = layers.add([tensor_1, tensor_2])\n",
        "\n",
        "print(f\"Input tensors: {tensor_1.numpy()} & {tensor_2.numpy()}\")\n",
        "print(f\"Subtracted: {subtracted.numpy()}\")\n",
        "print(f\"Added: {added.numpy()}\")"
      ],
      "metadata": {
        "colab": {
          "base_uri": "https://localhost:8080/"
        },
        "id": "h8z0F5btm1Xo",
        "outputId": "442149bc-a9f5-4f0d-b73c-a7cd50485547"
      },
      "execution_count": null,
      "outputs": [
        {
          "output_type": "stream",
          "name": "stdout",
          "text": [
            "Input tensors: [10 11 12 13 14 15 16 17 18 19] & [0 1 2 3 4 5 6 7 8 9]\n",
            "Subtracted: [10 10 10 10 10 10 10 10 10 10]\n",
            "Added: [10 12 14 16 18 20 22 24 26 28]\n"
          ]
        }
      ]
    },
    {
      "cell_type": "markdown",
      "source": [
        "### Skip the rest of Model 7"
      ],
      "metadata": {
        "id": "c6XSfavAm43p"
      }
    },
    {
      "cell_type": "markdown",
      "source": [
        "# Model 8: Creating an ensemble (stacking different models together)"
      ],
      "metadata": {
        "id": "m4v5T7Zam6MI"
      }
    },
    {
      "cell_type": "code",
      "source": [
        "def get_ensemble_models(horizon=HORIZON, \n",
        "                        train_data=train_dataset,\n",
        "                        test_data=test_dataset,\n",
        "                        num_iter=10, \n",
        "                        num_epochs=100, \n",
        "                        loss_fns=[\"mae\", \"mse\", \"mape\"]):\n",
        "  \"\"\"\n",
        "  Returns a list of num_iter models each trained on MAE, MSE and MAPE loss.\n",
        "\n",
        "  For example, if num_iter=10, a list of 30 trained models will be returned:\n",
        "  10 * len([\"mae\", \"mse\", \"mape\"]).\n",
        "  \"\"\"\n",
        "  # Make empty list for trained ensemble models\n",
        "  ensemble_models = []\n",
        "\n",
        "  # Create num_iter number of models per loss function\n",
        "  for i in range(num_iter):\n",
        "    # Build and fit a new model with a different loss function\n",
        "    for loss_function in loss_fns:\n",
        "      print(f\"Optimizing model by reducing: {loss_function} for {num_epochs} epochs, model number: {i}\")\n",
        "\n",
        "      # Construct a simple model (similar to model_1)\n",
        "      model = tf.keras.Sequential([\n",
        "        # Initialize layers with normal (Gaussian) distribution so we can use the models for prediction\n",
        "        # interval estimation later: https://www.tensorflow.org/api_docs/python/tf/keras/initializers/HeNormal\n",
        "        layers.Dense(128, kernel_initializer=\"he_normal\", activation=\"relu\"), \n",
        "        layers.Dense(128, kernel_initializer=\"he_normal\", activation=\"relu\"),\n",
        "        layers.Dense(HORIZON)                                 \n",
        "      ])\n",
        "\n",
        "      # Compile simple model with current loss function\n",
        "      model.compile(loss=loss_function,\n",
        "                    optimizer=tf.keras.optimizers.Adam(),\n",
        "                    metrics=[\"mae\", \"mse\"])\n",
        "      \n",
        "      # Fit model\n",
        "      model.fit(train_data,\n",
        "                epochs=num_epochs,\n",
        "                verbose=0,\n",
        "                validation_data=test_data,\n",
        "                # Add callbacks to prevent training from going/stalling for too long\n",
        "                callbacks=[tf.keras.callbacks.EarlyStopping(monitor=\"val_loss\",\n",
        "                                                            patience=200,\n",
        "                                                            restore_best_weights=True),\n",
        "                           tf.keras.callbacks.ReduceLROnPlateau(monitor=\"val_loss\",\n",
        "                                                                patience=100,\n",
        "                                                                verbose=1)])\n",
        "      \n",
        "      # Append fitted model to list of ensemble models\n",
        "      ensemble_models.append(model)\n",
        "\n",
        "  return ensemble_models # return list of trained models"
      ],
      "metadata": {
        "id": "2o7GAbIem9K5"
      },
      "execution_count": null,
      "outputs": []
    },
    {
      "cell_type": "code",
      "source": [
        "%%time\n",
        "# Get list of trained ensemble models\n",
        "ensemble_models = get_ensemble_models(num_iter=5,\n",
        "                                      num_epochs=1000)"
      ],
      "metadata": {
        "colab": {
          "base_uri": "https://localhost:8080/"
        },
        "id": "CvQzwPL_nIGh",
        "outputId": "2bae82a0-e4a6-45ae-f283-50afd0585c01"
      },
      "execution_count": null,
      "outputs": [
        {
          "output_type": "stream",
          "name": "stdout",
          "text": [
            "Optimizing model by reducing: mae for 1000 epochs, model number: 0\n",
            "\n",
            "Epoch 207: ReduceLROnPlateau reducing learning rate to 0.00010000000474974513.\n",
            "\n",
            "Epoch 307: ReduceLROnPlateau reducing learning rate to 1.0000000474974514e-05.\n",
            "Optimizing model by reducing: mse for 1000 epochs, model number: 0\n",
            "\n",
            "Epoch 127: ReduceLROnPlateau reducing learning rate to 0.00010000000474974513.\n",
            "\n",
            "Epoch 227: ReduceLROnPlateau reducing learning rate to 1.0000000474974514e-05.\n",
            "Optimizing model by reducing: mape for 1000 epochs, model number: 0\n",
            "\n",
            "Epoch 101: ReduceLROnPlateau reducing learning rate to 0.00010000000474974513.\n",
            "\n",
            "Epoch 201: ReduceLROnPlateau reducing learning rate to 1.0000000474974514e-05.\n",
            "Optimizing model by reducing: mae for 1000 epochs, model number: 1\n",
            "\n",
            "Epoch 101: ReduceLROnPlateau reducing learning rate to 0.00010000000474974513.\n",
            "\n",
            "Epoch 201: ReduceLROnPlateau reducing learning rate to 1.0000000474974514e-05.\n",
            "Optimizing model by reducing: mse for 1000 epochs, model number: 1\n",
            "\n",
            "Epoch 749: ReduceLROnPlateau reducing learning rate to 0.00010000000474974513.\n",
            "\n",
            "Epoch 849: ReduceLROnPlateau reducing learning rate to 1.0000000474974514e-05.\n",
            "Optimizing model by reducing: mape for 1000 epochs, model number: 1\n",
            "\n",
            "Epoch 101: ReduceLROnPlateau reducing learning rate to 0.00010000000474974513.\n",
            "\n",
            "Epoch 201: ReduceLROnPlateau reducing learning rate to 1.0000000474974514e-05.\n",
            "Optimizing model by reducing: mae for 1000 epochs, model number: 2\n",
            "\n",
            "Epoch 101: ReduceLROnPlateau reducing learning rate to 0.00010000000474974513.\n",
            "\n",
            "Epoch 201: ReduceLROnPlateau reducing learning rate to 1.0000000474974514e-05.\n",
            "Optimizing model by reducing: mse for 1000 epochs, model number: 2\n",
            "\n",
            "Epoch 114: ReduceLROnPlateau reducing learning rate to 0.00010000000474974513.\n",
            "\n",
            "Epoch 214: ReduceLROnPlateau reducing learning rate to 1.0000000474974514e-05.\n",
            "Optimizing model by reducing: mape for 1000 epochs, model number: 2\n",
            "\n",
            "Epoch 101: ReduceLROnPlateau reducing learning rate to 0.00010000000474974513.\n",
            "\n",
            "Epoch 201: ReduceLROnPlateau reducing learning rate to 1.0000000474974514e-05.\n",
            "Optimizing model by reducing: mae for 1000 epochs, model number: 3\n",
            "\n",
            "Epoch 435: ReduceLROnPlateau reducing learning rate to 0.00010000000474974513.\n",
            "\n",
            "Epoch 535: ReduceLROnPlateau reducing learning rate to 1.0000000474974514e-05.\n",
            "Optimizing model by reducing: mse for 1000 epochs, model number: 3\n",
            "\n",
            "Epoch 112: ReduceLROnPlateau reducing learning rate to 0.00010000000474974513.\n",
            "\n",
            "Epoch 212: ReduceLROnPlateau reducing learning rate to 1.0000000474974514e-05.\n",
            "Optimizing model by reducing: mape for 1000 epochs, model number: 3\n",
            "\n",
            "Epoch 102: ReduceLROnPlateau reducing learning rate to 0.00010000000474974513.\n",
            "\n",
            "Epoch 202: ReduceLROnPlateau reducing learning rate to 1.0000000474974514e-05.\n",
            "Optimizing model by reducing: mae for 1000 epochs, model number: 4\n",
            "\n",
            "Epoch 165: ReduceLROnPlateau reducing learning rate to 0.00010000000474974513.\n",
            "\n",
            "Epoch 265: ReduceLROnPlateau reducing learning rate to 1.0000000474974514e-05.\n",
            "Optimizing model by reducing: mse for 1000 epochs, model number: 4\n",
            "\n",
            "Epoch 667: ReduceLROnPlateau reducing learning rate to 0.00010000000474974513.\n",
            "\n",
            "Epoch 767: ReduceLROnPlateau reducing learning rate to 1.0000000474974514e-05.\n",
            "Optimizing model by reducing: mape for 1000 epochs, model number: 4\n",
            "\n",
            "Epoch 101: ReduceLROnPlateau reducing learning rate to 0.00010000000474974513.\n",
            "\n",
            "Epoch 201: ReduceLROnPlateau reducing learning rate to 1.0000000474974514e-05.\n",
            "CPU times: user 3min 42s, sys: 12.3 s, total: 3min 54s\n",
            "Wall time: 3min 59s\n"
          ]
        }
      ]
    },
    {
      "cell_type": "code",
      "source": [
        "# Create a function which uses a list of trained models to make and return a list of predictions\n",
        "def make_ensemble_preds(ensemble_models, data):\n",
        "  ensemble_preds = []\n",
        "  for model in ensemble_models:\n",
        "    preds = model.predict(data) # make predictions with current ensemble model\n",
        "    ensemble_preds.append(preds)\n",
        "  return tf.constant(tf.squeeze(ensemble_preds))"
      ],
      "metadata": {
        "id": "vKfHhTY0oIf4"
      },
      "execution_count": null,
      "outputs": []
    },
    {
      "cell_type": "code",
      "source": [
        "# Create a list of ensemble predictions\n",
        "ensemble_preds = make_ensemble_preds(ensemble_models=ensemble_models,\n",
        "                                     data=test_dataset)\n",
        "ensemble_preds"
      ],
      "metadata": {
        "colab": {
          "base_uri": "https://localhost:8080/"
        },
        "id": "ZOPjU54HoJ34",
        "outputId": "290acbab-f5bd-4ac7-83c5-4b781197ca6f"
      },
      "execution_count": null,
      "outputs": [
        {
          "output_type": "stream",
          "name": "stderr",
          "text": [
            "WARNING:tensorflow:5 out of the last 25 calls to <function Model.make_predict_function.<locals>.predict_function at 0x7fca422c0ef0> triggered tf.function retracing. Tracing is expensive and the excessive number of tracings could be due to (1) creating @tf.function repeatedly in a loop, (2) passing tensors with different shapes, (3) passing Python objects instead of tensors. For (1), please define your @tf.function outside of the loop. For (2), @tf.function has experimental_relax_shapes=True option that relaxes argument shapes that can avoid unnecessary retracing. For (3), please refer to https://www.tensorflow.org/guide/function#controlling_retracing and https://www.tensorflow.org/api_docs/python/tf/function for  more details.\n",
            "WARNING:tensorflow:6 out of the last 26 calls to <function Model.make_predict_function.<locals>.predict_function at 0x7fca43b1c5f0> triggered tf.function retracing. Tracing is expensive and the excessive number of tracings could be due to (1) creating @tf.function repeatedly in a loop, (2) passing tensors with different shapes, (3) passing Python objects instead of tensors. For (1), please define your @tf.function outside of the loop. For (2), @tf.function has experimental_relax_shapes=True option that relaxes argument shapes that can avoid unnecessary retracing. For (3), please refer to https://www.tensorflow.org/guide/function#controlling_retracing and https://www.tensorflow.org/api_docs/python/tf/function for  more details.\n"
          ]
        },
        {
          "output_type": "execute_result",
          "data": {
            "text/plain": [
              "<tf.Tensor: shape=(15, 643), dtype=float32, numpy=\n",
              "array([[ 0.01097907,  0.01200095,  0.01129771, ...,  0.03270163,\n",
              "         0.03490004,  0.03334974],\n",
              "       [ 0.00933742,  0.00879234,  0.01103899, ...,  0.04015403,\n",
              "         0.04076229,  0.04344418],\n",
              "       [-0.00439433, -0.00406815, -0.00722136, ...,  0.07362763,\n",
              "         0.07370093,  0.07185163],\n",
              "       ...,\n",
              "       [ 0.01134718,  0.01229436,  0.01107215, ...,  0.02288132,\n",
              "         0.02196069,  0.02038893],\n",
              "       [ 0.00620743,  0.00955597,  0.00740786, ...,  0.08092807,\n",
              "         0.08368146,  0.08255477],\n",
              "       [ 0.02009802,  0.02234346,  0.02387994, ...,  0.04802694,\n",
              "         0.05050259,  0.05574868]], dtype=float32)>"
            ]
          },
          "metadata": {},
          "execution_count": 124
        }
      ]
    },
    {
      "cell_type": "code",
      "source": [
        "# Evaluate ensemble model(s) predictions\n",
        "ensemble_results = evaluate_preds(y_true=y_test,\n",
        "                                  y_pred=np.median(ensemble_preds, axis=0)) # take the median across all ensemble predictions\n",
        "ensemble_results"
      ],
      "metadata": {
        "colab": {
          "base_uri": "https://localhost:8080/"
        },
        "id": "cSXiT2pkoUNY",
        "outputId": "db04fe47-5fa5-45f4-bdc8-6df8d9d216bf"
      },
      "execution_count": null,
      "outputs": [
        {
          "output_type": "execute_result",
          "data": {
            "text/plain": [
              "{'mae': 0.03251872,\n",
              " 'mse': 0.002987128,\n",
              " 'rmse': 0.054654624,\n",
              " 'mape': 15.538947,\n",
              " 'mase': 3.5451288}"
            ]
          },
          "metadata": {},
          "execution_count": 125
        }
      ]
    },
    {
      "cell_type": "code",
      "source": [
        "# Find upper and lower bounds of ensemble predictions\n",
        "def get_upper_lower(preds): # 1. Take the predictions of multiple randomly initialized deep learning neural networks\n",
        "  \n",
        "  # 2. Measure the standard deviation of the predictions\n",
        "  std = tf.math.reduce_std(preds, axis=0)\n",
        "  \n",
        "  # 3. Multiply the standard deviation by 1.96\n",
        "  interval = 1.96 * std # https://en.wikipedia.org/wiki/1.96 \n",
        "\n",
        "  # 4. Get the prediction interval upper and lower bounds\n",
        "  preds_mean = tf.reduce_mean(preds, axis=0)\n",
        "  lower, upper = preds_mean - interval, preds_mean + interval\n",
        "  return lower, upper\n",
        "\n",
        "# Get the upper and lower bounds of the 95% \n",
        "lower, upper = get_upper_lower(preds=ensemble_preds)"
      ],
      "metadata": {
        "id": "KV6ZCRLGoYV4"
      },
      "execution_count": null,
      "outputs": []
    },
    {
      "cell_type": "code",
      "source": [
        "# Get the median values of our ensemble preds\n",
        "ensemble_median = np.median(ensemble_preds, axis=0)\n",
        "\n",
        "# Plot the median of our ensemble preds along with the prediction intervals (where the predictions fall between)\n",
        "offset=500\n",
        "plt.figure(figsize=(10, 7))\n",
        "plt.plot(X_test.index[offset:], y_test[offset:], \"g\", label=\"Test Data\")\n",
        "plt.plot(X_test.index[offset:], ensemble_median[offset:], \"k-\", label=\"Ensemble Median\")\n",
        "plt.xlabel(\"Date\")\n",
        "plt.ylabel(\"BTC Price\")\n",
        "plt.fill_between(X_test.index[offset:], \n",
        "                 (lower)[offset:], \n",
        "                 (upper)[offset:], label=\"Prediction Intervals\")\n",
        "plt.legend(loc=\"upper left\", fontsize=14);"
      ],
      "metadata": {
        "colab": {
          "base_uri": "https://localhost:8080/",
          "height": 442
        },
        "id": "yE8RSPDAobbI",
        "outputId": "ba313cb2-88d3-4c24-85c6-ba6b2e9900ec"
      },
      "execution_count": null,
      "outputs": [
        {
          "output_type": "display_data",
          "data": {
            "text/plain": [
              "<Figure size 720x504 with 1 Axes>"
            ],
            "image/png": "[encoded data removed]"
          },
          "metadata": {
            "needs_background": "light"
          }
        }
      ]
    },
    {
      "cell_type": "code",
      "source": [
        "bitcoin_prices_windowed.head()"
      ],
      "metadata": {
        "colab": {
          "base_uri": "https://localhost:8080/",
          "height": 238
        },
        "id": "O7AVxG0OogLJ",
        "outputId": "d3e259ad-3ded-4476-d5f4-e1dcc6d19a62"
      },
      "execution_count": null,
      "outputs": [
        {
          "output_type": "execute_result",
          "data": {
            "text/plain": [
              "               Price block_reward   Price+1   Price+2   Price+3  Price+4  \\\n",
              "Date                                                                       \n",
              "2013-12-16  0.000200           25       NaN       NaN       NaN      NaN   \n",
              "2013-12-17  0.000269           25  0.000200       NaN       NaN      NaN   \n",
              "2013-12-18  0.000362           25  0.000269  0.000200       NaN      NaN   \n",
              "2013-12-19  0.001170           25  0.000362  0.000269  0.000200      NaN   \n",
              "2013-12-20  0.000707           25  0.001170  0.000362  0.000269   0.0002   \n",
              "\n",
              "            Price+5  Price+6  Price+7  \n",
              "Date                                   \n",
              "2013-12-16      NaN      NaN      NaN  \n",
              "2013-12-17      NaN      NaN      NaN  \n",
              "2013-12-18      NaN      NaN      NaN  \n",
              "2013-12-19      NaN      NaN      NaN  \n",
              "2013-12-20      NaN      NaN      NaN  "
            ],
            "text/html": [
              "\n",
              "  <div id=\"df-e4931286-7ab5-4baf-823f-01bbfdabd0bb\">\n",
              "    <div class=\"colab-df-container\">\n",
              "      <div>\n",
              "<style scoped>\n",
              "    .dataframe tbody tr th:only-of-type {\n",
              "        vertical-align: middle;\n",
              "    }\n",
              "\n",
              "    .dataframe tbody tr th {\n",
              "        vertical-align: top;\n",
              "    }\n",
              "\n",
              "    .dataframe thead th {\n",
              "        text-align: right;\n",
              "    }\n",
              "</style>\n",
              "<table border=\"1\" class=\"dataframe\">\n",
              "  <thead>\n",
              "    <tr style=\"text-align: right;\">\n",
              "      <th></th>\n",
              "      <th>Price</th>\n",
              "      <th>block_reward</th>\n",
              "      <th>Price+1</th>\n",
              "      <th>Price+2</th>\n",
              "      <th>Price+3</th>\n",
              "      <th>Price+4</th>\n",
              "      <th>Price+5</th>\n",
              "      <th>Price+6</th>\n",
              "      <th>Price+7</th>\n",
              "    </tr>\n",
              "    <tr>\n",
              "      <th>Date</th>\n",
              "      <th></th>\n",
              "      <th></th>\n",
              "      <th></th>\n",
              "      <th></th>\n",
              "      <th></th>\n",
              "      <th></th>\n",
              "      <th></th>\n",
              "      <th></th>\n",
              "      <th></th>\n",
              "    </tr>\n",
              "  </thead>\n",
              "  <tbody>\n",
              "    <tr>\n",
              "      <th>2013-12-16</th>\n",
              "      <td>0.000200</td>\n",
              "      <td>25</td>\n",
              "      <td>NaN</td>\n",
              "      <td>NaN</td>\n",
              "      <td>NaN</td>\n",
              "      <td>NaN</td>\n",
              "      <td>NaN</td>\n",
              "      <td>NaN</td>\n",
              "      <td>NaN</td>\n",
              "    </tr>\n",
              "    <tr>\n",
              "      <th>2013-12-17</th>\n",
              "      <td>0.000269</td>\n",
              "      <td>25</td>\n",
              "      <td>0.000200</td>\n",
              "      <td>NaN</td>\n",
              "      <td>NaN</td>\n",
              "      <td>NaN</td>\n",
              "      <td>NaN</td>\n",
              "      <td>NaN</td>\n",
              "      <td>NaN</td>\n",
              "    </tr>\n",
              "    <tr>\n",
              "      <th>2013-12-18</th>\n",
              "      <td>0.000362</td>\n",
              "      <td>25</td>\n",
              "      <td>0.000269</td>\n",
              "      <td>0.000200</td>\n",
              "      <td>NaN</td>\n",
              "      <td>NaN</td>\n",
              "      <td>NaN</td>\n",
              "      <td>NaN</td>\n",
              "      <td>NaN</td>\n",
              "    </tr>\n",
              "    <tr>\n",
              "      <th>2013-12-19</th>\n",
              "      <td>0.001170</td>\n",
              "      <td>25</td>\n",
              "      <td>0.000362</td>\n",
              "      <td>0.000269</td>\n",
              "      <td>0.000200</td>\n",
              "      <td>NaN</td>\n",
              "      <td>NaN</td>\n",
              "      <td>NaN</td>\n",
              "      <td>NaN</td>\n",
              "    </tr>\n",
              "    <tr>\n",
              "      <th>2013-12-20</th>\n",
              "      <td>0.000707</td>\n",
              "      <td>25</td>\n",
              "      <td>0.001170</td>\n",
              "      <td>0.000362</td>\n",
              "      <td>0.000269</td>\n",
              "      <td>0.0002</td>\n",
              "      <td>NaN</td>\n",
              "      <td>NaN</td>\n",
              "      <td>NaN</td>\n",
              "    </tr>\n",
              "  </tbody>\n",
              "</table>\n",
              "</div>\n",
              "      <button class=\"colab-df-convert\" onclick=\"convertToInteractive('df-e4931286-7ab5-4baf-823f-01bbfdabd0bb')\"\n",
              "              title=\"Convert this dataframe to an interactive table.\"\n",
              "              style=\"display:none;\">\n",
              "        \n",
              "  <svg xmlns=\"http://www.w3.org/2000/svg\" height=\"24px\"viewBox=\"0 0 24 24\"\n",
              "       width=\"24px\">\n",
              "    <path d=\"M0 0h24v24H0V0z\" fill=\"none\"/>\n",
              "    <path d=\"M18.56 5.44l.94 2.06.94-2.06 2.06-.94-2.06-.94-.94-2.06-.94 2.06-2.06.94zm-11 1L8.5 8.5l.94-2.06 2.06-.94-2.06-.94L8.5 2.5l-.94 2.06-2.06.94zm10 10l.94 2.06.94-2.06 2.06-.94-2.06-.94-.94-2.06-.94 2.06-2.06.94z\"/><path d=\"M17.41 7.96l-1.37-1.37c-.4-.4-.92-.59-1.43-.59-.52 0-1.04.2-1.43.59L10.3 9.45l-7.72 7.72c-.78.78-.78 2.05 0 2.83L4 21.41c.39.39.9.59 1.41.59.51 0 1.02-.2 1.41-.59l7.78-7.78 2.81-2.81c.8-.78.8-2.07 0-2.86zM5.41 20L4 18.59l7.72-7.72 1.47 1.35L5.41 20z\"/>\n",
              "  </svg>\n",
              "      </button>\n",
              "      \n",
              "  <style>\n",
              "    .colab-df-container {\n",
              "      display:flex;\n",
              "      flex-wrap:wrap;\n",
              "      gap: 12px;\n",
              "    }\n",
              "\n",
              "    .colab-df-convert {\n",
              "      background-color: #E8F0FE;\n",
              "      border: none;\n",
              "      border-radius: 50%;\n",
              "      cursor: pointer;\n",
              "      display: none;\n",
              "      fill: #1967D2;\n",
              "      height: 32px;\n",
              "      padding: 0 0 0 0;\n",
              "      width: 32px;\n",
              "    }\n",
              "\n",
              "    .colab-df-convert:hover {\n",
              "      background-color: #E2EBFA;\n",
              "      box-shadow: 0px 1px 2px rgba(60, 64, 67, 0.3), 0px 1px 3px 1px rgba(60, 64, 67, 0.15);\n",
              "      fill: #174EA6;\n",
              "    }\n",
              "\n",
              "    [theme=dark] .colab-df-convert {\n",
              "      background-color: #3B4455;\n",
              "      fill: #D2E3FC;\n",
              "    }\n",
              "\n",
              "    [theme=dark] .colab-df-convert:hover {\n",
              "      background-color: #434B5C;\n",
              "      box-shadow: 0px 1px 3px 1px rgba(0, 0, 0, 0.15);\n",
              "      filter: drop-shadow(0px 1px 2px rgba(0, 0, 0, 0.3));\n",
              "      fill: #FFFFFF;\n",
              "    }\n",
              "  </style>\n",
              "\n",
              "      <script>\n",
              "        const buttonEl =\n",
              "          document.querySelector('#df-e4931286-7ab5-4baf-823f-01bbfdabd0bb button.colab-df-convert');\n",
              "        buttonEl.style.display =\n",
              "          google.colab.kernel.accessAllowed ? 'block' : 'none';\n",
              "\n",
              "        async function convertToInteractive(key) {\n",
              "          const element = document.querySelector('#df-e4931286-7ab5-4baf-823f-01bbfdabd0bb');\n",
              "          const dataTable =\n",
              "            await google.colab.kernel.invokeFunction('convertToInteractive',\n",
              "                                                     [key], {});\n",
              "          if (!dataTable) return;\n",
              "\n",
              "          const docLinkHtml = 'Like what you see? Visit the ' +\n",
              "            '<a target=\"_blank\" href=https://colab.research.google.com/notebooks/data_table.ipynb>data table notebook</a>'\n",
              "            + ' to learn more about interactive tables.';\n",
              "          element.innerHTML = '';\n",
              "          dataTable['output_type'] = 'display_data';\n",
              "          await google.colab.output.renderOutput(dataTable, element);\n",
              "          const docLink = document.createElement('div');\n",
              "          docLink.innerHTML = docLinkHtml;\n",
              "          element.appendChild(docLink);\n",
              "        }\n",
              "      </script>\n",
              "    </div>\n",
              "  </div>\n",
              "  "
            ]
          },
          "metadata": {},
          "execution_count": 128
        }
      ]
    },
    {
      "cell_type": "code",
      "source": [
        "# Train model on entire data to make prediction for the next day \n",
        "X_all = bitcoin_prices_windowed.drop([\"Price\", \"block_reward\"], axis=1).dropna().to_numpy() # only want prices, our future model can be a univariate model\n",
        "y_all = bitcoin_prices_windowed.dropna()[\"Price\"].to_numpy()"
      ],
      "metadata": {
        "id": "oqL0Z2Dkoiig"
      },
      "execution_count": null,
      "outputs": []
    },
    {
      "cell_type": "code",
      "source": [
        "# 1. Turn X and y into tensor Datasets\n",
        "features_dataset_all = tf.data.Dataset.from_tensor_slices(X_all)\n",
        "labels_dataset_all = tf.data.Dataset.from_tensor_slices(y_all)\n",
        "\n",
        "# 2. Combine features & labels\n",
        "dataset_all = tf.data.Dataset.zip((features_dataset_all, labels_dataset_all))\n",
        "\n",
        "# 3. Batch and prefetch for optimal performance\n",
        "BATCH_SIZE = 1024 # taken from Appendix D in N-BEATS paper\n",
        "dataset_all = dataset_all.batch(BATCH_SIZE).prefetch(tf.data.AUTOTUNE)\n",
        "\n",
        "dataset_all"
      ],
      "metadata": {
        "colab": {
          "base_uri": "https://localhost:8080/"
        },
        "id": "_0WafIiVoiZI",
        "outputId": "44e21385-c399-4679-b457-9d8e7abf2652"
      },
      "execution_count": null,
      "outputs": [
        {
          "output_type": "execute_result",
          "data": {
            "text/plain": [
              "<PrefetchDataset element_spec=(TensorSpec(shape=(None, 7), dtype=tf.float64, name=None), TensorSpec(shape=(None,), dtype=tf.float64, name=None))>"
            ]
          },
          "metadata": {},
          "execution_count": 130
        }
      ]
    },
    {
      "cell_type": "code",
      "source": [
        "tf.random.set_seed(42)\n",
        "\n",
        "# Create model (nice and simple, just to test)\n",
        "model_9 = tf.keras.Sequential([\n",
        "  layers.Dense(128, activation=\"relu\"),\n",
        "  layers.Dense(128, activation=\"relu\"),\n",
        "  layers.Dense(HORIZON)\n",
        "])\n",
        "\n",
        "# Compile\n",
        "model_9.compile(loss=tf.keras.losses.mae,\n",
        "                optimizer=tf.keras.optimizers.Adam())\n",
        "\n",
        "# Fit model on all of the data to make future forecasts\n",
        "model_9.fit(dataset_all,\n",
        "            epochs=100,\n",
        "            verbose=0) # don't print out anything, we've seen this all before"
      ],
      "metadata": {
        "colab": {
          "base_uri": "https://localhost:8080/"
        },
        "id": "YF7WR589o_oo",
        "outputId": "ce158fd3-cd71-4a22-80ce-19889a684f7b"
      },
      "execution_count": null,
      "outputs": [
        {
          "output_type": "execute_result",
          "data": {
            "text/plain": [
              "<keras.callbacks.History at 0x7fca45140950>"
            ]
          },
          "metadata": {},
          "execution_count": 135
        }
      ]
    },
    {
      "cell_type": "code",
      "source": [
        "# 1. Turn X and y into tensor Datasets\n",
        "features_dataset_all = tf.data.Dataset.from_tensor_slices(X_all)\n",
        "labels_dataset_all = tf.data.Dataset.from_tensor_slices(y_all)\n",
        "\n",
        "# 2. Combine features & labels\n",
        "dataset_all = tf.data.Dataset.zip((features_dataset_all, labels_dataset_all))\n",
        "\n",
        "# 3. Batch and prefetch for optimal performance\n",
        "BATCH_SIZE = 1024 # taken from Appendix D in N-BEATS paper\n",
        "dataset_all = dataset_all.batch(BATCH_SIZE).prefetch(tf.data.AUTOTUNE)\n",
        "\n",
        "dataset_all"
      ],
      "metadata": {
        "colab": {
          "base_uri": "https://localhost:8080/"
        },
        "id": "gXABc36Oophh",
        "outputId": "6ecc3ab9-98cd-45dc-961c-d2d2463d1072"
      },
      "execution_count": null,
      "outputs": [
        {
          "output_type": "execute_result",
          "data": {
            "text/plain": [
              "<PrefetchDataset element_spec=(TensorSpec(shape=(None, 7), dtype=tf.float64, name=None), TensorSpec(shape=(None,), dtype=tf.float64, name=None))>"
            ]
          },
          "metadata": {},
          "execution_count": 131
        }
      ]
    },
    {
      "cell_type": "code",
      "source": [
        "# How many timesteps to predict into the future?\n",
        "#INTO_FUTURE = 14 # since our Bitcoin data is daily, this is for 14 days\n",
        "INTO_FUTURE = 120"
      ],
      "metadata": {
        "id": "JgWpE7nnorcw"
      },
      "execution_count": null,
      "outputs": []
    },
    {
      "cell_type": "code",
      "source": [
        "# 1. Create function to make predictions into the future\n",
        "def make_future_forecast(values, model, into_future, window_size=WINDOW_SIZE) -> list:\n",
        "  \"\"\"\n",
        "  Makes future forecasts into_future steps after values ends.\n",
        "\n",
        "  Returns future forecasts as list of floats.\n",
        "  \"\"\"\n",
        "  # 2. Make an empty list for future forecasts/prepare data to forecast on\n",
        "  future_forecast = []\n",
        "  last_window = values[-WINDOW_SIZE:] # only want preds from the last window (this will get updated)\n",
        "\n",
        "  # 3. Make INTO_FUTURE number of predictions, altering the data which gets predicted on each time \n",
        "  for _ in range(into_future):\n",
        "    \n",
        "    # Predict on last window then append it again, again, again (model starts to make forecasts on its own forecasts)\n",
        "    future_pred = model.predict(tf.expand_dims(last_window, axis=0))\n",
        "    print(f\"Predicting on: \\n {last_window} -> Prediction: {tf.squeeze(future_pred).numpy()}\\n\")\n",
        "    \n",
        "    # Append predictions to future_forecast\n",
        "    future_forecast.append(tf.squeeze(future_pred).numpy())\n",
        "    # print(future_forecast)\n",
        "\n",
        "    # Update last window with new pred and get WINDOW_SIZE most recent preds (model was trained on WINDOW_SIZE windows)\n",
        "    last_window = np.append(last_window, future_pred)[-WINDOW_SIZE:]\n",
        "  \n",
        "  return future_forecast"
      ],
      "metadata": {
        "id": "PKIzum3counA"
      },
      "execution_count": null,
      "outputs": []
    },
    {
      "cell_type": "code",
      "source": [
        "# Make forecasts into future of the price of Bitcoin\n",
        "# Note: if you're reading this at a later date, you may already be in the future, so the forecasts \n",
        "# we're making may not actually be forecasts, if that's the case, readjust the training data.\n",
        "future_forecast = make_future_forecast(values=y_all,\n",
        "                                       model=model_9,\n",
        "                                       into_future=INTO_FUTURE,\n",
        "                                       window_size=WINDOW_SIZE)"
      ],
      "metadata": {
        "colab": {
          "base_uri": "https://localhost:8080/"
        },
        "id": "GzAP2x1-oxfx",
        "outputId": "27c3f77f-7106-4250-d7c7-099d34d86104"
      },
      "execution_count": null,
      "outputs": [
        {
          "output_type": "stream",
          "name": "stdout",
          "text": [
            "Predicting on: \n",
            " [0.06598178 0.06476142 0.06339855 0.06242586 0.06161916 0.06213101\n",
            " 0.05936489] -> Prediction: 0.06532730907201767\n",
            "\n",
            "Predicting on: \n",
            " [0.06476142 0.06339855 0.06242586 0.06161916 0.06213101 0.05936489\n",
            " 0.06532731] -> Prediction: 0.0643797293305397\n",
            "\n",
            "Predicting on: \n",
            " [0.06339855 0.06242586 0.06161916 0.06213101 0.05936489 0.06532731\n",
            " 0.06437973] -> Prediction: 0.06351524591445923\n",
            "\n",
            "Predicting on: \n",
            " [0.06242586 0.06161916 0.06213101 0.05936489 0.06532731 0.06437973\n",
            " 0.06351525] -> Prediction: 0.06308609247207642\n",
            "\n",
            "Predicting on: \n",
            " [0.06161916 0.06213101 0.05936489 0.06532731 0.06437973 0.06351525\n",
            " 0.06308609] -> Prediction: 0.06291995197534561\n",
            "\n",
            "Predicting on: \n",
            " [0.06213101 0.05936489 0.06532731 0.06437973 0.06351525 0.06308609\n",
            " 0.06291995] -> Prediction: 0.06312603503465652\n",
            "\n",
            "Predicting on: \n",
            " [0.05936489 0.06532731 0.06437973 0.06351525 0.06308609 0.06291995\n",
            " 0.06312604] -> Prediction: 0.06344486027956009\n",
            "\n",
            "Predicting on: \n",
            " [0.06532731 0.06437973 0.06351525 0.06308609 0.06291995 0.06312604\n",
            " 0.06344486] -> Prediction: 0.06523282080888748\n",
            "\n",
            "Predicting on: \n",
            " [0.06437973 0.06351525 0.06308609 0.06291995 0.06312604 0.06344486\n",
            " 0.06523282] -> Prediction: 0.0646122470498085\n",
            "\n",
            "Predicting on: \n",
            " [0.06351525 0.06308609 0.06291995 0.06312604 0.06344486 0.06523282\n",
            " 0.06461225] -> Prediction: 0.06421369314193726\n",
            "\n",
            "Predicting on: \n",
            " [0.06308609 0.06291995 0.06312604 0.06344486 0.06523282 0.06461225\n",
            " 0.06421369] -> Prediction: 0.0641423761844635\n",
            "\n",
            "Predicting on: \n",
            " [0.06291995 0.06312604 0.06344486 0.06523282 0.06461225 0.06421369\n",
            " 0.06414238] -> Prediction: 0.06428386270999908\n",
            "\n",
            "Predicting on: \n",
            " [0.06312604 0.06344486 0.06523282 0.06461225 0.06421369 0.06414238\n",
            " 0.06428386] -> Prediction: 0.06464023888111115\n",
            "\n",
            "Predicting on: \n",
            " [0.06344486 0.06523282 0.06461225 0.06421369 0.06414238 0.06428386\n",
            " 0.06464024] -> Prediction: 0.0651242733001709\n",
            "\n",
            "Predicting on: \n",
            " [0.06523282 0.06461225 0.06421369 0.06414238 0.06428386 0.06464024\n",
            " 0.06512427] -> Prediction: 0.06555385887622833\n",
            "\n",
            "Predicting on: \n",
            " [0.06461225 0.06421369 0.06414238 0.06428386 0.06464024 0.06512427\n",
            " 0.06555386] -> Prediction: 0.06525130569934845\n",
            "\n",
            "Predicting on: \n",
            " [0.06421369 0.06414238 0.06428386 0.06464024 0.06512427 0.06555386\n",
            " 0.06525131] -> Prediction: 0.06516376882791519\n",
            "\n",
            "Predicting on: \n",
            " [0.06414238 0.06428386 0.06464024 0.06512427 0.06555386 0.06525131\n",
            " 0.06516377] -> Prediction: 0.06528124213218689\n",
            "\n",
            "Predicting on: \n",
            " [0.06428386 0.06464024 0.06512427 0.06555386 0.06525131 0.06516377\n",
            " 0.06528124] -> Prediction: 0.06551793962717056\n",
            "\n",
            "Predicting on: \n",
            " [0.06464024 0.06512427 0.06555386 0.06525131 0.06516377 0.06528124\n",
            " 0.06551794] -> Prediction: 0.06581835448741913\n",
            "\n",
            "Predicting on: \n",
            " [0.06512427 0.06555386 0.06525131 0.06516377 0.06528124 0.06551794\n",
            " 0.06581835] -> Prediction: 0.0660720095038414\n",
            "\n",
            "Predicting on: \n",
            " [0.06555386 0.06525131 0.06516377 0.06528124 0.06551794 0.06581835\n",
            " 0.06607201] -> Prediction: 0.0661597028374672\n",
            "\n",
            "Predicting on: \n",
            " [0.06525131 0.06516377 0.06528124 0.06551794 0.06581835 0.06607201\n",
            " 0.0661597 ] -> Prediction: 0.06608173251152039\n",
            "\n",
            "Predicting on: \n",
            " [0.06516377 0.06528124 0.06551794 0.06581835 0.06607201 0.0661597\n",
            " 0.06608173] -> Prediction: 0.06615295261144638\n",
            "\n",
            "Predicting on: \n",
            " [0.06528124 0.06551794 0.06581835 0.06607201 0.0661597  0.06608173\n",
            " 0.06615295] -> Prediction: 0.0663270652294159\n",
            "\n",
            "Predicting on: \n",
            " [0.06551794 0.06581835 0.06607201 0.0661597  0.06608173 0.06615295\n",
            " 0.06632707] -> Prediction: 0.0665372982621193\n",
            "\n",
            "Predicting on: \n",
            " [0.06581835 0.06607201 0.0661597  0.06608173 0.06615295 0.06632707\n",
            " 0.0665373 ] -> Prediction: 0.06673027575016022\n",
            "\n",
            "Predicting on: \n",
            " [0.06607201 0.0661597  0.06608173 0.06615295 0.06632707 0.0665373\n",
            " 0.06673028] -> Prediction: 0.06685373187065125\n",
            "\n",
            "Predicting on: \n",
            " [0.0661597  0.06608173 0.06615295 0.06632707 0.0665373  0.06673028\n",
            " 0.06685373] -> Prediction: 0.06690254807472229\n",
            "\n",
            "Predicting on: \n",
            " [0.06608173 0.06615295 0.06632707 0.0665373  0.06673028 0.06685373\n",
            " 0.06690255] -> Prediction: 0.06694740802049637\n",
            "\n",
            "Predicting on: \n",
            " [0.06615295 0.06632707 0.0665373  0.06673028 0.06685373 0.06690255\n",
            " 0.06694741] -> Prediction: 0.06707345694303513\n",
            "\n",
            "Predicting on: \n",
            " [0.06632707 0.0665373  0.06673028 0.06685373 0.06690255 0.06694741\n",
            " 0.06707346] -> Prediction: 0.06723574548959732\n",
            "\n",
            "Predicting on: \n",
            " [0.0665373  0.06673028 0.06685373 0.06690255 0.06694741 0.06707346\n",
            " 0.06723575] -> Prediction: 0.06739195436239243\n",
            "\n",
            "Predicting on: \n",
            " [0.06673028 0.06685373 0.06690255 0.06694741 0.06707346 0.06723575\n",
            " 0.06739195] -> Prediction: 0.0675162747502327\n",
            "\n",
            "Predicting on: \n",
            " [0.06685373 0.06690255 0.06694741 0.06707346 0.06723575 0.06739195\n",
            " 0.06751627] -> Prediction: 0.06760213524103165\n",
            "\n",
            "Predicting on: \n",
            " [0.06690255 0.06694741 0.06707346 0.06723575 0.06739195 0.06751627\n",
            " 0.06760214] -> Prediction: 0.06767342984676361\n",
            "\n",
            "Predicting on: \n",
            " [0.06694741 0.06707346 0.06723575 0.06739195 0.06751627 0.06760214\n",
            " 0.06767343] -> Prediction: 0.06776793301105499\n",
            "\n",
            "Predicting on: \n",
            " [0.06707346 0.06723575 0.06739195 0.06751627 0.06760214 0.06767343\n",
            " 0.06776793] -> Prediction: 0.06789641827344894\n",
            "\n",
            "Predicting on: \n",
            " [0.06723575 0.06739195 0.06751627 0.06760214 0.06767343 0.06776793\n",
            " 0.06789642] -> Prediction: 0.06802868843078613\n",
            "\n",
            "Predicting on: \n",
            " [0.06739195 0.06751627 0.06760214 0.06767343 0.06776793 0.06789642\n",
            " 0.06802869] -> Prediction: 0.06814508140087128\n",
            "\n",
            "Predicting on: \n",
            " [0.06751627 0.06760214 0.06767343 0.06776793 0.06789642 0.06802869\n",
            " 0.06814508] -> Prediction: 0.068240687251091\n",
            "\n",
            "Predicting on: \n",
            " [0.06760214 0.06767343 0.06776793 0.06789642 0.06802869 0.06814508\n",
            " 0.06824069] -> Prediction: 0.06832414865493774\n",
            "\n",
            "Predicting on: \n",
            " [0.06767343 0.06776793 0.06789642 0.06802869 0.06814508 0.06824069\n",
            " 0.06832415] -> Prediction: 0.06841269880533218\n",
            "\n",
            "Predicting on: \n",
            " [0.06776793 0.06789642 0.06802869 0.06814508 0.06824069 0.06832415\n",
            " 0.0684127 ] -> Prediction: 0.06851708143949509\n",
            "\n",
            "Predicting on: \n",
            " [0.06789642 0.06802869 0.06814508 0.06824069 0.06832415 0.0684127\n",
            " 0.06851708] -> Prediction: 0.06863047927618027\n",
            "\n",
            "Predicting on: \n",
            " [0.06802869 0.06814508 0.06824069 0.06832415 0.0684127  0.06851708\n",
            " 0.06863048] -> Prediction: 0.06873755156993866\n",
            "\n",
            "Predicting on: \n",
            " [0.06814508 0.06824069 0.06832415 0.0684127  0.06851708 0.06863048\n",
            " 0.06873755] -> Prediction: 0.06883267313241959\n",
            "\n",
            "Predicting on: \n",
            " [0.06824069 0.06832415 0.0684127  0.06851708 0.06863048 0.06873755\n",
            " 0.06883267] -> Prediction: 0.06891918927431107\n",
            "\n",
            "Predicting on: \n",
            " [0.06832415 0.0684127  0.06851708 0.06863048 0.06873755 0.06883267\n",
            " 0.06891919] -> Prediction: 0.0690051019191742\n",
            "\n",
            "Predicting on: \n",
            " [0.0684127  0.06851708 0.06863048 0.06873755 0.06883267 0.06891919\n",
            " 0.0690051 ] -> Prediction: 0.06909726560115814\n",
            "\n",
            "Predicting on: \n",
            " [0.06851708 0.06863048 0.06873755 0.06883267 0.06891919 0.0690051\n",
            " 0.06909727] -> Prediction: 0.06919541954994202\n",
            "\n",
            "Predicting on: \n",
            " [0.06863048 0.06873755 0.06883267 0.06891919 0.0690051  0.06909727\n",
            " 0.06919542] -> Prediction: 0.06929279863834381\n",
            "\n",
            "Predicting on: \n",
            " [0.06873755 0.06883267 0.06891919 0.0690051  0.06909727 0.06919542\n",
            " 0.0692928 ] -> Prediction: 0.06938374042510986\n",
            "\n",
            "Predicting on: \n",
            " [0.06883267 0.06891919 0.0690051  0.06909727 0.06919542 0.0692928\n",
            " 0.06938374] -> Prediction: 0.06946861743927002\n",
            "\n",
            "Predicting on: \n",
            " [0.06891919 0.0690051  0.06909727 0.06919542 0.0692928  0.06938374\n",
            " 0.06946862] -> Prediction: 0.06955140829086304\n",
            "\n",
            "Predicting on: \n",
            " [0.0690051  0.06909727 0.06919542 0.0692928  0.06938374 0.06946862\n",
            " 0.06955141] -> Prediction: 0.06963606178760529\n",
            "\n",
            "Predicting on: \n",
            " [0.06909727 0.06919542 0.0692928  0.06938374 0.06946862 0.06955141\n",
            " 0.06963606] -> Prediction: 0.06972368061542511\n",
            "\n",
            "Predicting on: \n",
            " [0.06919542 0.0692928  0.06938374 0.06946862 0.06955141 0.06963606\n",
            " 0.06972368] -> Prediction: 0.06981181353330612\n",
            "\n",
            "Predicting on: \n",
            " [0.0692928  0.06938374 0.06946862 0.06955141 0.06963606 0.06972368\n",
            " 0.06981181] -> Prediction: 0.06989699602127075\n",
            "\n",
            "Predicting on: \n",
            " [0.06938374 0.06946862 0.06955141 0.06963606 0.06972368 0.06981181\n",
            " 0.069897  ] -> Prediction: 0.06997817009687424\n",
            "\n",
            "Predicting on: \n",
            " [0.06946862 0.06955141 0.06963606 0.06972368 0.06981181 0.069897\n",
            " 0.06997817] -> Prediction: 0.07005701214075089\n",
            "\n",
            "Predicting on: \n",
            " [0.06955141 0.06963606 0.06972368 0.06981181 0.069897   0.06997817\n",
            " 0.07005701] -> Prediction: 0.07013585418462753\n",
            "\n",
            "Predicting on: \n",
            " [0.06963606 0.06972368 0.06981181 0.069897   0.06997817 0.07005701\n",
            " 0.07013585] -> Prediction: 0.07021581381559372\n",
            "\n",
            "Predicting on: \n",
            " [0.06972368 0.06981181 0.069897   0.06997817 0.07005701 0.07013585\n",
            " 0.07021581] -> Prediction: 0.07029610127210617\n",
            "\n",
            "Predicting on: \n",
            " [0.06981181 0.069897   0.06997817 0.07005701 0.07013585 0.07021581\n",
            " 0.0702961 ] -> Prediction: 0.07037506252527237\n",
            "\n",
            "Predicting on: \n",
            " [0.069897   0.06997817 0.07005701 0.07013585 0.07021581 0.0702961\n",
            " 0.07037506] -> Prediction: 0.07045155763626099\n",
            "\n",
            "Predicting on: \n",
            " [0.06997817 0.07005701 0.07013585 0.07021581 0.0702961  0.07037506\n",
            " 0.07045156] -> Prediction: 0.07052602618932724\n",
            "\n",
            "Predicting on: \n",
            " [0.07005701 0.07013585 0.07021581 0.0702961  0.07037506 0.07045156\n",
            " 0.07052603] -> Prediction: 0.07059969753026962\n",
            "\n",
            "Predicting on: \n",
            " [0.07013585 0.07021581 0.0702961  0.07037506 0.07045156 0.07052603\n",
            " 0.0705997 ] -> Prediction: 0.07067348062992096\n",
            "\n",
            "Predicting on: \n",
            " [0.07021581 0.0702961  0.07037506 0.07045156 0.07052603 0.0705997\n",
            " 0.07067348] -> Prediction: 0.0707472562789917\n",
            "\n",
            "Predicting on: \n",
            " [0.0702961  0.07037506 0.07045156 0.07052603 0.0705997  0.07067348\n",
            " 0.07074726] -> Prediction: 0.07082023471593857\n",
            "\n",
            "Predicting on: \n",
            " [0.07037506 0.07045156 0.07052603 0.0705997  0.07067348 0.07074726\n",
            " 0.07082023] -> Prediction: 0.07089169323444366\n",
            "\n",
            "Predicting on: \n",
            " [0.07045156 0.07052603 0.0705997  0.07067348 0.07074726 0.07082023\n",
            " 0.07089169] -> Prediction: 0.07096158713102341\n",
            "\n",
            "Predicting on: \n",
            " [0.07052603 0.0705997  0.07067348 0.07074726 0.07082023 0.07089169\n",
            " 0.07096159] -> Prediction: 0.07103046029806137\n",
            "\n",
            "Predicting on: \n",
            " [0.0705997  0.07067348 0.07074726 0.07082023 0.07089169 0.07096159\n",
            " 0.07103046] -> Prediction: 0.07109891623258591\n",
            "\n",
            "Predicting on: \n",
            " [0.07067348 0.07074726 0.07082023 0.07089169 0.07096159 0.07103046\n",
            " 0.07109892] -> Prediction: 0.07116705924272537\n",
            "\n",
            "Predicting on: \n",
            " [0.07074726 0.07082023 0.07089169 0.07096159 0.07103046 0.07109892\n",
            " 0.07116706] -> Prediction: 0.07123458385467529\n",
            "\n",
            "Predicting on: \n",
            " [0.07082023 0.07089169 0.07096159 0.07103046 0.07109892 0.07116706\n",
            " 0.07123458] -> Prediction: 0.07130107283592224\n",
            "\n",
            "Predicting on: \n",
            " [0.07089169 0.07096159 0.07103046 0.07109892 0.07116706 0.07123458\n",
            " 0.07130107] -> Prediction: 0.07136636227369308\n",
            "\n",
            "Predicting on: \n",
            " [0.07096159 0.07103046 0.07109892 0.07116706 0.07123458 0.07130107\n",
            " 0.07136636] -> Prediction: 0.07143066823482513\n",
            "\n",
            "Predicting on: \n",
            " [0.07103046 0.07109892 0.07116706 0.07123458 0.07130107 0.07136636\n",
            " 0.07143067] -> Prediction: 0.07149433344602585\n",
            "\n",
            "Predicting on: \n",
            " [0.07109892 0.07116706 0.07123458 0.07130107 0.07136636 0.07143067\n",
            " 0.07149433] -> Prediction: 0.07155747711658478\n",
            "\n",
            "Predicting on: \n",
            " [0.07116706 0.07123458 0.07130107 0.07136636 0.07143067 0.07149433\n",
            " 0.07155748] -> Prediction: 0.07162006944417953\n",
            "\n",
            "Predicting on: \n",
            " [0.07123458 0.07130107 0.07136636 0.07143067 0.07149433 0.07155748\n",
            " 0.07162007] -> Prediction: 0.07168183475732803\n",
            "\n",
            "Predicting on: \n",
            " [0.07130107 0.07136636 0.07143067 0.07149433 0.07155748 0.07162007\n",
            " 0.07168183] -> Prediction: 0.07174268364906311\n",
            "\n",
            "Predicting on: \n",
            " [0.07136636 0.07143067 0.07149433 0.07155748 0.07162007 0.07168183\n",
            " 0.07174268] -> Prediction: 0.07180263102054596\n",
            "\n",
            "Predicting on: \n",
            " [0.07143067 0.07149433 0.07155748 0.07162007 0.07168183 0.07174268\n",
            " 0.07180263] -> Prediction: 0.0718618705868721\n",
            "\n",
            "Predicting on: \n",
            " [0.07149433 0.07155748 0.07162007 0.07168183 0.07174268 0.07180263\n",
            " 0.07186187] -> Prediction: 0.07192052900791168\n",
            "\n",
            "Predicting on: \n",
            " [0.07155748 0.07162007 0.07168183 0.07174268 0.07180263 0.07186187\n",
            " 0.07192053] -> Prediction: 0.07197859138250351\n",
            "\n",
            "Predicting on: \n",
            " [0.07162007 0.07168183 0.07174268 0.07180263 0.07186187 0.07192053\n",
            " 0.07197859] -> Prediction: 0.07203597575426102\n",
            "\n",
            "Predicting on: \n",
            " [0.07168183 0.07174268 0.07180263 0.07186187 0.07192053 0.07197859\n",
            " 0.07203598] -> Prediction: 0.07209257036447525\n",
            "\n",
            "Predicting on: \n",
            " [0.07174268 0.07180263 0.07186187 0.07192053 0.07197859 0.07203598\n",
            " 0.07209257] -> Prediction: 0.0721484050154686\n",
            "\n",
            "Predicting on: \n",
            " [0.07180263 0.07186187 0.07192053 0.07197859 0.07203598 0.07209257\n",
            " 0.07214841] -> Prediction: 0.07220353186130524\n",
            "\n",
            "Predicting on: \n",
            " [0.07186187 0.07192053 0.07197859 0.07203598 0.07209257 0.07214841\n",
            " 0.07220353] -> Prediction: 0.07225805521011353\n",
            "\n",
            "Predicting on: \n",
            " [0.07192053 0.07197859 0.07203598 0.07209257 0.07214841 0.07220353\n",
            " 0.07225806] -> Prediction: 0.07231198996305466\n",
            "\n",
            "Predicting on: \n",
            " [0.07197859 0.07203598 0.07209257 0.07214841 0.07220353 0.07225806\n",
            " 0.07231199] -> Prediction: 0.07236529886722565\n",
            "\n",
            "Predicting on: \n",
            " [0.07203598 0.07209257 0.07214841 0.07220353 0.07225806 0.07231199\n",
            " 0.0723653 ] -> Prediction: 0.07241792976856232\n",
            "\n",
            "Predicting on: \n",
            " [0.07209257 0.07214841 0.07220353 0.07225806 0.07231199 0.0723653\n",
            " 0.07241793] -> Prediction: 0.07246986776590347\n",
            "\n",
            "Predicting on: \n",
            " [0.07214841 0.07220353 0.07225806 0.07231199 0.0723653  0.07241793\n",
            " 0.07246987] -> Prediction: 0.07252118736505508\n",
            "\n",
            "Predicting on: \n",
            " [0.07220353 0.07225806 0.07231199 0.0723653  0.07241793 0.07246987\n",
            " 0.07252119] -> Prediction: 0.07257186621427536\n",
            "\n",
            "Predicting on: \n",
            " [0.07225806 0.07231199 0.0723653  0.07241793 0.07246987 0.07252119\n",
            " 0.07257187] -> Prediction: 0.07262197881937027\n",
            "\n",
            "Predicting on: \n",
            " [0.07231199 0.0723653  0.07241793 0.07246987 0.07252119 0.07257187\n",
            " 0.07262198] -> Prediction: 0.07267153263092041\n",
            "\n",
            "Predicting on: \n",
            " [0.0723653  0.07241793 0.07246987 0.07252119 0.07257187 0.07262198\n",
            " 0.07267153] -> Prediction: 0.07272046059370041\n",
            "\n",
            "Predicting on: \n",
            " [0.07241793 0.07246987 0.07252119 0.07257187 0.07262198 0.07267153\n",
            " 0.07272046] -> Prediction: 0.07276879251003265\n",
            "\n",
            "Predicting on: \n",
            " [0.07246987 0.07252119 0.07257187 0.07262198 0.07267153 0.07272046\n",
            " 0.07276879] -> Prediction: 0.07281649112701416\n",
            "\n",
            "Predicting on: \n",
            " [0.07252119 0.07257187 0.07262198 0.07267153 0.07272046 0.07276879\n",
            " 0.07281649] -> Prediction: 0.07286364585161209\n",
            "\n",
            "Predicting on: \n",
            " [0.07257187 0.07262198 0.07267153 0.07272046 0.07276879 0.07281649\n",
            " 0.07286365] -> Prediction: 0.07291022688150406\n",
            "\n",
            "Predicting on: \n",
            " [0.07262198 0.07267153 0.07272046 0.07276879 0.07281649 0.07286365\n",
            " 0.07291023] -> Prediction: 0.07295627892017365\n",
            "\n",
            "Predicting on: \n",
            " [0.07267153 0.07272046 0.07276879 0.07281649 0.07286365 0.07291023\n",
            " 0.07295628] -> Prediction: 0.07300177216529846\n",
            "\n",
            "Predicting on: \n",
            " [0.07272046 0.07276879 0.07281649 0.07286365 0.07291023 0.07295628\n",
            " 0.07300177] -> Prediction: 0.07304670661687851\n",
            "\n",
            "Predicting on: \n",
            " [0.07276879 0.07281649 0.07286365 0.07291023 0.07295628 0.07300177\n",
            " 0.07304671] -> Prediction: 0.07309108227491379\n",
            "\n",
            "Predicting on: \n",
            " [0.07281649 0.07286365 0.07291023 0.07295628 0.07300177 0.07304671\n",
            " 0.07309108] -> Prediction: 0.07313491404056549\n",
            "\n",
            "Predicting on: \n",
            " [0.07286365 0.07291023 0.07295628 0.07300177 0.07304671 0.07309108\n",
            " 0.07313491] -> Prediction: 0.073178231716156\n",
            "\n",
            "Predicting on: \n",
            " [0.07291023 0.07295628 0.07300177 0.07304671 0.07309108 0.07313491\n",
            " 0.07317823] -> Prediction: 0.07322103530168533\n",
            "\n",
            "Predicting on: \n",
            " [0.07295628 0.07300177 0.07304671 0.07309108 0.07313491 0.07317823\n",
            " 0.07322104] -> Prediction: 0.07326333224773407\n",
            "\n",
            "Predicting on: \n",
            " [0.07300177 0.07304671 0.07309108 0.07313491 0.07317823 0.07322104\n",
            " 0.07326333] -> Prediction: 0.07330510020256042\n",
            "\n",
            "Predicting on: \n",
            " [0.07304671 0.07309108 0.07313491 0.07317823 0.07322104 0.07326333\n",
            " 0.0733051 ] -> Prediction: 0.07334637641906738\n",
            "\n",
            "Predicting on: \n",
            " [0.07309108 0.07313491 0.07317823 0.07322104 0.07326333 0.0733051\n",
            " 0.07334638] -> Prediction: 0.07338713854551315\n",
            "\n",
            "Predicting on: \n",
            " [0.07313491 0.07317823 0.07322104 0.07326333 0.0733051  0.07334638\n",
            " 0.07338714] -> Prediction: 0.07342743128538132\n",
            "\n",
            "Predicting on: \n",
            " [0.07317823 0.07322104 0.07326333 0.0733051  0.07334638 0.07338714\n",
            " 0.07342743] -> Prediction: 0.07346722483634949\n",
            "\n"
          ]
        }
      ]
    },
    {
      "cell_type": "code",
      "source": [
        "future_forecast[:10]"
      ],
      "metadata": {
        "colab": {
          "base_uri": "https://localhost:8080/"
        },
        "id": "BIWMLO58qT_g",
        "outputId": "96bbb498-d117-46bb-86d5-176de224f77b"
      },
      "execution_count": null,
      "outputs": [
        {
          "output_type": "execute_result",
          "data": {
            "text/plain": [
              "[0.06532731,\n",
              " 0.06437973,\n",
              " 0.063515246,\n",
              " 0.06308609,\n",
              " 0.06291995,\n",
              " 0.063126035,\n",
              " 0.06344486,\n",
              " 0.06523282,\n",
              " 0.06461225,\n",
              " 0.06421369]"
            ]
          },
          "metadata": {},
          "execution_count": 148
        }
      ]
    },
    {
      "cell_type": "code",
      "source": [
        "def get_future_dates(start_date, into_future, offset=1):\n",
        "  \"\"\"\n",
        "  Returns array of datetime values from ranging from start_date to start_date+horizon.\n",
        "\n",
        "  start_date: date to start range (np.datetime64)\n",
        "  into_future: number of days to add onto start date for range (int)\n",
        "  offset: number of days to offset start_date by (default 1)\n",
        "  \"\"\"\n",
        "  start_date = start_date + np.timedelta64(offset, \"D\") # specify start date, \"D\" stands for day\n",
        "  end_date = start_date + np.timedelta64(into_future, \"D\") # specify end date\n",
        "  return np.arange(start_date, end_date, dtype=\"datetime64[D]\") # return a date range between start date and end date"
      ],
      "metadata": {
        "id": "vPfFX7haqXWg"
      },
      "execution_count": null,
      "outputs": []
    },
    {
      "cell_type": "code",
      "source": [
        "# Last timestep of timesteps (currently in np.datetime64 format)\n",
        "last_timestep = bitcoin_prices.index[-1]\n",
        "last_timestep"
      ],
      "metadata": {
        "colab": {
          "base_uri": "https://localhost:8080/"
        },
        "id": "JGhUBNLAqZlf",
        "outputId": "254e9e09-009d-43a5-c4eb-9f525b4a0497"
      },
      "execution_count": null,
      "outputs": [
        {
          "output_type": "execute_result",
          "data": {
            "text/plain": [
              "Timestamp('2022-10-10 00:00:00')"
            ]
          },
          "metadata": {},
          "execution_count": 150
        }
      ]
    },
    {
      "cell_type": "code",
      "source": [
        "# Get next two weeks of timesteps\n",
        "next_time_steps = get_future_dates(start_date=last_timestep, \n",
        "                                   into_future=INTO_FUTURE)\n",
        "next_time_steps"
      ],
      "metadata": {
        "colab": {
          "base_uri": "https://localhost:8080/"
        },
        "id": "BpdJEashqbqY",
        "outputId": "af1ef938-00ab-483d-8d26-eb2b37929284"
      },
      "execution_count": null,
      "outputs": [
        {
          "output_type": "execute_result",
          "data": {
            "text/plain": [
              "array(['2022-10-11', '2022-10-12', '2022-10-13', '2022-10-14',\n",
              "       '2022-10-15', '2022-10-16', '2022-10-17', '2022-10-18',\n",
              "       '2022-10-19', '2022-10-20', '2022-10-21', '2022-10-22',\n",
              "       '2022-10-23', '2022-10-24', '2022-10-25', '2022-10-26',\n",
              "       '2022-10-27', '2022-10-28', '2022-10-29', '2022-10-30',\n",
              "       '2022-10-31', '2022-11-01', '2022-11-02', '2022-11-03',\n",
              "       '2022-11-04', '2022-11-05', '2022-11-06', '2022-11-07',\n",
              "       '2022-11-08', '2022-11-09', '2022-11-10', '2022-11-11',\n",
              "       '2022-11-12', '2022-11-13', '2022-11-14', '2022-11-15',\n",
              "       '2022-11-16', '2022-11-17', '2022-11-18', '2022-11-19',\n",
              "       '2022-11-20', '2022-11-21', '2022-11-22', '2022-11-23',\n",
              "       '2022-11-24', '2022-11-25', '2022-11-26', '2022-11-27',\n",
              "       '2022-11-28', '2022-11-29', '2022-11-30', '2022-12-01',\n",
              "       '2022-12-02', '2022-12-03', '2022-12-04', '2022-12-05',\n",
              "       '2022-12-06', '2022-12-07', '2022-12-08', '2022-12-09',\n",
              "       '2022-12-10', '2022-12-11', '2022-12-12', '2022-12-13',\n",
              "       '2022-12-14', '2022-12-15', '2022-12-16', '2022-12-17',\n",
              "       '2022-12-18', '2022-12-19', '2022-12-20', '2022-12-21',\n",
              "       '2022-12-22', '2022-12-23', '2022-12-24', '2022-12-25',\n",
              "       '2022-12-26', '2022-12-27', '2022-12-28', '2022-12-29',\n",
              "       '2022-12-30', '2022-12-31', '2023-01-01', '2023-01-02',\n",
              "       '2023-01-03', '2023-01-04', '2023-01-05', '2023-01-06',\n",
              "       '2023-01-07', '2023-01-08', '2023-01-09', '2023-01-10',\n",
              "       '2023-01-11', '2023-01-12', '2023-01-13', '2023-01-14',\n",
              "       '2023-01-15', '2023-01-16', '2023-01-17', '2023-01-18',\n",
              "       '2023-01-19', '2023-01-20', '2023-01-21', '2023-01-22',\n",
              "       '2023-01-23', '2023-01-24', '2023-01-25', '2023-01-26',\n",
              "       '2023-01-27', '2023-01-28', '2023-01-29', '2023-01-30',\n",
              "       '2023-01-31', '2023-02-01', '2023-02-02', '2023-02-03',\n",
              "       '2023-02-04', '2023-02-05', '2023-02-06', '2023-02-07'],\n",
              "      dtype='datetime64[D]')"
            ]
          },
          "metadata": {},
          "execution_count": 151
        }
      ]
    },
    {
      "cell_type": "code",
      "source": [
        "# Insert last timestep/final price so the graph doesn't look messed\n",
        "next_time_steps = np.insert(next_time_steps, 0, last_timestep)\n",
        "future_forecast = np.insert(future_forecast, 0, btc_price[-1])\n",
        "next_time_steps, future_forecast"
      ],
      "metadata": {
        "colab": {
          "base_uri": "https://localhost:8080/"
        },
        "id": "GsazXAxTqfhH",
        "outputId": "d57ccbc0-acf2-41f5-fc2a-e03a605d2e19"
      },
      "execution_count": null,
      "outputs": [
        {
          "output_type": "execute_result",
          "data": {
            "text/plain": [
              "(array(['2022-10-10', '2022-10-11', '2022-10-12', '2022-10-13',\n",
              "        '2022-10-14', '2022-10-15', '2022-10-16', '2022-10-17',\n",
              "        '2022-10-18', '2022-10-19', '2022-10-20', '2022-10-21',\n",
              "        '2022-10-22', '2022-10-23', '2022-10-24', '2022-10-25',\n",
              "        '2022-10-26', '2022-10-27', '2022-10-28', '2022-10-29',\n",
              "        '2022-10-30', '2022-10-31', '2022-11-01', '2022-11-02',\n",
              "        '2022-11-03', '2022-11-04', '2022-11-05', '2022-11-06',\n",
              "        '2022-11-07', '2022-11-08', '2022-11-09', '2022-11-10',\n",
              "        '2022-11-11', '2022-11-12', '2022-11-13', '2022-11-14',\n",
              "        '2022-11-15', '2022-11-16', '2022-11-17', '2022-11-18',\n",
              "        '2022-11-19', '2022-11-20', '2022-11-21', '2022-11-22',\n",
              "        '2022-11-23', '2022-11-24', '2022-11-25', '2022-11-26',\n",
              "        '2022-11-27', '2022-11-28', '2022-11-29', '2022-11-30',\n",
              "        '2022-12-01', '2022-12-02', '2022-12-03', '2022-12-04',\n",
              "        '2022-12-05', '2022-12-06', '2022-12-07', '2022-12-08',\n",
              "        '2022-12-09', '2022-12-10', '2022-12-11', '2022-12-12',\n",
              "        '2022-12-13', '2022-12-14', '2022-12-15', '2022-12-16',\n",
              "        '2022-12-17', '2022-12-18', '2022-12-19', '2022-12-20',\n",
              "        '2022-12-21', '2022-12-22', '2022-12-23', '2022-12-24',\n",
              "        '2022-12-25', '2022-12-26', '2022-12-27', '2022-12-28',\n",
              "        '2022-12-29', '2022-12-30', '2022-12-31', '2023-01-01',\n",
              "        '2023-01-02', '2023-01-03', '2023-01-04', '2023-01-05',\n",
              "        '2023-01-06', '2023-01-07', '2023-01-08', '2023-01-09',\n",
              "        '2023-01-10', '2023-01-11', '2023-01-12', '2023-01-13',\n",
              "        '2023-01-14', '2023-01-15', '2023-01-16', '2023-01-17',\n",
              "        '2023-01-18', '2023-01-19', '2023-01-20', '2023-01-21',\n",
              "        '2023-01-22', '2023-01-23', '2023-01-24', '2023-01-25',\n",
              "        '2023-01-26', '2023-01-27', '2023-01-28', '2023-01-29',\n",
              "        '2023-01-30', '2023-01-31', '2023-02-01', '2023-02-02',\n",
              "        '2023-02-03', '2023-02-04', '2023-02-05', '2023-02-06',\n",
              "        '2023-02-07'], dtype='datetime64[D]'),\n",
              " array([0.06247441, 0.06532731, 0.06437973, 0.06351525, 0.06308609,\n",
              "        0.06291995, 0.06312604, 0.06344486, 0.06523282, 0.06461225,\n",
              "        0.06421369, 0.06414238, 0.06428386, 0.06464024, 0.06512427,\n",
              "        0.06555386, 0.06525131, 0.06516377, 0.06528124, 0.06551794,\n",
              "        0.06581835, 0.06607201, 0.0661597 , 0.06608173, 0.06615295,\n",
              "        0.06632707, 0.0665373 , 0.06673028, 0.06685373, 0.06690255,\n",
              "        0.06694741, 0.06707346, 0.06723575, 0.06739195, 0.06751627,\n",
              "        0.06760214, 0.06767343, 0.06776793, 0.06789642, 0.06802869,\n",
              "        0.06814508, 0.06824069, 0.06832415, 0.0684127 , 0.06851708,\n",
              "        0.06863048, 0.06873755, 0.06883267, 0.06891919, 0.0690051 ,\n",
              "        0.06909727, 0.06919542, 0.0692928 , 0.06938374, 0.06946862,\n",
              "        0.06955141, 0.06963606, 0.06972368, 0.06981181, 0.069897  ,\n",
              "        0.06997817, 0.07005701, 0.07013585, 0.07021581, 0.0702961 ,\n",
              "        0.07037506, 0.07045156, 0.07052603, 0.0705997 , 0.07067348,\n",
              "        0.07074726, 0.07082023, 0.07089169, 0.07096159, 0.07103046,\n",
              "        0.07109892, 0.07116706, 0.07123458, 0.07130107, 0.07136636,\n",
              "        0.07143067, 0.07149433, 0.07155748, 0.07162007, 0.07168183,\n",
              "        0.07174268, 0.07180263, 0.07186187, 0.07192053, 0.07197859,\n",
              "        0.07203598, 0.07209257, 0.07214841, 0.07220353, 0.07225806,\n",
              "        0.07231199, 0.0723653 , 0.07241793, 0.07246987, 0.07252119,\n",
              "        0.07257187, 0.07262198, 0.07267153, 0.07272046, 0.07276879,\n",
              "        0.07281649, 0.07286365, 0.07291023, 0.07295628, 0.07300177,\n",
              "        0.07304671, 0.07309108, 0.07313491, 0.07317823, 0.07322104,\n",
              "        0.07326333, 0.0733051 , 0.07334638, 0.07338714, 0.07342743,\n",
              "        0.07346722], dtype=float32))"
            ]
          },
          "metadata": {},
          "execution_count": 152
        }
      ]
    },
    {
      "cell_type": "code",
      "source": [
        "# Plot future price predictions of Bitcoin\n",
        "plt.figure(figsize=(10, 7))\n",
        "plot_time_series(bitcoin_prices.index, btc_price, start=2500, format=\"-\", label=\"Actual LTC Price\")\n",
        "plot_time_series(next_time_steps, future_forecast, format=\"-\", label=\"Predicted LTC Price\")"
      ],
      "metadata": {
        "colab": {
          "base_uri": "https://localhost:8080/",
          "height": 442
        },
        "id": "lGMfe7n_qi4n",
        "outputId": "80d7d3bd-1989-4b7a-db1a-558e5f0b293b"
      },
      "execution_count": null,
      "outputs": [
        {
          "output_type": "display_data",
          "data": {
            "text/plain": [
              "<Figure size 720x504 with 1 Axes>"
            ],
            "image/png": "[encoded data removed]"
          },
          "metadata": {
            "needs_background": "light"
          }
        }
      ]
    }
  ]
}